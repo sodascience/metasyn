{
 "cells": [
  {
   "cell_type": "code",
   "execution_count": 1,
   "id": "9ffe3c40",
   "metadata": {},
   "outputs": [],
   "source": [
    "import pandas as pd\n",
    "from metasynth import MetaDataset\n",
    "import wget\n",
    "from pathlib import Path\n",
    "import json"
   ]
  },
  {
   "cell_type": "code",
   "execution_count": 2,
   "id": "b4ba47ea",
   "metadata": {},
   "outputs": [],
   "source": [
    "dtypes = {\n",
    "    \"Survived\": \"category\",\n",
    "    \"Pclass\": \"category\",\n",
    "    \"Name\": \"string\",\n",
    "    \"Sex\": \"category\",\n",
    "    \"SibSp\": \"category\",\n",
    "    \"Parch\": \"category\",\n",
    "    \"Ticket\": \"string\",\n",
    "    \"Cabin\": \"string\",\n",
    "    \"Embarked\": \"category\"\n",
    "}"
   ]
  },
  {
   "cell_type": "code",
   "execution_count": 3,
   "id": "46ba6b89",
   "metadata": {},
   "outputs": [],
   "source": [
    "titanic_fp = Path(\"titanic.csv\")\n",
    "if not titanic_fp.is_file():\n",
    "    wget.download(\"https://raw.githubusercontent.com/pandas-dev/pandas/main/doc/data/titanic.csv\")"
   ]
  },
  {
   "cell_type": "code",
   "execution_count": 4,
   "id": "c319763e",
   "metadata": {},
   "outputs": [],
   "source": [
    "df = pd.read_csv(titanic_fp, dtype=dtypes)"
   ]
  },
  {
   "cell_type": "code",
   "execution_count": 5,
   "id": "ac961505",
   "metadata": {},
   "outputs": [],
   "source": [
    "from metasynth.distribution.continuous import NormalDistribution\n",
    "from metasynth.distribution.faker import FakerDistribution"
   ]
  },
  {
   "cell_type": "code",
   "execution_count": 6,
   "id": "e02c6c59",
   "metadata": {},
   "outputs": [],
   "source": [
    "dataset = MetaDataset.from_dataframe(df, distribution={\"Cabin\": FakerDistribution(\"city\")})"
   ]
  },
  {
   "cell_type": "code",
   "execution_count": 7,
   "id": "47907b97",
   "metadata": {},
   "outputs": [
    {
     "data": {
      "text/plain": [
       "{'name': 'FakerDistribution',\n",
       " 'parameters': {'faker_type': 'city', 'locale': 'en_US'}}"
      ]
     },
     "execution_count": 7,
     "metadata": {},
     "output_type": "execute_result"
    }
   ],
   "source": [
    "dataset[\"Cabin\"].distribution.to_dict()"
   ]
  },
  {
   "cell_type": "code",
   "execution_count": 8,
   "id": "d6c88091",
   "metadata": {},
   "outputs": [],
   "source": [
    "dataset.to_json(\"test.json\")"
   ]
  },
  {
   "cell_type": "code",
   "execution_count": 9,
   "id": "a87e23e6",
   "metadata": {},
   "outputs": [
    {
     "name": "stdout",
     "output_type": "stream",
     "text": [
      "# Rows: 891\n",
      "# Columns: 12\n",
      "\n",
      "{'name': 'PassengerId', 'type': 'IntVar', 'dtype': 'int64', 'prop_missing': 0.0, 'distribution': \"{'name': 'DiscreteUniformDistribution', 'parameters': {'low': 1, 'high': 892}}\"}\n",
      "\n",
      "{'name': 'Survived', 'type': 'CategoricalVar', 'dtype': 'category', 'prop_missing': 0.0, 'distribution': \"{'name': 'CatFreqDistribution', 'parameters': {'cat_freq': {'0': 549, '1': 342}}}\"}\n",
      "\n",
      "{'name': 'Pclass', 'type': 'CategoricalVar', 'dtype': 'category', 'prop_missing': 0.0, 'distribution': \"{'name': 'CatFreqDistribution', 'parameters': {'cat_freq': {'1': 216, '2': 184, '3': 491}}}\"}\n",
      "\n",
      "{'name': 'Name', 'type': 'StringVar', 'dtype': 'string', 'prop_missing': 0.0, 'distribution': '[A-Z]{0,1}[a-z]{0,12}[RNDK \\',GCEM-][vJHP FGByVSDdoWCLeYMaI][A-Z]{0,1}[a-z]{0,10}[. ,][MhC ][A-Z]{0,1}[a-z]{0,10}[(., /][A-Z]{0,1}[a-z]{0,10}[( )\"][A-Z]{0,2}[a-z]{0,10}[(. )\"][A-Z]{0,1}[a-z]{0,10}[(. L)\"][A-Z]{0,1}[a-z]{0,10}[( )\"][A-Z]{0,1}[a-z]{0,9}[ M)\"][A-Z]{0,1}[a-z]{0,12}[)\" ][A-Z]{0,1}[a-z]{0,7}[( )\"-][A-Z]{0,1}[a-z]{0,7}[)\" ][JM)][or][s][e ][Mf][oa][r ][gP][ae][rn][e\"][z)][ ][d][e][ ][S][o][t][o][ ][y][ ][V][a][l][l][e][j][o][)]'}\n",
      "\n",
      "{'name': 'Sex', 'type': 'CategoricalVar', 'dtype': 'category', 'prop_missing': 0.0, 'distribution': \"{'name': 'CatFreqDistribution', 'parameters': {'cat_freq': {'female': 314, 'male': 577}}}\"}\n",
      "\n",
      "{'name': 'Age', 'type': 'FloatVar', 'dtype': 'float64', 'prop_missing': 0.19865319865319866, 'distribution': \"{'name': 'LogNormalDistribution', 'parameters': {'sigma': 0.13424431904602424, 'shift': -78.02671169181616, 'mu': 4.670778299792326}}\"}\n",
      "\n",
      "{'name': 'SibSp', 'type': 'CategoricalVar', 'dtype': 'category', 'prop_missing': 0.0, 'distribution': \"{'name': 'CatFreqDistribution', 'parameters': {'cat_freq': {'0': 608, '1': 209, '2': 28, '3': 16, '4': 18, '5': 5, '8': 7}}}\"}\n",
      "\n",
      "{'name': 'Parch', 'type': 'CategoricalVar', 'dtype': 'category', 'prop_missing': 0.0, 'distribution': \"{'name': 'CatFreqDistribution', 'parameters': {'cat_freq': {'0': 678, '1': 118, '2': 80, '3': 5, '4': 4, '5': 5, '6': 1}}}\"}\n",
      "\n",
      "{'name': 'Ticket', 'type': 'StringVar', 'dtype': 'string', 'prop_missing': 0.0, 'distribution': '\\\\d{0,7}[A-Z]{0,5}[. /4a]\\\\d{0,5}[A.SP /CEWO][AH.P C254Qa3]\\\\d{0,5}[.P /CrQR]\\\\d{0,7}[A.SP BiI]\\\\d{0,7}[sA.SP aO]\\\\d{0,7}[s.P TR]\\\\d{0,4}[.l IO][eNS 2][73 ]\\\\d{0,5}'}\n",
      "\n",
      "{'name': 'Fare', 'type': 'FloatVar', 'dtype': 'float64', 'prop_missing': 0.0, 'distribution': \"{'name': 'LogNormalDistribution', 'parameters': {'sigma': 0.9603625596498057, 'shift': -1.1023033448277197, 'mu': 2.970522438823311}}\"}\n",
      "\n",
      "{'name': 'Cabin', 'type': 'StringVar', 'dtype': 'string', 'prop_missing': 0.7710437710437711, 'distribution': 'faker.city.en_US'}\n",
      "\n",
      "{'name': 'Embarked', 'type': 'CategoricalVar', 'dtype': 'category', 'prop_missing': 0.002244668911335578, 'distribution': \"{'name': 'CatFreqDistribution', 'parameters': {'cat_freq': {'C': 168, 'Q': 77, 'S': 644}}}\"}\n",
      "\n"
     ]
    }
   ],
   "source": [
    "print(dataset)"
   ]
  },
  {
   "cell_type": "code",
   "execution_count": 10,
   "id": "22863b6b",
   "metadata": {},
   "outputs": [
    {
     "name": "stdout",
     "output_type": "stream",
     "text": [
      "# Rows: 891\n",
      "# Columns: 12\n",
      "\n",
      "{'name': 'PassengerId', 'type': 'IntVar', 'dtype': 'int64', 'prop_missing': 0.0, 'distribution': \"{'name': 'DiscreteUniformDistribution', 'parameters': {'low': 1, 'high': 892}}\"}\n",
      "\n",
      "{'name': 'Survived', 'type': 'CategoricalVar', 'dtype': 'category', 'prop_missing': 0.0, 'distribution': \"{'name': 'CatFreqDistribution', 'parameters': {'cat_freq': {'0': 549, '1': 342}}}\"}\n",
      "\n",
      "{'name': 'Pclass', 'type': 'CategoricalVar', 'dtype': 'category', 'prop_missing': 0.0, 'distribution': \"{'name': 'CatFreqDistribution', 'parameters': {'cat_freq': {'1': 216, '2': 184, '3': 491}}}\"}\n",
      "\n",
      "{'name': 'Name', 'type': 'StringVar', 'dtype': 'string', 'prop_missing': 0.0, 'distribution': '[A-Z]{0,1}[a-z]{0,12}[RNDK \\',GCEM-][vJHP FGByVSDdoWCLeYMaI][A-Z]{0,1}[a-z]{0,10}[. ,][MhC ][A-Z]{0,1}[a-z]{0,10}[(., /][A-Z]{0,1}[a-z]{0,10}[( )\"][A-Z]{0,2}[a-z]{0,10}[(. )\"][A-Z]{0,1}[a-z]{0,10}[(. L)\"][A-Z]{0,1}[a-z]{0,10}[( )\"][A-Z]{0,1}[a-z]{0,9}[ M)\"][A-Z]{0,1}[a-z]{0,12}[)\" ][A-Z]{0,1}[a-z]{0,7}[( )\"-][A-Z]{0,1}[a-z]{0,7}[)\" ][JM)][or][s][e ][Mf][oa][r ][gP][ae][rn][e\"][z)][ ][d][e][ ][S][o][t][o][ ][y][ ][V][a][l][l][e][j][o][)]'}\n",
      "\n",
      "{'name': 'Sex', 'type': 'CategoricalVar', 'dtype': 'category', 'prop_missing': 0.0, 'distribution': \"{'name': 'CatFreqDistribution', 'parameters': {'cat_freq': {'female': 314, 'male': 577}}}\"}\n",
      "\n",
      "{'name': 'Age', 'type': 'FloatVar', 'dtype': 'float64', 'prop_missing': 0.19865319865319866, 'distribution': \"{'name': 'LogNormalDistribution', 'parameters': {'sigma': 0.13424431904602424, 'shift': -78.02671169181616, 'mu': 4.670778299792326}}\"}\n",
      "\n",
      "{'name': 'SibSp', 'type': 'CategoricalVar', 'dtype': 'category', 'prop_missing': 0.0, 'distribution': \"{'name': 'CatFreqDistribution', 'parameters': {'cat_freq': {'0': 608, '1': 209, '2': 28, '3': 16, '4': 18, '5': 5, '8': 7}}}\"}\n",
      "\n",
      "{'name': 'Parch', 'type': 'CategoricalVar', 'dtype': 'category', 'prop_missing': 0.0, 'distribution': \"{'name': 'CatFreqDistribution', 'parameters': {'cat_freq': {'0': 678, '1': 118, '2': 80, '3': 5, '4': 4, '5': 5, '6': 1}}}\"}\n",
      "\n",
      "{'name': 'Ticket', 'type': 'StringVar', 'dtype': 'string', 'prop_missing': 0.0, 'distribution': '\\\\d{0,7}[A-Z]{0,5}[. /4a]\\\\d{0,5}[A.SP /CEWO][AH.P C254Qa3]\\\\d{0,5}[.P /CrQR]\\\\d{0,7}[A.SP BiI]\\\\d{0,7}[sA.SP aO]\\\\d{0,7}[s.P TR]\\\\d{0,4}[.l IO][eNS 2][73 ]\\\\d{0,5}'}\n",
      "\n",
      "{'name': 'Fare', 'type': 'FloatVar', 'dtype': 'float64', 'prop_missing': 0.0, 'distribution': \"{'name': 'LogNormalDistribution', 'parameters': {'sigma': 0.9603625596498057, 'shift': -1.1023033448277197, 'mu': 2.970522438823311}}\"}\n",
      "\n",
      "{'name': 'Cabin', 'type': 'StringVar', 'dtype': 'string', 'prop_missing': 0.7710437710437711, 'distribution': 'faker.city.en_US'}\n",
      "\n",
      "{'name': 'Embarked', 'type': 'CategoricalVar', 'dtype': 'category', 'prop_missing': 0.002244668911335578, 'distribution': \"{'name': 'CatFreqDistribution', 'parameters': {'cat_freq': {'C': 168, 'Q': 77, 'S': 644}}}\"}\n",
      "\n"
     ]
    }
   ],
   "source": [
    "print(MetaDataset.from_json(\"test.json\"))"
   ]
  }
 ],
 "metadata": {
  "kernelspec": {
   "display_name": "Python 3 (ipykernel)",
   "language": "python",
   "name": "python3"
  },
  "language_info": {
   "codemirror_mode": {
    "name": "ipython",
    "version": 3
   },
   "file_extension": ".py",
   "mimetype": "text/x-python",
   "name": "python",
   "nbconvert_exporter": "python",
   "pygments_lexer": "ipython3",
   "version": "3.9.9"
  }
 },
 "nbformat": 4,
 "nbformat_minor": 5
}
