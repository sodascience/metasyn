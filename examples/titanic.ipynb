{
 "cells": [
  {
   "cell_type": "code",
   "execution_count": 1,
   "id": "9ffe3c40",
   "metadata": {},
   "outputs": [],
   "source": [
    "import pandas as pd\n",
    "from metasynth import MetaDataset\n",
    "import wget\n",
    "from pathlib import Path\n",
    "import json"
   ]
  },
  {
   "cell_type": "code",
   "execution_count": 2,
   "id": "b4ba47ea",
   "metadata": {},
   "outputs": [],
   "source": [
    "dtypes = {\n",
    "    \"Survived\": \"category\",\n",
    "    \"Pclass\": \"category\",\n",
    "    \"Name\": \"string\",\n",
    "    \"Sex\": \"category\",\n",
    "    \"SibSp\": \"category\",\n",
    "    \"Parch\": \"category\",\n",
    "    \"Ticket\": \"string\",\n",
    "    \"Cabin\": \"string\",\n",
    "    \"Embarked\": \"category\"\n",
    "}"
   ]
  },
  {
   "cell_type": "code",
   "execution_count": 3,
   "id": "46ba6b89",
   "metadata": {},
   "outputs": [],
   "source": [
    "titanic_fp = Path(\"titanic.csv\")\n",
    "if not titanic_fp.is_file():\n",
    "    wget.download(\"https://raw.githubusercontent.com/pandas-dev/pandas/main/doc/data/titanic.csv\")"
   ]
  },
  {
   "cell_type": "code",
   "execution_count": 4,
   "id": "c319763e",
   "metadata": {},
   "outputs": [],
   "source": [
    "df = pd.read_csv(titanic_fp, dtype=dtypes)"
   ]
  },
  {
   "cell_type": "code",
   "execution_count": 5,
   "id": "e02c6c59",
   "metadata": {},
   "outputs": [],
   "source": [
    "dataset = MetaDataset.from_dataframe(df)"
   ]
  },
  {
   "cell_type": "code",
   "execution_count": 6,
   "id": "d6c88091",
   "metadata": {},
   "outputs": [],
   "source": [
    "dataset.to_json(\"test.json\")"
   ]
  },
  {
   "cell_type": "code",
   "execution_count": 7,
   "id": "a87e23e6",
   "metadata": {},
   "outputs": [
    {
     "name": "stdout",
     "output_type": "stream",
     "text": [
      "# Rows: 891\n",
      "# Columns: 12\n",
      "\n",
      "{'name': 'PassengerId', 'type': 'IntVar', 'dtype': 'int64', 'prop_missing': 0.0, 'distribution': \"{'name': 'DiscreteUniformDistribution', 'parameters': {'low': 1, 'high': 892}}\"}\n",
      "\n",
      "{'name': 'Survived', 'type': 'CategoricalVar', 'dtype': 'category', 'prop_missing': 0.0, 'distribution': \"{'name': 'CatFreqDistribution', 'parameters': {'cat_freq': {'0': 549, '1': 342}}}\"}\n",
      "\n",
      "{'name': 'Pclass', 'type': 'CategoricalVar', 'dtype': 'category', 'prop_missing': 0.0, 'distribution': \"{'name': 'CatFreqDistribution', 'parameters': {'cat_freq': {'1': 216, '2': 184, '3': 491}}}\"}\n",
      "\n",
      "{'name': 'Name', 'type': 'StringVar', 'dtype': 'string', 'prop_missing': 0.0, 'distribution': 'String variable: avg # of characters: 26.9652076318743 '}\n",
      "\n",
      "{'name': 'Sex', 'type': 'CategoricalVar', 'dtype': 'category', 'prop_missing': 0.0, 'distribution': \"{'name': 'CatFreqDistribution', 'parameters': {'cat_freq': {'female': 314, 'male': 577}}}\"}\n",
      "\n",
      "{'name': 'Age', 'type': 'FloatVar', 'dtype': 'float64', 'prop_missing': 0.19865319865319866, 'distribution': \"{'name': 'NormalDistribution', 'parameters': {'mean': 29.69911764705882, 'std_dev': 14.516321150817316}}\"}\n",
      "\n",
      "{'name': 'SibSp', 'type': 'CategoricalVar', 'dtype': 'category', 'prop_missing': 0.0, 'distribution': \"{'name': 'CatFreqDistribution', 'parameters': {'cat_freq': {'0': 608, '1': 209, '2': 28, '3': 16, '4': 18, '5': 5, '8': 7}}}\"}\n",
      "\n",
      "{'name': 'Parch', 'type': 'CategoricalVar', 'dtype': 'category', 'prop_missing': 0.0, 'distribution': \"{'name': 'CatFreqDistribution', 'parameters': {'cat_freq': {'0': 678, '1': 118, '2': 80, '3': 5, '4': 4, '5': 5, '6': 1}}}\"}\n",
      "\n",
      "{'name': 'Ticket', 'type': 'StringVar', 'dtype': 'string', 'prop_missing': 0.0, 'distribution': 'String variable: avg # of characters: 6.750841750841752 '}\n",
      "\n",
      "{'name': 'Fare', 'type': 'FloatVar', 'dtype': 'float64', 'prop_missing': 0.0, 'distribution': \"{'name': 'NormalDistribution', 'parameters': {'mean': 32.204207968574636, 'std_dev': 49.6655344447741}}\"}\n",
      "\n",
      "{'name': 'Cabin', 'type': 'StringVar', 'dtype': 'string', 'prop_missing': 0.7710437710437711, 'distribution': 'String variable: avg # of characters: 3.588235294117647 '}\n",
      "\n",
      "{'name': 'Embarked', 'type': 'CategoricalVar', 'dtype': 'category', 'prop_missing': 0.002244668911335578, 'distribution': \"{'name': 'CatFreqDistribution', 'parameters': {'cat_freq': {'C': 168, 'Q': 77, 'S': 644}}}\"}\n",
      "\n"
     ]
    }
   ],
   "source": [
    "print(dataset)"
   ]
  },
  {
   "cell_type": "code",
   "execution_count": 8,
   "id": "22863b6b",
   "metadata": {},
   "outputs": [
    {
     "name": "stdout",
     "output_type": "stream",
     "text": [
      "# Rows: 891\n",
      "# Columns: 12\n",
      "\n",
      "{'name': 'PassengerId', 'type': 'IntVar', 'dtype': 'int64', 'prop_missing': 0.0, 'distribution': \"{'name': 'DiscreteUniformDistribution', 'parameters': {'low': 1, 'high': 892}}\"}\n",
      "\n",
      "{'name': 'Survived', 'type': 'CategoricalVar', 'dtype': 'category', 'prop_missing': 0.0, 'distribution': \"{'name': 'CatFreqDistribution', 'parameters': {'cat_freq': {'0': 549, '1': 342}}}\"}\n",
      "\n",
      "{'name': 'Pclass', 'type': 'CategoricalVar', 'dtype': 'category', 'prop_missing': 0.0, 'distribution': \"{'name': 'CatFreqDistribution', 'parameters': {'cat_freq': {'1': 216, '2': 184, '3': 491}}}\"}\n",
      "\n",
      "{'name': 'Name', 'type': 'StringVar', 'dtype': 'string', 'prop_missing': 0.0, 'distribution': 'String variable: avg # of characters: 26.9652076318743 '}\n",
      "\n",
      "{'name': 'Sex', 'type': 'CategoricalVar', 'dtype': 'category', 'prop_missing': 0.0, 'distribution': \"{'name': 'CatFreqDistribution', 'parameters': {'cat_freq': {'female': 314, 'male': 577}}}\"}\n",
      "\n",
      "{'name': 'Age', 'type': 'FloatVar', 'dtype': 'float64', 'prop_missing': 0.19865319865319866, 'distribution': \"{'name': 'NormalDistribution', 'parameters': {'mean': 29.69911764705882, 'std_dev': 14.516321150817316}}\"}\n",
      "\n",
      "{'name': 'SibSp', 'type': 'CategoricalVar', 'dtype': 'category', 'prop_missing': 0.0, 'distribution': \"{'name': 'CatFreqDistribution', 'parameters': {'cat_freq': {'0': 608, '1': 209, '2': 28, '3': 16, '4': 18, '5': 5, '8': 7}}}\"}\n",
      "\n",
      "{'name': 'Parch', 'type': 'CategoricalVar', 'dtype': 'category', 'prop_missing': 0.0, 'distribution': \"{'name': 'CatFreqDistribution', 'parameters': {'cat_freq': {'0': 678, '1': 118, '2': 80, '3': 5, '4': 4, '5': 5, '6': 1}}}\"}\n",
      "\n",
      "{'name': 'Ticket', 'type': 'StringVar', 'dtype': 'string', 'prop_missing': 0.0, 'distribution': 'String variable: avg # of characters: 6.750841750841752 '}\n",
      "\n",
      "{'name': 'Fare', 'type': 'FloatVar', 'dtype': 'float64', 'prop_missing': 0.0, 'distribution': \"{'name': 'NormalDistribution', 'parameters': {'mean': 32.204207968574636, 'std_dev': 49.6655344447741}}\"}\n",
      "\n",
      "{'name': 'Cabin', 'type': 'StringVar', 'dtype': 'string', 'prop_missing': 0.7710437710437711, 'distribution': 'String variable: avg # of characters: 3.588235294117647 '}\n",
      "\n",
      "{'name': 'Embarked', 'type': 'CategoricalVar', 'dtype': 'category', 'prop_missing': 0.002244668911335578, 'distribution': \"{'name': 'CatFreqDistribution', 'parameters': {'cat_freq': {'C': 168, 'Q': 77, 'S': 644}}}\"}\n",
      "\n"
     ]
    }
   ],
   "source": [
    "print(MetaDataset.from_json(\"test.json\"))"
   ]
  }
 ],
 "metadata": {
  "kernelspec": {
   "display_name": "Python 3 (ipykernel)",
   "language": "python",
   "name": "python3"
  },
  "language_info": {
   "codemirror_mode": {
    "name": "ipython",
    "version": 3
   },
   "file_extension": ".py",
   "mimetype": "text/x-python",
   "name": "python",
   "nbconvert_exporter": "python",
   "pygments_lexer": "ipython3",
   "version": "3.9.9"
  }
 },
 "nbformat": 4,
 "nbformat_minor": 5
}
