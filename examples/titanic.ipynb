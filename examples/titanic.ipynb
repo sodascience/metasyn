{
 "cells": [
  {
   "cell_type": "code",
   "execution_count": 1,
   "id": "9ffe3c40",
   "metadata": {},
   "outputs": [],
   "source": [
    "import pandas as pd\n",
    "from metasynth import MetaDataset, MetaVar\n",
    "from metasynth.distribution.util import _get_all_distributions\n",
    "import wget\n",
    "from pathlib import Path\n",
    "import json"
   ]
  },
  {
   "cell_type": "code",
   "execution_count": 2,
   "id": "b4ba47ea",
   "metadata": {},
   "outputs": [],
   "source": [
    "dtypes = {\n",
    "    \"Survived\": \"category\",\n",
    "    \"Pclass\": \"category\",\n",
    "    \"Name\": \"string\",\n",
    "    \"Sex\": \"category\",\n",
    "    \"SibSp\": \"category\",\n",
    "    \"Parch\": \"category\",\n",
    "    \"Ticket\": \"string\",\n",
    "    \"Cabin\": \"string\",\n",
    "    \"Embarked\": \"category\"\n",
    "}"
   ]
  },
  {
   "cell_type": "code",
   "execution_count": 3,
   "id": "46ba6b89",
   "metadata": {},
   "outputs": [],
   "source": [
    "titanic_fp = Path(\"titanic.csv\")\n",
    "if not titanic_fp.is_file():\n",
    "    wget.download(\"https://raw.githubusercontent.com/pandas-dev/pandas/main/doc/data/titanic.csv\")"
   ]
  },
  {
   "cell_type": "code",
   "execution_count": 4,
   "id": "c319763e",
   "metadata": {},
   "outputs": [],
   "source": [
    "df = pd.read_csv(titanic_fp, dtype=dtypes)"
   ]
  },
  {
   "cell_type": "code",
   "execution_count": 5,
   "id": "ef33686f",
   "metadata": {},
   "outputs": [
    {
     "data": {
      "text/plain": [
       "0      <NA>\n",
       "1       C85\n",
       "2      <NA>\n",
       "3      C123\n",
       "4      <NA>\n",
       "       ... \n",
       "886    <NA>\n",
       "887     B42\n",
       "888    <NA>\n",
       "889    C148\n",
       "890    <NA>\n",
       "Name: Cabin, Length: 891, dtype: string"
      ]
     },
     "execution_count": 5,
     "metadata": {},
     "output_type": "execute_result"
    }
   ],
   "source": [
    "df[\"Cabin\"]"
   ]
  },
  {
   "cell_type": "code",
   "execution_count": 6,
   "id": "7ca32eed",
   "metadata": {},
   "outputs": [],
   "source": [
    "var = MetaVar.detect(df[\"Cabin\"])\n",
    "var.fit()"
   ]
  },
  {
   "cell_type": "code",
   "execution_count": 13,
   "id": "2594d886",
   "metadata": {},
   "outputs": [
    {
     "name": "stdout",
     "output_type": "stream",
     "text": [
      "{'name': 'RegexDistribution', 'parameters': {'re_list': [('[A-Z]{1,1}', 0.11764705882352941), ('\\\\d{2,2}', 0.09803921568627451), ('[ ]', 0.11764705882352941), ('[A-Z]{1,1}', 1.0), ('\\\\d{2,2}', 0.0392156862745098), ('[ ]', 0.0392156862745098), ('[A-Z]{1,1}', 0.0392156862745098), ('\\\\d{1,3}', 0.9803921568627451), ('.[]{0,4}', 0.00980392156862745)]}}\n"
     ]
    }
   ],
   "source": [
    "print(var.distribution.to_dict())"
   ]
  },
  {
   "cell_type": "code",
   "execution_count": 14,
   "id": "bfe0f831",
   "metadata": {},
   "outputs": [
    {
     "data": {
      "text/plain": [
       "<StringArray>\n",
       "[     'V516',        <NA>,        'M9',        <NA>,        <NA>,        <NA>,\n",
       "       'R84',        'F8',        <NA>,        <NA>,        <NA>,     ' A367',\n",
       " 'Q71A868*H',        <NA>,      'T799',        <NA>,        <NA>,        <NA>,\n",
       "        <NA>,        <NA>,        <NA>,        <NA>,        <NA>,        <NA>,\n",
       "     'TU187',       'UI1',        <NA>,        <NA>,        <NA>,        <NA>,\n",
       "        <NA>,        <NA>,        <NA>,        <NA>,        <NA>,       'S18',\n",
       "        <NA>,   'O1662xN',        <NA>,        <NA>,        <NA>,        <NA>,\n",
       "       ' R1',    '58C221',        <NA>,        <NA>,        <NA>,        <NA>,\n",
       "        <NA>,        <NA>,        <NA>,      'U858',        <NA>,        <NA>,\n",
       "        <NA>,        <NA>,        <NA>,        <NA>,        <NA>,        <NA>,\n",
       "        <NA>,      'S295',        <NA>,        <NA>,        'B9',        <NA>,\n",
       "        <NA>,        <NA>,        <NA>,        <NA>,       'J82',        <NA>,\n",
       "        <NA>,      'J536',        <NA>,      ' E41',        <NA>,        <NA>,\n",
       "        <NA>,        <NA>,        <NA>,        <NA>,        <NA>,       'M50',\n",
       "        <NA>,        <NA>,        <NA>,        <NA>,        <NA>,        <NA>,\n",
       "       'Z14',        <NA>,        <NA>,        <NA>,        <NA>,        'Q2',\n",
       "        <NA>,        <NA>,        <NA>,        <NA>]\n",
       "Length: 100, dtype: string"
      ]
     },
     "execution_count": 14,
     "metadata": {},
     "output_type": "execute_result"
    }
   ],
   "source": [
    "var.draw_series(100).values"
   ]
  },
  {
   "cell_type": "code",
   "execution_count": 8,
   "id": "e02c6c59",
   "metadata": {},
   "outputs": [
    {
     "ename": "KeyboardInterrupt",
     "evalue": "",
     "output_type": "error",
     "traceback": [
      "\u001b[0;31m---------------------------------------------------------------------------\u001b[0m",
      "\u001b[0;31mKeyboardInterrupt\u001b[0m                         Traceback (most recent call last)",
      "Input \u001b[0;32mIn [8]\u001b[0m, in \u001b[0;36m<cell line: 1>\u001b[0;34m()\u001b[0m\n\u001b[0;32m----> 1\u001b[0m dataset \u001b[38;5;241m=\u001b[39m \u001b[43mMetaDataset\u001b[49m\u001b[38;5;241;43m.\u001b[39;49m\u001b[43mfrom_dataframe\u001b[49m\u001b[43m(\u001b[49m\u001b[43mdf\u001b[49m\u001b[43m)\u001b[49m\n",
      "File \u001b[0;32m~/Documents/shared_work/synthetic/meta-synth/metasynth/dataset.py:88\u001b[0m, in \u001b[0;36mMetaDataset.from_dataframe\u001b[0;34m(cls, df, distribution, unique, privacy_package)\u001b[0m\n\u001b[1;32m     86\u001b[0m     unq \u001b[38;5;241m=\u001b[39m unique\u001b[38;5;241m.\u001b[39mget(col_name, \u001b[38;5;28;01mNone\u001b[39;00m)\n\u001b[1;32m     87\u001b[0m     var \u001b[38;5;241m=\u001b[39m MetaVar\u001b[38;5;241m.\u001b[39mdetect(series)\n\u001b[0;32m---> 88\u001b[0m     \u001b[43mvar\u001b[49m\u001b[38;5;241;43m.\u001b[39;49m\u001b[43mfit\u001b[49m\u001b[43m(\u001b[49m\u001b[43mdist\u001b[49m\u001b[43m,\u001b[49m\u001b[43m \u001b[49m\u001b[43munique\u001b[49m\u001b[38;5;241;43m=\u001b[39;49m\u001b[43munq\u001b[49m\u001b[43m)\u001b[49m\n\u001b[1;32m     90\u001b[0m     all_vars\u001b[38;5;241m.\u001b[39mappend(var)\n\u001b[1;32m     92\u001b[0m \u001b[38;5;28;01mreturn\u001b[39;00m \u001b[38;5;28mcls\u001b[39m(all_vars, \u001b[38;5;28mlen\u001b[39m(df))\n",
      "File \u001b[0;32m~/Documents/shared_work/synthetic/meta-synth/metasynth/var.py:143\u001b[0m, in \u001b[0;36mMetaVar.fit\u001b[0;34m(self, dist, unique)\u001b[0m\n\u001b[1;32m    141\u001b[0m fit_kwargs \u001b[38;5;241m=\u001b[39m {}\n\u001b[1;32m    142\u001b[0m \u001b[38;5;28;01mif\u001b[39;00m \u001b[38;5;28misinstance\u001b[39m(dist, \u001b[38;5;28mdict\u001b[39m):\n\u001b[0;32m--> 143\u001b[0m     dist \u001b[38;5;241m=\u001b[39m \u001b[43mMetaDistribution\u001b[49m\u001b[38;5;241;43m.\u001b[39;49m\u001b[43mfit\u001b[49m\u001b[43m(\u001b[49m\u001b[38;5;28;43mself\u001b[39;49m\u001b[38;5;241;43m.\u001b[39;49m\u001b[43mseries\u001b[49m\u001b[43m,\u001b[49m\u001b[43m \u001b[49m\u001b[43mdist\u001b[49m\u001b[43m[\u001b[49m\u001b[38;5;28;43mself\u001b[39;49m\u001b[38;5;241;43m.\u001b[39;49m\u001b[43mvar_type\u001b[49m\u001b[43m]\u001b[49m\u001b[43m,\u001b[49m\u001b[43m \u001b[49m\u001b[43munique\u001b[49m\u001b[38;5;241;43m=\u001b[39;49m\u001b[43munique\u001b[49m\u001b[43m)\u001b[49m\n\u001b[1;32m    144\u001b[0m \u001b[38;5;28;01mif\u001b[39;00m \u001b[38;5;28misinstance\u001b[39m(dist, \u001b[38;5;28mstr\u001b[39m):\n\u001b[1;32m    145\u001b[0m     dist, fit_kwargs \u001b[38;5;241m=\u001b[39m get_dist_class(dist)\n",
      "File \u001b[0;32m~/Documents/shared_work/synthetic/meta-synth/metasynth/metadist.py:64\u001b[0m, in \u001b[0;36mMetaDistribution.fit\u001b[0;34m(cls, values, distributions, unique)\u001b[0m\n\u001b[1;32m     43\u001b[0m \u001b[38;5;129m@classmethod\u001b[39m\n\u001b[1;32m     44\u001b[0m \u001b[38;5;28;01mdef\u001b[39;00m \u001b[38;5;21mfit\u001b[39m(\u001b[38;5;28mcls\u001b[39m, values, distributions, unique\u001b[38;5;241m=\u001b[39m\u001b[38;5;28;01mNone\u001b[39;00m):\n\u001b[1;32m     45\u001b[0m     \u001b[38;5;124;03m\"\"\"Fit distribution to values.\u001b[39;00m\n\u001b[1;32m     46\u001b[0m \n\u001b[1;32m     47\u001b[0m \u001b[38;5;124;03m    Find the distribution that is most suitable for the supplied data\u001b[39;00m\n\u001b[0;32m   (...)\u001b[0m\n\u001b[1;32m     62\u001b[0m \u001b[38;5;124;03m        Distribution that fits the data the best.\u001b[39;00m\n\u001b[1;32m     63\u001b[0m \u001b[38;5;124;03m    \"\"\"\u001b[39;00m\n\u001b[0;32m---> 64\u001b[0m     instances \u001b[38;5;241m=\u001b[39m [dist_type\u001b[38;5;241m.\u001b[39mfit(values)\n\u001b[1;32m     65\u001b[0m                  \u001b[38;5;28;01mfor\u001b[39;00m dist_type \u001b[38;5;129;01min\u001b[39;00m distributions\n\u001b[1;32m     66\u001b[0m                  \u001b[38;5;28;01mif\u001b[39;00m unique \u001b[38;5;129;01mis\u001b[39;00m \u001b[38;5;28;01mNone\u001b[39;00m \u001b[38;5;129;01mor\u001b[39;00m dist_type\u001b[38;5;241m.\u001b[39mis_unique \u001b[38;5;241m==\u001b[39m unique]\n\u001b[1;32m     67\u001b[0m     instances \u001b[38;5;241m=\u001b[39m [inst \u001b[38;5;28;01mfor\u001b[39;00m inst \u001b[38;5;129;01min\u001b[39;00m instances \u001b[38;5;28;01mif\u001b[39;00m inst \u001b[38;5;129;01mis\u001b[39;00m \u001b[38;5;129;01mnot\u001b[39;00m \u001b[38;5;28;01mNone\u001b[39;00m]\n\u001b[1;32m     68\u001b[0m     i_min \u001b[38;5;241m=\u001b[39m np\u001b[38;5;241m.\u001b[39margmin([inst\u001b[38;5;241m.\u001b[39minformation_criterion(values) \u001b[38;5;28;01mfor\u001b[39;00m inst \u001b[38;5;129;01min\u001b[39;00m instances])\n",
      "File \u001b[0;32m~/Documents/shared_work/synthetic/meta-synth/metasynth/metadist.py:64\u001b[0m, in \u001b[0;36m<listcomp>\u001b[0;34m(.0)\u001b[0m\n\u001b[1;32m     43\u001b[0m \u001b[38;5;129m@classmethod\u001b[39m\n\u001b[1;32m     44\u001b[0m \u001b[38;5;28;01mdef\u001b[39;00m \u001b[38;5;21mfit\u001b[39m(\u001b[38;5;28mcls\u001b[39m, values, distributions, unique\u001b[38;5;241m=\u001b[39m\u001b[38;5;28;01mNone\u001b[39;00m):\n\u001b[1;32m     45\u001b[0m     \u001b[38;5;124;03m\"\"\"Fit distribution to values.\u001b[39;00m\n\u001b[1;32m     46\u001b[0m \n\u001b[1;32m     47\u001b[0m \u001b[38;5;124;03m    Find the distribution that is most suitable for the supplied data\u001b[39;00m\n\u001b[0;32m   (...)\u001b[0m\n\u001b[1;32m     62\u001b[0m \u001b[38;5;124;03m        Distribution that fits the data the best.\u001b[39;00m\n\u001b[1;32m     63\u001b[0m \u001b[38;5;124;03m    \"\"\"\u001b[39;00m\n\u001b[0;32m---> 64\u001b[0m     instances \u001b[38;5;241m=\u001b[39m [\u001b[43mdist_type\u001b[49m\u001b[38;5;241;43m.\u001b[39;49m\u001b[43mfit\u001b[49m\u001b[43m(\u001b[49m\u001b[43mvalues\u001b[49m\u001b[43m)\u001b[49m\n\u001b[1;32m     65\u001b[0m                  \u001b[38;5;28;01mfor\u001b[39;00m dist_type \u001b[38;5;129;01min\u001b[39;00m distributions\n\u001b[1;32m     66\u001b[0m                  \u001b[38;5;28;01mif\u001b[39;00m unique \u001b[38;5;129;01mis\u001b[39;00m \u001b[38;5;28;01mNone\u001b[39;00m \u001b[38;5;129;01mor\u001b[39;00m dist_type\u001b[38;5;241m.\u001b[39mis_unique \u001b[38;5;241m==\u001b[39m unique]\n\u001b[1;32m     67\u001b[0m     instances \u001b[38;5;241m=\u001b[39m [inst \u001b[38;5;28;01mfor\u001b[39;00m inst \u001b[38;5;129;01min\u001b[39;00m instances \u001b[38;5;28;01mif\u001b[39;00m inst \u001b[38;5;129;01mis\u001b[39;00m \u001b[38;5;129;01mnot\u001b[39;00m \u001b[38;5;28;01mNone\u001b[39;00m]\n\u001b[1;32m     68\u001b[0m     i_min \u001b[38;5;241m=\u001b[39m np\u001b[38;5;241m.\u001b[39margmin([inst\u001b[38;5;241m.\u001b[39minformation_criterion(values) \u001b[38;5;28;01mfor\u001b[39;00m inst \u001b[38;5;129;01min\u001b[39;00m instances])\n",
      "File \u001b[0;32m~/Documents/shared_work/synthetic/meta-synth/metasynth/distribution/base.py:42\u001b[0m, in \u001b[0;36mBaseDistribution.fit\u001b[0;34m(cls, series, *args, **kwargs)\u001b[0m\n\u001b[1;32m     40\u001b[0m     series_array \u001b[38;5;241m=\u001b[39m series_array[\u001b[38;5;241m~\u001b[39mnp\u001b[38;5;241m.\u001b[39misnan(series)]\n\u001b[1;32m     41\u001b[0m     series \u001b[38;5;241m=\u001b[39m pandas\u001b[38;5;241m.\u001b[39mSeries(series_array)\n\u001b[0;32m---> 42\u001b[0m distribution \u001b[38;5;241m=\u001b[39m \u001b[38;5;28;43mcls\u001b[39;49m\u001b[38;5;241;43m.\u001b[39;49m\u001b[43m_fit\u001b[49m\u001b[43m(\u001b[49m\u001b[43mseries\u001b[49m\u001b[43m,\u001b[49m\u001b[43m \u001b[49m\u001b[38;5;241;43m*\u001b[39;49m\u001b[43margs\u001b[49m\u001b[43m,\u001b[49m\u001b[43m \u001b[49m\u001b[38;5;241;43m*\u001b[39;49m\u001b[38;5;241;43m*\u001b[39;49m\u001b[43mkwargs\u001b[49m\u001b[43m)\u001b[49m\n\u001b[1;32m     43\u001b[0m \u001b[38;5;28;01mreturn\u001b[39;00m distribution\n",
      "File \u001b[0;32m~/Documents/shared_work/synthetic/meta-synth/metasynth/distribution/regex/base.py:75\u001b[0m, in \u001b[0;36mRegexDistribution._fit\u001b[0;34m(cls, values)\u001b[0m\n\u001b[1;32m     73\u001b[0m \u001b[38;5;66;03m# Iterate over all RegexElements and find the best one.\u001b[39;00m\n\u001b[1;32m     74\u001b[0m \u001b[38;5;28;01mfor\u001b[39;00m re_class \u001b[38;5;129;01min\u001b[39;00m regex_classes:\n\u001b[0;32m---> 75\u001b[0m     new_values, gradient, regexer \u001b[38;5;241m=\u001b[39m \u001b[43mre_class\u001b[49m\u001b[38;5;241;43m.\u001b[39;49m\u001b[43mfit\u001b[49m\u001b[43m(\u001b[49m\u001b[38;5;28;43mlist\u001b[39;49m\u001b[43m(\u001b[49m\u001b[43mvalues\u001b[49m\u001b[43m)\u001b[49m\u001b[43m)\u001b[49m\n\u001b[1;32m     76\u001b[0m     \u001b[38;5;28;01mif\u001b[39;00m best_solution \u001b[38;5;129;01mis\u001b[39;00m \u001b[38;5;28;01mNone\u001b[39;00m \u001b[38;5;129;01mor\u001b[39;00m gradient \u001b[38;5;241m>\u001b[39m best_solution[\u001b[38;5;124m\"\u001b[39m\u001b[38;5;124mgradient\u001b[39m\u001b[38;5;124m\"\u001b[39m]:\n\u001b[1;32m     77\u001b[0m         best_solution \u001b[38;5;241m=\u001b[39m {\n\u001b[1;32m     78\u001b[0m             \u001b[38;5;124m\"\u001b[39m\u001b[38;5;124mre\u001b[39m\u001b[38;5;124m\"\u001b[39m: regexer,\n\u001b[1;32m     79\u001b[0m             \u001b[38;5;124m\"\u001b[39m\u001b[38;5;124mgradient\u001b[39m\u001b[38;5;124m\"\u001b[39m: gradient,\n\u001b[1;32m     80\u001b[0m             \u001b[38;5;124m\"\u001b[39m\u001b[38;5;124mvalues\u001b[39m\u001b[38;5;124m\"\u001b[39m: new_values,\n\u001b[1;32m     81\u001b[0m         }\n",
      "File \u001b[0;32m~/Documents/shared_work/synthetic/meta-synth/metasynth/distribution/regex/element.py:469\u001b[0m, in \u001b[0;36mSingleRegex.fit\u001b[0;34m(cls, values)\u001b[0m\n\u001b[1;32m    467\u001b[0m best_solution \u001b[38;5;241m=\u001b[39m (\u001b[38;5;28;01mNone\u001b[39;00m, \u001b[38;5;241m-\u001b[39m\u001b[38;5;241m10.0\u001b[39m)\n\u001b[1;32m    468\u001b[0m \u001b[38;5;28;01mwhile\u001b[39;00m \u001b[38;5;28;01mTrue\u001b[39;00m:\n\u001b[0;32m--> 469\u001b[0m     new_solution \u001b[38;5;241m=\u001b[39m \u001b[43m_find_best_gradient\u001b[49m\u001b[43m(\u001b[49m\u001b[43mvalues\u001b[49m\u001b[43m,\u001b[49m\u001b[43m \u001b[49m\u001b[43msorted_counts\u001b[49m\u001b[43m,\u001b[49m\u001b[43m \u001b[49m\u001b[43mcur_characters\u001b[49m\u001b[43m)\u001b[49m\n\u001b[1;32m    471\u001b[0m     \u001b[38;5;66;03m# Check to see if no character is left.\u001b[39;00m\n\u001b[1;32m    472\u001b[0m     \u001b[38;5;28;01mif\u001b[39;00m new_solution[\u001b[38;5;241m0\u001b[39m] \u001b[38;5;129;01mis\u001b[39;00m \u001b[38;5;28;01mNone\u001b[39;00m:\n",
      "File \u001b[0;32m~/Documents/shared_work/synthetic/meta-synth/metasynth/distribution/regex/element.py:520\u001b[0m, in \u001b[0;36m_find_best_gradient\u001b[0;34m(values, sorted_counts, start_char)\u001b[0m\n\u001b[1;32m    518\u001b[0m spans \u001b[38;5;241m=\u001b[39m _create_spans_char(values, character, \u001b[38;5;241m*\u001b[39mstart_char)\n\u001b[1;32m    519\u001b[0m optimizer \u001b[38;5;241m=\u001b[39m RegexOptimizer(values, spans)\n\u001b[0;32m--> 520\u001b[0m \u001b[43moptimizer\u001b[49m\u001b[38;5;241;43m.\u001b[39;49m\u001b[43moptimize\u001b[49m\u001b[43m(\u001b[49m\u001b[43m)\u001b[49m\n\u001b[1;32m    521\u001b[0m energy_grad \u001b[38;5;241m=\u001b[39m (start_energy \u001b[38;5;241m-\u001b[39m optimizer\u001b[38;5;241m.\u001b[39menergy)\u001b[38;5;241m/\u001b[39minformation_budget(\u001b[38;5;241m1\u001b[39m\u001b[38;5;241m+\u001b[39m\u001b[38;5;28mlen\u001b[39m(start_char))\n\u001b[1;32m    522\u001b[0m \u001b[38;5;28;01mif\u001b[39;00m energy_grad \u001b[38;5;241m>\u001b[39m best_solution[\u001b[38;5;241m1\u001b[39m]:\n",
      "File \u001b[0;32m~/Documents/shared_work/synthetic/meta-synth/metasynth/distribution/regex/optimizer.py:57\u001b[0m, in \u001b[0;36mRegexOptimizer.optimize\u001b[0;34m(self)\u001b[0m\n\u001b[1;32m     55\u001b[0m \u001b[38;5;28;01mdef\u001b[39;00m \u001b[38;5;21moptimize\u001b[39m(\u001b[38;5;28mself\u001b[39m) \u001b[38;5;241m-\u001b[39m\u001b[38;5;241m>\u001b[39m \u001b[38;5;28;01mNone\u001b[39;00m:\n\u001b[1;32m     56\u001b[0m     \u001b[38;5;124;03m\"\"\"Optimize the positions until no improvement can be found.\"\"\"\u001b[39;00m\n\u001b[0;32m---> 57\u001b[0m     \u001b[38;5;28;01mwhile\u001b[39;00m \u001b[38;5;28;43mself\u001b[39;49m\u001b[38;5;241;43m.\u001b[39;49m\u001b[43moptimize_round\u001b[49m\u001b[43m(\u001b[49m\u001b[43m)\u001b[49m:\n\u001b[1;32m     58\u001b[0m         \u001b[38;5;28;01mpass\u001b[39;00m\n",
      "File \u001b[0;32m~/Documents/shared_work/synthetic/meta-synth/metasynth/distribution/regex/optimizer.py:77\u001b[0m, in \u001b[0;36mRegexOptimizer.optimize_round\u001b[0;34m(self)\u001b[0m\n\u001b[1;32m     75\u001b[0m \u001b[38;5;66;03m# If assigned to the left, attempt right assignment.\u001b[39;00m\n\u001b[1;32m     76\u001b[0m \u001b[38;5;28;01mif\u001b[39;00m chosen_side \u001b[38;5;241m==\u001b[39m SIDE_LEFT:\n\u001b[0;32m---> 77\u001b[0m     delta_energy \u001b[38;5;241m=\u001b[39m \u001b[38;5;28;43mself\u001b[39;49m\u001b[38;5;241;43m.\u001b[39;49m\u001b[43menergy_move\u001b[49m\u001b[43m(\u001b[49m\u001b[38;5;28;43mself\u001b[39;49m\u001b[38;5;241;43m.\u001b[39;49m\u001b[43mleft_cum_dist\u001b[49m\u001b[43m,\u001b[49m\u001b[43m \u001b[49m\u001b[38;5;28;43mlen\u001b[39;49m\u001b[43m(\u001b[49m\u001b[43mcur_val\u001b[49m\u001b[43m)\u001b[49m\u001b[43m,\u001b[49m\u001b[43m \u001b[49m\u001b[38;5;241;43m0\u001b[39;49m\u001b[43m)\u001b[49m\n\u001b[1;32m     78\u001b[0m     delta_energy \u001b[38;5;241m+\u001b[39m\u001b[38;5;241m=\u001b[39m \u001b[38;5;28mself\u001b[39m\u001b[38;5;241m.\u001b[39menergy_move(\u001b[38;5;28mself\u001b[39m\u001b[38;5;241m.\u001b[39mright_cum_dist, \u001b[38;5;241m0\u001b[39m, \u001b[38;5;28mlen\u001b[39m(cur_val))\n\u001b[1;32m     79\u001b[0m     \u001b[38;5;28;01mif\u001b[39;00m delta_energy \u001b[38;5;241m<\u001b[39m \u001b[38;5;241m-\u001b[39m\u001b[38;5;241m1e-8\u001b[39m:\n",
      "File \u001b[0;32m~/Documents/shared_work/synthetic/meta-synth/metasynth/distribution/regex/optimizer.py:143\u001b[0m, in \u001b[0;36mRegexOptimizer.energy_move\u001b[0;34m(self, dist, len_src, len_dst)\u001b[0m\n\u001b[1;32m    140\u001b[0m     \u001b[38;5;28;01mreturn\u001b[39;00m np\u001b[38;5;241m.\u001b[39msum(np\u001b[38;5;241m.\u001b[39mlog((dist[len_src:len_dst]\u001b[38;5;241m+\u001b[39m\u001b[38;5;241m2\u001b[39m) \u001b[38;5;241m/\u001b[39m\n\u001b[1;32m    141\u001b[0m                          (dist[len_src:len_dst]\u001b[38;5;241m+\u001b[39m\u001b[38;5;241m1\u001b[39m)))\n\u001b[1;32m    142\u001b[0m \u001b[38;5;28;01mif\u001b[39;00m len_dst \u001b[38;5;241m<\u001b[39m len_src:\n\u001b[0;32m--> 143\u001b[0m     \u001b[38;5;28;01massert\u001b[39;00m \u001b[43mnp\u001b[49m\u001b[38;5;241;43m.\u001b[39;49m\u001b[43mall\u001b[49m\u001b[43m(\u001b[49m\u001b[43mdist\u001b[49m\u001b[43m[\u001b[49m\u001b[43mlen_dst\u001b[49m\u001b[43m:\u001b[49m\u001b[43mlen_src\u001b[49m\u001b[43m]\u001b[49m\u001b[43m \u001b[49m\u001b[38;5;241;43m>\u001b[39;49m\u001b[43m \u001b[49m\u001b[38;5;241;43m0\u001b[39;49m\u001b[43m)\u001b[49m, (dist[len_dst:len_src], len_src, len_dst)\n\u001b[1;32m    144\u001b[0m     \u001b[38;5;28;01mreturn\u001b[39;00m np\u001b[38;5;241m.\u001b[39msum(np\u001b[38;5;241m.\u001b[39mlog((dist[len_dst:len_src] \u001b[38;5;241m/\u001b[39m\n\u001b[1;32m    145\u001b[0m                           (dist[len_dst:len_src]\u001b[38;5;241m+\u001b[39m\u001b[38;5;241m1\u001b[39m))))\n\u001b[1;32m    146\u001b[0m \u001b[38;5;28;01mreturn\u001b[39;00m \u001b[38;5;241m0\u001b[39m\n",
      "File \u001b[0;32m<__array_function__ internals>:177\u001b[0m, in \u001b[0;36mall\u001b[0;34m(*args, **kwargs)\u001b[0m\n",
      "\u001b[0;31mKeyboardInterrupt\u001b[0m: "
     ]
    }
   ],
   "source": [
    "dataset = MetaDataset.from_dataframe(df)"
   ]
  },
  {
   "cell_type": "code",
   "execution_count": null,
   "id": "f2725237",
   "metadata": {},
   "outputs": [],
   "source": [
    "print(dataset.meta_vars[10])"
   ]
  },
  {
   "cell_type": "code",
   "execution_count": null,
   "id": "ef13c521",
   "metadata": {},
   "outputs": [],
   "source": [
    "df"
   ]
  },
  {
   "cell_type": "code",
   "execution_count": null,
   "id": "8ef27824",
   "metadata": {},
   "outputs": [],
   "source": [
    "dataset.synthesize(1000)"
   ]
  },
  {
   "cell_type": "code",
   "execution_count": null,
   "id": "d6c88091",
   "metadata": {},
   "outputs": [],
   "source": [
    "dataset.to_json(\"test.json\", validate=True)"
   ]
  },
  {
   "cell_type": "code",
   "execution_count": null,
   "id": "22863b6b",
   "metadata": {},
   "outputs": [],
   "source": [
    "print(MetaDataset.from_json(\"test.json\"))"
   ]
  },
  {
   "cell_type": "code",
   "execution_count": null,
   "id": "d76c6882",
   "metadata": {},
   "outputs": [],
   "source": [
    "dataset.to_dict()"
   ]
  },
  {
   "cell_type": "code",
   "execution_count": null,
   "id": "155c4921",
   "metadata": {},
   "outputs": [],
   "source": [
    "print(MetaDataset.from_xml(\"test.xml\"))"
   ]
  },
  {
   "cell_type": "code",
   "execution_count": null,
   "id": "16ed6691",
   "metadata": {},
   "outputs": [],
   "source": [
    "dataset.to_dict()"
   ]
  },
  {
   "cell_type": "code",
   "execution_count": null,
   "id": "54954ad8",
   "metadata": {},
   "outputs": [],
   "source": []
  }
 ],
 "metadata": {
  "kernelspec": {
   "display_name": "Python 3 (ipykernel)",
   "language": "python",
   "name": "python3"
  },
  "language_info": {
   "codemirror_mode": {
    "name": "ipython",
    "version": 3
   },
   "file_extension": ".py",
   "mimetype": "text/x-python",
   "name": "python",
   "nbconvert_exporter": "python",
   "pygments_lexer": "ipython3",
   "version": "3.10.4"
  }
 },
 "nbformat": 4,
 "nbformat_minor": 5
}
