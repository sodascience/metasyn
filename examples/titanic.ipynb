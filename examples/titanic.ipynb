{
 "cells": [
  {
   "cell_type": "markdown",
   "id": "ff21c5ce",
   "metadata": {},
   "source": [
    "# Introduction to metasyn with the titanic dataset"
   ]
  },
  {
   "cell_type": "markdown",
   "id": "529373c2",
   "metadata": {},
   "source": [
    "For this demonstration, we will use the raw Titanic dataset from pandas."
   ]
  },
  {
   "cell_type": "markdown",
   "id": "388d5eb5",
   "metadata": {},
   "source": [
    "### Import relevant packages"
   ]
  },
  {
   "cell_type": "code",
   "execution_count": 1,
   "id": "9ffe3c40",
   "metadata": {},
   "outputs": [],
   "source": [
    "import json\n",
    "from pathlib import Path\n",
    "\n",
    "import pandas as pd\n",
    "import wget\n",
    "\n",
    "from metasyn import MetaFrame"
   ]
  },
  {
   "cell_type": "markdown",
   "id": "872c6e15",
   "metadata": {},
   "source": [
    "### Set the path to the dataset and download it"
   ]
  },
  {
   "cell_type": "code",
   "execution_count": 2,
   "id": "46ba6b89",
   "metadata": {},
   "outputs": [],
   "source": [
    "titanic_fp = Path(\"titanic.csv\")\n",
    "if not titanic_fp.is_file():\n",
    "    wget.download(\"https://raw.githubusercontent.com/pandas-dev/pandas/main/doc/data/titanic.csv\")"
   ]
  },
  {
   "cell_type": "markdown",
   "id": "8b0ddc0a",
   "metadata": {},
   "source": [
    "### Define pandas types for use during the creation of the DataFrame\n",
    "\n",
    "For categories, we need to explicitly tell pandas while reading the CSV file."
   ]
  },
  {
   "cell_type": "code",
   "execution_count": 3,
   "id": "5e060a1d",
   "metadata": {},
   "outputs": [],
   "source": [
    "dtypes = {\n",
    "    \"Survived\": \"category\",\n",
    "    \"Pclass\": \"category\",\n",
    "    \"Name\": \"string\",\n",
    "    \"Sex\": \"category\",\n",
    "    \"SibSp\": \"category\",\n",
    "    \"Parch\": \"category\",\n",
    "    \"Ticket\": \"string\",\n",
    "    \"Cabin\": \"string\",\n",
    "    \"Embarked\": \"category\"\n",
    "}"
   ]
  },
  {
   "cell_type": "markdown",
   "id": "fa7cd2ce",
   "metadata": {},
   "source": [
    "### Read CSV file"
   ]
  },
  {
   "cell_type": "code",
   "execution_count": 4,
   "id": "c319763e",
   "metadata": {},
   "outputs": [],
   "source": [
    "df = pd.read_csv(titanic_fp, dtype=dtypes)"
   ]
  },
  {
   "cell_type": "markdown",
   "id": "d7549f77",
   "metadata": {},
   "source": [
    "### Create metasyn dataset object\n",
    "\n",
    "This object contains a list of all the variables/columns. These variables are fitted to have a distribution that fits the best to the original data."
   ]
  },
  {
   "cell_type": "code",
   "execution_count": 5,
   "id": "e02c6c59",
   "metadata": {},
   "outputs": [
    {
     "name": "stderr",
     "output_type": "stream",
     "text": [
      "  0%|                                                                        | 0/12 [00:00<?, ?it/s]/Users/qubix/Documents/work/metasyn/metasyn/metasyn/provider.py:226: UserWarning: \n",
      "Variable PassengerId seems unique, but not set to be unique.\n",
      "Set the variable to be either unique or not unique to remove this warning.\n",
      "\n",
      "  warnings.warn(f\"\\nVariable {series.name} seems unique, but not set to be unique.\\n\"\n",
      "100%|███████████████████████████████████████████████████████████████| 12/12 [00:26<00:00,  2.22s/it]\n"
     ]
    }
   ],
   "source": [
    "dataset = MetaFrame.fit_dataframe(df)"
   ]
  },
  {
   "cell_type": "markdown",
   "id": "a30a428e",
   "metadata": {},
   "source": [
    "### Original DataFrame"
   ]
  },
  {
   "cell_type": "code",
   "execution_count": 6,
   "id": "ef13c521",
   "metadata": {},
   "outputs": [
    {
     "data": {
      "text/plain": [
       "2.968698309247743"
      ]
     },
     "execution_count": 6,
     "metadata": {},
     "output_type": "execute_result"
    }
   ],
   "source": [
    "MetaFrame.estimated_time(df, None, None)"
   ]
  },
  {
   "cell_type": "markdown",
   "id": "bf1a4329",
   "metadata": {},
   "source": [
    "### Synthesized DataFrame"
   ]
  },
  {
   "cell_type": "code",
   "execution_count": 7,
   "id": "8ef27824",
   "metadata": {},
   "outputs": [
    {
     "data": {
      "text/html": [
       "<div><style>\n",
       ".dataframe > thead > tr > th,\n",
       ".dataframe > tbody > tr > td {\n",
       "  text-align: right;\n",
       "  white-space: pre-wrap;\n",
       "}\n",
       "</style>\n",
       "<small>shape: (891, 12)</small><table border=\"1\" class=\"dataframe\"><thead><tr><th>PassengerId</th><th>Survived</th><th>Pclass</th><th>Name</th><th>Sex</th><th>Age</th><th>SibSp</th><th>Parch</th><th>Ticket</th><th>Fare</th><th>Cabin</th><th>Embarked</th></tr><tr><td>i64</td><td>cat</td><td>cat</td><td>str</td><td>cat</td><td>f64</td><td>cat</td><td>cat</td><td>str</td><td>f64</td><td>str</td><td>cat</td></tr></thead><tbody><tr><td>714</td><td>&quot;1&quot;</td><td>&quot;1&quot;</td><td>&quot;Auaacz, Meszk.…</td><td>&quot;female&quot;</td><td>null</td><td>&quot;1&quot;</td><td>&quot;0&quot;</td><td>&quot;968978&quot;</td><td>86.238248</td><td>null</td><td>&quot;S&quot;</td></tr><tr><td>274</td><td>&quot;0&quot;</td><td>&quot;3&quot;</td><td>&quot;Mfatlu, Mqry. …</td><td>&quot;female&quot;</td><td>28.370083</td><td>&quot;0&quot;</td><td>&quot;0&quot;</td><td>&quot;0605&quot;</td><td>20.352118</td><td>null</td><td>&quot;S&quot;</td></tr><tr><td>608</td><td>&quot;0&quot;</td><td>&quot;3&quot;</td><td>&quot;Zhq, Mflo. Xov…</td><td>&quot;male&quot;</td><td>13.099365</td><td>&quot;0&quot;</td><td>&quot;0&quot;</td><td>&quot;U 262182&quot;</td><td>20.764172</td><td>null</td><td>&quot;C&quot;</td></tr><tr><td>44</td><td>&quot;0&quot;</td><td>&quot;1&quot;</td><td>&quot;Xwq, Mtavb. Rk…</td><td>&quot;male&quot;</td><td>61.662972</td><td>&quot;0&quot;</td><td>&quot;0&quot;</td><td>&quot;8810&quot;</td><td>47.745505</td><td>&quot;F76&quot;</td><td>&quot;S&quot;</td></tr><tr><td>117</td><td>&quot;1&quot;</td><td>&quot;3&quot;</td><td>&quot;Kwh, Ml. Gviuy…</td><td>&quot;female&quot;</td><td>24.791549</td><td>&quot;1&quot;</td><td>&quot;0&quot;</td><td>&quot;26599&quot;</td><td>7.906261</td><td>&quot;E8&quot;</td><td>&quot;S&quot;</td></tr><tr><td>317</td><td>&quot;1&quot;</td><td>&quot;3&quot;</td><td>&quot;Tglz, Mtpzjh. …</td><td>&quot;male&quot;</td><td>17.659675</td><td>&quot;0&quot;</td><td>&quot;0&quot;</td><td>&quot;82936&quot;</td><td>90.329764</td><td>null</td><td>&quot;C&quot;</td></tr><tr><td>384</td><td>&quot;0&quot;</td><td>&quot;1&quot;</td><td>&quot;Uhviqiplug, Mv…</td><td>&quot;male&quot;</td><td>61.935334</td><td>&quot;1&quot;</td><td>&quot;0&quot;</td><td>&quot;684348&quot;</td><td>8.581887</td><td>null</td><td>&quot;S&quot;</td></tr><tr><td>192</td><td>&quot;0&quot;</td><td>&quot;1&quot;</td><td>&quot;Ogle, Mkklb. L…</td><td>&quot;female&quot;</td><td>null</td><td>&quot;0&quot;</td><td>&quot;2&quot;</td><td>&quot;3478&quot;</td><td>53.809264</td><td>&quot;E1&quot;</td><td>&quot;S&quot;</td></tr><tr><td>605</td><td>&quot;1&quot;</td><td>&quot;3&quot;</td><td>&quot;Msdnlqcl, Mime…</td><td>&quot;female&quot;</td><td>28.02694</td><td>&quot;0&quot;</td><td>&quot;0&quot;</td><td>&quot;497994&quot;</td><td>12.902887</td><td>null</td><td>&quot;S&quot;</td></tr><tr><td>758</td><td>&quot;1&quot;</td><td>&quot;2&quot;</td><td>&quot;Baopz, Masdf. …</td><td>&quot;male&quot;</td><td>36.006388</td><td>&quot;0&quot;</td><td>&quot;0&quot;</td><td>&quot;0904&quot;</td><td>1.528154</td><td>null</td><td>&quot;S&quot;</td></tr><tr><td>266</td><td>&quot;0&quot;</td><td>&quot;3&quot;</td><td>&quot;Xqbikzifir, Mr…</td><td>&quot;male&quot;</td><td>null</td><td>&quot;0&quot;</td><td>&quot;0&quot;</td><td>&quot;8455&quot;</td><td>0.220358</td><td>null</td><td>&quot;C&quot;</td></tr><tr><td>70</td><td>&quot;1&quot;</td><td>&quot;2&quot;</td><td>&quot;Tqxson, Mp. Qj…</td><td>&quot;male&quot;</td><td>42.091685</td><td>&quot;0&quot;</td><td>&quot;0&quot;</td><td>&quot;39489&quot;</td><td>10.977369</td><td>null</td><td>&quot;Q&quot;</td></tr><tr><td>&hellip;</td><td>&hellip;</td><td>&hellip;</td><td>&hellip;</td><td>&hellip;</td><td>&hellip;</td><td>&hellip;</td><td>&hellip;</td><td>&hellip;</td><td>&hellip;</td><td>&hellip;</td><td>&hellip;</td></tr><tr><td>226</td><td>&quot;1&quot;</td><td>&quot;3&quot;</td><td>&quot;Suzlv, Msi. Xu…</td><td>&quot;male&quot;</td><td>51.2028</td><td>&quot;0&quot;</td><td>&quot;0&quot;</td><td>&quot;158355&quot;</td><td>21.771862</td><td>&quot;E7&quot;</td><td>&quot;S&quot;</td></tr><tr><td>485</td><td>&quot;0&quot;</td><td>&quot;3&quot;</td><td>&quot;Ctrfl, Mhrl. Y…</td><td>&quot;male&quot;</td><td>28.273515</td><td>&quot;0&quot;</td><td>&quot;1&quot;</td><td>&quot;78825&quot;</td><td>0.359971</td><td>&quot;E 81&quot;</td><td>&quot;C&quot;</td></tr><tr><td>127</td><td>&quot;0&quot;</td><td>&quot;3&quot;</td><td>&quot;Zghb, Mp. Imbj…</td><td>&quot;female&quot;</td><td>null</td><td>&quot;0&quot;</td><td>&quot;0&quot;</td><td>&quot;903505&quot;</td><td>80.776333</td><td>null</td><td>&quot;S&quot;</td></tr><tr><td>106</td><td>&quot;1&quot;</td><td>&quot;3&quot;</td><td>&quot;Xonj, Mddw. Db…</td><td>&quot;male&quot;</td><td>22.659537</td><td>&quot;0&quot;</td><td>&quot;0&quot;</td><td>&quot;2622&quot;</td><td>1.88614</td><td>null</td><td>&quot;S&quot;</td></tr><tr><td>217</td><td>&quot;1&quot;</td><td>&quot;3&quot;</td><td>&quot;Cakqcyzcas, Mw…</td><td>&quot;male&quot;</td><td>19.710466</td><td>&quot;1&quot;</td><td>&quot;0&quot;</td><td>&quot;842417&quot;</td><td>2.448686</td><td>&quot;C65&quot;</td><td>&quot;Q&quot;</td></tr><tr><td>813</td><td>&quot;0&quot;</td><td>&quot;1&quot;</td><td>&quot;Wqxfteolvy, Mg…</td><td>&quot;female&quot;</td><td>19.985422</td><td>&quot;0&quot;</td><td>&quot;0&quot;</td><td>&quot;OBBU 59391&quot;</td><td>20.163376</td><td>null</td><td>&quot;S&quot;</td></tr><tr><td>256</td><td>&quot;1&quot;</td><td>&quot;3&quot;</td><td>&quot;Bzzxbnc, Mvsd.…</td><td>&quot;male&quot;</td><td>null</td><td>&quot;5&quot;</td><td>&quot;0&quot;</td><td>&quot;8221&quot;</td><td>31.085511</td><td>null</td><td>&quot;S&quot;</td></tr><tr><td>633</td><td>&quot;0&quot;</td><td>&quot;3&quot;</td><td>&quot;Jbrpy, Mi. Xtl…</td><td>&quot;male&quot;</td><td>3.064894</td><td>&quot;0&quot;</td><td>&quot;2&quot;</td><td>&quot;974857&quot;</td><td>18.10968</td><td>&quot;E52&quot;</td><td>&quot;Q&quot;</td></tr><tr><td>567</td><td>&quot;1&quot;</td><td>&quot;3&quot;</td><td>&quot;Vxd, Mg. Oadne…</td><td>&quot;male&quot;</td><td>23.919712</td><td>&quot;1&quot;</td><td>&quot;0&quot;</td><td>&quot;2365&quot;</td><td>5.201085</td><td>null</td><td>&quot;S&quot;</td></tr><tr><td>473</td><td>&quot;1&quot;</td><td>&quot;3&quot;</td><td>&quot;Wjnpifhr, Mt. …</td><td>&quot;male&quot;</td><td>44.32803</td><td>&quot;0&quot;</td><td>&quot;0&quot;</td><td>&quot;92803&quot;</td><td>77.442814</td><td>null</td><td>&quot;C&quot;</td></tr><tr><td>254</td><td>&quot;1&quot;</td><td>&quot;3&quot;</td><td>&quot;Fiafkipji, Maq…</td><td>&quot;male&quot;</td><td>16.245961</td><td>&quot;1&quot;</td><td>&quot;0&quot;</td><td>&quot;670897&quot;</td><td>92.264049</td><td>null</td><td>&quot;Q&quot;</td></tr><tr><td>701</td><td>&quot;0&quot;</td><td>&quot;1&quot;</td><td>&quot;Sclpagequq, Mn…</td><td>&quot;female&quot;</td><td>39.182695</td><td>&quot;1&quot;</td><td>&quot;0&quot;</td><td>&quot;03253&quot;</td><td>83.357959</td><td>null</td><td>&quot;S&quot;</td></tr></tbody></table></div>"
      ],
      "text/plain": [
       "shape: (891, 12)\n",
       "┌─────────────┬──────────┬────────┬──────────────────┬───┬──────────┬───────────┬───────┬──────────┐\n",
       "│ PassengerId ┆ Survived ┆ Pclass ┆ Name             ┆ … ┆ Ticket   ┆ Fare      ┆ Cabin ┆ Embarked │\n",
       "│ ---         ┆ ---      ┆ ---    ┆ ---              ┆   ┆ ---      ┆ ---       ┆ ---   ┆ ---      │\n",
       "│ i64         ┆ cat      ┆ cat    ┆ str              ┆   ┆ str      ┆ f64       ┆ str   ┆ cat      │\n",
       "╞═════════════╪══════════╪════════╪══════════════════╪═══╪══════════╪═══════════╪═══════╪══════════╡\n",
       "│ 714         ┆ 1        ┆ 1      ┆ Auaacz, Meszk.   ┆ … ┆ 968978   ┆ 86.238248 ┆ null  ┆ S        │\n",
       "│             ┆          ┆        ┆ Dbnfdb           ┆   ┆          ┆           ┆       ┆          │\n",
       "│ 274         ┆ 0        ┆ 3      ┆ Mfatlu, Mqry.    ┆ … ┆ 0605     ┆ 20.352118 ┆ null  ┆ S        │\n",
       "│             ┆          ┆        ┆ Fxhelkq          ┆   ┆          ┆           ┆       ┆          │\n",
       "│ 608         ┆ 0        ┆ 3      ┆ Zhq, Mflo. Xovv  ┆ … ┆ U 262182 ┆ 20.764172 ┆ null  ┆ C        │\n",
       "│ 44          ┆ 0        ┆ 1      ┆ Xwq, Mtavb.      ┆ … ┆ 8810     ┆ 47.745505 ┆ F76   ┆ S        │\n",
       "│             ┆          ┆        ┆ Rkmizrlau        ┆   ┆          ┆           ┆       ┆          │\n",
       "│ …           ┆ …        ┆ …      ┆ …                ┆ … ┆ …        ┆ …         ┆ …     ┆ …        │\n",
       "│ 567         ┆ 1        ┆ 3      ┆ Vxd, Mg.         ┆ … ┆ 2365     ┆ 5.201085  ┆ null  ┆ S        │\n",
       "│             ┆          ┆        ┆ Oadnexyj         ┆   ┆          ┆           ┆       ┆          │\n",
       "│             ┆          ┆        ┆ Qhveqyhu         ┆   ┆          ┆           ┆       ┆          │\n",
       "│ 473         ┆ 1        ┆ 3      ┆ Wjnpifhr, Mt.    ┆ … ┆ 92803    ┆ 77.442814 ┆ null  ┆ C        │\n",
       "│             ┆          ┆        ┆ Mtfcid           ┆   ┆          ┆           ┆       ┆          │\n",
       "│ 254         ┆ 1        ┆ 3      ┆ Fiafkipji, Maq.  ┆ … ┆ 670897   ┆ 92.264049 ┆ null  ┆ Q        │\n",
       "│             ┆          ┆        ┆ Dbdgr            ┆   ┆          ┆           ┆       ┆          │\n",
       "│ 701         ┆ 0        ┆ 1      ┆ Sclpagequq,      ┆ … ┆ 03253    ┆ 83.357959 ┆ null  ┆ S        │\n",
       "│             ┆          ┆        ┆ Mnlwr. Spaidzwky ┆   ┆          ┆           ┆       ┆          │\n",
       "└─────────────┴──────────┴────────┴──────────────────┴───┴──────────┴───────────┴───────┴──────────┘"
      ]
     },
     "execution_count": 7,
     "metadata": {},
     "output_type": "execute_result"
    }
   ],
   "source": [
    "dataset.synthesize()"
   ]
  },
  {
   "cell_type": "markdown",
   "id": "c8653894",
   "metadata": {},
   "source": [
    "### Write the dataset to a meta-data file\n",
    "\n",
    "This file can be retrieved later to produce the synthetic data, so instead of sharing the synthetic data, one could share this file instead to provide the most amount of statistical information."
   ]
  },
  {
   "cell_type": "code",
   "execution_count": 8,
   "id": "d6c88091",
   "metadata": {},
   "outputs": [],
   "source": [
    "dataset.to_json(\"test.json\", validate=True)"
   ]
  },
  {
   "cell_type": "markdown",
   "id": "4182930b",
   "metadata": {},
   "source": [
    "### Print the contents of the dataset that gets loaded from a metasyn file."
   ]
  },
  {
   "cell_type": "code",
   "execution_count": 9,
   "id": "22863b6b",
   "metadata": {},
   "outputs": [
    {
     "name": "stdout",
     "output_type": "stream",
     "text": [
      "# Rows: 891\n",
      "# Columns: 12\n",
      "\n",
      "Column 1: \"PassengerId\"\n",
      "- Variable Type: discrete\n",
      "- Data Type: Int64\n",
      "- Proportion of Missing Values: 0.0000\n",
      "- Distribution:\n",
      "\t- Type: core.discrete_uniform\n",
      "\t- Provenance: builtin\n",
      "\t- Parameters:\n",
      "\t\t- low: 1\n",
      "\t\t- high: 892\n",
      "\t\n",
      "\n",
      "Column 2: \"Survived\"\n",
      "- Variable Type: categorical\n",
      "- Data Type: Categorical\n",
      "- Proportion of Missing Values: 0.0000\n",
      "- Distribution:\n",
      "\t- Type: core.multinoulli\n",
      "\t- Provenance: builtin\n",
      "\t- Parameters:\n",
      "\t\t- labels: ['0' '1']\n",
      "\t\t- probs: [0.61616162 0.38383838]\n",
      "\t\n",
      "\n",
      "Column 3: \"Pclass\"\n",
      "- Variable Type: categorical\n",
      "- Data Type: Categorical\n",
      "- Proportion of Missing Values: 0.0000\n",
      "- Distribution:\n",
      "\t- Type: core.multinoulli\n",
      "\t- Provenance: builtin\n",
      "\t- Parameters:\n",
      "\t\t- labels: ['1' '2' '3']\n",
      "\t\t- probs: [0.24242424 0.20650954 0.55106622]\n",
      "\t\n",
      "\n",
      "Column 4: \"Name\"\n",
      "- Variable Type: string\n",
      "- Data Type: Utf8\n",
      "- Proportion of Missing Values: 0.0000\n",
      "- Distribution:\n",
      "\t- Type: core.regex\n",
      "\t- Provenance: builtin\n",
      "\t- Parameters:\n",
      "\t\t- regex: [A-Z][a-z]{2,9}[,][ ][M][a-z]{1,5}[\\.][ ][A-Z][a-z]{3,8}(|[ ][A-Z](|[a-z]{3,8}))\n",
      "\t\n",
      "\n",
      "Column 5: \"Sex\"\n",
      "- Variable Type: categorical\n",
      "- Data Type: Categorical\n",
      "- Proportion of Missing Values: 0.0000\n",
      "- Distribution:\n",
      "\t- Type: core.multinoulli\n",
      "\t- Provenance: builtin\n",
      "\t- Parameters:\n",
      "\t\t- labels: ['female' 'male']\n",
      "\t\t- probs: [0.35241302 0.64758698]\n",
      "\t\n",
      "\n",
      "Column 6: \"Age\"\n",
      "- Variable Type: continuous\n",
      "- Data Type: Float64\n",
      "- Proportion of Missing Values: 0.1987\n",
      "- Distribution:\n",
      "\t- Type: core.truncated_normal\n",
      "\t- Provenance: builtin\n",
      "\t- Parameters:\n",
      "\t\t- lower_bound: 0.41999999\n",
      "\t\t- upper_bound: 80.00000001\n",
      "\t\t- mu: 28.286441105482094\n",
      "\t\t- sigma: 15.964614689648158\n",
      "\t\n",
      "\n",
      "Column 7: \"SibSp\"\n",
      "- Variable Type: categorical\n",
      "- Data Type: Categorical\n",
      "- Proportion of Missing Values: 0.0000\n",
      "- Distribution:\n",
      "\t- Type: core.multinoulli\n",
      "\t- Provenance: builtin\n",
      "\t- Parameters:\n",
      "\t\t- labels: ['0' '1' '2' '3' '4' '5' '8']\n",
      "\t\t- probs: [0.68237935 0.2345679  0.03142536 0.01795735 0.02020202 0.00561167\n",
      "\t 0.00785634]\n",
      "\t\n",
      "\n",
      "Column 8: \"Parch\"\n",
      "- Variable Type: categorical\n",
      "- Data Type: Categorical\n",
      "- Proportion of Missing Values: 0.0000\n",
      "- Distribution:\n",
      "\t- Type: core.multinoulli\n",
      "\t- Provenance: builtin\n",
      "\t- Parameters:\n",
      "\t\t- labels: ['0' '1' '2' '3' '4' '5' '6']\n",
      "\t\t- probs: [0.76094276 0.13243547 0.08978676 0.00561167 0.00448934 0.00561167\n",
      "\t 0.00112233]\n",
      "\t\n",
      "\n",
      "Column 9: \"Ticket\"\n",
      "- Variable Type: string\n",
      "- Data Type: Utf8\n",
      "- Proportion of Missing Values: 0.0000\n",
      "- Distribution:\n",
      "\t- Type: core.regex\n",
      "\t- Provenance: builtin\n",
      "\t- Parameters:\n",
      "\t\t- regex: (|[A-Z]{1,4}(|(\\.A\\.|/[0-9A-Z])) )[0-9]{4,6}\n",
      "\t\n",
      "\n",
      "Column 10: \"Fare\"\n",
      "- Variable Type: continuous\n",
      "- Data Type: Float64\n",
      "- Proportion of Missing Values: 0.0000\n",
      "- Distribution:\n",
      "\t- Type: core.exponential\n",
      "\t- Provenance: builtin\n",
      "\t- Parameters:\n",
      "\t\t- rate: 0.03052908440177665\n",
      "\t\n",
      "\n",
      "Column 11: \"Cabin\"\n",
      "- Variable Type: string\n",
      "- Data Type: Utf8\n",
      "- Proportion of Missing Values: 0.7710\n",
      "- Distribution:\n",
      "\t- Type: core.regex\n",
      "\t- Provenance: builtin\n",
      "\t- Parameters:\n",
      "\t\t- regex: [A-G][0-9 ]{1,3}(|[B-C][0-9]{2}(| [B-C][0-9]{2})|[A-Z][0-9]{2})\n",
      "\t\n",
      "\n",
      "Column 12: \"Embarked\"\n",
      "- Variable Type: categorical\n",
      "- Data Type: Categorical\n",
      "- Proportion of Missing Values: 0.0022\n",
      "- Distribution:\n",
      "\t- Type: core.multinoulli\n",
      "\t- Provenance: builtin\n",
      "\t- Parameters:\n",
      "\t\t- labels: ['C' 'Q' 'S']\n",
      "\t\t- probs: [0.18897638 0.08661417 0.72440945]\n",
      "\t\n",
      "\n",
      "\n"
     ]
    }
   ],
   "source": [
    "print(MetaFrame.from_json(\"test.json\"))"
   ]
  },
  {
   "cell_type": "markdown",
   "id": "26e6ac69",
   "metadata": {},
   "source": [
    "### Raw contents of the variables"
   ]
  },
  {
   "cell_type": "code",
   "execution_count": 10,
   "id": "d76c6882",
   "metadata": {
    "scrolled": false
   },
   "outputs": [
    {
     "data": {
      "text/plain": [
       "{'n_rows': 891,\n",
       " 'n_columns': 12,\n",
       " 'provenance': {'created by': {'name': 'metasyn', 'version': '0.6.0'},\n",
       "  'creation time': '2023-10-09T14:50:06.552768'},\n",
       " 'vars': [{'name': 'PassengerId',\n",
       "   'type': 'discrete',\n",
       "   'dtype': 'Int64',\n",
       "   'prop_missing': 0.0,\n",
       "   'distribution': {'implements': 'core.discrete_uniform',\n",
       "    'version': '1.0',\n",
       "    'provenance': 'builtin',\n",
       "    'class_name': 'DiscreteUniformDistribution',\n",
       "    'parameters': {'low': 1, 'high': 892}}},\n",
       "  {'name': 'Survived',\n",
       "   'type': 'categorical',\n",
       "   'dtype': 'Categorical',\n",
       "   'prop_missing': 0.0,\n",
       "   'distribution': {'implements': 'core.multinoulli',\n",
       "    'version': '1.0',\n",
       "    'provenance': 'builtin',\n",
       "    'class_name': 'MultinoulliDistribution',\n",
       "    'parameters': {'labels': array(['0', '1'], dtype=object),\n",
       "     'probs': array([0.61616162, 0.38383838])}}},\n",
       "  {'name': 'Pclass',\n",
       "   'type': 'categorical',\n",
       "   'dtype': 'Categorical',\n",
       "   'prop_missing': 0.0,\n",
       "   'distribution': {'implements': 'core.multinoulli',\n",
       "    'version': '1.0',\n",
       "    'provenance': 'builtin',\n",
       "    'class_name': 'MultinoulliDistribution',\n",
       "    'parameters': {'labels': array(['1', '2', '3'], dtype=object),\n",
       "     'probs': array([0.24242424, 0.20650954, 0.55106622])}}},\n",
       "  {'name': 'Name',\n",
       "   'type': 'string',\n",
       "   'dtype': 'Utf8',\n",
       "   'prop_missing': 0.0,\n",
       "   'distribution': {'implements': 'core.regex',\n",
       "    'version': '2.0',\n",
       "    'provenance': 'builtin',\n",
       "    'class_name': 'RegexDistribution',\n",
       "    'parameters': {'regex_data': {'regex': '[A-Z][a-z]{2,9}[,][ ][M][a-z]{1,5}[\\\\.][ ][A-Z][a-z]{3,8}(|[ ][A-Z](|[a-z]{3,8}))',\n",
       "      'counts': [567,\n",
       "       567,\n",
       "       567,\n",
       "       567,\n",
       "       567,\n",
       "       567,\n",
       "       567,\n",
       "       567,\n",
       "       567,\n",
       "       567,\n",
       "       [[265], [302, 302, [[25], [277, 277]], 0]],\n",
       "       0]}}}},\n",
       "  {'name': 'Sex',\n",
       "   'type': 'categorical',\n",
       "   'dtype': 'Categorical',\n",
       "   'prop_missing': 0.0,\n",
       "   'distribution': {'implements': 'core.multinoulli',\n",
       "    'version': '1.0',\n",
       "    'provenance': 'builtin',\n",
       "    'class_name': 'MultinoulliDistribution',\n",
       "    'parameters': {'labels': array(['female', 'male'], dtype=object),\n",
       "     'probs': array([0.35241302, 0.64758698])}}},\n",
       "  {'name': 'Age',\n",
       "   'type': 'continuous',\n",
       "   'dtype': 'Float64',\n",
       "   'prop_missing': 0.19865319865319866,\n",
       "   'distribution': {'implements': 'core.truncated_normal',\n",
       "    'version': '1.0',\n",
       "    'provenance': 'builtin',\n",
       "    'class_name': 'TruncatedNormalDistribution',\n",
       "    'parameters': {'lower_bound': 0.41999999,\n",
       "     'upper_bound': 80.00000001,\n",
       "     'mu': 28.286441105482094,\n",
       "     'sigma': 15.964614689648158}}},\n",
       "  {'name': 'SibSp',\n",
       "   'type': 'categorical',\n",
       "   'dtype': 'Categorical',\n",
       "   'prop_missing': 0.0,\n",
       "   'distribution': {'implements': 'core.multinoulli',\n",
       "    'version': '1.0',\n",
       "    'provenance': 'builtin',\n",
       "    'class_name': 'MultinoulliDistribution',\n",
       "    'parameters': {'labels': array(['0', '1', '2', '3', '4', '5', '8'], dtype=object),\n",
       "     'probs': array([0.68237935, 0.2345679 , 0.03142536, 0.01795735, 0.02020202,\n",
       "            0.00561167, 0.00785634])}}},\n",
       "  {'name': 'Parch',\n",
       "   'type': 'categorical',\n",
       "   'dtype': 'Categorical',\n",
       "   'prop_missing': 0.0,\n",
       "   'distribution': {'implements': 'core.multinoulli',\n",
       "    'version': '1.0',\n",
       "    'provenance': 'builtin',\n",
       "    'class_name': 'MultinoulliDistribution',\n",
       "    'parameters': {'labels': array(['0', '1', '2', '3', '4', '5', '6'], dtype=object),\n",
       "     'probs': array([0.76094276, 0.13243547, 0.08978676, 0.00561167, 0.00448934,\n",
       "            0.00561167, 0.00112233])}}},\n",
       "  {'name': 'Ticket',\n",
       "   'type': 'string',\n",
       "   'dtype': 'Utf8',\n",
       "   'prop_missing': 0.0,\n",
       "   'distribution': {'implements': 'core.regex',\n",
       "    'version': '2.0',\n",
       "    'provenance': 'builtin',\n",
       "    'class_name': 'RegexDistribution',\n",
       "    'parameters': {'regex_data': {'regex': '(|[A-Z]{1,4}(|(\\\\.A\\\\.|/[0-9A-Z])) )[0-9]{4,6}',\n",
       "      'counts': [[[643],\n",
       "        [46, [[75], [[[27, 27, 27, 27], [19, 19, 19]], 0]], 75, 75]],\n",
       "       643,\n",
       "       643]}}}},\n",
       "  {'name': 'Fare',\n",
       "   'type': 'continuous',\n",
       "   'dtype': 'Float64',\n",
       "   'prop_missing': 0.0,\n",
       "   'distribution': {'implements': 'core.exponential',\n",
       "    'version': '1.0',\n",
       "    'provenance': 'builtin',\n",
       "    'class_name': 'ExponentialDistribution',\n",
       "    'parameters': {'rate': 0.03052908440177665}}},\n",
       "  {'name': 'Cabin',\n",
       "   'type': 'string',\n",
       "   'dtype': 'Utf8',\n",
       "   'prop_missing': 0.7710437710437711,\n",
       "   'distribution': {'implements': 'core.regex',\n",
       "    'version': '2.0',\n",
       "    'provenance': 'builtin',\n",
       "    'class_name': 'RegexDistribution',\n",
       "    'parameters': {'regex_data': {'regex': '[A-G][0-9 ]{1,3}(|[B-C][0-9]{2}(| [B-C][0-9]{2})|[A-Z][0-9]{2})',\n",
       "      'counts': [198,\n",
       "       198,\n",
       "       [[176], [17, 17, [[11], [6, 6, 6, 6]], 0], [5, 5, 5]],\n",
       "       0]}}}},\n",
       "  {'name': 'Embarked',\n",
       "   'type': 'categorical',\n",
       "   'dtype': 'Categorical',\n",
       "   'prop_missing': 0.002244668911335578,\n",
       "   'distribution': {'implements': 'core.multinoulli',\n",
       "    'version': '1.0',\n",
       "    'provenance': 'builtin',\n",
       "    'class_name': 'MultinoulliDistribution',\n",
       "    'parameters': {'labels': array(['C', 'Q', 'S'], dtype=object),\n",
       "     'probs': array([0.18897638, 0.08661417, 0.72440945])}}}]}"
      ]
     },
     "execution_count": 10,
     "metadata": {},
     "output_type": "execute_result"
    }
   ],
   "source": [
    "dataset.to_dict()"
   ]
  }
 ],
 "metadata": {
  "kernelspec": {
   "display_name": "Python 3 (ipykernel)",
   "language": "python",
   "name": "python3"
  },
  "language_info": {
   "codemirror_mode": {
    "name": "ipython",
    "version": 3
   },
   "file_extension": ".py",
   "mimetype": "text/x-python",
   "name": "python",
   "nbconvert_exporter": "python",
   "pygments_lexer": "ipython3",
   "version": "3.9.10"
  }
 },
 "nbformat": 4,
 "nbformat_minor": 5
}
