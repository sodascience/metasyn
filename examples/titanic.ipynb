{
 "cells": [
  {
   "cell_type": "code",
   "execution_count": 1,
   "id": "9ffe3c40",
   "metadata": {},
   "outputs": [],
   "source": [
    "import pandas as pd\n",
    "from metasynth import MetaDataset\n",
    "import wget\n",
    "from pathlib import Path\n",
    "import json"
   ]
  },
  {
   "cell_type": "code",
   "execution_count": 2,
   "id": "b4ba47ea",
   "metadata": {},
   "outputs": [],
   "source": [
    "dtypes = {\n",
    "    \"Survived\": \"category\",\n",
    "    \"Pclass\": \"category\",\n",
    "    \"Name\": \"string\",\n",
    "    \"Sex\": \"category\",\n",
    "    \"SibSp\": \"category\",\n",
    "    \"Parch\": \"category\",\n",
    "    \"Ticket\": \"string\",\n",
    "    \"Cabin\": \"string\",\n",
    "    \"Embarked\": \"category\"\n",
    "}"
   ]
  },
  {
   "cell_type": "code",
   "execution_count": 3,
   "id": "46ba6b89",
   "metadata": {},
   "outputs": [],
   "source": [
    "titanic_fp = Path(\"titanic.csv\")\n",
    "if not titanic_fp.is_file():\n",
    "    wget.download(\"https://raw.githubusercontent.com/pandas-dev/pandas/main/doc/data/titanic.csv\")"
   ]
  },
  {
   "cell_type": "code",
   "execution_count": 4,
   "id": "c319763e",
   "metadata": {},
   "outputs": [],
   "source": [
    "df = pd.read_csv(titanic_fp, dtype=dtypes)"
   ]
  },
  {
   "cell_type": "code",
   "execution_count": 5,
   "id": "e02c6c59",
   "metadata": {},
   "outputs": [],
   "source": [
    "dataset = MetaDataset.from_dataframe(df)"
   ]
  },
  {
   "cell_type": "code",
   "execution_count": 6,
   "id": "d6c88091",
   "metadata": {},
   "outputs": [],
   "source": [
    "dataset.to_json(\"test.json\")"
   ]
  },
  {
   "cell_type": "code",
   "execution_count": 7,
   "id": "a87e23e6",
   "metadata": {},
   "outputs": [
    {
     "name": "stdout",
     "output_type": "stream",
     "text": [
      "# Rows: 891\n",
      "# Columns: 12\n",
      "\n",
      "{'name': 'PassengerId', 'type': 'IntVar', 'dtype': 'int64', 'prop_missing': 0.0, 'distribution': \"{'name': 'DiscreteUniformDistribution', 'parameters': {'low': 1, 'high': 892}}\"}\n",
      "\n",
      "{'name': 'Survived', 'type': 'CategoricalVar', 'dtype': 'category', 'prop_missing': 0.0, 'distribution': \"{'name': 'CatFreqDistribution', 'parameters': {'cat_freq': {'0': 549, '1': 342}}}\"}\n",
      "\n",
      "{'name': 'Pclass', 'type': 'CategoricalVar', 'dtype': 'category', 'prop_missing': 0.0, 'distribution': \"{'name': 'CatFreqDistribution', 'parameters': {'cat_freq': {'1': 216, '2': 184, '3': 491}}}\"}\n",
      "\n",
      "{'name': 'Name', 'type': 'StringVar', 'dtype': 'string', 'prop_missing': 0.0, 'distribution': '[A-Z]{0,1}[a-z]{0,12}[KRG,NM\\'C-E D][IBJYoaLC PdGMvyDeFVHWS][A-Z]{0,1}[a-z]{0,10}[ .,][CM h][A-Z]{0,1}[a-z]{0,10}[,/ .(][A-Z]{0,1}[a-z]{0,10}[\" )(][A-Z]{0,2}[a-z]{0,10}[\" ).(][A-Z]{0,1}[a-z]{0,10}[\" ).(L][A-Z]{0,1}[a-z]{0,10}[\" )(][A-Z]{0,1}[a-z]{0,9}[\"M )][A-Z]{0,1}[a-z]{0,12}[ )\"][A-Z]{0,1}[a-z]{0,7}[\"- )(][A-Z]{0,1}[a-z]{0,7}[ )\"][)MJ][ro][s][ e][Mf][ao][r ][gP][ae][rn][\"e][z)][ ][d][e][ ][S][o][t][o][ ][y][ ][V][a][l][l][e][j][o][)]'}\n",
      "\n",
      "{'name': 'Sex', 'type': 'CategoricalVar', 'dtype': 'category', 'prop_missing': 0.0, 'distribution': \"{'name': 'CatFreqDistribution', 'parameters': {'cat_freq': {'female': 314, 'male': 577}}}\"}\n",
      "\n",
      "{'name': 'Age', 'type': 'FloatVar', 'dtype': 'float64', 'prop_missing': 0.19865319865319866, 'distribution': \"{'name': 'NormalDistribution', 'parameters': {'mean': 29.69911764705882, 'std_dev': 14.516321150817316}}\"}\n",
      "\n",
      "{'name': 'SibSp', 'type': 'CategoricalVar', 'dtype': 'category', 'prop_missing': 0.0, 'distribution': \"{'name': 'CatFreqDistribution', 'parameters': {'cat_freq': {'0': 608, '1': 209, '2': 28, '3': 16, '4': 18, '5': 5, '8': 7}}}\"}\n",
      "\n",
      "{'name': 'Parch', 'type': 'CategoricalVar', 'dtype': 'category', 'prop_missing': 0.0, 'distribution': \"{'name': 'CatFreqDistribution', 'parameters': {'cat_freq': {'0': 678, '1': 118, '2': 80, '3': 5, '4': 4, '5': 5, '6': 1}}}\"}\n",
      "\n",
      "{'name': 'Ticket', 'type': 'StringVar', 'dtype': 'string', 'prop_missing': 0.0, 'distribution': '\\\\d{0,7}[A-Z]{0,5}[a/ .4]\\\\d{0,5}[CO/ .PESWA][3HCQ .P54a2A]\\\\d{0,5}[RC/Q .Pr]\\\\d{0,7}[I .PSBAi]\\\\d{0,7}[AsO .PaS]\\\\d{0,7}[RTs .P]\\\\d{0,4}[IlO .][N e2S][ 73]\\\\d{0,5}'}\n",
      "\n",
      "{'name': 'Fare', 'type': 'FloatVar', 'dtype': 'float64', 'prop_missing': 0.0, 'distribution': \"{'name': 'NormalDistribution', 'parameters': {'mean': 32.204207968574636, 'std_dev': 49.6655344447741}}\"}\n",
      "\n",
      "{'name': 'Cabin', 'type': 'StringVar', 'dtype': 'string', 'prop_missing': 0.7710437710437711, 'distribution': '[A-Z]{1,1}\\\\d{0,3}[ ][A-Z]{0,1}\\\\d{0,2}[ ][BC]\\\\d{0,2}[ ][B][6][6]'}\n",
      "\n",
      "{'name': 'Embarked', 'type': 'CategoricalVar', 'dtype': 'category', 'prop_missing': 0.002244668911335578, 'distribution': \"{'name': 'CatFreqDistribution', 'parameters': {'cat_freq': {'C': 168, 'Q': 77, 'S': 644}}}\"}\n",
      "\n"
     ]
    }
   ],
   "source": [
    "print(dataset)"
   ]
  },
  {
   "cell_type": "code",
   "execution_count": 8,
   "id": "22863b6b",
   "metadata": {},
   "outputs": [
    {
     "name": "stdout",
     "output_type": "stream",
     "text": [
      "# Rows: 891\n",
      "# Columns: 12\n",
      "\n",
      "{'name': 'PassengerId', 'type': 'IntVar', 'dtype': 'int64', 'prop_missing': 0.0, 'distribution': \"{'name': 'DiscreteUniformDistribution', 'parameters': {'low': 1, 'high': 892}}\"}\n",
      "\n",
      "{'name': 'Survived', 'type': 'CategoricalVar', 'dtype': 'category', 'prop_missing': 0.0, 'distribution': \"{'name': 'CatFreqDistribution', 'parameters': {'cat_freq': {'0': 549, '1': 342}}}\"}\n",
      "\n",
      "{'name': 'Pclass', 'type': 'CategoricalVar', 'dtype': 'category', 'prop_missing': 0.0, 'distribution': \"{'name': 'CatFreqDistribution', 'parameters': {'cat_freq': {'1': 216, '2': 184, '3': 491}}}\"}\n",
      "\n",
      "{'name': 'Name', 'type': 'StringVar', 'dtype': 'string', 'prop_missing': 0.0, 'distribution': '[A-Z]{0,1}[a-z]{0,12}[KRG,NM\\'C-E D][IBJYoaLC PdGMvyDeFVHWS][A-Z]{0,1}[a-z]{0,10}[ .,][CM h][A-Z]{0,1}[a-z]{0,10}[,/ .(][A-Z]{0,1}[a-z]{0,10}[\" )(][A-Z]{0,2}[a-z]{0,10}[\" ).(][A-Z]{0,1}[a-z]{0,10}[\" ).(L][A-Z]{0,1}[a-z]{0,10}[\" )(][A-Z]{0,1}[a-z]{0,9}[\"M )][A-Z]{0,1}[a-z]{0,12}[ )\"][A-Z]{0,1}[a-z]{0,7}[\"- )(][A-Z]{0,1}[a-z]{0,7}[ )\"][)MJ][ro][s][ e][Mf][ao][r ][gP][ae][rn][\"e][z)][ ][d][e][ ][S][o][t][o][ ][y][ ][V][a][l][l][e][j][o][)]'}\n",
      "\n",
      "{'name': 'Sex', 'type': 'CategoricalVar', 'dtype': 'category', 'prop_missing': 0.0, 'distribution': \"{'name': 'CatFreqDistribution', 'parameters': {'cat_freq': {'female': 314, 'male': 577}}}\"}\n",
      "\n",
      "{'name': 'Age', 'type': 'FloatVar', 'dtype': 'float64', 'prop_missing': 0.19865319865319866, 'distribution': \"{'name': 'NormalDistribution', 'parameters': {'mean': 29.69911764705882, 'std_dev': 14.516321150817316}}\"}\n",
      "\n",
      "{'name': 'SibSp', 'type': 'CategoricalVar', 'dtype': 'category', 'prop_missing': 0.0, 'distribution': \"{'name': 'CatFreqDistribution', 'parameters': {'cat_freq': {'0': 608, '1': 209, '2': 28, '3': 16, '4': 18, '5': 5, '8': 7}}}\"}\n",
      "\n",
      "{'name': 'Parch', 'type': 'CategoricalVar', 'dtype': 'category', 'prop_missing': 0.0, 'distribution': \"{'name': 'CatFreqDistribution', 'parameters': {'cat_freq': {'0': 678, '1': 118, '2': 80, '3': 5, '4': 4, '5': 5, '6': 1}}}\"}\n",
      "\n",
      "{'name': 'Ticket', 'type': 'StringVar', 'dtype': 'string', 'prop_missing': 0.0, 'distribution': '\\\\d{0,7}[A-Z]{0,5}[a/ .4]\\\\d{0,5}[CO/ .PESWA][3HCQ .P54a2A]\\\\d{0,5}[RC/Q .Pr]\\\\d{0,7}[I .PSBAi]\\\\d{0,7}[AsO .PaS]\\\\d{0,7}[RTs .P]\\\\d{0,4}[IlO .][N e2S][ 73]\\\\d{0,5}'}\n",
      "\n",
      "{'name': 'Fare', 'type': 'FloatVar', 'dtype': 'float64', 'prop_missing': 0.0, 'distribution': \"{'name': 'NormalDistribution', 'parameters': {'mean': 32.204207968574636, 'std_dev': 49.6655344447741}}\"}\n",
      "\n",
      "{'name': 'Cabin', 'type': 'StringVar', 'dtype': 'string', 'prop_missing': 0.7710437710437711, 'distribution': '[A-Z]{1,1}\\\\d{0,3}[ ][A-Z]{0,1}\\\\d{0,2}[ ][BC]\\\\d{0,2}[ ][B][6][6]'}\n",
      "\n",
      "{'name': 'Embarked', 'type': 'CategoricalVar', 'dtype': 'category', 'prop_missing': 0.002244668911335578, 'distribution': \"{'name': 'CatFreqDistribution', 'parameters': {'cat_freq': {'C': 168, 'Q': 77, 'S': 644}}}\"}\n",
      "\n"
     ]
    }
   ],
   "source": [
    "print(MetaDataset.from_json(\"test.json\"))"
   ]
  }
 ],
 "metadata": {
  "kernelspec": {
   "display_name": "Python 3 (ipykernel)",
   "language": "python",
   "name": "python3"
  },
  "language_info": {
   "codemirror_mode": {
    "name": "ipython",
    "version": 3
   },
   "file_extension": ".py",
   "mimetype": "text/x-python",
   "name": "python",
   "nbconvert_exporter": "python",
   "pygments_lexer": "ipython3",
   "version": "3.9.9"
  }
 },
 "nbformat": 4,
 "nbformat_minor": 5
}
