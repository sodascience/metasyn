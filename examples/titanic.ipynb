{
 "cells": [
  {
   "cell_type": "code",
   "execution_count": 1,
   "id": "9ffe3c40",
   "metadata": {},
   "outputs": [],
   "source": [
    "import pandas as pd\n",
    "from metasynth.var import MetaVar\n",
    "import wget\n",
    "from pathlib import Path"
   ]
  },
  {
   "cell_type": "code",
   "execution_count": 2,
   "id": "b4ba47ea",
   "metadata": {},
   "outputs": [],
   "source": [
    "dtypes = {\n",
    "    \"Survived\": \"category\",\n",
    "    \"Pclass\": \"category\",\n",
    "    \"Name\": \"string\",\n",
    "    \"Sex\": \"category\",\n",
    "    \"SibSp\": \"category\",\n",
    "    \"Parch\": \"category\",\n",
    "    \"Ticket\": \"string\",\n",
    "    \"Cabin\": \"string\",\n",
    "    \"Embarked\": \"category\"\n",
    "}"
   ]
  },
  {
   "cell_type": "code",
   "execution_count": 3,
   "id": "f37c41fc",
   "metadata": {},
   "outputs": [],
   "source": [
    "titanic_fp = Path(\"titanic.csv\")\n",
    "if not titanic_fp.is_file():\n",
    "    wget.download(\"https://raw.githubusercontent.com/pandas-dev/pandas/main/doc/data/titanic.csv\")"
   ]
  },
  {
   "cell_type": "code",
   "execution_count": 4,
   "id": "c319763e",
   "metadata": {},
   "outputs": [],
   "source": [
    "df = pd.read_csv(titanic_fp, dtype=dtypes)"
   ]
  },
  {
   "cell_type": "code",
   "execution_count": 5,
   "id": "dea70813",
   "metadata": {},
   "outputs": [
    {
     "name": "stdout",
     "output_type": "stream",
     "text": [
      "{'name': 'PassengerId', 'type': 'IntVar', 'distribution': \"{'low': 1, 'high': 891, 'name': 'DiscreteUniformDistribution', 'perc_nan': 0.0}\"}\n",
      "{'name': 'Survived', 'type': 'CategoricalVar', 'distribution': \"{'0': 549, '1': 342, 'name': 'CategoricalDistribution', 'perc_nan': 0.0}\"}\n",
      "{'name': 'Pclass', 'type': 'CategoricalVar', 'distribution': \"{'1': 216, '2': 184, '3': 491, 'name': 'CategoricalDistribution', 'perc_nan': 0.0}\"}\n",
      "{'name': 'Name', 'type': 'StringVar', 'distribution': 'String variable: avg # of characters: 26.9652076318743 '}\n",
      "{'name': 'Sex', 'type': 'CategoricalVar', 'distribution': \"{'female': 314, 'male': 577, 'name': 'CategoricalDistribution', 'perc_nan': 0.0}\"}\n",
      "{'name': 'Age', 'type': 'FloatVar', 'distribution': \"{'mean': 29.69911764705882, 'std_dev': 14.516321150817316, 'name': 'NormalDistribution', 'perc_nan': 0.19865319865319866}\"}\n",
      "{'name': 'SibSp', 'type': 'CategoricalVar', 'distribution': \"{'0': 608, '1': 209, '2': 28, '3': 16, '4': 18, '5': 5, '8': 7, 'name': 'CategoricalDistribution', 'perc_nan': 0.0}\"}\n",
      "{'name': 'Parch', 'type': 'CategoricalVar', 'distribution': \"{'0': 678, '1': 118, '2': 80, '3': 5, '4': 4, '5': 5, '6': 1, 'name': 'CategoricalDistribution', 'perc_nan': 0.0}\"}\n",
      "{'name': 'Ticket', 'type': 'StringVar', 'distribution': 'String variable: avg # of characters: 6.750841750841752 '}\n",
      "{'name': 'Fare', 'type': 'FloatVar', 'distribution': \"{'mean': 32.204207968574636, 'std_dev': 49.6655344447741, 'name': 'NormalDistribution', 'perc_nan': 0.0}\"}\n",
      "{'name': 'Cabin', 'type': 'StringVar', 'distribution': 'String variable: avg # of characters: 3.588235294117647 '}\n",
      "{'name': 'Embarked', 'type': 'CategoricalVar', 'distribution': \"{'C': 168, 'Q': 77, 'S': 644, 'name': 'CategoricalDistribution', 'perc_nan': 0.002244668911335578}\"}\n"
     ]
    }
   ],
   "source": [
    "for var in MetaVar.detect(df):\n",
    "    var.fit()\n",
    "    print(var)\n",
    "    "
   ]
  }
 ],
 "metadata": {
  "kernelspec": {
   "display_name": "Python 3 (ipykernel)",
   "language": "python",
   "name": "python3"
  },
  "language_info": {
   "codemirror_mode": {
    "name": "ipython",
    "version": 3
   },
   "file_extension": ".py",
   "mimetype": "text/x-python",
   "name": "python",
   "nbconvert_exporter": "python",
   "pygments_lexer": "ipython3",
   "version": "3.9.9"
  }
 },
 "nbformat": 4,
 "nbformat_minor": 5
}
