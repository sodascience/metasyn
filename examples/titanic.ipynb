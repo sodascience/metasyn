{
 "cells": [
  {
   "cell_type": "code",
   "execution_count": 1,
   "id": "9ffe3c40",
   "metadata": {},
   "outputs": [],
   "source": [
    "import pandas as pd\n",
    "from metasynth import MetaDataset\n",
    "import wget\n",
    "from pathlib import Path\n",
    "import json"
   ]
  },
  {
   "cell_type": "code",
   "execution_count": 2,
   "id": "b4ba47ea",
   "metadata": {},
   "outputs": [],
   "source": [
    "dtypes = {\n",
    "    \"Survived\": \"category\",\n",
    "    \"Pclass\": \"category\",\n",
    "    \"Name\": \"string\",\n",
    "    \"Sex\": \"category\",\n",
    "    \"SibSp\": \"category\",\n",
    "    \"Parch\": \"category\",\n",
    "    \"Ticket\": \"string\",\n",
    "    \"Cabin\": \"string\",\n",
    "    \"Embarked\": \"category\"\n",
    "}"
   ]
  },
  {
   "cell_type": "code",
   "execution_count": 3,
   "id": "46ba6b89",
   "metadata": {},
   "outputs": [],
   "source": [
    "titanic_fp = Path(\"titanic.csv\")\n",
    "if not titanic_fp.is_file():\n",
    "    wget.download(\"https://raw.githubusercontent.com/pandas-dev/pandas/main/doc/data/titanic.csv\")"
   ]
  },
  {
   "cell_type": "code",
   "execution_count": 4,
   "id": "c319763e",
   "metadata": {},
   "outputs": [],
   "source": [
    "df = pd.read_csv(titanic_fp, dtype=dtypes)"
   ]
  },
  {
   "cell_type": "code",
   "execution_count": 5,
   "id": "e02c6c59",
   "metadata": {},
   "outputs": [],
   "source": [
    "dataset = MetaDataset.from_dataframe(df)"
   ]
  },
  {
   "cell_type": "code",
   "execution_count": 6,
   "id": "f1cb7698",
   "metadata": {},
   "outputs": [
    {
     "data": {
      "text/plain": [
       "<StringArray>\n",
       "[                            'Braund, Mr. Owen Harris',\n",
       " 'Cumings, Mrs. John Bradley (Florence Briggs Thayer)',\n",
       "                              'Heikkinen, Miss. Laina',\n",
       "        'Futrelle, Mrs. Jacques Heath (Lily May Peel)',\n",
       "                            'Allen, Mr. William Henry',\n",
       "                                    'Moran, Mr. James',\n",
       "                             'McCarthy, Mr. Timothy J',\n",
       "                      'Palsson, Master. Gosta Leonard',\n",
       "   'Johnson, Mrs. Oscar W (Elisabeth Vilhelmina Berg)',\n",
       "                 'Nasser, Mrs. Nicholas (Adele Achem)',\n",
       " ...\n",
       "                                  'Markun, Mr. Johann',\n",
       "                        'Dahlberg, Miss. Gerda Ulrika',\n",
       "                       'Banfield, Mr. Frederick James',\n",
       "                              'Sutehall, Mr. Henry Jr',\n",
       "                'Rice, Mrs. William (Margaret Norton)',\n",
       "                               'Montvila, Rev. Juozas',\n",
       "                        'Graham, Miss. Margaret Edith',\n",
       "            'Johnston, Miss. Catherine Helen \"Carrie\"',\n",
       "                               'Behr, Mr. Karl Howell',\n",
       "                                 'Dooley, Mr. Patrick']\n",
       "Length: 891, dtype: string"
      ]
     },
     "execution_count": 6,
     "metadata": {},
     "output_type": "execute_result"
    }
   ],
   "source": [
    "df[\"Name\"].dropna().values"
   ]
  },
  {
   "cell_type": "code",
   "execution_count": 7,
   "id": "8ef27824",
   "metadata": {},
   "outputs": [
    {
     "data": {
      "text/plain": [
       "<StringArray>\n",
       "[   'DqbyckotiiM|',    'FkazatyjkvRK',             'QKa', 'KwxwkcdiqkaaiMr',\n",
       "            'Cc,U',         'IbhhbD ',  'SvdnhbtszbtmGa', 'PqwrlufjpksumE#',\n",
       "  'ZzdpxaxznmebNW',  'Lzkyzihgmaly 7',\n",
       " ...\n",
       "  \"Nnbucatkozwe'r\",  'OhvkuwwbkhdnNh',         'PmcbtD,', 'RdpnoghzrmxtxK4',\n",
       "  'BkedqffkgohG\\r',           'UwjM;',          'Vvlq,^',   'HkhaobyqqkyN{',\n",
       "   'LzgmqdtqodmMr',     'Kvwbxuwvu-!']\n",
       "Length: 1000, dtype: string"
      ]
     },
     "execution_count": 7,
     "metadata": {},
     "output_type": "execute_result"
    }
   ],
   "source": [
    "dataset.synthesize(1000)[\"Name\"].dropna().values"
   ]
  },
  {
   "cell_type": "code",
   "execution_count": 8,
   "id": "d6c88091",
   "metadata": {},
   "outputs": [],
   "source": [
    "dataset.to_json(\"test.json\")"
   ]
  },
  {
   "cell_type": "code",
   "execution_count": 9,
   "id": "22863b6b",
   "metadata": {},
   "outputs": [
    {
     "ename": "AttributeError",
     "evalue": "'NoneType' object has no attribute 'groups'",
     "output_type": "error",
     "traceback": [
      "\u001b[0;31m---------------------------------------------------------------------------\u001b[0m",
      "\u001b[0;31mAttributeError\u001b[0m                            Traceback (most recent call last)",
      "Input \u001b[0;32mIn [9]\u001b[0m, in \u001b[0;36m<cell line: 1>\u001b[0;34m()\u001b[0m\n\u001b[0;32m----> 1\u001b[0m \u001b[38;5;28mprint\u001b[39m(\u001b[43mMetaDataset\u001b[49m\u001b[38;5;241;43m.\u001b[39;49m\u001b[43mfrom_json\u001b[49m\u001b[43m(\u001b[49m\u001b[38;5;124;43m\"\u001b[39;49m\u001b[38;5;124;43mtest.json\u001b[39;49m\u001b[38;5;124;43m\"\u001b[39;49m\u001b[43m)\u001b[49m)\n",
      "File \u001b[0;32m~/Documents/shared_work/synthetic/meta-synth/metasynth/dataset.py:138\u001b[0m, in \u001b[0;36mMetaDataset.from_json\u001b[0;34m(cls, fp)\u001b[0m\n\u001b[1;32m    135\u001b[0m     self_dict \u001b[38;5;241m=\u001b[39m json\u001b[38;5;241m.\u001b[39mload(f)\n\u001b[1;32m    137\u001b[0m n_rows \u001b[38;5;241m=\u001b[39m self_dict[\u001b[38;5;124m\"\u001b[39m\u001b[38;5;124mn_rows\u001b[39m\u001b[38;5;124m\"\u001b[39m]\n\u001b[0;32m--> 138\u001b[0m meta_vars \u001b[38;5;241m=\u001b[39m [MetaVar\u001b[38;5;241m.\u001b[39mfrom_dict(d) \u001b[38;5;28;01mfor\u001b[39;00m d \u001b[38;5;129;01min\u001b[39;00m self_dict[\u001b[38;5;124m\"\u001b[39m\u001b[38;5;124mvars\u001b[39m\u001b[38;5;124m\"\u001b[39m]]\n\u001b[1;32m    139\u001b[0m \u001b[38;5;28;01mreturn\u001b[39;00m \u001b[38;5;28mcls\u001b[39m(meta_vars, n_rows)\n",
      "File \u001b[0;32m~/Documents/shared_work/synthetic/meta-synth/metasynth/dataset.py:138\u001b[0m, in \u001b[0;36m<listcomp>\u001b[0;34m(.0)\u001b[0m\n\u001b[1;32m    135\u001b[0m     self_dict \u001b[38;5;241m=\u001b[39m json\u001b[38;5;241m.\u001b[39mload(f)\n\u001b[1;32m    137\u001b[0m n_rows \u001b[38;5;241m=\u001b[39m self_dict[\u001b[38;5;124m\"\u001b[39m\u001b[38;5;124mn_rows\u001b[39m\u001b[38;5;124m\"\u001b[39m]\n\u001b[0;32m--> 138\u001b[0m meta_vars \u001b[38;5;241m=\u001b[39m [\u001b[43mMetaVar\u001b[49m\u001b[38;5;241;43m.\u001b[39;49m\u001b[43mfrom_dict\u001b[49m\u001b[43m(\u001b[49m\u001b[43md\u001b[49m\u001b[43m)\u001b[49m \u001b[38;5;28;01mfor\u001b[39;00m d \u001b[38;5;129;01min\u001b[39;00m self_dict[\u001b[38;5;124m\"\u001b[39m\u001b[38;5;124mvars\u001b[39m\u001b[38;5;124m\"\u001b[39m]]\n\u001b[1;32m    139\u001b[0m \u001b[38;5;28;01mreturn\u001b[39;00m \u001b[38;5;28mcls\u001b[39m(meta_vars, n_rows)\n",
      "File \u001b[0;32m~/Documents/shared_work/synthetic/meta-synth/metasynth/var.py:209\u001b[0m, in \u001b[0;36mMetaVar.from_dict\u001b[0;34m(cls, var_dict)\u001b[0m\n\u001b[1;32m    205\u001b[0m \u001b[38;5;28;01mfor\u001b[39;00m meta_class \u001b[38;5;129;01min\u001b[39;00m \u001b[38;5;28mcls\u001b[39m\u001b[38;5;241m.\u001b[39mget_sub_types()\u001b[38;5;241m.\u001b[39mvalues():\n\u001b[1;32m    206\u001b[0m     \u001b[38;5;28;01mif\u001b[39;00m meta_class\u001b[38;5;241m.\u001b[39m\u001b[38;5;18m__name__\u001b[39m \u001b[38;5;241m==\u001b[39m var_dict[\u001b[38;5;124m\"\u001b[39m\u001b[38;5;124mtype\u001b[39m\u001b[38;5;124m\"\u001b[39m]:\n\u001b[1;32m    207\u001b[0m         \u001b[38;5;28;01mreturn\u001b[39;00m meta_class(\n\u001b[1;32m    208\u001b[0m             name\u001b[38;5;241m=\u001b[39mvar_dict[\u001b[38;5;124m\"\u001b[39m\u001b[38;5;124mname\u001b[39m\u001b[38;5;124m\"\u001b[39m],\n\u001b[0;32m--> 209\u001b[0m             distribution\u001b[38;5;241m=\u001b[39m\u001b[43mmeta_class\u001b[49m\u001b[38;5;241;43m.\u001b[39;49m\u001b[43mdist_class\u001b[49m\u001b[38;5;241;43m.\u001b[39;49m\u001b[43mfrom_dict\u001b[49m\u001b[43m(\u001b[49m\u001b[43mvar_dict\u001b[49m\u001b[43m[\u001b[49m\u001b[38;5;124;43m\"\u001b[39;49m\u001b[38;5;124;43mdistribution\u001b[39;49m\u001b[38;5;124;43m\"\u001b[39;49m\u001b[43m]\u001b[49m\u001b[43m)\u001b[49m,\n\u001b[1;32m    210\u001b[0m             prop_missing\u001b[38;5;241m=\u001b[39mvar_dict[\u001b[38;5;124m\"\u001b[39m\u001b[38;5;124mprop_missing\u001b[39m\u001b[38;5;124m\"\u001b[39m], dtype\u001b[38;5;241m=\u001b[39mvar_dict[\u001b[38;5;124m\"\u001b[39m\u001b[38;5;124mdtype\u001b[39m\u001b[38;5;124m\"\u001b[39m])\n\u001b[1;32m    211\u001b[0m \u001b[38;5;28;01mraise\u001b[39;00m \u001b[38;5;167;01mValueError\u001b[39;00m(\u001b[38;5;124m\"\u001b[39m\u001b[38;5;124mCannot find meta class \u001b[39m\u001b[38;5;124m'\u001b[39m\u001b[38;5;132;01m{var_dict['type']}\u001b[39;00m\u001b[38;5;124m'\u001b[39m\u001b[38;5;124m.\u001b[39m\u001b[38;5;124m\"\u001b[39m)\n",
      "File \u001b[0;32m~/Documents/shared_work/synthetic/meta-synth/metasynth/metadist.py:52\u001b[0m, in \u001b[0;36mMetaDistribution.from_dict\u001b[0;34m(cls, meta_dict)\u001b[0m\n\u001b[1;32m     50\u001b[0m name \u001b[38;5;241m=\u001b[39m meta_dict\u001b[38;5;241m.\u001b[39mpop(\u001b[38;5;124m\"\u001b[39m\u001b[38;5;124mname\u001b[39m\u001b[38;5;124m\"\u001b[39m)\n\u001b[1;32m     51\u001b[0m dist_class, _ \u001b[38;5;241m=\u001b[39m get_dist_class(name)\n\u001b[0;32m---> 52\u001b[0m \u001b[38;5;28;01mreturn\u001b[39;00m \u001b[43mdist_class\u001b[49m\u001b[43m(\u001b[49m\u001b[38;5;241;43m*\u001b[39;49m\u001b[38;5;241;43m*\u001b[39;49m\u001b[43mmeta_dict\u001b[49m\u001b[43m[\u001b[49m\u001b[38;5;124;43m\"\u001b[39;49m\u001b[38;5;124;43mparameters\u001b[39;49m\u001b[38;5;124;43m\"\u001b[39;49m\u001b[43m]\u001b[49m\u001b[43m)\u001b[49m\n",
      "File \u001b[0;32m~/Documents/shared_work/synthetic/meta-synth/metasynth/distribution/string.py:50\u001b[0m, in \u001b[0;36mRegexDistribution.__init__\u001b[0;34m(self, re_list)\u001b[0m\n\u001b[1;32m     48\u001b[0m regex_dist_elem \u001b[38;5;241m=\u001b[39m \u001b[38;5;28;01mNone\u001b[39;00m\n\u001b[1;32m     49\u001b[0m \u001b[38;5;28;01mfor\u001b[39;00m regex_class \u001b[38;5;129;01min\u001b[39;00m \u001b[38;5;28mself\u001b[39m\u001b[38;5;241m.\u001b[39mall_regex_classes():\n\u001b[0;32m---> 50\u001b[0m     regex_dist_elem \u001b[38;5;241m=\u001b[39m \u001b[43mregex_class\u001b[49m\u001b[38;5;241;43m.\u001b[39;49m\u001b[43mfrom_string\u001b[49m\u001b[43m(\u001b[49m\u001b[43mregex_str\u001b[49m\u001b[43m)\u001b[49m\n\u001b[1;32m     51\u001b[0m     \u001b[38;5;28;01mif\u001b[39;00m regex_dist_elem \u001b[38;5;129;01mis\u001b[39;00m \u001b[38;5;129;01mnot\u001b[39;00m \u001b[38;5;28;01mNone\u001b[39;00m:\n\u001b[1;32m     52\u001b[0m         \u001b[38;5;28;01mbreak\u001b[39;00m\n",
      "File \u001b[0;32m~/Documents/shared_work/synthetic/meta-synth/metasynth/distribution/string.py:492\u001b[0m, in \u001b[0;36mSingleRegex.from_string\u001b[0;34m(cls, regex_str)\u001b[0m\n\u001b[1;32m    489\u001b[0m \u001b[38;5;129m@classmethod\u001b[39m\n\u001b[1;32m    490\u001b[0m \u001b[38;5;28;01mdef\u001b[39;00m \u001b[38;5;21mfrom_string\u001b[39m(\u001b[38;5;28mcls\u001b[39m, regex_str):\n\u001b[1;32m    491\u001b[0m     match \u001b[38;5;241m=\u001b[39m re\u001b[38;5;241m.\u001b[39msearch(\u001b[38;5;124mr\u001b[39m\u001b[38;5;124m\"\u001b[39m\u001b[38;5;124m\\\u001b[39m\u001b[38;5;124m[(.+)\u001b[39m\u001b[38;5;124m\\\u001b[39m\u001b[38;5;124m]\u001b[39m\u001b[38;5;124m\"\u001b[39m, regex_str)\n\u001b[0;32m--> 492\u001b[0m     \u001b[38;5;28;01mreturn\u001b[39;00m \u001b[38;5;28mcls\u001b[39m(\u001b[38;5;28mlist\u001b[39m(\u001b[43mmatch\u001b[49m\u001b[38;5;241;43m.\u001b[39;49m\u001b[43mgroups\u001b[49m()[\u001b[38;5;241m0\u001b[39m]))\n",
      "\u001b[0;31mAttributeError\u001b[0m: 'NoneType' object has no attribute 'groups'"
     ]
    }
   ],
   "source": [
    "print(MetaDataset.from_json(\"test.json\"))"
   ]
  },
  {
   "cell_type": "code",
   "execution_count": null,
   "id": "0601fb1b",
   "metadata": {},
   "outputs": [],
   "source": [
    "dataset.to_xml(\"test.xml\")"
   ]
  },
  {
   "cell_type": "code",
   "execution_count": null,
   "id": "d76c6882",
   "metadata": {},
   "outputs": [],
   "source": [
    "dataset.to_dict()"
   ]
  },
  {
   "cell_type": "code",
   "execution_count": null,
   "id": "155c4921",
   "metadata": {},
   "outputs": [],
   "source": [
    "print(MetaDataset.from_xml(\"test.xml\"))"
   ]
  },
  {
   "cell_type": "code",
   "execution_count": null,
   "id": "16ed6691",
   "metadata": {},
   "outputs": [],
   "source": [
    "dataset.to_dict()"
   ]
  },
  {
   "cell_type": "code",
   "execution_count": null,
   "id": "54954ad8",
   "metadata": {},
   "outputs": [],
   "source": []
  }
 ],
 "metadata": {
  "kernelspec": {
   "display_name": "Python 3 (ipykernel)",
   "language": "python",
   "name": "python3"
  },
  "language_info": {
   "codemirror_mode": {
    "name": "ipython",
    "version": 3
   },
   "file_extension": ".py",
   "mimetype": "text/x-python",
   "name": "python",
   "nbconvert_exporter": "python",
   "pygments_lexer": "ipython3",
   "version": "3.10.4"
  }
 },
 "nbformat": 4,
 "nbformat_minor": 5
}
