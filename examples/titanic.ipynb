{
 "cells": [
  {
   "cell_type": "code",
   "execution_count": 1,
   "id": "9ffe3c40",
   "metadata": {},
   "outputs": [],
   "source": [
    "import pandas as pd\n",
    "from metasynth import MetaDataset\n",
    "import wget\n",
    "from pathlib import Path\n",
    "import json"
   ]
  },
  {
   "cell_type": "code",
   "execution_count": 2,
   "id": "b4ba47ea",
   "metadata": {},
   "outputs": [],
   "source": [
    "dtypes = {\n",
    "    \"Survived\": \"category\",\n",
    "    \"Pclass\": \"category\",\n",
    "    \"Name\": \"string\",\n",
    "    \"Sex\": \"category\",\n",
    "    \"SibSp\": \"category\",\n",
    "    \"Parch\": \"category\",\n",
    "    \"Ticket\": \"string\",\n",
    "    \"Cabin\": \"string\",\n",
    "    \"Embarked\": \"category\"\n",
    "}"
   ]
  },
  {
   "cell_type": "code",
   "execution_count": 3,
   "id": "46ba6b89",
   "metadata": {},
   "outputs": [],
   "source": [
    "titanic_fp = Path(\"titanic.csv\")\n",
    "if not titanic_fp.is_file():\n",
    "    wget.download(\"https://raw.githubusercontent.com/pandas-dev/pandas/main/doc/data/titanic.csv\")"
   ]
  },
  {
   "cell_type": "code",
   "execution_count": 4,
   "id": "c319763e",
   "metadata": {},
   "outputs": [],
   "source": [
    "df = pd.read_csv(titanic_fp, dtype=dtypes)"
   ]
  },
  {
   "cell_type": "code",
   "execution_count": 5,
   "id": "e02c6c59",
   "metadata": {},
   "outputs": [
    {
     "name": "stdout",
     "output_type": "stream",
     "text": [
      "Unexpected exception formatting exception. Falling back to standard exception\n"
     ]
    },
    {
     "name": "stderr",
     "output_type": "stream",
     "text": [
      "Traceback (most recent call last):\n",
      "  File \"/home/qubix/.pyenv/versions/3.10.4/lib/python3.10/site-packages/IPython/core/interactiveshell.py\", line 3398, in run_code\n",
      "    exec(code_obj, self.user_global_ns, self.user_ns)\n",
      "  File \"/tmp/ipykernel_17618/3321944719.py\", line 1, in <cell line: 1>\n",
      "    dataset = MetaDataset.from_dataframe(df)\n",
      "  File \"/home/qubix/Documents/shared_work/synthetic/meta-synth/metasynth/dataset.py\", line 74, in from_dataframe\n",
      "    var.fit(dist, unique=unq)\n",
      "  File \"/home/qubix/Documents/shared_work/synthetic/meta-synth/metasynth/var.py\", line 147, in fit\n",
      "    self.distribution = self.dist_class.fit(self.series, unique=unique)\n",
      "  File \"/home/qubix/Documents/shared_work/synthetic/meta-synth/metasynth/metadist.py\", line 79, in fit\n",
      "    instances = [dist_type.fit(values)\n",
      "  File \"/home/qubix/Documents/shared_work/synthetic/meta-synth/metasynth/metadist.py\", line 79, in <listcomp>\n",
      "    instances = [dist_type.fit(values)\n",
      "  File \"/home/qubix/Documents/shared_work/synthetic/meta-synth/metasynth/distribution/base.py\", line 42, in fit\n",
      "    distribution = cls._fit(series, *args, **kwargs)\n",
      "  File \"/home/qubix/Documents/shared_work/synthetic/meta-synth/metasynth/distribution/string.py\", line 90, in _fit\n",
      "    left_fit = cls._fit(best_solution[\"values\"][0])\n",
      "  File \"/home/qubix/Documents/shared_work/synthetic/meta-synth/metasynth/distribution/string.py\", line 81, in _fit\n",
      "    new_values, gradient, regexer = re_class.fit([v for v in values])\n",
      "  File \"/home/qubix/Documents/shared_work/synthetic/meta-synth/metasynth/distribution/string.py\", line 555, in fit\n",
      "    new_solution = find_best_gradient(values, sorted_counts, cur_characters)\n",
      "  File \"/home/qubix/Documents/shared_work/synthetic/meta-synth/metasynth/distribution/string.py\", line 607, in find_best_gradient\n",
      "    optimizer.optimize()\n",
      "  File \"/home/qubix/Documents/shared_work/synthetic/meta-synth/metasynth/distribution/util.py\", line 94, in optimize\n",
      "  File \"/home/qubix/Documents/shared_work/synthetic/meta-synth/metasynth/distribution/util.py\", line 107, in _optimize_round\n",
      "    cur_span_choice = self.spans[i_val]\n",
      "KeyboardInterrupt\n",
      "\n",
      "During handling of the above exception, another exception occurred:\n",
      "\n",
      "Traceback (most recent call last):\n",
      "  File \"/home/qubix/.pyenv/versions/3.10.4/lib/python3.10/site-packages/IPython/core/interactiveshell.py\", line 1993, in showtraceback\n",
      "    stb = self.InteractiveTB.structured_traceback(\n",
      "  File \"/home/qubix/.pyenv/versions/3.10.4/lib/python3.10/site-packages/IPython/core/ultratb.py\", line 1118, in structured_traceback\n",
      "    return FormattedTB.structured_traceback(\n",
      "  File \"/home/qubix/.pyenv/versions/3.10.4/lib/python3.10/site-packages/IPython/core/ultratb.py\", line 1012, in structured_traceback\n",
      "    return VerboseTB.structured_traceback(\n",
      "  File \"/home/qubix/.pyenv/versions/3.10.4/lib/python3.10/site-packages/IPython/core/ultratb.py\", line 865, in structured_traceback\n",
      "    formatted_exception = self.format_exception_as_a_whole(etype, evalue, etb, number_of_lines_of_context,\n",
      "  File \"/home/qubix/.pyenv/versions/3.10.4/lib/python3.10/site-packages/IPython/core/ultratb.py\", line 818, in format_exception_as_a_whole\n",
      "    frames.append(self.format_record(r))\n",
      "  File \"/home/qubix/.pyenv/versions/3.10.4/lib/python3.10/site-packages/IPython/core/ultratb.py\", line 736, in format_record\n",
      "    result += ''.join(_format_traceback_lines(frame_info.lines, Colors, self.has_colors, lvals))\n",
      "  File \"/home/qubix/.pyenv/versions/3.10.4/lib/python3.10/site-packages/stack_data/utils.py\", line 145, in cached_property_wrapper\n",
      "    value = obj.__dict__[self.func.__name__] = self.func(obj)\n",
      "  File \"/home/qubix/.pyenv/versions/3.10.4/lib/python3.10/site-packages/stack_data/core.py\", line 698, in lines\n",
      "    pieces = self.included_pieces\n",
      "  File \"/home/qubix/.pyenv/versions/3.10.4/lib/python3.10/site-packages/stack_data/utils.py\", line 145, in cached_property_wrapper\n",
      "    value = obj.__dict__[self.func.__name__] = self.func(obj)\n",
      "  File \"/home/qubix/.pyenv/versions/3.10.4/lib/python3.10/site-packages/stack_data/core.py\", line 649, in included_pieces\n",
      "    pos = scope_pieces.index(self.executing_piece)\n",
      "  File \"/home/qubix/.pyenv/versions/3.10.4/lib/python3.10/site-packages/stack_data/utils.py\", line 145, in cached_property_wrapper\n",
      "    value = obj.__dict__[self.func.__name__] = self.func(obj)\n",
      "  File \"/home/qubix/.pyenv/versions/3.10.4/lib/python3.10/site-packages/stack_data/core.py\", line 628, in executing_piece\n",
      "    return only(\n",
      "  File \"/home/qubix/.pyenv/versions/3.10.4/lib/python3.10/site-packages/executing/executing.py\", line 164, in only\n",
      "    raise NotOneValueFound('Expected one value, found 0')\n",
      "executing.executing.NotOneValueFound: Expected one value, found 0\n"
     ]
    }
   ],
   "source": [
    "dataset = MetaDataset.from_dataframe(df)"
   ]
  },
  {
   "cell_type": "code",
   "execution_count": null,
   "id": "f1cb7698",
   "metadata": {},
   "outputs": [],
   "source": [
    "df"
   ]
  },
  {
   "cell_type": "code",
   "execution_count": null,
   "id": "8ef27824",
   "metadata": {},
   "outputs": [],
   "source": [
    "dataset.synthesize(1000)[\"Name\"].dropna().values"
   ]
  },
  {
   "cell_type": "code",
   "execution_count": null,
   "id": "d6c88091",
   "metadata": {},
   "outputs": [],
   "source": [
    "dataset.to_json(\"test.json\")"
   ]
  },
  {
   "cell_type": "code",
   "execution_count": null,
   "id": "22863b6b",
   "metadata": {},
   "outputs": [],
   "source": [
    "print(MetaDataset.from_json(\"test.json\"))"
   ]
  },
  {
   "cell_type": "code",
   "execution_count": null,
   "id": "0601fb1b",
   "metadata": {},
   "outputs": [],
   "source": [
    "dataset.to_xml(\"test.xml\")"
   ]
  },
  {
   "cell_type": "code",
   "execution_count": null,
   "id": "d76c6882",
   "metadata": {},
   "outputs": [],
   "source": [
    "dataset.to_dict()"
   ]
  },
  {
   "cell_type": "code",
   "execution_count": null,
   "id": "155c4921",
   "metadata": {},
   "outputs": [],
   "source": [
    "print(MetaDataset.from_xml(\"test.xml\"))"
   ]
  },
  {
   "cell_type": "code",
   "execution_count": null,
   "id": "16ed6691",
   "metadata": {},
   "outputs": [],
   "source": [
    "dataset.to_dict()"
   ]
  },
  {
   "cell_type": "code",
   "execution_count": null,
   "id": "54954ad8",
   "metadata": {},
   "outputs": [],
   "source": []
  }
 ],
 "metadata": {
  "kernelspec": {
   "display_name": "Python 3 (ipykernel)",
   "language": "python",
   "name": "python3"
  },
  "language_info": {
   "codemirror_mode": {
    "name": "ipython",
    "version": 3
   },
   "file_extension": ".py",
   "mimetype": "text/x-python",
   "name": "python",
   "nbconvert_exporter": "python",
   "pygments_lexer": "ipython3",
   "version": "3.10.4"
  }
 },
 "nbformat": 4,
 "nbformat_minor": 5
}
