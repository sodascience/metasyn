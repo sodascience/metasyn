{
 "cells": [
  {
   "cell_type": "code",
   "execution_count": 1,
   "id": "9ffe3c40",
   "metadata": {},
   "outputs": [],
   "source": [
    "import pandas as pd\n",
    "from metasynth import MetaDataset\n",
    "import wget\n",
    "from pathlib import Path\n",
    "import json"
   ]
  },
  {
   "cell_type": "code",
   "execution_count": 2,
   "id": "b4ba47ea",
   "metadata": {},
   "outputs": [],
   "source": [
    "dtypes = {\n",
    "    \"Survived\": \"category\",\n",
    "    \"Pclass\": \"category\",\n",
    "    \"Name\": \"string\",\n",
    "    \"Sex\": \"category\",\n",
    "    \"SibSp\": \"category\",\n",
    "    \"Parch\": \"category\",\n",
    "    \"Ticket\": \"string\",\n",
    "    \"Cabin\": \"string\",\n",
    "    \"Embarked\": \"category\"\n",
    "}"
   ]
  },
  {
   "cell_type": "code",
   "execution_count": 3,
   "id": "46ba6b89",
   "metadata": {},
   "outputs": [],
   "source": [
    "titanic_fp = Path(\"titanic.csv\")\n",
    "if not titanic_fp.is_file():\n",
    "    wget.download(\"https://raw.githubusercontent.com/pandas-dev/pandas/main/doc/data/titanic.csv\")"
   ]
  },
  {
   "cell_type": "code",
   "execution_count": 4,
   "id": "c319763e",
   "metadata": {},
   "outputs": [],
   "source": [
    "df = pd.read_csv(titanic_fp, dtype=dtypes)"
   ]
  },
  {
   "cell_type": "code",
   "execution_count": 5,
   "id": "e02c6c59",
   "metadata": {},
   "outputs": [],
   "source": [
    "dataset = MetaDataset.from_dataframe(df)"
   ]
  },
  {
   "cell_type": "code",
   "execution_count": 6,
   "id": "d6c88091",
   "metadata": {},
   "outputs": [],
   "source": [
    "dataset.to_json(\"test.json\")"
   ]
  },
  {
   "cell_type": "code",
   "execution_count": 7,
   "id": "a87e23e6",
   "metadata": {},
   "outputs": [
    {
     "name": "stdout",
     "output_type": "stream",
     "text": [
      "# Rows: 891\n",
      "# Columns: 12\n",
      "\n",
      "{'name': 'PassengerId', 'type': 'IntVar', 'dtype': 'int64', 'prop_missing': 0.0, 'distribution': \"{'name': 'DiscreteUniformDistribution', 'parameters': {'low': 1, 'high': 892}}\"}\n",
      "\n",
      "{'name': 'Survived', 'type': 'CategoricalVar', 'dtype': 'category', 'prop_missing': 0.0, 'distribution': \"{'name': 'CatFreqDistribution', 'parameters': {'cat_freq': {'0': 549, '1': 342}}}\"}\n",
      "\n",
      "{'name': 'Pclass', 'type': 'CategoricalVar', 'dtype': 'category', 'prop_missing': 0.0, 'distribution': \"{'name': 'CatFreqDistribution', 'parameters': {'cat_freq': {'1': 216, '2': 184, '3': 491}}}\"}\n",
      "\n",
      "{'name': 'Name', 'type': 'StringVar', 'dtype': 'string', 'prop_missing': 0.0, 'distribution': 'String variable: avg # of characters: 26.9652076318743 '}\n",
      "\n",
      "{'name': 'Sex', 'type': 'CategoricalVar', 'dtype': 'category', 'prop_missing': 0.0, 'distribution': \"{'name': 'CatFreqDistribution', 'parameters': {'cat_freq': {'female': 314, 'male': 577}}}\"}\n",
      "\n",
      "{'name': 'Age', 'type': 'FloatVar', 'dtype': 'float64', 'prop_missing': 0.19865319865319866, 'distribution': \"{'name': 'NormalDistribution', 'parameters': {'mean': 29.69911764705882, 'std_dev': 14.516321150817316}}\"}\n",
      "\n",
      "{'name': 'SibSp', 'type': 'CategoricalVar', 'dtype': 'category', 'prop_missing': 0.0, 'distribution': \"{'name': 'CatFreqDistribution', 'parameters': {'cat_freq': {'0': 608, '1': 209, '2': 28, '3': 16, '4': 18, '5': 5, '8': 7}}}\"}\n",
      "\n",
      "{'name': 'Parch', 'type': 'CategoricalVar', 'dtype': 'category', 'prop_missing': 0.0, 'distribution': \"{'name': 'CatFreqDistribution', 'parameters': {'cat_freq': {'0': 678, '1': 118, '2': 80, '3': 5, '4': 4, '5': 5, '6': 1}}}\"}\n",
      "\n",
      "{'name': 'Ticket', 'type': 'StringVar', 'dtype': 'string', 'prop_missing': 0.0, 'distribution': 'String variable: avg # of characters: 6.750841750841752 '}\n",
      "\n",
      "{'name': 'Fare', 'type': 'FloatVar', 'dtype': 'float64', 'prop_missing': 0.0, 'distribution': \"{'name': 'NormalDistribution', 'parameters': {'mean': 32.204207968574636, 'std_dev': 49.6655344447741}}\"}\n",
      "\n",
      "{'name': 'Cabin', 'type': 'StringVar', 'dtype': 'string', 'prop_missing': 0.7710437710437711, 'distribution': 'String variable: avg # of characters: 3.588235294117647 '}\n",
      "\n",
      "{'name': 'Embarked', 'type': 'CategoricalVar', 'dtype': 'category', 'prop_missing': 0.002244668911335578, 'distribution': \"{'name': 'CatFreqDistribution', 'parameters': {'cat_freq': {'C': 168, 'Q': 77, 'S': 644}}}\"}\n",
      "\n"
     ]
    }
   ],
   "source": [
    "print(dataset)"
   ]
  },
  {
   "cell_type": "code",
   "execution_count": 8,
   "id": "22863b6b",
   "metadata": {},
   "outputs": [
    {
     "name": "stdout",
     "output_type": "stream",
     "text": [
      "# Rows: 891\n",
      "# Columns: 12\n",
      "\n",
      "{'name': 'PassengerId', 'type': 'IntVar', 'dtype': 'int64', 'prop_missing': 0.0, 'distribution': \"{'name': 'DiscreteUniformDistribution', 'parameters': {'low': 1, 'high': 892}}\"}\n",
      "\n",
      "{'name': 'Survived', 'type': 'CategoricalVar', 'dtype': 'category', 'prop_missing': 0.0, 'distribution': \"{'name': 'CatFreqDistribution', 'parameters': {'cat_freq': {'0': 549, '1': 342}}}\"}\n",
      "\n",
      "{'name': 'Pclass', 'type': 'CategoricalVar', 'dtype': 'category', 'prop_missing': 0.0, 'distribution': \"{'name': 'CatFreqDistribution', 'parameters': {'cat_freq': {'1': 216, '2': 184, '3': 491}}}\"}\n",
      "\n",
      "{'name': 'Name', 'type': 'StringVar', 'dtype': 'string', 'prop_missing': 0.0, 'distribution': 'String variable: avg # of characters: 26.9652076318743 '}\n",
      "\n",
      "{'name': 'Sex', 'type': 'CategoricalVar', 'dtype': 'category', 'prop_missing': 0.0, 'distribution': \"{'name': 'CatFreqDistribution', 'parameters': {'cat_freq': {'female': 314, 'male': 577}}}\"}\n",
      "\n",
      "{'name': 'Age', 'type': 'FloatVar', 'dtype': 'float64', 'prop_missing': 0.19865319865319866, 'distribution': \"{'name': 'NormalDistribution', 'parameters': {'mean': 29.69911764705882, 'std_dev': 14.516321150817316}}\"}\n",
      "\n",
      "{'name': 'SibSp', 'type': 'CategoricalVar', 'dtype': 'category', 'prop_missing': 0.0, 'distribution': \"{'name': 'CatFreqDistribution', 'parameters': {'cat_freq': {'0': 608, '1': 209, '2': 28, '3': 16, '4': 18, '5': 5, '8': 7}}}\"}\n",
      "\n",
      "{'name': 'Parch', 'type': 'CategoricalVar', 'dtype': 'category', 'prop_missing': 0.0, 'distribution': \"{'name': 'CatFreqDistribution', 'parameters': {'cat_freq': {'0': 678, '1': 118, '2': 80, '3': 5, '4': 4, '5': 5, '6': 1}}}\"}\n",
      "\n",
      "{'name': 'Ticket', 'type': 'StringVar', 'dtype': 'string', 'prop_missing': 0.0, 'distribution': 'String variable: avg # of characters: 6.750841750841752 '}\n",
      "\n",
      "{'name': 'Fare', 'type': 'FloatVar', 'dtype': 'float64', 'prop_missing': 0.0, 'distribution': \"{'name': 'NormalDistribution', 'parameters': {'mean': 32.204207968574636, 'std_dev': 49.6655344447741}}\"}\n",
      "\n",
      "{'name': 'Cabin', 'type': 'StringVar', 'dtype': 'string', 'prop_missing': 0.7710437710437711, 'distribution': 'String variable: avg # of characters: 3.588235294117647 '}\n",
      "\n",
      "{'name': 'Embarked', 'type': 'CategoricalVar', 'dtype': 'category', 'prop_missing': 0.002244668911335578, 'distribution': \"{'name': 'CatFreqDistribution', 'parameters': {'cat_freq': {'C': 168, 'Q': 77, 'S': 644}}}\"}\n",
      "\n"
     ]
    }
   ],
   "source": [
    "print(MetaDataset.from_json(\"test.json\"))"
   ]
  },
  {
   "cell_type": "code",
   "execution_count": 9,
   "id": "0046ed3e",
   "metadata": {},
   "outputs": [
    {
     "data": {
      "text/plain": [
       "array([22.  , 38.  , 26.  , 35.  , 35.  ,   nan, 54.  ,  2.  , 27.  ,\n",
       "       14.  ,  4.  , 58.  , 20.  , 39.  , 14.  , 55.  ,  2.  ,   nan,\n",
       "       31.  ,   nan, 35.  , 34.  , 15.  , 28.  ,  8.  , 38.  ,   nan,\n",
       "       19.  ,   nan,   nan, 40.  ,   nan,   nan, 66.  , 28.  , 42.  ,\n",
       "         nan, 21.  , 18.  , 14.  , 40.  , 27.  ,   nan,  3.  , 19.  ,\n",
       "         nan,   nan,   nan,   nan, 18.  ,  7.  , 21.  , 49.  , 29.  ,\n",
       "       65.  ,   nan, 21.  , 28.5 ,  5.  , 11.  , 22.  , 38.  , 45.  ,\n",
       "        4.  ,   nan,   nan, 29.  , 19.  , 17.  , 26.  , 32.  , 16.  ,\n",
       "       21.  , 26.  , 32.  , 25.  ,   nan,   nan,  0.83, 30.  , 22.  ,\n",
       "       29.  ,   nan, 28.  , 17.  , 33.  , 16.  ,   nan, 23.  , 24.  ,\n",
       "       29.  , 20.  , 46.  , 26.  , 59.  ,   nan, 71.  , 23.  , 34.  ,\n",
       "       34.  , 28.  ,   nan, 21.  , 33.  , 37.  , 28.  , 21.  ,   nan,\n",
       "       38.  ,   nan, 47.  , 14.5 , 22.  , 20.  , 17.  , 21.  , 70.5 ,\n",
       "       29.  , 24.  ,  2.  , 21.  ,   nan, 32.5 , 32.5 , 54.  , 12.  ,\n",
       "         nan, 24.  ,   nan, 45.  , 33.  , 20.  , 47.  , 29.  , 25.  ,\n",
       "       23.  , 19.  , 37.  , 16.  , 24.  ,   nan, 22.  , 24.  , 19.  ,\n",
       "       18.  , 19.  , 27.  ,  9.  , 36.5 , 42.  , 51.  , 22.  , 55.5 ,\n",
       "       40.5 ,   nan, 51.  , 16.  , 30.  ,   nan,   nan, 44.  , 40.  ,\n",
       "       26.  , 17.  ,  1.  ,  9.  ,   nan, 45.  ,   nan, 28.  , 61.  ,\n",
       "        4.  ,  1.  , 21.  , 56.  , 18.  ,   nan, 50.  , 30.  , 36.  ,\n",
       "         nan,   nan,  9.  ,  1.  ,  4.  ,   nan,   nan, 45.  , 40.  ,\n",
       "       36.  , 32.  , 19.  , 19.  ,  3.  , 44.  , 58.  ,   nan, 42.  ,\n",
       "         nan, 24.  , 28.  ,   nan, 34.  , 45.5 , 18.  ,  2.  , 32.  ,\n",
       "       26.  , 16.  , 40.  , 24.  , 35.  , 22.  , 30.  ,   nan, 31.  ,\n",
       "       27.  , 42.  , 32.  , 30.  , 16.  , 27.  , 51.  ,   nan, 38.  ,\n",
       "       22.  , 19.  , 20.5 , 18.  ,   nan, 35.  , 29.  , 59.  ,  5.  ,\n",
       "       24.  ,   nan, 44.  ,  8.  , 19.  , 33.  ,   nan,   nan, 29.  ,\n",
       "       22.  , 30.  , 44.  , 25.  , 24.  , 37.  , 54.  ,   nan, 29.  ,\n",
       "       62.  , 30.  , 41.  , 29.  ,   nan, 30.  , 35.  , 50.  ,   nan,\n",
       "        3.  , 52.  , 40.  ,   nan, 36.  , 16.  , 25.  , 58.  , 35.  ,\n",
       "         nan, 25.  , 41.  , 37.  ,   nan, 63.  , 45.  ,   nan,  7.  ,\n",
       "       35.  , 65.  , 28.  , 16.  , 19.  ,   nan, 33.  , 30.  , 22.  ,\n",
       "       42.  , 22.  , 26.  , 19.  , 36.  , 24.  , 24.  ,   nan, 23.5 ,\n",
       "        2.  ,   nan, 50.  ,   nan,   nan, 19.  ,   nan,   nan,  0.92,\n",
       "         nan, 17.  , 30.  , 30.  , 24.  , 18.  , 26.  , 28.  , 43.  ,\n",
       "       26.  , 24.  , 54.  , 31.  , 40.  , 22.  , 27.  , 30.  , 22.  ,\n",
       "         nan, 36.  , 61.  , 36.  , 31.  , 16.  ,   nan, 45.5 , 38.  ,\n",
       "       16.  ,   nan,   nan, 29.  , 41.  , 45.  , 45.  ,  2.  , 24.  ,\n",
       "       28.  , 25.  , 36.  , 24.  , 40.  ,   nan,  3.  , 42.  , 23.  ,\n",
       "         nan, 15.  , 25.  ,   nan, 28.  , 22.  , 38.  ,   nan,   nan,\n",
       "       40.  , 29.  , 45.  , 35.  ,   nan, 30.  , 60.  ,   nan,   nan,\n",
       "       24.  , 25.  , 18.  , 19.  , 22.  ,  3.  ,   nan, 22.  , 27.  ,\n",
       "       20.  , 19.  , 42.  ,  1.  , 32.  , 35.  ,   nan, 18.  ,  1.  ,\n",
       "       36.  ,   nan, 17.  , 36.  , 21.  , 28.  , 23.  , 24.  , 22.  ,\n",
       "       31.  , 46.  , 23.  , 28.  , 39.  , 26.  , 21.  , 28.  , 20.  ,\n",
       "       34.  , 51.  ,  3.  , 21.  ,   nan,   nan,   nan, 33.  ,   nan,\n",
       "       44.  ,   nan, 34.  , 18.  , 30.  , 10.  ,   nan, 21.  , 29.  ,\n",
       "       28.  , 18.  ,   nan, 28.  , 19.  ,   nan, 32.  , 28.  ,   nan,\n",
       "       42.  , 17.  , 50.  , 14.  , 21.  , 24.  , 64.  , 31.  , 45.  ,\n",
       "       20.  , 25.  , 28.  ,   nan,  4.  , 13.  , 34.  ,  5.  , 52.  ,\n",
       "       36.  ,   nan, 30.  , 49.  ,   nan, 29.  , 65.  ,   nan, 50.  ,\n",
       "         nan, 48.  , 34.  , 47.  , 48.  ,   nan, 38.  ,   nan, 56.  ,\n",
       "         nan,  0.75,   nan, 38.  , 33.  , 23.  , 22.  ,   nan, 34.  ,\n",
       "       29.  , 22.  ,  2.  ,  9.  ,   nan, 50.  , 63.  , 25.  ,   nan,\n",
       "       35.  , 58.  , 30.  ,  9.  ,   nan, 21.  , 55.  , 71.  , 21.  ,\n",
       "         nan, 54.  ,   nan, 25.  , 24.  , 17.  , 21.  ,   nan, 37.  ,\n",
       "       16.  , 18.  , 33.  ,   nan, 28.  , 26.  , 29.  ,   nan, 36.  ,\n",
       "       54.  , 24.  , 47.  , 34.  ,   nan, 36.  , 32.  , 30.  , 22.  ,\n",
       "         nan, 44.  ,   nan, 40.5 , 50.  ,   nan, 39.  , 23.  ,  2.  ,\n",
       "         nan, 17.  ,   nan, 30.  ,  7.  , 45.  , 30.  ,   nan, 22.  ,\n",
       "       36.  ,  9.  , 11.  , 32.  , 50.  , 64.  , 19.  ,   nan, 33.  ,\n",
       "        8.  , 17.  , 27.  ,   nan, 22.  , 22.  , 62.  , 48.  ,   nan,\n",
       "       39.  , 36.  ,   nan, 40.  , 28.  ,   nan,   nan, 24.  , 19.  ,\n",
       "       29.  ,   nan, 32.  , 62.  , 53.  , 36.  ,   nan, 16.  , 19.  ,\n",
       "       34.  , 39.  ,   nan, 32.  , 25.  , 39.  , 54.  , 36.  ,   nan,\n",
       "       18.  , 47.  , 60.  , 22.  ,   nan, 35.  , 52.  , 47.  ,   nan,\n",
       "       37.  , 36.  ,   nan, 49.  ,   nan, 49.  , 24.  ,   nan,   nan,\n",
       "       44.  , 35.  , 36.  , 30.  , 27.  , 22.  , 40.  , 39.  ,   nan,\n",
       "         nan,   nan, 35.  , 24.  , 34.  , 26.  ,  4.  , 26.  , 27.  ,\n",
       "       42.  , 20.  , 21.  , 21.  , 61.  , 57.  , 21.  , 26.  ,   nan,\n",
       "       80.  , 51.  , 32.  ,   nan,  9.  , 28.  , 32.  , 31.  , 41.  ,\n",
       "         nan, 20.  , 24.  ,  2.  ,   nan,  0.75, 48.  , 19.  , 56.  ,\n",
       "         nan, 23.  ,   nan, 18.  , 21.  ,   nan, 18.  , 24.  ,   nan,\n",
       "       32.  , 23.  , 58.  , 50.  , 40.  , 47.  , 36.  , 20.  , 32.  ,\n",
       "       25.  ,   nan, 43.  ,   nan, 40.  , 31.  , 70.  , 31.  ,   nan,\n",
       "       18.  , 24.5 , 18.  , 43.  , 36.  ,   nan, 27.  , 20.  , 14.  ,\n",
       "       60.  , 25.  , 14.  , 19.  , 18.  , 15.  , 31.  ,  4.  ,   nan,\n",
       "       25.  , 60.  , 52.  , 44.  ,   nan, 49.  , 42.  , 18.  , 35.  ,\n",
       "       18.  , 25.  , 26.  , 39.  , 45.  , 42.  , 22.  ,   nan, 24.  ,\n",
       "         nan, 48.  , 29.  , 52.  , 19.  , 38.  , 27.  ,   nan, 33.  ,\n",
       "        6.  , 17.  , 34.  , 50.  , 27.  , 20.  , 30.  ,   nan, 25.  ,\n",
       "       25.  , 29.  , 11.  ,   nan, 23.  , 23.  , 28.5 , 48.  , 35.  ,\n",
       "         nan,   nan,   nan, 36.  , 21.  , 24.  , 31.  , 70.  , 16.  ,\n",
       "       30.  , 19.  , 31.  ,  4.  ,  6.  , 33.  , 23.  , 48.  ,  0.67,\n",
       "       28.  , 18.  , 34.  , 33.  ,   nan, 41.  , 20.  , 36.  , 16.  ,\n",
       "       51.  ,   nan, 30.5 ,   nan, 32.  , 24.  , 48.  , 57.  ,   nan,\n",
       "       54.  , 18.  ,   nan,  5.  ,   nan, 43.  , 13.  , 17.  , 29.  ,\n",
       "         nan, 25.  , 25.  , 18.  ,  8.  ,  1.  , 46.  ,   nan, 16.  ,\n",
       "         nan,   nan, 25.  , 39.  , 49.  , 31.  , 30.  , 30.  , 34.  ,\n",
       "       31.  , 11.  ,  0.42, 27.  , 31.  , 39.  , 18.  , 39.  , 33.  ,\n",
       "       26.  , 39.  , 35.  ,  6.  , 30.5 ,   nan, 23.  , 31.  , 43.  ,\n",
       "       10.  , 52.  , 27.  , 38.  , 27.  ,  2.  ,   nan,   nan,  1.  ,\n",
       "         nan, 62.  , 15.  ,  0.83,   nan, 23.  , 18.  , 39.  , 21.  ,\n",
       "         nan, 32.  ,   nan, 20.  , 16.  , 30.  , 34.5 , 17.  , 42.  ,\n",
       "         nan, 35.  , 28.  ,   nan,  4.  , 74.  ,  9.  , 16.  , 44.  ,\n",
       "       18.  , 45.  , 51.  , 24.  ,   nan, 41.  , 21.  , 48.  ,   nan,\n",
       "       24.  , 42.  , 27.  , 31.  ,   nan,  4.  , 26.  , 47.  , 33.  ,\n",
       "       47.  , 28.  , 15.  , 20.  , 19.  ,   nan, 56.  , 25.  , 33.  ,\n",
       "       22.  , 28.  , 25.  , 39.  , 27.  , 19.  ,   nan, 26.  , 32.  ])"
      ]
     },
     "execution_count": 9,
     "metadata": {},
     "output_type": "execute_result"
    }
   ],
   "source": [
    "df[\"Age\"].values"
   ]
  },
  {
   "cell_type": "code",
   "execution_count": null,
   "id": "b79af564",
   "metadata": {},
   "outputs": [],
   "source": []
  },
  {
   "cell_type": "code",
   "execution_count": null,
   "id": "573c4b79",
   "metadata": {},
   "outputs": [],
   "source": []
  }
 ],
 "metadata": {
  "kernelspec": {
   "display_name": "Python 3 (ipykernel)",
   "language": "python",
   "name": "python3"
  },
  "language_info": {
   "codemirror_mode": {
    "name": "ipython",
    "version": 3
   },
   "file_extension": ".py",
   "mimetype": "text/x-python",
   "name": "python",
   "nbconvert_exporter": "python",
   "pygments_lexer": "ipython3",
   "version": "3.9.9"
  }
 },
 "nbformat": 4,
 "nbformat_minor": 5
}
