{
 "cells": [
  {
   "attachments": {},
   "cell_type": "markdown",
   "id": "ff21c5ce",
   "metadata": {},
   "source": [
    "# Introduction to MetaSynth with the titanic dataset"
   ]
  },
  {
   "attachments": {},
   "cell_type": "markdown",
   "id": "529373c2",
   "metadata": {},
   "source": [
    "For this demonstration, we will use the raw Titanic dataset from pandas."
   ]
  },
  {
   "attachments": {},
   "cell_type": "markdown",
   "id": "388d5eb5",
   "metadata": {},
   "source": [
    "### Import relevant packages"
   ]
  },
  {
   "cell_type": "code",
   "execution_count": null,
   "id": "9ffe3c40",
   "metadata": {},
   "outputs": [],
   "source": [
    "import json\n",
    "from pathlib import Path\n",
    "\n",
    "import pandas as pd\n",
    "import wget\n",
    "\n",
    "from metasynth import MetaFrame"
   ]
  },
  {
   "attachments": {},
   "cell_type": "markdown",
   "id": "872c6e15",
   "metadata": {},
   "source": [
    "### Set the path to the dataset and download it"
   ]
  },
  {
   "cell_type": "code",
   "execution_count": null,
   "id": "46ba6b89",
   "metadata": {},
   "outputs": [],
   "source": [
    "titanic_fp = Path(\"titanic.csv\")\n",
    "if not titanic_fp.is_file():\n",
    "    wget.download(\"https://raw.githubusercontent.com/pandas-dev/pandas/main/doc/data/titanic.csv\")"
   ]
  },
  {
   "attachments": {},
   "cell_type": "markdown",
   "id": "8b0ddc0a",
   "metadata": {},
   "source": [
    "### Define pandas types for use during the creation of the DataFrame\n",
    "\n",
    "For categories, we need to explicitly tell pandas while reading the CSV file."
   ]
  },
  {
   "cell_type": "code",
   "execution_count": null,
   "id": "5e060a1d",
   "metadata": {},
   "outputs": [],
   "source": [
    "dtypes = {\n",
    "    \"Survived\": \"category\",\n",
    "    \"Pclass\": \"category\",\n",
    "    \"Name\": \"string\",\n",
    "    \"Sex\": \"category\",\n",
    "    \"SibSp\": \"category\",\n",
    "    \"Parch\": \"category\",\n",
    "    \"Ticket\": \"string\",\n",
    "    \"Cabin\": \"string\",\n",
    "    \"Embarked\": \"category\"\n",
    "}"
   ]
  },
  {
   "attachments": {},
   "cell_type": "markdown",
   "id": "fa7cd2ce",
   "metadata": {},
   "source": [
    "### Read CSV file"
   ]
  },
  {
   "cell_type": "code",
   "execution_count": null,
   "id": "c319763e",
   "metadata": {},
   "outputs": [],
   "source": [
    "df = pd.read_csv(titanic_fp, dtype=dtypes)"
   ]
  },
  {
   "attachments": {},
   "cell_type": "markdown",
   "id": "d7549f77",
   "metadata": {},
   "source": [
    "### Create MetaSynth dataset object\n",
    "\n",
    "This object contains a list of all the variables/columns. These variables are fitted to have a distribution that fits the best to the original data."
   ]
  },
  {
   "cell_type": "code",
   "execution_count": null,
   "id": "e02c6c59",
   "metadata": {},
   "outputs": [],
   "source": [
    "dataset = MetaFrame.fit_dataframe(df)"
   ]
  },
  {
   "attachments": {},
   "cell_type": "markdown",
   "id": "a30a428e",
   "metadata": {},
   "source": [
    "### Original DataFrame"
   ]
  },
  {
   "cell_type": "code",
   "execution_count": null,
   "id": "ef13c521",
   "metadata": {},
   "outputs": [],
   "source": [
    "df"
   ]
  },
  {
   "attachments": {},
   "cell_type": "markdown",
   "id": "bf1a4329",
   "metadata": {},
   "source": [
    "### Synthesized DataFrame"
   ]
  },
  {
   "cell_type": "code",
   "execution_count": null,
   "id": "8ef27824",
   "metadata": {},
   "outputs": [],
   "source": [
    "dataset.synthesize(1000)"
   ]
  },
  {
   "attachments": {},
   "cell_type": "markdown",
   "id": "c8653894",
   "metadata": {},
   "source": [
    "### Write the dataset to a meta-data file\n",
    "\n",
    "This file can be retrieved later to produce the synthetic data, so instead of sharing the synthetic data, one could share this file instead to provide the most amount of statistical information."
   ]
  },
  {
   "cell_type": "code",
   "execution_count": null,
   "id": "d6c88091",
   "metadata": {},
   "outputs": [],
   "source": [
    "dataset.to_json(\"test.json\", validate=True)"
   ]
  },
  {
   "attachments": {},
   "cell_type": "markdown",
   "id": "4182930b",
   "metadata": {},
   "source": [
    "### Print the contents of the dataset that gets loaded from a MetaSynth file."
   ]
  },
  {
   "cell_type": "code",
   "execution_count": null,
   "id": "22863b6b",
   "metadata": {},
   "outputs": [],
   "source": [
    "print(MetaFrame.from_json(\"test.json\"))"
   ]
  },
  {
   "attachments": {},
   "cell_type": "markdown",
   "id": "26e6ac69",
   "metadata": {},
   "source": [
    "### Raw contents of the variables"
   ]
  },
  {
   "cell_type": "code",
   "execution_count": null,
   "id": "d76c6882",
   "metadata": {
    "scrolled": false
   },
   "outputs": [],
   "source": [
    "dataset.to_dict()"
   ]
  }
 ],
 "metadata": {
  "kernelspec": {
   "display_name": "Python 3 (ipykernel)",
   "language": "python",
   "name": "python3"
  },
  "language_info": {
   "codemirror_mode": {
    "name": "ipython",
    "version": 3
   },
   "file_extension": ".py",
   "mimetype": "text/x-python",
   "name": "python",
   "nbconvert_exporter": "python",
   "pygments_lexer": "ipython3",
   "version": "3.11.1"
  }
 },
 "nbformat": 4,
 "nbformat_minor": 5
}
