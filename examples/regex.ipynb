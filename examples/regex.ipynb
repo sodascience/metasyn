{
 "cells": [
  {
   "cell_type": "code",
   "execution_count": 19,
   "id": "a5cdb461",
   "metadata": {},
   "outputs": [],
   "source": [
    "import re\n",
    "\n",
    "from faker import Faker\n",
    "import pandas as pd\n",
    "import numpy as np\n",
    "from metasynth.distribution.string import REDigit, REOptionChar, MetaRegex\n",
    "from metasynth.distribution.faker import FakerDistribution"
   ]
  },
  {
   "cell_type": "code",
   "execution_count": 2,
   "id": "b6653e4d",
   "metadata": {},
   "outputs": [],
   "source": [
    "fake = Faker()"
   ]
  },
  {
   "cell_type": "code",
   "execution_count": 3,
   "id": "ba3fb5b2",
   "metadata": {},
   "outputs": [],
   "source": [
    "ip_addr = pd.Series([fake.ipv4() for _ in range(1000)], name=\"IP\")\n",
    "city = pd.Series([fake.city() for _ in range(1000)], name=\"City\")\n"
   ]
  },
  {
   "cell_type": "code",
   "execution_count": 4,
   "id": "e29e0d57",
   "metadata": {},
   "outputs": [
    {
     "name": "stdout",
     "output_type": "stream",
     "text": [
      "\\d{1,3}[.]\\d{1,3}[.]\\d{1,3}[.]\\d{1,3}\n"
     ]
    },
    {
     "data": {
      "text/plain": [
       "['16.85.4.307',\n",
       " '3.3.13.651',\n",
       " '48.7.598.443',\n",
       " '07.448.756.353',\n",
       " '0.38.7.67',\n",
       " '2.88.1.18',\n",
       " '88.6.502.4',\n",
       " '42.47.36.38',\n",
       " '703.0.90.17',\n",
       " '632.9.0.0']"
      ]
     },
     "execution_count": 4,
     "metadata": {},
     "output_type": "execute_result"
    }
   ],
   "source": [
    "regex = MetaRegex.fit(ip_addr)\n",
    "print(regex.re)\n",
    "[regex.draw() for _ in range(10)]"
   ]
  },
  {
   "cell_type": "code",
   "execution_count": 5,
   "id": "7f24fb4e",
   "metadata": {},
   "outputs": [
    {
     "name": "stdout",
     "output_type": "stream",
     "text": [
      "[A-Z]{1,1}[a-z]{2,16}[ ][A-Z]{0,1}[a-z]{0,17}\n"
     ]
    },
    {
     "data": {
      "text/plain": [
       "'GqpkorlqhlxqvymxsZtwn'"
      ]
     },
     "execution_count": 5,
     "metadata": {},
     "output_type": "execute_result"
    }
   ],
   "source": [
    "regex = MetaRegex.fit(city)\n",
    "print(regex.re)\n",
    "regex.draw()"
   ]
  },
  {
   "cell_type": "code",
   "execution_count": 29,
   "id": "95277a08",
   "metadata": {},
   "outputs": [],
   "source": [
    "dist = FakerDistribution(\"city\", locale=\"nl_NL\")"
   ]
  },
  {
   "cell_type": "code",
   "execution_count": 30,
   "id": "ee71b537",
   "metadata": {},
   "outputs": [
    {
     "data": {
      "text/plain": [
       "{'name': 'FakerDistribution',\n",
       " 'parameters': {'faker_type': 'city', 'locale': 'nl_NL'}}"
      ]
     },
     "execution_count": 30,
     "metadata": {},
     "output_type": "execute_result"
    }
   ],
   "source": [
    "dist.to_dict()"
   ]
  },
  {
   "cell_type": "code",
   "execution_count": 35,
   "id": "3812d753",
   "metadata": {},
   "outputs": [
    {
     "data": {
      "text/plain": [
       "'Velserbroek'"
      ]
     },
     "execution_count": 35,
     "metadata": {},
     "output_type": "execute_result"
    }
   ],
   "source": [
    "dist.draw()"
   ]
  },
  {
   "cell_type": "code",
   "execution_count": null,
   "id": "cc610eaa",
   "metadata": {},
   "outputs": [],
   "source": []
  }
 ],
 "metadata": {
  "kernelspec": {
   "display_name": "Python 3 (ipykernel)",
   "language": "python",
   "name": "python3"
  },
  "language_info": {
   "codemirror_mode": {
    "name": "ipython",
    "version": 3
   },
   "file_extension": ".py",
   "mimetype": "text/x-python",
   "name": "python",
   "nbconvert_exporter": "python",
   "pygments_lexer": "ipython3",
   "version": "3.9.10"
  }
 },
 "nbformat": 4,
 "nbformat_minor": 5
}
