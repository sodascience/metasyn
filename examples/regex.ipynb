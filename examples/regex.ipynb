{
 "cells": [
  {
   "cell_type": "code",
   "execution_count": 1,
   "id": "a5cdb461",
   "metadata": {},
   "outputs": [],
   "source": [
    "import re\n",
    "\n",
    "from faker import Faker\n",
    "import pandas as pd\n",
    "import numpy as np\n",
    "from metasynth.distribution import RegexDistribution\n",
    "from metasynth.distribution import FakerDistribution"
   ]
  },
  {
   "cell_type": "code",
   "execution_count": 2,
   "id": "b6653e4d",
   "metadata": {},
   "outputs": [],
   "source": [
    "fake = Faker()"
   ]
  },
  {
   "cell_type": "code",
   "execution_count": 3,
   "id": "ba3fb5b2",
   "metadata": {},
   "outputs": [],
   "source": [
    "ip_addr = pd.Series([fake.ipv4() for _ in range(1000)], name=\"IP\")\n",
    "city = pd.Series([fake.city() for _ in range(1000)], name=\"City\")\n"
   ]
  },
  {
   "cell_type": "code",
   "execution_count": 4,
   "id": "e29e0d57",
   "metadata": {},
   "outputs": [
    {
     "name": "stdout",
     "output_type": "stream",
     "text": [
      "\\d{1,3}[.]\\d{1,3}[.]\\d{1,3}[.]\\d{1,3}\n"
     ]
    },
    {
     "data": {
      "text/plain": [
       "['587.120.83.82',\n",
       " '62.42.652.85',\n",
       " '20.202.92.0',\n",
       " '556.999.50.109',\n",
       " '89.55.9.65',\n",
       " '534.04.020.01',\n",
       " '92.2.59.379',\n",
       " '2.497.6.4',\n",
       " '9.7.657.534',\n",
       " '87.99.110.8']"
      ]
     },
     "execution_count": 4,
     "metadata": {},
     "output_type": "execute_result"
    }
   ],
   "source": [
    "regex = RegexDistribution.fit(ip_addr)\n",
    "print(regex)\n",
    "[regex.draw() for _ in range(10)]"
   ]
  },
  {
   "cell_type": "code",
   "execution_count": 5,
   "id": "7f24fb4e",
   "metadata": {},
   "outputs": [
    {
     "name": "stdout",
     "output_type": "stream",
     "text": [
      "[A-Z]{1,1}[o][a-z]{2,3}[ ][A-Z]{1,1}[a-z]{2,17}\n"
     ]
    },
    {
     "data": {
      "text/plain": [
       "'XImov'"
      ]
     },
     "execution_count": 5,
     "metadata": {},
     "output_type": "execute_result"
    }
   ],
   "source": [
    "regex = RegexDistribution.fit(city)\n",
    "print(regex)\n",
    "regex.draw()"
   ]
  },
  {
   "cell_type": "code",
   "execution_count": 6,
   "id": "95277a08",
   "metadata": {},
   "outputs": [],
   "source": [
    "dist = FakerDistribution(\"city\", locale=\"nl_NL\")"
   ]
  },
  {
   "cell_type": "code",
   "execution_count": 7,
   "id": "2a34e1fc",
   "metadata": {},
   "outputs": [],
   "source": [
    "from metasynth.distribution.util import get_dist_class"
   ]
  },
  {
   "cell_type": "code",
   "execution_count": 8,
   "id": "3562efe3",
   "metadata": {},
   "outputs": [],
   "source": [
    "dist_class, kwargs = get_dist_class(\"faker.city.nl_NL\")\n",
    "dist = dist_class(**kwargs)"
   ]
  },
  {
   "cell_type": "code",
   "execution_count": 9,
   "id": "ee71b537",
   "metadata": {},
   "outputs": [
    {
     "data": {
      "text/plain": [
       "{'name': 'FakerDistribution',\n",
       " 'parameters': {'faker_type': 'city', 'locale': 'nl_NL'}}"
      ]
     },
     "execution_count": 9,
     "metadata": {},
     "output_type": "execute_result"
    }
   ],
   "source": [
    "dist.to_dict()"
   ]
  },
  {
   "cell_type": "code",
   "execution_count": 10,
   "id": "3812d753",
   "metadata": {},
   "outputs": [],
   "source": [
    "series = pd.Series([dist.draw() for _ in range(10)])"
   ]
  },
  {
   "cell_type": "code",
   "execution_count": 11,
   "id": "86684b90",
   "metadata": {},
   "outputs": [],
   "source": [
    "from metasynth import MetaVar"
   ]
  },
  {
   "cell_type": "code",
   "execution_count": 12,
   "id": "a7596d3b",
   "metadata": {},
   "outputs": [],
   "source": [
    "var = MetaVar.detect(series)\n",
    "var.fit(dist=\"faker.city.nl_NL\")"
   ]
  },
  {
   "cell_type": "code",
   "execution_count": 13,
   "id": "36ba2032",
   "metadata": {},
   "outputs": [
    {
     "data": {
      "text/plain": [
       "0                 Gaanderen\n",
       "1     Sint Maartensvlotbrug\n",
       "2                Vroomshoop\n",
       "3               Geeuwenbrug\n",
       "4                  Berkhout\n",
       "              ...          \n",
       "95              Haarzuilens\n",
       "96           Raamsdonksveer\n",
       "97                Sexbierum\n",
       "98                 Luxwoude\n",
       "99               Longerhouw\n",
       "Length: 100, dtype: object"
      ]
     },
     "execution_count": 13,
     "metadata": {},
     "output_type": "execute_result"
    }
   ],
   "source": [
    "var.draw_series(100)"
   ]
  }
 ],
 "metadata": {
  "kernelspec": {
   "display_name": "Python 3 (ipykernel)",
   "language": "python",
   "name": "python3"
  },
  "language_info": {
   "codemirror_mode": {
    "name": "ipython",
    "version": 3
   },
   "file_extension": ".py",
   "mimetype": "text/x-python",
   "name": "python",
   "nbconvert_exporter": "python",
   "pygments_lexer": "ipython3",
   "version": "3.10.4"
  }
 },
 "nbformat": 4,
 "nbformat_minor": 5
}
