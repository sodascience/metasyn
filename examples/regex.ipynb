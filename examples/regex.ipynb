{
 "cells": [
  {
   "cell_type": "code",
   "execution_count": 1,
   "id": "a5cdb461",
   "metadata": {},
   "outputs": [],
   "source": [
    "import re\n",
    "\n",
    "from faker import Faker\n",
    "import pandas as pd\n",
    "import numpy as np\n",
    "from metasynth.distribution.string import RegexDistribution\n",
    "from metasynth.distribution.faker import FakerDistribution"
   ]
  },
  {
   "cell_type": "code",
   "execution_count": 2,
   "id": "b6653e4d",
   "metadata": {},
   "outputs": [],
   "source": [
    "fake = Faker()"
   ]
  },
  {
   "cell_type": "code",
   "execution_count": 3,
   "id": "ba3fb5b2",
   "metadata": {},
   "outputs": [],
   "source": [
    "ip_addr = pd.Series([fake.ipv4() for _ in range(1000)], name=\"IP\")\n",
    "city = pd.Series([fake.city() for _ in range(1000)], name=\"City\")\n"
   ]
  },
  {
   "cell_type": "code",
   "execution_count": 4,
   "id": "e29e0d57",
   "metadata": {},
   "outputs": [
    {
     "name": "stdout",
     "output_type": "stream",
     "text": [
      "\\d{1,3}[.]\\d{1,3}[.]\\d{1,3}[.]\\d{1,3}\n"
     ]
    },
    {
     "data": {
      "text/plain": [
       "['9.21.52.2',\n",
       " '293.65.6.797',\n",
       " '0.92.3.8',\n",
       " '7.75.41.4',\n",
       " '44.1.1.9',\n",
       " '281.6.137.767',\n",
       " '4.56.18.587',\n",
       " '16.5.080.0',\n",
       " '5.2.8.7',\n",
       " '389.807.350.99']"
      ]
     },
     "execution_count": 4,
     "metadata": {},
     "output_type": "execute_result"
    }
   ],
   "source": [
    "regex = RegexDistribution.fit(ip_addr)\n",
    "print(regex)\n",
    "[regex.draw() for _ in range(10)]"
   ]
  },
  {
   "cell_type": "code",
   "execution_count": 5,
   "id": "7f24fb4e",
   "metadata": {},
   "outputs": [
    {
     "name": "stdout",
     "output_type": "stream",
     "text": [
      "[A-Z]{1,1}[a-z]{2,17}[ ][A-Z]{0,1}[a-z]{0,17}\n"
     ]
    },
    {
     "data": {
      "text/plain": [
       "'Wkoubsghqjspaz ctpnp'"
      ]
     },
     "execution_count": 5,
     "metadata": {},
     "output_type": "execute_result"
    }
   ],
   "source": [
    "regex = RegexDistribution.fit(city)\n",
    "print(regex)\n",
    "regex.draw()"
   ]
  },
  {
   "cell_type": "code",
   "execution_count": 6,
   "id": "95277a08",
   "metadata": {},
   "outputs": [],
   "source": [
    "dist = FakerDistribution(\"city\", locale=\"nl_NL\")"
   ]
  },
  {
   "cell_type": "code",
   "execution_count": 7,
   "id": "2a34e1fc",
   "metadata": {},
   "outputs": [],
   "source": [
    "from metasynth.distribution.util import get_dist_class"
   ]
  },
  {
   "cell_type": "code",
   "execution_count": 8,
   "id": "3562efe3",
   "metadata": {},
   "outputs": [],
   "source": [
    "dist_class, kwargs = get_dist_class(\"faker.city.nl_NL\")\n",
    "dist = dist_class(**kwargs)"
   ]
  },
  {
   "cell_type": "code",
   "execution_count": 9,
   "id": "ee71b537",
   "metadata": {},
   "outputs": [
    {
     "data": {
      "text/plain": [
       "{'name': 'FakerDistribution',\n",
       " 'parameters': {'faker_type': 'city', 'locale': 'nl_NL'}}"
      ]
     },
     "execution_count": 9,
     "metadata": {},
     "output_type": "execute_result"
    }
   ],
   "source": [
    "dist.to_dict()"
   ]
  },
  {
   "cell_type": "code",
   "execution_count": 10,
   "id": "3812d753",
   "metadata": {},
   "outputs": [],
   "source": [
    "series = pd.Series([dist.draw() for _ in range(10)])"
   ]
  },
  {
   "cell_type": "code",
   "execution_count": 11,
   "id": "86684b90",
   "metadata": {},
   "outputs": [],
   "source": [
    "from metasynth import MetaVar"
   ]
  },
  {
   "cell_type": "code",
   "execution_count": 12,
   "id": "a7596d3b",
   "metadata": {},
   "outputs": [],
   "source": [
    "var = MetaVar.detect(series)\n",
    "var.fit(dist=\"faker.city.nl_NL\")"
   ]
  },
  {
   "cell_type": "code",
   "execution_count": 13,
   "id": "36ba2032",
   "metadata": {},
   "outputs": [
    {
     "data": {
      "text/plain": [
       "0            Indijk\n",
       "1     Oudebildtzijl\n",
       "2        Hengevelde\n",
       "3              Ulft\n",
       "4              Tzum\n",
       "          ...      \n",
       "95           Suwâld\n",
       "96       Rijkevoort\n",
       "97             Baak\n",
       "98      Sibrandahûs\n",
       "99        Enkhuizen\n",
       "Length: 100, dtype: object"
      ]
     },
     "execution_count": 13,
     "metadata": {},
     "output_type": "execute_result"
    }
   ],
   "source": [
    "var.draw_series(100)"
   ]
  }
 ],
 "metadata": {
  "kernelspec": {
   "display_name": "Python 3 (ipykernel)",
   "language": "python",
   "name": "python3"
  },
  "language_info": {
   "codemirror_mode": {
    "name": "ipython",
    "version": 3
   },
   "file_extension": ".py",
   "mimetype": "text/x-python",
   "name": "python",
   "nbconvert_exporter": "python",
   "pygments_lexer": "ipython3",
   "version": "3.9.9"
  }
 },
 "nbformat": 4,
 "nbformat_minor": 5
}
