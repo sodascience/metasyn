{
 "cells": [
  {
   "cell_type": "code",
   "execution_count": 6,
   "id": "a5cdb461",
   "metadata": {},
   "outputs": [],
   "source": [
    "import re\n",
    "\n",
    "from faker import Faker\n",
    "import pandas as pd\n",
    "import numpy as np\n",
    "from metasynth.distribution.string import RegexDistribution\n",
    "from metasynth.distribution.faker import FakerDistribution"
   ]
  },
  {
   "cell_type": "code",
   "execution_count": 8,
   "id": "b6653e4d",
   "metadata": {},
   "outputs": [],
   "source": [
    "fake = Faker()"
   ]
  },
  {
   "cell_type": "code",
   "execution_count": 9,
   "id": "ba3fb5b2",
   "metadata": {},
   "outputs": [],
   "source": [
    "ip_addr = pd.Series([fake.ipv4() for _ in range(1000)], name=\"IP\")\n",
    "city = pd.Series([fake.city() for _ in range(1000)], name=\"City\")\n"
   ]
  },
  {
   "cell_type": "code",
   "execution_count": 11,
   "id": "e29e0d57",
   "metadata": {},
   "outputs": [
    {
     "name": "stdout",
     "output_type": "stream",
     "text": [
      "\\d{1,3}[.]\\d{1,3}[.]\\d{1,3}[.]\\d{1,3}\n"
     ]
    },
    {
     "data": {
      "text/plain": [
       "['17.351.5.497',\n",
       " '08.1.34.9',\n",
       " '2.4.44.5',\n",
       " '2.80.5.3',\n",
       " '85.65.5.94',\n",
       " '4.12.156.90',\n",
       " '0.70.653.217',\n",
       " '13.7.5.26',\n",
       " '6.53.43.453',\n",
       " '29.83.659.903']"
      ]
     },
     "execution_count": 11,
     "metadata": {},
     "output_type": "execute_result"
    }
   ],
   "source": [
    "regex = RegexDistribution.fit(ip_addr)\n",
    "print(regex)\n",
    "[regex.draw() for _ in range(10)]"
   ]
  },
  {
   "cell_type": "code",
   "execution_count": 12,
   "id": "7f24fb4e",
   "metadata": {},
   "outputs": [
    {
     "name": "stdout",
     "output_type": "stream",
     "text": [
      "[A-Z]{1,1}[a-z]{2,17}[ ][A-Z]{0,1}[a-z]{0,17}\n"
     ]
    },
    {
     "data": {
      "text/plain": [
       "'Dwtnttcjabgpkoatai Qgolhniywxmixkut'"
      ]
     },
     "execution_count": 12,
     "metadata": {},
     "output_type": "execute_result"
    }
   ],
   "source": [
    "regex = RegexDistribution.fit(city)\n",
    "print(regex)\n",
    "regex.draw()"
   ]
  },
  {
   "cell_type": "code",
   "execution_count": 13,
   "id": "95277a08",
   "metadata": {},
   "outputs": [],
   "source": [
    "dist = FakerDistribution(\"city\", locale=\"nl_NL\")"
   ]
  },
  {
   "cell_type": "code",
   "execution_count": 14,
   "id": "ee71b537",
   "metadata": {},
   "outputs": [
    {
     "data": {
      "text/plain": [
       "{'name': 'FakerDistribution',\n",
       " 'parameters': {'faker_type': 'city', 'locale': 'nl_NL'}}"
      ]
     },
     "execution_count": 14,
     "metadata": {},
     "output_type": "execute_result"
    }
   ],
   "source": [
    "dist.to_dict()"
   ]
  },
  {
   "cell_type": "code",
   "execution_count": 16,
   "id": "3812d753",
   "metadata": {},
   "outputs": [
    {
     "data": {
      "text/plain": [
       "['Mirns',\n",
       " 'Hardinxveld-Giessendam',\n",
       " 'Grathem',\n",
       " 'Goingarijp',\n",
       " 'Sibrandahûs',\n",
       " 'Oosterwolde Gld',\n",
       " 'Amstenrade',\n",
       " 'Sprang-Capelle',\n",
       " 'Ouderkerk aan den IJssel',\n",
       " 'Schipluiden']"
      ]
     },
     "execution_count": 16,
     "metadata": {},
     "output_type": "execute_result"
    }
   ],
   "source": [
    "[dist.draw() for _ in range(10)]"
   ]
  }
 ],
 "metadata": {
  "kernelspec": {
   "display_name": "Python 3 (ipykernel)",
   "language": "python",
   "name": "python3"
  },
  "language_info": {
   "codemirror_mode": {
    "name": "ipython",
    "version": 3
   },
   "file_extension": ".py",
   "mimetype": "text/x-python",
   "name": "python",
   "nbconvert_exporter": "python",
   "pygments_lexer": "ipython3",
   "version": "3.9.9"
  }
 },
 "nbformat": 4,
 "nbformat_minor": 5
}
