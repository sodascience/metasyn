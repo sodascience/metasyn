{
 "cells": [
  {
   "cell_type": "code",
   "execution_count": 1,
   "id": "a5cdb461",
   "metadata": {},
   "outputs": [],
   "source": [
    "import re\n",
    "\n",
    "from faker import Faker\n",
    "import pandas as pd\n",
    "import numpy as np\n",
    "from metasynth.distribution.string import REDigit, REOptionChar, MetaRegex"
   ]
  },
  {
   "cell_type": "code",
   "execution_count": 2,
   "id": "b6653e4d",
   "metadata": {},
   "outputs": [],
   "source": [
    "fake = Faker()"
   ]
  },
  {
   "cell_type": "code",
   "execution_count": 3,
   "id": "ba3fb5b2",
   "metadata": {},
   "outputs": [],
   "source": [
    "ip_addr = pd.Series([fake.ipv4() for _ in range(1000)], name=\"IP\")\n",
    "city = pd.Series([fake.city() for _ in range(1000)], name=\"City\")\n"
   ]
  },
  {
   "cell_type": "code",
   "execution_count": 4,
   "id": "e29e0d57",
   "metadata": {},
   "outputs": [
    {
     "name": "stdout",
     "output_type": "stream",
     "text": [
      "\\d{1,3}[.]\\d{1,3}[.]\\d{1,3}[.]\\d{1,3}\n"
     ]
    },
    {
     "data": {
      "text/plain": [
       "['033.3.213.756',\n",
       " '45.07.9.31',\n",
       " '4.92.750.00',\n",
       " '628.5.57.038',\n",
       " '410.70.6.105',\n",
       " '711.73.726.9',\n",
       " '24.7.75.578',\n",
       " '919.97.5.28',\n",
       " '95.797.97.05',\n",
       " '41.28.5.3']"
      ]
     },
     "execution_count": 4,
     "metadata": {},
     "output_type": "execute_result"
    }
   ],
   "source": [
    "regex = MetaRegex.fit(ip_addr)\n",
    "print(regex.re)\n",
    "[regex.draw() for _ in range(10)]"
   ]
  },
  {
   "cell_type": "code",
   "execution_count": 5,
   "id": "7f24fb4e",
   "metadata": {},
   "outputs": [
    {
     "name": "stdout",
     "output_type": "stream",
     "text": [
      "[A-Z]{1,1}[a-z]{2,15}[ ][A-Z]{0,1}[a-z]{0,17}\n"
     ]
    },
    {
     "data": {
      "text/plain": [
       "'Nlsmiitrwlu Amdwldbvjd'"
      ]
     },
     "execution_count": 5,
     "metadata": {},
     "output_type": "execute_result"
    }
   ],
   "source": [
    "regex = MetaRegex.fit(city)\n",
    "print(regex.re)\n",
    "regex.draw()"
   ]
  },
  {
   "cell_type": "code",
   "execution_count": null,
   "id": "e8c2b1c8",
   "metadata": {},
   "outputs": [],
   "source": []
  }
 ],
 "metadata": {
  "kernelspec": {
   "display_name": "Python 3 (ipykernel)",
   "language": "python",
   "name": "python3"
  },
  "language_info": {
   "codemirror_mode": {
    "name": "ipython",
    "version": 3
   },
   "file_extension": ".py",
   "mimetype": "text/x-python",
   "name": "python",
   "nbconvert_exporter": "python",
   "pygments_lexer": "ipython3",
   "version": "3.9.9"
  }
 },
 "nbformat": 4,
 "nbformat_minor": 5
}
