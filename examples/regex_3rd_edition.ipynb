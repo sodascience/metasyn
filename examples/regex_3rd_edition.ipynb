{
 "cells": [
  {
   "cell_type": "code",
   "execution_count": 1,
   "id": "5b49214d",
   "metadata": {},
   "outputs": [],
   "source": [
    "from metasynth.distribution.regex2 import RegexNewDistribution\n",
    "from metasynth.distribution.string import RegexDistribution, DigitRegex, SingleRegex, AnyRegex, UppercaseRegex, find_best_gradient\n",
    "from metasynth.distribution.util import RegexOptimizer, get_energy\n",
    "import pandas as pd\n",
    "from metasynth import MetaDataset\n",
    "import wget\n",
    "from pathlib import Path\n",
    "import json\n",
    "import string\n",
    "import re\n",
    "import numpy as np"
   ]
  },
  {
   "cell_type": "code",
   "execution_count": 2,
   "id": "1f9d4793",
   "metadata": {},
   "outputs": [],
   "source": [
    "dtypes = {\n",
    "    \"Survived\": \"category\",\n",
    "    \"Pclass\": \"category\",\n",
    "    \"Name\": \"string\",\n",
    "    \"Sex\": \"category\",\n",
    "    \"SibSp\": \"category\",\n",
    "    \"Parch\": \"category\",\n",
    "    \"Ticket\": \"string\",\n",
    "    \"Cabin\": \"string\",\n",
    "    \"Embarked\": \"category\"\n",
    "}\n",
    "titanic_fp = Path(\"titanic.csv\")\n",
    "if not titanic_fp.is_file():\n",
    "    wget.download(\"https://raw.githubusercontent.com/pandas-dev/pandas/main/doc/data/titanic.csv\")\n",
    "df = pd.read_csv(titanic_fp, dtype=dtypes)"
   ]
  },
  {
   "cell_type": "code",
   "execution_count": 3,
   "id": "0fa6aa4e",
   "metadata": {},
   "outputs": [],
   "source": [
    "#regex = RegexDistribution.fit(df[\"Cabin\"])"
   ]
  },
  {
   "cell_type": "code",
   "execution_count": 4,
   "id": "eb1c96d4",
   "metadata": {},
   "outputs": [],
   "source": [
    "values = df[\"Cabin\"].dropna().values"
   ]
  },
  {
   "cell_type": "code",
   "execution_count": 5,
   "id": "2d324891",
   "metadata": {},
   "outputs": [],
   "source": [
    "def create_spans(values):\n",
    "    return DigitRegex.all_spans(values)"
   ]
  },
  {
   "cell_type": "code",
   "execution_count": 6,
   "id": "610cce72",
   "metadata": {},
   "outputs": [],
   "source": [
    "spans = DigitRegex.all_spans(values)"
   ]
  },
  {
   "cell_type": "code",
   "execution_count": 7,
   "id": "cd4579f5",
   "metadata": {},
   "outputs": [
    {
     "data": {
      "text/plain": [
       "50.23065693700087"
      ]
     },
     "execution_count": 7,
     "metadata": {},
     "output_type": "execute_result"
    }
   ],
   "source": [
    "optimizer = RegexOptimizer(values, spans)\n",
    "optimizer.energy"
   ]
  },
  {
   "cell_type": "code",
   "execution_count": 8,
   "id": "c520ec8d",
   "metadata": {},
   "outputs": [],
   "source": [
    "optimizer.set_span(0, 0)"
   ]
  },
  {
   "cell_type": "code",
   "execution_count": 9,
   "id": "f3989b00",
   "metadata": {},
   "outputs": [
    {
     "data": {
      "text/plain": [
       "50.23065693700087"
      ]
     },
     "execution_count": 9,
     "metadata": {},
     "output_type": "execute_result"
    }
   ],
   "source": [
    "optimizer.energy"
   ]
  },
  {
   "cell_type": "code",
   "execution_count": 10,
   "id": "e6929076",
   "metadata": {},
   "outputs": [],
   "source": [
    "optimizer.optimize()"
   ]
  },
  {
   "cell_type": "code",
   "execution_count": 11,
   "id": "f08ccb16",
   "metadata": {},
   "outputs": [
    {
     "data": {
      "text/plain": [
       "43.45227405390325"
      ]
     },
     "execution_count": 11,
     "metadata": {},
     "output_type": "execute_result"
    }
   ],
   "source": [
    "optimizer.energy"
   ]
  },
  {
   "cell_type": "code",
   "execution_count": 12,
   "id": "37a7d16f",
   "metadata": {},
   "outputs": [
    {
     "data": {
      "text/plain": [
       "99.38816110875968"
      ]
     },
     "execution_count": 12,
     "metadata": {},
     "output_type": "execute_result"
    }
   ],
   "source": [
    "get_energy(values)"
   ]
  },
  {
   "cell_type": "code",
   "execution_count": 13,
   "id": "29dc42fa",
   "metadata": {},
   "outputs": [],
   "source": [
    "from sklearn.feature_extraction.text import CountVectorizer"
   ]
  },
  {
   "cell_type": "code",
   "execution_count": null,
   "id": "1bc9da5e",
   "metadata": {},
   "outputs": [],
   "source": []
  },
  {
   "cell_type": "code",
   "execution_count": 14,
   "id": "904f3001",
   "metadata": {},
   "outputs": [],
   "source": [
    "def create_spans_char(values, *characters):\n",
    "    char_list = \"\".join(re.escape(c) for c in characters)\n",
    "    regex = re.compile(r\"[\" + char_list + r\"]\")\n",
    "    return [\n",
    "        [match.span() for match in regex.finditer(val)]\n",
    "        for val in values\n",
    "    ]\n"
   ]
  },
  {
   "cell_type": "code",
   "execution_count": 15,
   "id": "2d3a87d4",
   "metadata": {},
   "outputs": [],
   "source": [
    "def information_budget(n_char):\n",
    "    n_param = n_char + 1\n",
    "    return 2*n_param + 2*np.log(n_char)"
   ]
  },
  {
   "cell_type": "code",
   "execution_count": null,
   "id": "b7a7785e",
   "metadata": {},
   "outputs": [],
   "source": []
  },
  {
   "cell_type": "code",
   "execution_count": 16,
   "id": "c4979b50",
   "metadata": {},
   "outputs": [],
   "source": [
    "values = np.append(np.append([\"A\"]*100, [\"B\"]*100), [\"C\"])"
   ]
  },
  {
   "cell_type": "code",
   "execution_count": 17,
   "id": "8d1ed305",
   "metadata": {},
   "outputs": [],
   "source": [
    "values = df[\"Ticket\"].dropna().values"
   ]
  },
  {
   "cell_type": "code",
   "execution_count": 18,
   "id": "31e722b8",
   "metadata": {},
   "outputs": [
    {
     "name": "stdout",
     "output_type": "stream",
     "text": [
      "{'name': 'RegexDistribution', 'parameters': {'re_list': [('[S]', 0.06509539842873176), ('.[]{0,4}', 0.25813692480359146), ('[/]', 0.10998877665544332), ('.[]{0,6}', 0.6868686868686869), ('[ ]', 0.2536475869809203), ('[2]', 0.013468013468013467), ('[.]', 0.013468013468013467), ('[B]', 0.001122334455667789), ('[a]', 0.001122334455667789), ('[s]', 0.001122334455667789), ('[l]', 0.001122334455667789), ('[e]', 0.001122334455667789), ('[ ]', 0.014590347923681257), ('\\\\d{1,5}', 0.35802469135802467), ('[0]', 0.1537598204264871), ('\\\\d{1,4}', 0.18518518518518517)]}}\n"
     ]
    }
   ],
   "source": [
    "print(RegexDistribution.fit(df[\"Ticket\"]).to_dict())"
   ]
  },
  {
   "cell_type": "code",
   "execution_count": 19,
   "id": "982de766",
   "metadata": {},
   "outputs": [
    {
     "name": "stdout",
     "output_type": "stream",
     "text": [
      "7.308196071082557 \\d{1,7} 0.9955106621773289\n"
     ]
    }
   ],
   "source": [
    "new_values, gradient, regex = DigitRegex.fit(values)\n",
    "print(gradient, regex, regex.frac_used)"
   ]
  },
  {
   "cell_type": "code",
   "execution_count": 20,
   "id": "7fdb1842",
   "metadata": {},
   "outputs": [
    {
     "name": "stdout",
     "output_type": "stream",
     "text": [
      "4.887198678166282 [A-Z]{1,5} 0.25813692480359146\n"
     ]
    }
   ],
   "source": [
    "_, gradient, regex = UppercaseRegex.fit(values)\n",
    "print(gradient, regex, regex.frac_used)"
   ]
  },
  {
   "cell_type": "code",
   "execution_count": 26,
   "id": "0269895f",
   "metadata": {},
   "outputs": [
    {
     "name": "stdout",
     "output_type": "stream",
     "text": [
      "41.80575189220164 [ ] 0.2536475869809203\n"
     ]
    }
   ],
   "source": [
    "new_values, gradient, regex = SingleRegex.fit(values)\n",
    "print(gradient, regex, regex.frac_used)"
   ]
  },
  {
   "cell_type": "code",
   "execution_count": 33,
   "id": "4c171089",
   "metadata": {},
   "outputs": [
    {
     "data": {
      "text/plain": [
       "array([ 0,  1,  2, 13,  4,  5,  6,  7,  8,  9])"
      ]
     },
     "execution_count": 33,
     "metadata": {},
     "output_type": "execute_result"
    }
   ],
   "source": [
    "x = np.arange(10)\n",
    "x[3:2:-1] +=  10\n",
    "x"
   ]
  },
  {
   "cell_type": "code",
   "execution_count": 23,
   "id": "9544dfc9",
   "metadata": {},
   "outputs": [
    {
     "name": "stdout",
     "output_type": "stream",
     "text": [
      "<class 'metasynth.distribution.string.DigitRegex'>\n",
      "<class 'metasynth.distribution.string.AlphaNumericRegex'>\n"
     ]
    },
    {
     "ename": "IndexError",
     "evalue": "index 0 is out of bounds for axis 0 with size 0",
     "output_type": "error",
     "traceback": [
      "\u001b[0;31m---------------------------------------------------------------------------\u001b[0m",
      "\u001b[0;31mIndexError\u001b[0m                                Traceback (most recent call last)",
      "Input \u001b[0;32mIn [23]\u001b[0m, in \u001b[0;36m<cell line: 1>\u001b[0;34m()\u001b[0m\n\u001b[1;32m      1\u001b[0m \u001b[38;5;28;01mfor\u001b[39;00m regex_class \u001b[38;5;129;01min\u001b[39;00m RegexDistribution\u001b[38;5;241m.\u001b[39mall_regex_classes():\n\u001b[0;32m----> 2\u001b[0m     new_values, gradient, regex \u001b[38;5;241m=\u001b[39m \u001b[43mregex_class\u001b[49m\u001b[38;5;241;43m.\u001b[39;49m\u001b[43mfit\u001b[49m\u001b[43m(\u001b[49m\u001b[43mnew_values\u001b[49m\u001b[43m[\u001b[49m\u001b[38;5;241;43m1\u001b[39;49m\u001b[43m]\u001b[49m\u001b[43m)\u001b[49m\n\u001b[1;32m      3\u001b[0m     \u001b[38;5;28mprint\u001b[39m(regex_class)\n",
      "File \u001b[0;32m~/Documents/shared_work/synthetic/meta-synth/metasynth/distribution/string.py:343\u001b[0m, in \u001b[0;36mBaseRegexClass.fit\u001b[0;34m(cls, values)\u001b[0m\n\u001b[1;32m    340\u001b[0m \u001b[38;5;129m@classmethod\u001b[39m\n\u001b[1;32m    341\u001b[0m \u001b[38;5;28;01mdef\u001b[39;00m \u001b[38;5;21mfit\u001b[39m(\u001b[38;5;28mcls\u001b[39m, values: Sequence[\u001b[38;5;28mstr\u001b[39m]) \u001b[38;5;241m-\u001b[39m\u001b[38;5;241m>\u001b[39m Tuple[Tuple[Iterable[\u001b[38;5;28mstr\u001b[39m], Iterable[\u001b[38;5;28mstr\u001b[39m]], \u001b[38;5;28mfloat\u001b[39m, BaseRegexElement]:\n\u001b[1;32m    342\u001b[0m     spans \u001b[38;5;241m=\u001b[39m \u001b[38;5;28mcls\u001b[39m\u001b[38;5;241m.\u001b[39mall_spans(values)\n\u001b[0;32m--> 343\u001b[0m     optimizer \u001b[38;5;241m=\u001b[39m \u001b[43mRegexOptimizer\u001b[49m\u001b[43m(\u001b[49m\u001b[43mvalues\u001b[49m\u001b[43m,\u001b[49m\u001b[43m \u001b[49m\u001b[43mspans\u001b[49m\u001b[43m)\u001b[49m\n\u001b[1;32m    344\u001b[0m     optimizer\u001b[38;5;241m.\u001b[39moptimize()\n\u001b[1;32m    345\u001b[0m     min_digit, max_digit, frac_used \u001b[38;5;241m=\u001b[39m optimizer\u001b[38;5;241m.\u001b[39mstatistics\n",
      "File \u001b[0;32m~/Documents/shared_work/synthetic/meta-synth/metasynth/distribution/util.py:77\u001b[0m, in \u001b[0;36mRegexOptimizer.__init__\u001b[0;34m(self, values, spans)\u001b[0m\n\u001b[1;32m     75\u001b[0m \u001b[38;5;28;01melse\u001b[39;00m:\n\u001b[1;32m     76\u001b[0m     \u001b[38;5;28mself\u001b[39m\u001b[38;5;241m.\u001b[39mcur_solution[i_val] \u001b[38;5;241m=\u001b[39m np\u001b[38;5;241m.\u001b[39mrandom\u001b[38;5;241m.\u001b[39mchoice([SIDE_LEFT, SIDE_RIGHT])\n\u001b[0;32m---> 77\u001b[0m     \u001b[38;5;28mself\u001b[39m\u001b[38;5;241m.\u001b[39mlength_dist[\u001b[38;5;241m0\u001b[39m] \u001b[38;5;241m+\u001b[39m\u001b[38;5;241m=\u001b[39m \u001b[38;5;241m1\u001b[39m\n\u001b[1;32m     78\u001b[0m     \u001b[38;5;28;01mif\u001b[39;00m \u001b[38;5;28mself\u001b[39m\u001b[38;5;241m.\u001b[39mcur_solution[i_val] \u001b[38;5;241m==\u001b[39m SIDE_RIGHT:\n\u001b[1;32m     79\u001b[0m         \u001b[38;5;28mself\u001b[39m\u001b[38;5;241m.\u001b[39mlength_dist[\u001b[38;5;28mlen\u001b[39m(cur_val)] \u001b[38;5;241m+\u001b[39m\u001b[38;5;241m=\u001b[39m \u001b[38;5;241m1\u001b[39m\n",
      "\u001b[0;31mIndexError\u001b[0m: index 0 is out of bounds for axis 0 with size 0"
     ]
    }
   ],
   "source": [
    "for regex_class in RegexDistribution.all_regex_classes():\n",
    "    new_values, gradient, regex = regex_class.fit(new_values[1])\n",
    "    print(regex_class)"
   ]
  },
  {
   "cell_type": "code",
   "execution_count": null,
   "id": "4c9988d2",
   "metadata": {},
   "outputs": [],
   "source": [
    "for i in range(len(values)):\n",
    "    print(values[i], \"x\", new_values[0][i], \"x\", new_values[1][i])"
   ]
  },
  {
   "cell_type": "code",
   "execution_count": null,
   "id": "788ab7df",
   "metadata": {},
   "outputs": [],
   "source": [
    "values = ['', '', '', '', '', '', '', 'C25', '', '', '', '', '', '', '', 'G73', 'C25', '', '', 'D12', '', '', 'B60', '', '', 'E69', '', '', '', '', '', '', '', '', '', '', '', '', '', '', '', '', '', '', '', '', '', '', '', '', '', '', '', '', '', '', '', '', '', '', 'C26', '', 'B60', '', 'C26', '', '', '', 'B59', '', '', '', '', '', '', '', '', '', '', '', 'C25', '', '', '', '', '', '', '', 'B98', '', '', '', '', '', '', 'B98', 'C25', '', '', '', '', '', '', '', '', '', '', '', '', '', '', '', 'C26', '', '', '', '', '', '', '', '', '', '', '', '', '', '', '', '', '', '', '', '', '', '', '', '', '', '', '', '', '', '', '', '', '', '', '', '', '', '', 'B53', '', '', '', '', 'G63', 'C64', '', '', '', '', '', 'G73', '', '', '', '', '', '', '', 'B59', '', '', '', '', 'B98', '', '', '', '', '', '', 'B84', '', 'B98', '', '', '', '', '', '', '', '', '', '', '', '', '', '', 'B53', '', '', '']\n",
    "sorted_counts = [('B', 11), ('C', 8), ('2', 8), ('5', 8), ('6', 8), ('9', 7), ('3', 5), ('8', 5), ('G', 3), ('7', 2), ('0', 2), ('4', 2), ('D', 1), ('1', 1), ('E', 1)]\n",
    "\n",
    "print(find_best_gradient(values, sorted_counts))"
   ]
  },
  {
   "cell_type": "code",
   "execution_count": null,
   "id": "e02e2e4f",
   "metadata": {},
   "outputs": [],
   "source": [
    "vec = CountVectorizer(analyzer=\"char\", lowercase=False)\n",
    "counts = vec.fit_transform(values).getnnz(0)\n",
    "count_dict = {c: counts[i] for c, i in vec.vocabulary_.items()}\n",
    "sorted_counts = sorted(count_dict.items(), key=lambda x: x[1], reverse=True)"
   ]
  },
  {
   "cell_type": "code",
   "execution_count": null,
   "id": "e9293f6c",
   "metadata": {},
   "outputs": [],
   "source": [
    "def find_best_gradient(start_char=None):\n",
    "    if start_char is None:\n",
    "        start_char = []\n",
    "    start_energy = get_energy(values)\n",
    "    best_solution = (None, 0)\n",
    "    for character, char_count in sorted_counts:\n",
    "        spans = create_spans_char(values, character, *start_char)\n",
    "        optimizer = RegexOptimizer(values, spans)\n",
    "        optimizer.optimize()\n",
    "        energy_grad = (start_energy - optimizer.energy)/information_budget(1+len(start_char))\n",
    "        if energy_grad > best_solution[1]:\n",
    "            best_solution = (character, energy_grad)\n",
    "    return best_solution"
   ]
  },
  {
   "cell_type": "code",
   "execution_count": null,
   "id": "20a5cf3f",
   "metadata": {},
   "outputs": [],
   "source": [
    "first_solution = find_best_gradient()\n",
    "second_solution = find_best_gradient(first_solution[0])\n",
    "print(first_solution)\n",
    "print(second_solution)"
   ]
  },
  {
   "cell_type": "code",
   "execution_count": null,
   "id": "4ba832ae",
   "metadata": {},
   "outputs": [],
   "source": [
    "last_char = best_solution[0]\n",
    "start_energy = get_energy(values)\n",
    "best_solution = (None, 0)\n",
    "for character, char_count in sorted_counts:\n",
    "    if character == last_char:\n",
    "        continue\n",
    "    spans = create_spans_char(values, last_char, character)\n",
    "    optimizer = RegexOptimizer(values, spans)\n",
    "    optimizer.optimize()\n",
    "    print(optimizer.energy)\n",
    "    energy_grad = (start_energy - optimizer.energy)/information_budget(2)\n",
    "    if energy_grad > best_solution[1]:\n",
    "        best_solution = (character, energy_grad)\n",
    "    print(character, char_count, energy_grad)\n",
    "print(best_solution)"
   ]
  },
  {
   "cell_type": "code",
   "execution_count": null,
   "id": "001ee47e",
   "metadata": {},
   "outputs": [],
   "source": [
    "start_energy"
   ]
  },
  {
   "cell_type": "code",
   "execution_count": null,
   "id": "efa0ef13",
   "metadata": {},
   "outputs": [],
   "source": [
    "information_budget(2)"
   ]
  },
  {
   "cell_type": "code",
   "execution_count": null,
   "id": "0da7d28a",
   "metadata": {},
   "outputs": [],
   "source": [
    "information_budget(1)"
   ]
  },
  {
   "cell_type": "code",
   "execution_count": null,
   "id": "702f3004",
   "metadata": {},
   "outputs": [],
   "source": [
    "optimizer.energy"
   ]
  },
  {
   "cell_type": "code",
   "execution_count": null,
   "id": "76cb4561",
   "metadata": {},
   "outputs": [],
   "source": []
  }
 ],
 "metadata": {
  "kernelspec": {
   "display_name": "Python 3 (ipykernel)",
   "language": "python",
   "name": "python3"
  },
  "language_info": {
   "codemirror_mode": {
    "name": "ipython",
    "version": 3
   },
   "file_extension": ".py",
   "mimetype": "text/x-python",
   "name": "python",
   "nbconvert_exporter": "python",
   "pygments_lexer": "ipython3",
   "version": "3.10.4"
  }
 },
 "nbformat": 4,
 "nbformat_minor": 5
}
