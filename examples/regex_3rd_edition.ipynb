{
 "cells": [
  {
   "cell_type": "code",
   "execution_count": 1,
   "id": "5b49214d",
   "metadata": {},
   "outputs": [],
   "source": [
    "from metasynth.distribution.regex2 import RegexNewDistribution\n",
    "from metasynth.distribution.string import RegexDistribution\n",
    "from metasynth.distribution.util import RegexOptimizer\n",
    "import pandas as pd\n",
    "from metasynth import MetaDataset\n",
    "import wget\n",
    "from pathlib import Path\n",
    "import json\n",
    "import string\n",
    "import re\n",
    "import numpy as np"
   ]
  },
  {
   "cell_type": "code",
   "execution_count": 2,
   "id": "1f9d4793",
   "metadata": {},
   "outputs": [],
   "source": [
    "dtypes = {\n",
    "    \"Survived\": \"category\",\n",
    "    \"Pclass\": \"category\",\n",
    "    \"Name\": \"string\",\n",
    "    \"Sex\": \"category\",\n",
    "    \"SibSp\": \"category\",\n",
    "    \"Parch\": \"category\",\n",
    "    \"Ticket\": \"string\",\n",
    "    \"Cabin\": \"string\",\n",
    "    \"Embarked\": \"category\"\n",
    "}\n",
    "titanic_fp = Path(\"titanic.csv\")\n",
    "if not titanic_fp.is_file():\n",
    "    wget.download(\"https://raw.githubusercontent.com/pandas-dev/pandas/main/doc/data/titanic.csv\")\n",
    "df = pd.read_csv(titanic_fp, dtype=dtypes)"
   ]
  },
  {
   "cell_type": "code",
   "execution_count": 3,
   "id": "0fa6aa4e",
   "metadata": {},
   "outputs": [],
   "source": [
    "regex = RegexDistribution.fit(df[\"Ticket\"])"
   ]
  },
  {
   "cell_type": "code",
   "execution_count": 4,
   "id": "c202ffa8",
   "metadata": {},
   "outputs": [],
   "source": [
    "match_regex = r\"\\d+\""
   ]
  },
  {
   "cell_type": "code",
   "execution_count": 5,
   "id": "eb1c96d4",
   "metadata": {},
   "outputs": [],
   "source": [
    "rx = re.compile(match_regex)"
   ]
  },
  {
   "cell_type": "code",
   "execution_count": 6,
   "id": "098f3239",
   "metadata": {},
   "outputs": [
    {
     "name": "stdout",
     "output_type": "stream",
     "text": [
      "11.090354888959125\n",
      "A/5 21171\n",
      "[(2, 3), (4, 9)] 0\n",
      "4 0 2 6\n",
      "-4 1\n",
      "0 17\n",
      "-2 0\n",
      "6 0\n",
      "2.7725887222397807\n",
      "----------------\n",
      "\n",
      "\n",
      "PC 17599\n",
      "[(3, 8)] 0\n",
      "----------------\n",
      "\n",
      "\n",
      "STON/O2. 3101282\n",
      "[(6, 7), (9, 16)] 0\n",
      "9 0 6 9\n",
      "-9 1\n",
      "0 17\n",
      "-6 0\n",
      "9 0\n",
      "4.1588830833596715\n",
      "----------------\n",
      "\n",
      "\n",
      "113803\n",
      "[(0, 6)] 0\n",
      "----------------\n",
      "\n",
      "\n",
      "373450\n",
      "[(0, 6)] 0\n",
      "----------------\n",
      "\n",
      "\n",
      "330877\n",
      "[(0, 6)] 0\n",
      "----------------\n",
      "\n",
      "\n",
      "17463\n",
      "[(0, 5)] 0\n",
      "----------------\n",
      "\n",
      "\n",
      "349909\n",
      "[(0, 6)] 0\n",
      "----------------\n",
      "\n",
      "\n",
      "347742\n",
      "[(0, 6)] 0\n",
      "----------------\n",
      "\n",
      "\n",
      "237736\n",
      "[(0, 6)] 0\n",
      "----------------\n",
      "\n",
      "\n"
     ]
    }
   ],
   "source": [
    "spans = []\n",
    "cur_solution = []\n",
    "cur_len = np.zeros(100, dtype=int)\n",
    "values = df[\"Ticket\"].dropna().values[:10]\n",
    "for val in values:\n",
    "    spans.append([match.span() for match in rx.finditer(val)])\n",
    "    if len(spans) > 0:\n",
    "        i_cur = np.argmax([x[1]-x[0] for x in spans[-1]])\n",
    "        cur_span = spans[-1][i_cur]\n",
    "        cur_solution.append(i_cur)\n",
    "        cur_len[-(cur_span[0])] += 1\n",
    "        cur_len[len(val)-cur_span[1]] += 1\n",
    "    else:\n",
    "        cur_solution.append(-1)\n",
    "        cur_len[0] += 1\n",
    "        cur_len[len(val)] += 1\n",
    "    \n",
    "def energy(cur_len):\n",
    "    left_energy = np.arange(0, 50)*np.log(cur_len[:50]+1)\n",
    "    right_energy = np.arange(50, 0, -1)*np.log(cur_len[-50:]+1)\n",
    "    return np.sum(left_energy + right_energy)\n",
    "print(energy(cur_len))\n",
    "\n",
    "def energy_rm(length):\n",
    "    n_i = cur_len[length]\n",
    "    print(length, n_i)\n",
    "    return np.abs(length)*np.log(n_i/(n_i+1))\n",
    "\n",
    "def energy_add(length):\n",
    "    n_i = cur_len[length]\n",
    "    print(length, n_i)\n",
    "    return np.abs(length)*np.log((n_i+2)/(n_i+1))\n",
    "\n",
    "\n",
    "n_change = 0\n",
    "for i, val in enumerate(values):\n",
    "    print(val)\n",
    "    i_start, i_temp = spans[i][cur_solution[i]]\n",
    "    i_end = len(val)-i_temp\n",
    "    print(spans[i], i_end)\n",
    "    for j, _ in enumerate(spans[i]):\n",
    "        if j == cur_solution[i]:\n",
    "            continue\n",
    "        j_start, j_temp = spans[i][j]\n",
    "        j_end = len(val)-j_temp\n",
    "        print(i_start, i_end, j_start, j_end)\n",
    "        delta_E = energy_rm(-i_start) + energy_rm(i_end) + energy_add(-j_start) + energy_add(j_end)\n",
    "        print(delta_E)\n",
    "    print(\"----------------\\n\\n\")\n"
   ]
  },
  {
   "cell_type": "code",
   "execution_count": 8,
   "id": "cd4579f5",
   "metadata": {},
   "outputs": [
    {
     "data": {
      "text/plain": [
       "array([1, 0, 1, 0, 0, 0, 0, 0, 0, 0])"
      ]
     },
     "execution_count": 8,
     "metadata": {},
     "output_type": "execute_result"
    }
   ],
   "source": [
    "optimizer = RegexOptimizer(values, spans)\n",
    "optimizer.cur_solution"
   ]
  },
  {
   "cell_type": "code",
   "execution_count": 10,
   "id": "c520ec8d",
   "metadata": {},
   "outputs": [],
   "source": [
    "optimizer.set_span(0, 0)"
   ]
  },
  {
   "cell_type": "code",
   "execution_count": 11,
   "id": "f3989b00",
   "metadata": {},
   "outputs": [
    {
     "data": {
      "text/plain": [
       "13.862943611198906"
      ]
     },
     "execution_count": 11,
     "metadata": {},
     "output_type": "execute_result"
    }
   ],
   "source": [
    "optimizer.energy"
   ]
  },
  {
   "cell_type": "code",
   "execution_count": 12,
   "id": "e6929076",
   "metadata": {},
   "outputs": [],
   "source": [
    "optimizer.optimize()"
   ]
  },
  {
   "cell_type": "code",
   "execution_count": 13,
   "id": "f08ccb16",
   "metadata": {},
   "outputs": [
    {
     "data": {
      "text/plain": [
       "11.090354888959125"
      ]
     },
     "execution_count": 13,
     "metadata": {},
     "output_type": "execute_result"
    }
   ],
   "source": [
    "optimizer.energy"
   ]
  },
  {
   "cell_type": "code",
   "execution_count": 15,
   "id": "e29191bb",
   "metadata": {},
   "outputs": [
    {
     "data": {
      "text/plain": [
       "array([1, 0, 1, 0, 0, 0, 0, 0, 0, 0])"
      ]
     },
     "execution_count": 15,
     "metadata": {},
     "output_type": "execute_result"
    }
   ],
   "source": [
    "optimizer.cur_solution"
   ]
  },
  {
   "cell_type": "code",
   "execution_count": null,
   "id": "37a7d16f",
   "metadata": {},
   "outputs": [],
   "source": []
  }
 ],
 "metadata": {
  "kernelspec": {
   "display_name": "Python 3 (ipykernel)",
   "language": "python",
   "name": "python3"
  },
  "language_info": {
   "codemirror_mode": {
    "name": "ipython",
    "version": 3
   },
   "file_extension": ".py",
   "mimetype": "text/x-python",
   "name": "python",
   "nbconvert_exporter": "python",
   "pygments_lexer": "ipython3",
   "version": "3.10.4"
  }
 },
 "nbformat": 4,
 "nbformat_minor": 5
}
