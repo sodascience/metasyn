{
 "cells": [
  {
   "cell_type": "code",
   "execution_count": 1,
   "id": "6dac8f0d",
   "metadata": {},
   "outputs": [],
   "source": [
    "import pandas as pd\n",
    "\n",
    "from metasynth.distribution.datetime import UniformDateTimeDistribution, UniformTimeDistribution, UniformDateDistribution"
   ]
  },
  {
   "cell_type": "code",
   "execution_count": 2,
   "id": "b1021f69",
   "metadata": {},
   "outputs": [],
   "source": [
    "df = pd.read_csv(\"titanic.csv\")"
   ]
  },
  {
   "cell_type": "code",
   "execution_count": 3,
   "id": "4fc01c21",
   "metadata": {},
   "outputs": [],
   "source": [
    "# Convert Age to a nullable integer.\n",
    "df[\"Age\"] = df[\"Age\"].round().astype(\"Int64\")"
   ]
  },
  {
   "cell_type": "code",
   "execution_count": 4,
   "id": "7645cf93",
   "metadata": {},
   "outputs": [],
   "source": [
    "# Add a date column.\n",
    "\n",
    "date_dist = UniformDateDistribution._example_distribution()\n",
    "df[\"Birthday\"] = [date_dist.draw() for _ in range(len(df))]"
   ]
  },
  {
   "cell_type": "code",
   "execution_count": 5,
   "id": "298eb5bc",
   "metadata": {
    "scrolled": true
   },
   "outputs": [],
   "source": [
    "# Add a time column.\n",
    "\n",
    "time_dist = UniformTimeDistribution._example_distribution()\n",
    "df[\"Board time\"] = [time_dist.draw() for _ in range(len(df))]"
   ]
  },
  {
   "cell_type": "code",
   "execution_count": 6,
   "id": "bd9c5d73",
   "metadata": {},
   "outputs": [],
   "source": [
    "# Add a datetime column\n",
    "\n",
    "time_dist = UniformDateTimeDistribution._example_distribution()\n",
    "df[\"Married since\"] = [time_dist.draw() for _ in range(len(df))]"
   ]
  },
  {
   "cell_type": "code",
   "execution_count": 7,
   "id": "2607f753",
   "metadata": {},
   "outputs": [],
   "source": [
    "# Remove some columns for brevity and write to a file.\n",
    "\n",
    "df = df.drop([\"SibSp\", \"Pclass\", \"Ticket\", \"Survived\"], axis=1)\n",
    "df.to_csv(\"demonstration.csv\", index=False)"
   ]
  }
 ],
 "metadata": {
  "kernelspec": {
   "display_name": "Python 3 (ipykernel)",
   "language": "python",
   "name": "python3"
  },
  "language_info": {
   "codemirror_mode": {
    "name": "ipython",
    "version": 3
   },
   "file_extension": ".py",
   "mimetype": "text/x-python",
   "name": "python",
   "nbconvert_exporter": "python",
   "pygments_lexer": "ipython3",
   "version": "3.10.4"
  }
 },
 "nbformat": 4,
 "nbformat_minor": 5
}
