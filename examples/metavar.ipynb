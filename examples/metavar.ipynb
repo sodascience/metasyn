{
 "cells": [
  {
   "cell_type": "code",
   "execution_count": null,
   "id": "fb2f583d",
   "metadata": {},
   "outputs": [],
   "source": [
    "from metasynth.var import MetaVar\n",
    "import numpy as np\n",
    "import pandas as pd"
   ]
  },
  {
   "cell_type": "code",
   "execution_count": null,
   "id": "1ba4922b",
   "metadata": {},
   "outputs": [],
   "source": [
    "df = pd.read_csv(\"pennycook_1.csv\", encoding=\"iso-8859-1\")\n",
    "df_str = pd.read_csv(\"pennycook_1.csv\", encoding=\"iso-8859-1\", dtype=object)"
   ]
  },
  {
   "cell_type": "code",
   "execution_count": null,
   "id": "8d1b431c",
   "metadata": {
    "scrolled": false
   },
   "outputs": [],
   "source": [
    "for col in list(df):\n",
    "    print(MetaVar.detect(df[col], df_str[col]), df[col].iloc[0:10].values)"
   ]
  },
  {
   "cell_type": "code",
   "execution_count": null,
   "id": "111cd179",
   "metadata": {},
   "outputs": [],
   "source": []
  }
 ],
 "metadata": {
  "kernelspec": {
   "display_name": "Python 3 (ipykernel)",
   "language": "python",
   "name": "python3"
  },
  "language_info": {
   "codemirror_mode": {
    "name": "ipython",
    "version": 3
   },
   "file_extension": ".py",
   "mimetype": "text/x-python",
   "name": "python",
   "nbconvert_exporter": "python",
   "pygments_lexer": "ipython3",
   "version": "3.9.9"
  }
 },
 "nbformat": 4,
 "nbformat_minor": 5
}
