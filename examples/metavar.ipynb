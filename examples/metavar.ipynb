{
 "cells": [
  {
   "cell_type": "code",
   "execution_count": null,
   "id": "6deb8253",
   "metadata": {},
   "outputs": [],
   "source": [
    "from metasynth.var import MetaVar, FloatVar, CategoricalVar, StringVar, IntVar\n",
    "import numpy as np\n",
    "import pandas as pd"
   ]
  },
  {
   "cell_type": "code",
   "execution_count": null,
   "id": "e57c1dbc",
   "metadata": {},
   "outputs": [],
   "source": [
    "df = pd.read_csv(\"pennycook_1.csv\", encoding=\"iso-8859-1\")\n",
    "df_str = pd.read_csv(\"pennycook_1.csv\", encoding=\"iso-8859-1\", dtype=object)"
   ]
  },
  {
   "cell_type": "code",
   "execution_count": null,
   "id": "0c433daa",
   "metadata": {
    "scrolled": false
   },
   "outputs": [],
   "source": [
    "for col in list(df):\n",
    "    _, var = MetaVar.detect(df[col], df_str[col])\n",
    "    dist = var.fit(df[col])\n",
    "    print(col, var.fit(df[col]), dist.draw())"
   ]
  }
 ],
 "metadata": {
  "kernelspec": {
   "display_name": "Python 3 (ipykernel)",
   "language": "python",
   "name": "python3"
  },
  "language_info": {
   "codemirror_mode": {
    "name": "ipython",
    "version": 3
   },
   "file_extension": ".py",
   "mimetype": "text/x-python",
   "name": "python",
   "nbconvert_exporter": "python",
   "pygments_lexer": "ipython3",
   "version": "3.9.9"
  }
 },
 "nbformat": 4,
 "nbformat_minor": 5
}
