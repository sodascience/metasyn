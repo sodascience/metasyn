{
 "cells": [
  {
   "cell_type": "markdown",
   "id": "f5c6597b",
   "metadata": {},
   "source": [
    "# Advanced Tutorial on MetaSynth\n",
    "\n",
    "In this tutorial, we will be creating a `generative metadata format` (`gmf`) metadata file from a dataset using MetaSynth. We are going to walk through some of the advanced abilities of MetaSynth, such as handling dates, setting distributions and ensuring uniqueness in columns. This example workflow starts from a `.csv` file as input, but it easily adapted to other formats. \n",
    "\n",
    "You can run this notebook by checking out the MetaSynth repo and installing metasynth with `pip install metasynth`"
   ]
  },
  {
   "cell_type": "code",
   "execution_count": 1,
   "id": "e4fae59f",
   "metadata": {},
   "outputs": [],
   "source": [
    "# %pip install metasynth"
   ]
  },
  {
   "cell_type": "code",
   "execution_count": 2,
   "id": "2442cb34",
   "metadata": {},
   "outputs": [],
   "source": [
    "# import required packages\n",
    "import datetime as dt\n",
    "import polars as pl\n",
    "from metasynth import MetaDataset\n",
    "from utils import get_demonstration_fp"
   ]
  },
  {
   "cell_type": "markdown",
   "id": "04466c26",
   "metadata": {},
   "source": [
    "## Step 1: Transforming your data into a pandas DataFrame\n",
    "\n",
    "The first step in creating the metadata is reading and converting your dataset to a pandas DataFrame. "
   ]
  },
  {
   "cell_type": "code",
   "execution_count": 3,
   "id": "3c2a44b7",
   "metadata": {},
   "outputs": [
    {
     "data": {
      "text/html": [
       "<div><style>\n",
       ".dataframe > thead > tr > th,\n",
       ".dataframe > tbody > tr > td {\n",
       "  text-align: right;\n",
       "}\n",
       "</style>\n",
       "<small>shape: (5, 12)</small><table border=\"1\" class=\"dataframe\"><thead><tr><th>PassengerId</th><th>Name</th><th>Sex</th><th>Age</th><th>Parch</th><th>Fare</th><th>Cabin</th><th>Embarked</th><th>Birthday</th><th>Board time</th><th>Married since</th><th>all_NA</th></tr><tr><td>i64</td><td>str</td><td>cat</td><td>i64</td><td>i64</td><td>f64</td><td>str</td><td>cat</td><td>date</td><td>time</td><td>datetime[μs]</td><td>str</td></tr></thead><tbody><tr><td>1</td><td>&quot;Braund, Mr. Ow…</td><td>&quot;male&quot;</td><td>22</td><td>0</td><td>7.25</td><td>null</td><td>&quot;S&quot;</td><td>1937-10-28</td><td>15:53:04</td><td>2022-08-05 04:43:34</td><td>null</td></tr><tr><td>2</td><td>&quot;Cumings, Mrs. …</td><td>&quot;female&quot;</td><td>38</td><td>0</td><td>71.2833</td><td>&quot;C85&quot;</td><td>&quot;C&quot;</td><td>null</td><td>12:26:00</td><td>2022-08-07 01:56:33</td><td>null</td></tr><tr><td>3</td><td>&quot;Heikkinen, Mis…</td><td>&quot;female&quot;</td><td>26</td><td>0</td><td>7.925</td><td>null</td><td>&quot;S&quot;</td><td>1931-09-24</td><td>16:08:25</td><td>2022-08-04 20:27:37</td><td>null</td></tr><tr><td>4</td><td>&quot;Futrelle, Mrs.…</td><td>&quot;female&quot;</td><td>35</td><td>0</td><td>53.1</td><td>&quot;C123&quot;</td><td>&quot;S&quot;</td><td>1936-11-30</td><td>null</td><td>2022-08-07 07:05:55</td><td>null</td></tr><tr><td>5</td><td>&quot;Allen, Mr. Wil…</td><td>&quot;male&quot;</td><td>35</td><td>0</td><td>8.05</td><td>null</td><td>&quot;S&quot;</td><td>1918-11-07</td><td>10:59:08</td><td>2022-08-02 15:13:34</td><td>null</td></tr></tbody></table></div>"
      ],
      "text/plain": [
       "shape: (5, 12)\n",
       "┌─────────────┬───────────────┬────────┬─────┬───┬────────────┬────────────┬──────────────┬────────┐\n",
       "│ PassengerId ┆ Name          ┆ Sex    ┆ Age ┆ … ┆ Birthday   ┆ Board time ┆ Married      ┆ all_NA │\n",
       "│ ---         ┆ ---           ┆ ---    ┆ --- ┆   ┆ ---        ┆ ---        ┆ since        ┆ ---    │\n",
       "│ i64         ┆ str           ┆ cat    ┆ i64 ┆   ┆ date       ┆ time       ┆ ---          ┆ str    │\n",
       "│             ┆               ┆        ┆     ┆   ┆            ┆            ┆ datetime[μs] ┆        │\n",
       "╞═════════════╪═══════════════╪════════╪═════╪═══╪════════════╪════════════╪══════════════╪════════╡\n",
       "│ 1           ┆ Braund, Mr.   ┆ male   ┆ 22  ┆ … ┆ 1937-10-28 ┆ 15:53:04   ┆ 2022-08-05   ┆ null   │\n",
       "│             ┆ Owen Harris   ┆        ┆     ┆   ┆            ┆            ┆ 04:43:34     ┆        │\n",
       "│ 2           ┆ Cumings, Mrs. ┆ female ┆ 38  ┆ … ┆ null       ┆ 12:26:00   ┆ 2022-08-07   ┆ null   │\n",
       "│             ┆ John Bradley  ┆        ┆     ┆   ┆            ┆            ┆ 01:56:33     ┆        │\n",
       "│             ┆ (Flor…        ┆        ┆     ┆   ┆            ┆            ┆              ┆        │\n",
       "│ 3           ┆ Heikkinen,    ┆ female ┆ 26  ┆ … ┆ 1931-09-24 ┆ 16:08:25   ┆ 2022-08-04   ┆ null   │\n",
       "│             ┆ Miss. Laina   ┆        ┆     ┆   ┆            ┆            ┆ 20:27:37     ┆        │\n",
       "│ 4           ┆ Futrelle,     ┆ female ┆ 35  ┆ … ┆ 1936-11-30 ┆ null       ┆ 2022-08-07   ┆ null   │\n",
       "│             ┆ Mrs. Jacques  ┆        ┆     ┆   ┆            ┆            ┆ 07:05:55     ┆        │\n",
       "│             ┆ Heath (Li…    ┆        ┆     ┆   ┆            ┆            ┆              ┆        │\n",
       "│ 5           ┆ Allen, Mr.    ┆ male   ┆ 35  ┆ … ┆ 1918-11-07 ┆ 10:59:08   ┆ 2022-08-02   ┆ null   │\n",
       "│             ┆ William Henry ┆        ┆     ┆   ┆            ┆            ┆ 15:13:34     ┆        │\n",
       "└─────────────┴───────────────┴────────┴─────┴───┴────────────┴────────────┴──────────────┴────────┘"
      ]
     },
     "execution_count": 3,
     "metadata": {},
     "output_type": "execute_result"
    }
   ],
   "source": [
    "demonstration_fp = get_demonstration_fp()\n",
    "df = pl.read_csv(demonstration_fp, try_parse_dates=True, dtypes={\n",
    "    \"Sex\": pl.Categorical,\n",
    "    \"Embarked\": pl.Categorical})\n",
    "df.head()"
   ]
  },
  {
   "cell_type": "markdown",
   "id": "1e2481d4",
   "metadata": {},
   "source": [
    "Now, let's check the data types of our DataFrame:"
   ]
  },
  {
   "cell_type": "code",
   "execution_count": 4,
   "id": "0a5a1aa2",
   "metadata": {},
   "outputs": [
    {
     "data": {
      "text/plain": [
       "{'PassengerId': Int64,\n",
       " 'Name': Utf8,\n",
       " 'Sex': Categorical,\n",
       " 'Age': Int64,\n",
       " 'Parch': Int64,\n",
       " 'Fare': Float64,\n",
       " 'Cabin': Utf8,\n",
       " 'Embarked': Categorical,\n",
       " 'Birthday': Date,\n",
       " 'Board time': Time,\n",
       " 'Married since': Datetime(time_unit='us', time_zone=None),\n",
       " 'all_NA': Utf8}"
      ]
     },
     "execution_count": 4,
     "metadata": {},
     "output_type": "execute_result"
    }
   ],
   "source": [
    "dict(zip(df.columns, df.dtypes))"
   ]
  },
  {
   "cell_type": "markdown",
   "id": "2ebde17e",
   "metadata": {},
   "source": [
    "We see that most variables are now nicely specified as strings, categories and ints where necessary. For the dates and times we just created, we see the dtype `object`. This is the \"catch-all\" dtype for pandas. But don't worry, these columns have the correct type and MetaSynth will deal with it correctly:"
   ]
  },
  {
   "cell_type": "code",
   "execution_count": 5,
   "id": "b4e99b45",
   "metadata": {},
   "outputs": [
    {
     "data": {
      "text/plain": [
       "datetime.date(1937, 10, 28)"
      ]
     },
     "execution_count": 5,
     "metadata": {},
     "output_type": "execute_result"
    }
   ],
   "source": [
    "df[\"Birthday\"][0]"
   ]
  },
  {
   "cell_type": "markdown",
   "id": "13f849ed",
   "metadata": {},
   "source": [
    "## Step 2: Creating a MetaDataset object from a DataFrame\n",
    "\n",
    "Now a lot of work has already gone into creating a properly formatted dataframe. This work pays off at this stage: let's convert the DataFrame to a meta_dataset structure with the default options. Note: this takes a little bit of time!"
   ]
  },
  {
   "cell_type": "code",
   "execution_count": 6,
   "id": "e0c58473",
   "metadata": {},
   "outputs": [
    {
     "name": "stderr",
     "output_type": "stream",
     "text": [
      "/Users/qubix/Documents/work/metasynth/metasynth/metasynth/provider.py:327: UserWarning: \n",
      "Variable PassengerId seems unique, but not set to be unique.\n",
      "Set the variable to be either unique or not unique to remove this warning.\n",
      "\n",
      "  warnings.warn(f\"\\nVariable {series.name} seems unique, but not set to be unique.\\n\"\n"
     ]
    }
   ],
   "source": [
    "meta_dataset = MetaDataset.from_dataframe(df)"
   ]
  },
  {
   "cell_type": "markdown",
   "id": "1e8a772d",
   "metadata": {},
   "source": [
    "Then, we can show the metadata as a dictionary:"
   ]
  },
  {
   "cell_type": "code",
   "execution_count": 7,
   "id": "abab1b78",
   "metadata": {},
   "outputs": [
    {
     "name": "stdout",
     "output_type": "stream",
     "text": [
      "# Rows: 891\n",
      "# Columns: 12\n",
      "\n",
      "{'name': 'PassengerId', 'description': None, 'type': 'discrete', 'dtype': 'Int64', 'prop_missing': 0.0, 'distribution': \"{'implements': 'core.discrete_uniform', 'provenance': 'builtin', 'class_name': 'DiscreteUniformDistribution', 'parameters': {'low': 1, 'high': 892}}\"}\n",
      "\n",
      "{'name': 'Name', 'description': None, 'type': 'string', 'dtype': 'Utf8', 'prop_missing': 0.0, 'distribution': '.[]{12,82}'}\n",
      "\n",
      "{'name': 'Sex', 'description': None, 'type': 'categorical', 'dtype': 'Categorical', 'prop_missing': 0.0, 'distribution': \"{'implements': 'core.multinoulli', 'provenance': 'builtin', 'class_name': 'MultinoulliDistribution', 'parameters': {'labels': array(['female', 'male'], dtype='<U6'), 'probs': array([0.35241302, 0.64758698])}}\"}\n",
      "\n",
      "{'name': 'Age', 'description': None, 'type': 'discrete', 'dtype': 'Int64', 'prop_missing': 0.19865319865319866, 'distribution': \"{'implements': 'core.discrete_uniform', 'provenance': 'builtin', 'class_name': 'DiscreteUniformDistribution', 'parameters': {'low': 0, 'high': 81}}\"}\n",
      "\n",
      "{'name': 'Parch', 'description': None, 'type': 'discrete', 'dtype': 'Int64', 'prop_missing': 0.0, 'distribution': \"{'implements': 'core.poisson', 'provenance': 'builtin', 'class_name': 'PoissonDistribution', 'parameters': {'mu': 0.38159371492704824}}\"}\n",
      "\n",
      "{'name': 'Fare', 'description': None, 'type': 'continuous', 'dtype': 'Float64', 'prop_missing': 0.0, 'distribution': \"{'implements': 'core.exponential', 'provenance': 'builtin', 'class_name': 'ExponentialDistribution', 'parameters': {'rate': 0.03052908440177665}}\"}\n",
      "\n",
      "{'name': 'Cabin', 'description': None, 'type': 'string', 'dtype': 'Utf8', 'prop_missing': 0.7710437710437711, 'distribution': '[ABCDEFGT].[]{1,14}'}\n",
      "\n",
      "{'name': 'Embarked', 'description': None, 'type': 'categorical', 'dtype': 'Categorical', 'prop_missing': 0.002244668911335578, 'distribution': \"{'implements': 'core.multinoulli', 'provenance': 'builtin', 'class_name': 'MultinoulliDistribution', 'parameters': {'labels': array(['C', 'Q', 'S'], dtype='<U1'), 'probs': array([0.18897638, 0.08661417, 0.72440945])}}\"}\n",
      "\n",
      "{'name': 'Birthday', 'description': None, 'type': 'date', 'dtype': 'Date', 'prop_missing': 0.08754208754208755, 'distribution': \"{'implements': 'core.uniform_date', 'provenance': 'builtin', 'class_name': 'UniformDateDistribution', 'parameters': {'start': '1903-07-28', 'end': '1940-05-27'}}\"}\n",
      "\n",
      "{'name': 'Board time', 'description': None, 'type': 'time', 'dtype': 'Time', 'prop_missing': 0.08866442199775533, 'distribution': \"{'implements': 'core.uniform_time', 'provenance': 'builtin', 'class_name': 'UniformTimeDistribution', 'parameters': {'start': '10:39:40', 'end': '18:39:28', 'precision': 'seconds'}}\"}\n",
      "\n",
      "{'name': 'Married since', 'description': None, 'type': 'datetime', 'dtype': \"Datetime(time_unit='us', time_zone=None)\", 'prop_missing': 0.10325476992143659, 'distribution': \"{'implements': 'core.uniform_datetime', 'provenance': 'builtin', 'class_name': 'UniformDateTimeDistribution', 'parameters': {'start': '2022-07-15T12:21:15', 'end': '2022-08-15T10:32:05', 'precision': 'seconds'}}\"}\n",
      "\n",
      "{'name': 'all_NA', 'description': None, 'type': 'string', 'dtype': 'Utf8', 'prop_missing': 1.0, 'distribution': '\\\\d{3,4}'}\n",
      "\n"
     ]
    }
   ],
   "source": [
    "print(meta_dataset)"
   ]
  },
  {
   "cell_type": "markdown",
   "id": "03b27a95",
   "metadata": {},
   "source": [
    "## Step 3: Saving the metadata in a file\n",
    "\n",
    "After creating the metadata, we can save it to a file. The default format is `json`, meaning the file is quite legible by humans and computers alike. Therefore, it can be checked by the data controller and, when the disclosure risk is deemed to be low, this file can be shared with others."
   ]
  },
  {
   "cell_type": "code",
   "execution_count": 8,
   "id": "11e355f3",
   "metadata": {},
   "outputs": [],
   "source": [
    "file_path = \"demonstration_metadata.json\"\n",
    "meta_dataset.to_json(file_path)"
   ]
  },
  {
   "cell_type": "markdown",
   "id": "6571873d",
   "metadata": {},
   "source": [
    "## Step 4: Generating synthetic data from the metadata"
   ]
  },
  {
   "cell_type": "markdown",
   "id": "fcd16a5a",
   "metadata": {},
   "source": [
    "Upon receiving this file, you can use the MetaSynth package to generate a synthetic version of the dataset:"
   ]
  },
  {
   "cell_type": "code",
   "execution_count": 9,
   "id": "4ccf451c",
   "metadata": {},
   "outputs": [
    {
     "data": {
      "text/html": [
       "<div><style>\n",
       ".dataframe > thead > tr > th,\n",
       ".dataframe > tbody > tr > td {\n",
       "  text-align: right;\n",
       "}\n",
       "</style>\n",
       "<small>shape: (5, 12)</small><table border=\"1\" class=\"dataframe\"><thead><tr><th>PassengerId</th><th>Name</th><th>Sex</th><th>Age</th><th>Parch</th><th>Fare</th><th>Cabin</th><th>Embarked</th><th>Birthday</th><th>Board time</th><th>Married since</th><th>all_NA</th></tr><tr><td>i64</td><td>str</td><td>cat</td><td>i64</td><td>i64</td><td>f64</td><td>str</td><td>cat</td><td>date</td><td>time</td><td>datetime[μs]</td><td>f32</td></tr></thead><tbody><tr><td>174</td><td>&quot;e%)QBL^\\@ur]c!…</td><td>&quot;male&quot;</td><td>28</td><td>0</td><td>20.357411</td><td>&quot;G:v+-??`%&quot;</td><td>&quot;C&quot;</td><td>1939-12-22</td><td>14:53:00</td><td>2022-08-01 02:22:02</td><td>null</td></tr><tr><td>363</td><td>&quot;7PnO)LX#N*rlw?…</td><td>&quot;male&quot;</td><td>2</td><td>0</td><td>9.026833</td><td>null</td><td>&quot;C&quot;</td><td>1925-01-15</td><td>17:17:54</td><td>2022-08-03 15:52:15</td><td>null</td></tr><tr><td>23</td><td>&quot;cQjZ?PlTUR&amp;@E\\…</td><td>&quot;male&quot;</td><td>72</td><td>0</td><td>31.096885</td><td>null</td><td>&quot;S&quot;</td><td>1939-05-03</td><td>11:47:06</td><td>2022-07-21 10:59:11</td><td>null</td></tr><tr><td>264</td><td>&quot;@!hn&amp;9&lt;Y&#x27;]g1T6…</td><td>&quot;female&quot;</td><td>null</td><td>0</td><td>14.800279</td><td>&quot;T1[r1D]F.&quot;</td><td>&quot;C&quot;</td><td>1926-04-06</td><td>16:20:32</td><td>null</td><td>null</td></tr><tr><td>47</td><td>&quot;eTSD8Yu^l1qNu&amp;…</td><td>&quot;male&quot;</td><td>59</td><td>0</td><td>86.72177</td><td>null</td><td>&quot;C&quot;</td><td>1923-03-24</td><td>12:15:11</td><td>2022-08-05 21:47:16</td><td>null</td></tr></tbody></table></div>"
      ],
      "text/plain": [
       "shape: (5, 12)\n",
       "┌─────────────┬──────────────┬────────┬──────┬───┬────────────┬────────────┬──────────────┬────────┐\n",
       "│ PassengerId ┆ Name         ┆ Sex    ┆ Age  ┆ … ┆ Birthday   ┆ Board time ┆ Married      ┆ all_NA │\n",
       "│ ---         ┆ ---          ┆ ---    ┆ ---  ┆   ┆ ---        ┆ ---        ┆ since        ┆ ---    │\n",
       "│ i64         ┆ str          ┆ cat    ┆ i64  ┆   ┆ date       ┆ time       ┆ ---          ┆ f32    │\n",
       "│             ┆              ┆        ┆      ┆   ┆            ┆            ┆ datetime[μs] ┆        │\n",
       "╞═════════════╪══════════════╪════════╪══════╪═══╪════════════╪════════════╪══════════════╪════════╡\n",
       "│ 174         ┆ e%)QBL^\\@ur] ┆ male   ┆ 28   ┆ … ┆ 1939-12-22 ┆ 14:53:00   ┆ 2022-08-01   ┆ null   │\n",
       "│             ┆ c!J\n",
       "HS9m+oAv  ┆        ┆      ┆   ┆            ┆            ┆ 02:22:02     ┆        │\n",
       "│             ┆ 8_F2'?L`…    ┆        ┆      ┆   ┆            ┆            ┆              ┆        │\n",
       "│ 363         ┆ 7PnO)LX#N*rl ┆ male   ┆ 2    ┆ … ┆ 1925-01-15 ┆ 17:17:54   ┆ 2022-08-03   ┆ null   │\n",
       "│             ┆ w?4iM&       ┆        ┆      ┆   ┆            ┆            ┆ 15:52:15     ┆        │\n",
       "│             ┆ u46q`H8b;\n",
       "g5\t… ┆        ┆      ┆   ┆            ┆            ┆              ┆        │\n",
       "│ 23          ┆ cQjZ?PlTUR&@ ┆ male   ┆ 72   ┆ … ┆ 1939-05-03 ┆ 11:47:06   ┆ 2022-07-21   ┆ null   │\n",
       "│             ┆ E\\al|+\tcnGAG  ┆        ┆      ┆   ┆            ┆            ┆ 10:59:11     ┆        │\n",
       "│             ┆ ^ke          ┆        ┆      ┆   ┆            ┆            ┆              ┆        │\n",
       "│ 264         ┆ @!hn&9<Y']g1 ┆ female ┆ null ┆ … ┆ 1926-04-06 ┆ 16:20:32   ┆ null         ┆ null   │\n",
       "│             ┆ T6E;{QW\\R\"6b ┆        ┆      ┆   ┆            ┆            ┆              ┆        │\n",
       "│             ┆ Na|a;X+U…    ┆        ┆      ┆   ┆            ┆            ┆              ┆        │\n",
       "│ 47          ┆ eTSD8Yu^l1qN ┆ male   ┆ 59   ┆ … ┆ 1923-03-24 ┆ 12:15:11   ┆ 2022-08-05   ┆ null   │\n",
       "│             ┆ u&\n",
       "JFFq\\3iTj  ┆        ┆      ┆   ┆            ┆            ┆ 21:47:16     ┆        │\n",
       "│             ┆ \n",
       "\n",
       "{,           ┆        ┆      ┆   ┆            ┆            ┆              ┆        │\n",
       "└─────────────┴──────────────┴────────┴──────┴───┴────────────┴────────────┴──────────────┴────────┘"
      ]
     },
     "execution_count": 9,
     "metadata": {},
     "output_type": "execute_result"
    }
   ],
   "source": [
    "new_meta_dataset = MetaDataset.from_json(file_path)\n",
    "new_meta_dataset.synthesize(5)"
   ]
  },
  {
   "cell_type": "markdown",
   "id": "669b1e95",
   "metadata": {},
   "source": [
    "As you can see, the fake data looks a lot like the real data! However, it could still use some improvement. In the next sections, we will explore manual changes we can make to improve the quality of the synthetic data."
   ]
  },
  {
   "cell_type": "markdown",
   "id": "e4cfe6cd",
   "metadata": {},
   "source": [
    "## Step 5: Improving the quality of the synthetic data"
   ]
  },
  {
   "cell_type": "markdown",
   "id": "df32cc3a",
   "metadata": {},
   "source": [
    "### Set unique columns\n",
    "\n",
    "One column (PassengerId) has been detected as possibly unique by MetaSynth, as indicated by the following warning:\n",
    "\n",
    "> \"Variable PassengerId seems unique, but not set to be unique.\"\n",
    "\n",
    "This column holds a variable with unique passenger identifiers, so in fact we do want synthetic data generated for this column to be unique as well. We can add this to the metadata by creating a list of options which we call a `specification`, or `spec`:"
   ]
  },
  {
   "cell_type": "code",
   "execution_count": 10,
   "id": "e7b76751",
   "metadata": {},
   "outputs": [
    {
     "data": {
      "text/plain": [
       "{'name': 'PassengerId',\n",
       " 'type': 'discrete',\n",
       " 'dtype': 'Int64',\n",
       " 'prop_missing': 0.0,\n",
       " 'distribution': {'implements': 'core.unique_key',\n",
       "  'provenance': 'builtin',\n",
       "  'class_name': 'UniqueKeyDistribution',\n",
       "  'parameters': {'low': 1, 'consecutive': 1}}}"
      ]
     },
     "execution_count": 10,
     "metadata": {},
     "output_type": "execute_result"
    }
   ],
   "source": [
    "# First, we create a specification dictionary for the variables\n",
    "var_spec = {\n",
    "    \"PassengerId\": {\"unique\": True}\n",
    "}\n",
    "\n",
    "# then, we add that dictionary as the `spec` argument\n",
    "meta_dataset = MetaDataset.from_dataframe(df, spec=var_spec)\n",
    "\n",
    "# then, let's check what the metadata about PassengerId contains!\n",
    "meta_dataset[\"PassengerId\"].to_dict()"
   ]
  },
  {
   "cell_type": "markdown",
   "id": "a28f0970",
   "metadata": {},
   "source": [
    "So let's check what is generated from this new metadata:"
   ]
  },
  {
   "cell_type": "code",
   "execution_count": 11,
   "id": "38c2f4b6",
   "metadata": {},
   "outputs": [
    {
     "data": {
      "text/html": [
       "<div><style>\n",
       ".dataframe > thead > tr > th,\n",
       ".dataframe > tbody > tr > td {\n",
       "  text-align: right;\n",
       "}\n",
       "</style>\n",
       "<small>shape: (5, 12)</small><table border=\"1\" class=\"dataframe\"><thead><tr><th>PassengerId</th><th>Name</th><th>Sex</th><th>Age</th><th>Parch</th><th>Fare</th><th>Cabin</th><th>Embarked</th><th>Birthday</th><th>Board time</th><th>Married since</th><th>all_NA</th></tr><tr><td>i64</td><td>str</td><td>cat</td><td>i64</td><td>i64</td><td>f64</td><td>f32</td><td>cat</td><td>date</td><td>time</td><td>datetime[μs]</td><td>f32</td></tr></thead><tbody><tr><td>1</td><td>&quot;!D_TuA2&#x27;&amp;43&quot;YP…</td><td>&quot;female&quot;</td><td>null</td><td>1</td><td>12.44073</td><td>null</td><td>&quot;S&quot;</td><td>1916-06-20</td><td>12:59:48</td><td>2022-07-25 06:14:01</td><td>null</td></tr><tr><td>2</td><td>&quot;@4bWY\n",
       "FpY\f",
       "OB \t…</td><td>&quot;female&quot;</td><td>32</td><td>1</td><td>38.941822</td><td>null</td><td>&quot;S&quot;</td><td>1933-10-18</td><td>16:59:36</td><td>null</td><td>null</td></tr><tr><td>3</td><td>&quot;\n",
       "DCE\f",
       "%bd;8V`S^…</td><td>&quot;male&quot;</td><td>27</td><td>1</td><td>23.67861</td><td>null</td><td>&quot;C&quot;</td><td>1919-11-01</td><td>11:26:50</td><td>2022-08-08 13:01:31</td><td>null</td></tr><tr><td>4</td><td>&quot;5G?+\n",
       "C~Ar:oh&quot;</td><td>&quot;male&quot;</td><td>11</td><td>0</td><td>82.35974</td><td>null</td><td>&quot;S&quot;</td><td>1936-02-14</td><td>14:17:42</td><td>2022-07-30 06:38:18</td><td>null</td></tr><tr><td>5</td><td>&quot;*q\r",
       "LtbLu}HoA\u000b",
       "U…</td><td>&quot;female&quot;</td><td>null</td><td>0</td><td>30.071594</td><td>null</td><td>&quot;Q&quot;</td><td>1932-08-31</td><td>18:29:31</td><td>2022-07-29 17:47:13</td><td>null</td></tr></tbody></table></div>"
      ],
      "text/plain": [
       "shape: (5, 12)\n",
       "┌─────────────┬──────────────┬────────┬──────┬───┬────────────┬────────────┬──────────────┬────────┐\n",
       "│ PassengerId ┆ Name         ┆ Sex    ┆ Age  ┆ … ┆ Birthday   ┆ Board time ┆ Married      ┆ all_NA │\n",
       "│ ---         ┆ ---          ┆ ---    ┆ ---  ┆   ┆ ---        ┆ ---        ┆ since        ┆ ---    │\n",
       "│ i64         ┆ str          ┆ cat    ┆ i64  ┆   ┆ date       ┆ time       ┆ ---          ┆ f32    │\n",
       "│             ┆              ┆        ┆      ┆   ┆            ┆            ┆ datetime[μs] ┆        │\n",
       "╞═════════════╪══════════════╪════════╪══════╪═══╪════════════╪════════════╪══════════════╪════════╡\n",
       "│ 1           ┆ !D_TuA2'&43\" ┆ female ┆ null ┆ … ┆ 1916-06-20 ┆ 12:59:48   ┆ 2022-07-25   ┆ null   │\n",
       "│             ┆ YP|NIY(g<{U2 ┆        ┆      ┆   ┆            ┆            ┆ 06:14:01     ┆        │\n",
       "│             ┆ \n",
       ",$`G}U'…     ┆        ┆      ┆   ┆            ┆            ┆              ┆        │\n",
       "│ 2           ┆ @4bWY        ┆ female ┆ 32   ┆ … ┆ 1933-10-18 ┆ 16:59:36   ┆ null         ┆ null   │\n",
       "│             ┆ FpY\n",
       "OB \t/[Jwv  ┆        ┆      ┆   ┆            ┆            ┆              ┆        │\n",
       "│             ┆ 7=@}TM(\n",
       "l6B,  ┆        ┆      ┆   ┆            ┆            ┆              ┆        │\n",
       "│             ┆ .…           ┆        ┆      ┆   ┆            ┆            ┆              ┆        │\n",
       "│ 3           ┆              ┆ male   ┆ 27   ┆ … ┆ 1919-11-01 ┆ 11:26:50   ┆ 2022-08-08   ┆ null   │\n",
       "│             ┆ DCE\n",
       "%bd;8V`S  ┆        ┆      ┆   ┆            ┆            ┆ 13:01:31     ┆        │\n",
       "│             ┆ ^SgF?H       ┆        ┆      ┆   ┆            ┆            ┆              ┆        │\n",
       "│ 4           ┆ 5G?+         ┆ male   ┆ 11   ┆ … ┆ 1936-02-14 ┆ 14:17:42   ┆ 2022-07-30   ┆ null   │\n",
       "│             ┆ C~Ar:oh      ┆        ┆      ┆   ┆            ┆            ┆ 06:38:18     ┆        │\n",
       "│ 5           ┆ *q\n",
       "LtbLu}HoA  ┆ female ┆ null ┆ … ┆ 1932-08-31 ┆ 18:29:31   ┆ 2022-07-29   ┆ null   │\n",
       "│             ┆ \n",
       "U=dm]p&loT\n",
       "   ┆        ┆      ┆   ┆            ┆            ┆ 17:47:13     ┆        │\n",
       "│             ┆ ^tq`         ┆        ┆      ┆   ┆            ┆            ┆              ┆        │\n",
       "│             ┆ ]}n…         ┆        ┆      ┆   ┆            ┆            ┆              ┆        │\n",
       "└─────────────┴──────────────┴────────┴──────┴───┴────────────┴────────────┴──────────────┴────────┘"
      ]
     },
     "execution_count": 11,
     "metadata": {},
     "output_type": "execute_result"
    }
   ],
   "source": [
    "meta_dataset.synthesize(5)"
   ]
  },
  {
   "cell_type": "markdown",
   "id": "6f884eb7",
   "metadata": {},
   "source": [
    "### Fake names (and others)\n",
    "\n",
    "As one can see, the `Name` of the passengers is not quite so well synthesized. The reason is that the string type interpreter in MetaSynth is designed for `structured` strings (like room numbers such as `B1.09`, `B1.01` or `A1.08`) and not unstructured strings. However, MetaSynth supports the [faker](https://faker.readthedocs.io/en/master/index.html) package, which includes a lot of data types that it can fake. The columns using faker are not based on the real data at all so they do not disclose any info about the real data.\n",
    "\n",
    "We fake names as follows:"
   ]
  },
  {
   "cell_type": "code",
   "execution_count": 12,
   "id": "d5615aa0",
   "metadata": {},
   "outputs": [
    {
     "data": {
      "text/html": [
       "<div><style>\n",
       ".dataframe > thead > tr > th,\n",
       ".dataframe > tbody > tr > td {\n",
       "  text-align: right;\n",
       "}\n",
       "</style>\n",
       "<small>shape: (5, 12)</small><table border=\"1\" class=\"dataframe\"><thead><tr><th>PassengerId</th><th>Name</th><th>Sex</th><th>Age</th><th>Parch</th><th>Fare</th><th>Cabin</th><th>Embarked</th><th>Birthday</th><th>Board time</th><th>Married since</th><th>all_NA</th></tr><tr><td>i64</td><td>str</td><td>cat</td><td>i64</td><td>i64</td><td>f64</td><td>f32</td><td>cat</td><td>date</td><td>time</td><td>datetime[μs]</td><td>f32</td></tr></thead><tbody><tr><td>1</td><td>&quot;Kathryn Tran&quot;</td><td>&quot;male&quot;</td><td>11</td><td>0</td><td>66.049675</td><td>null</td><td>&quot;S&quot;</td><td>1913-11-20</td><td>17:59:17</td><td>2022-07-28 01:11:57</td><td>null</td></tr><tr><td>2</td><td>&quot;Eric Allen&quot;</td><td>&quot;male&quot;</td><td>null</td><td>0</td><td>32.81577</td><td>null</td><td>&quot;S&quot;</td><td>null</td><td>11:40:09</td><td>2022-07-31 09:02:21</td><td>null</td></tr><tr><td>3</td><td>&quot;Cory Martinez&quot;</td><td>&quot;male&quot;</td><td>null</td><td>2</td><td>24.335832</td><td>null</td><td>&quot;S&quot;</td><td>1924-12-12</td><td>13:26:26</td><td>null</td><td>null</td></tr><tr><td>4</td><td>&quot;Kimberly Chave…</td><td>&quot;female&quot;</td><td>26</td><td>0</td><td>35.041956</td><td>null</td><td>&quot;Q&quot;</td><td>1927-08-30</td><td>15:16:07</td><td>2022-07-22 22:13:43</td><td>null</td></tr><tr><td>5</td><td>&quot;Laura Moore&quot;</td><td>&quot;female&quot;</td><td>76</td><td>0</td><td>21.441304</td><td>null</td><td>&quot;S&quot;</td><td>1909-06-13</td><td>16:24:49</td><td>2022-08-08 05:38:20</td><td>null</td></tr></tbody></table></div>"
      ],
      "text/plain": [
       "shape: (5, 12)\n",
       "┌─────────────┬──────────────┬────────┬──────┬───┬────────────┬────────────┬──────────────┬────────┐\n",
       "│ PassengerId ┆ Name         ┆ Sex    ┆ Age  ┆ … ┆ Birthday   ┆ Board time ┆ Married      ┆ all_NA │\n",
       "│ ---         ┆ ---          ┆ ---    ┆ ---  ┆   ┆ ---        ┆ ---        ┆ since        ┆ ---    │\n",
       "│ i64         ┆ str          ┆ cat    ┆ i64  ┆   ┆ date       ┆ time       ┆ ---          ┆ f32    │\n",
       "│             ┆              ┆        ┆      ┆   ┆            ┆            ┆ datetime[μs] ┆        │\n",
       "╞═════════════╪══════════════╪════════╪══════╪═══╪════════════╪════════════╪══════════════╪════════╡\n",
       "│ 1           ┆ Kathryn Tran ┆ male   ┆ 11   ┆ … ┆ 1913-11-20 ┆ 17:59:17   ┆ 2022-07-28   ┆ null   │\n",
       "│             ┆              ┆        ┆      ┆   ┆            ┆            ┆ 01:11:57     ┆        │\n",
       "│ 2           ┆ Eric Allen   ┆ male   ┆ null ┆ … ┆ null       ┆ 11:40:09   ┆ 2022-07-31   ┆ null   │\n",
       "│             ┆              ┆        ┆      ┆   ┆            ┆            ┆ 09:02:21     ┆        │\n",
       "│ 3           ┆ Cory         ┆ male   ┆ null ┆ … ┆ 1924-12-12 ┆ 13:26:26   ┆ null         ┆ null   │\n",
       "│             ┆ Martinez     ┆        ┆      ┆   ┆            ┆            ┆              ┆        │\n",
       "│ 4           ┆ Kimberly     ┆ female ┆ 26   ┆ … ┆ 1927-08-30 ┆ 15:16:07   ┆ 2022-07-22   ┆ null   │\n",
       "│             ┆ Chavez       ┆        ┆      ┆   ┆            ┆            ┆ 22:13:43     ┆        │\n",
       "│ 5           ┆ Laura Moore  ┆ female ┆ 76   ┆ … ┆ 1909-06-13 ┆ 16:24:49   ┆ 2022-08-08   ┆ null   │\n",
       "│             ┆              ┆        ┆      ┆   ┆            ┆            ┆ 05:38:20     ┆        │\n",
       "└─────────────┴──────────────┴────────┴──────┴───┴────────────┴────────────┴──────────────┴────────┘"
      ]
     },
     "execution_count": 12,
     "metadata": {},
     "output_type": "execute_result"
    }
   ],
   "source": [
    "# First, we create a specification dictionary for the variables\n",
    "from metasynth.distribution import FakerDistribution\n",
    "\n",
    "var_spec = {\n",
    "    \"PassengerId\": {\"unique\": True}, \n",
    "    \"Name\": {\"distribution\": FakerDistribution(\"name\")}\n",
    "}\n",
    "\n",
    "meta_dataset = MetaDataset.from_dataframe(df, spec=var_spec)\n",
    "meta_dataset.synthesize(5)"
   ]
  },
  {
   "cell_type": "markdown",
   "id": "cf927af6",
   "metadata": {},
   "source": [
    "### Set distributions manually\n",
    "\n",
    "Without user input, the distribution chosen for each variable is inferred by choosing the best fitting from available distributions for the variable type. However, we can also manually specify which distribution to fit, or we can even just fully specify how the variable should be generated."
   ]
  },
  {
   "cell_type": "code",
   "execution_count": 13,
   "id": "ac4ba506",
   "metadata": {},
   "outputs": [
    {
     "data": {
      "text/html": [
       "<div><style>\n",
       ".dataframe > thead > tr > th,\n",
       ".dataframe > tbody > tr > td {\n",
       "  text-align: right;\n",
       "}\n",
       "</style>\n",
       "<small>shape: (5, 12)</small><table border=\"1\" class=\"dataframe\"><thead><tr><th>PassengerId</th><th>Name</th><th>Sex</th><th>Age</th><th>Parch</th><th>Fare</th><th>Cabin</th><th>Embarked</th><th>Birthday</th><th>Board time</th><th>Married since</th><th>all_NA</th></tr><tr><td>i64</td><td>str</td><td>cat</td><td>i64</td><td>i64</td><td>f64</td><td>str</td><td>cat</td><td>date</td><td>time</td><td>datetime[μs]</td><td>f32</td></tr></thead><tbody><tr><td>1</td><td>&quot;Kathryn Tran&quot;</td><td>&quot;male&quot;</td><td>null</td><td>0</td><td>0.783199</td><td>null</td><td>&quot;S&quot;</td><td>1927-12-16</td><td>15:36:57</td><td>2022-07-31 12:40:58</td><td>null</td></tr><tr><td>2</td><td>&quot;Eric Allen&quot;</td><td>&quot;female&quot;</td><td>36</td><td>0</td><td>2.750131</td><td>null</td><td>&quot;S&quot;</td><td>1924-06-27</td><td>14:53:16</td><td>2022-07-20 02:24:42</td><td>null</td></tr><tr><td>3</td><td>&quot;Cory Martinez&quot;</td><td>&quot;male&quot;</td><td>26</td><td>0</td><td>0.363102</td><td>&quot;F)L@\t6]_,&quot;</td><td>&quot;S&quot;</td><td>null</td><td>16:29:13</td><td>2022-08-11 00:45:53</td><td>null</td></tr><tr><td>4</td><td>&quot;Kimberly Chave…</td><td>&quot;female&quot;</td><td>null</td><td>1</td><td>0.668443</td><td>&quot;FCnyH1N$&quot;</td><td>&quot;S&quot;</td><td>null</td><td>13:51:05</td><td>2022-08-02 06:48:29</td><td>null</td></tr><tr><td>5</td><td>&quot;Laura Moore&quot;</td><td>&quot;male&quot;</td><td>22</td><td>0</td><td>0.076071</td><td>null</td><td>&quot;Q&quot;</td><td>1911-08-14</td><td>16:33:26</td><td>2022-08-11 23:54:38</td><td>null</td></tr></tbody></table></div>"
      ],
      "text/plain": [
       "shape: (5, 12)\n",
       "┌─────────────┬──────────────┬────────┬──────┬───┬────────────┬────────────┬──────────────┬────────┐\n",
       "│ PassengerId ┆ Name         ┆ Sex    ┆ Age  ┆ … ┆ Birthday   ┆ Board time ┆ Married      ┆ all_NA │\n",
       "│ ---         ┆ ---          ┆ ---    ┆ ---  ┆   ┆ ---        ┆ ---        ┆ since        ┆ ---    │\n",
       "│ i64         ┆ str          ┆ cat    ┆ i64  ┆   ┆ date       ┆ time       ┆ ---          ┆ f32    │\n",
       "│             ┆              ┆        ┆      ┆   ┆            ┆            ┆ datetime[μs] ┆        │\n",
       "╞═════════════╪══════════════╪════════╪══════╪═══╪════════════╪════════════╪══════════════╪════════╡\n",
       "│ 1           ┆ Kathryn Tran ┆ male   ┆ null ┆ … ┆ 1927-12-16 ┆ 15:36:57   ┆ 2022-07-31   ┆ null   │\n",
       "│             ┆              ┆        ┆      ┆   ┆            ┆            ┆ 12:40:58     ┆        │\n",
       "│ 2           ┆ Eric Allen   ┆ female ┆ 36   ┆ … ┆ 1924-06-27 ┆ 14:53:16   ┆ 2022-07-20   ┆ null   │\n",
       "│             ┆              ┆        ┆      ┆   ┆            ┆            ┆ 02:24:42     ┆        │\n",
       "│ 3           ┆ Cory         ┆ male   ┆ 26   ┆ … ┆ null       ┆ 16:29:13   ┆ 2022-08-11   ┆ null   │\n",
       "│             ┆ Martinez     ┆        ┆      ┆   ┆            ┆            ┆ 00:45:53     ┆        │\n",
       "│ 4           ┆ Kimberly     ┆ female ┆ null ┆ … ┆ null       ┆ 13:51:05   ┆ 2022-08-02   ┆ null   │\n",
       "│             ┆ Chavez       ┆        ┆      ┆   ┆            ┆            ┆ 06:48:29     ┆        │\n",
       "│ 5           ┆ Laura Moore  ┆ male   ┆ 22   ┆ … ┆ 1911-08-14 ┆ 16:33:26   ┆ 2022-08-11   ┆ null   │\n",
       "│             ┆              ┆        ┆      ┆   ┆            ┆            ┆ 23:54:38     ┆        │\n",
       "└─────────────┴──────────────┴────────┴──────┴───┴────────────┴────────────┴──────────────┴────────┘"
      ]
     },
     "execution_count": 13,
     "metadata": {},
     "output_type": "execute_result"
    }
   ],
   "source": [
    "from metasynth.distribution import DiscreteUniformDistribution\n",
    "\n",
    "var_spec = {\n",
    "    \"PassengerId\": {\"unique\": True}, \n",
    "    \"Name\": {\"distribution\": FakerDistribution(\"name\")},\n",
    "    \"Fare\": {\"distribution\": \"LogNormalDistribution\"}, # estimate / fit a log-normal distribution based on the data\n",
    "    \"Age\": {\"distribution\": DiscreteUniformDistribution(20, 40)} # fully specify a distribution for age (uniform between 20 and 40)\n",
    "}\n",
    "\n",
    "meta_dataset = MetaDataset.from_dataframe(df, spec=var_spec)\n",
    "meta_dataset.synthesize(5)"
   ]
  },
  {
   "cell_type": "markdown",
   "id": "2897133c",
   "metadata": {},
   "source": [
    "### Specifying the distribution of structured strings\n",
    "\n",
    "For more or less structured strings, we can manually set the structure of the strings based on regular expressions. For example, we see that most Cabins are structured like [A-F] and then 2 or 3 digit numbers. We can include this as follows:"
   ]
  },
  {
   "cell_type": "code",
   "execution_count": 14,
   "id": "7b2c4003",
   "metadata": {},
   "outputs": [
    {
     "data": {
      "text/html": [
       "<div><style>\n",
       ".dataframe > thead > tr > th,\n",
       ".dataframe > tbody > tr > td {\n",
       "  text-align: right;\n",
       "}\n",
       "</style>\n",
       "<small>shape: (10, 12)</small><table border=\"1\" class=\"dataframe\"><thead><tr><th>PassengerId</th><th>Name</th><th>Sex</th><th>Age</th><th>Parch</th><th>Fare</th><th>Cabin</th><th>Embarked</th><th>Birthday</th><th>Board time</th><th>Married since</th><th>all_NA</th></tr><tr><td>i64</td><td>str</td><td>cat</td><td>i64</td><td>i64</td><td>f64</td><td>f32</td><td>cat</td><td>date</td><td>time</td><td>datetime[μs]</td><td>f32</td></tr></thead><tbody><tr><td>1</td><td>&quot;Kathryn Tran&quot;</td><td>&quot;male&quot;</td><td>23</td><td>0</td><td>5.737904</td><td>null</td><td>&quot;C&quot;</td><td>1931-01-16</td><td>17:14:07</td><td>2022-07-30 08:47:16</td><td>null</td></tr><tr><td>2</td><td>&quot;Eric Allen&quot;</td><td>&quot;male&quot;</td><td>null</td><td>0</td><td>2.506943</td><td>null</td><td>&quot;S&quot;</td><td>1909-04-20</td><td>18:12:06</td><td>2022-08-13 02:48:36</td><td>null</td></tr><tr><td>3</td><td>&quot;Cory Martinez&quot;</td><td>&quot;male&quot;</td><td>null</td><td>0</td><td>0.522842</td><td>null</td><td>&quot;C&quot;</td><td>1907-05-26</td><td>15:37:13</td><td>2022-07-19 20:34:13</td><td>null</td></tr><tr><td>4</td><td>&quot;Kimberly Chave…</td><td>&quot;male&quot;</td><td>36</td><td>1</td><td>0.469086</td><td>null</td><td>&quot;S&quot;</td><td>1932-05-13</td><td>17:54:06</td><td>2022-08-08 08:25:55</td><td>null</td></tr><tr><td>5</td><td>&quot;Laura Moore&quot;</td><td>&quot;male&quot;</td><td>27</td><td>1</td><td>0.326631</td><td>null</td><td>&quot;Q&quot;</td><td>1906-09-30</td><td>null</td><td>2022-08-12 01:06:05</td><td>null</td></tr><tr><td>6</td><td>&quot;Jose Collins&quot;</td><td>&quot;male&quot;</td><td>null</td><td>0</td><td>0.177057</td><td>null</td><td>&quot;S&quot;</td><td>1906-07-26</td><td>17:23:07</td><td>2022-08-06 20:41:11</td><td>null</td></tr><tr><td>7</td><td>&quot;Sara Smith&quot;</td><td>&quot;male&quot;</td><td>null</td><td>0</td><td>0.432775</td><td>null</td><td>&quot;S&quot;</td><td>1928-09-12</td><td>15:29:49</td><td>2022-07-19 02:16:47</td><td>null</td></tr><tr><td>8</td><td>&quot;George Hood&quot;</td><td>&quot;male&quot;</td><td>null</td><td>1</td><td>1.454606</td><td>null</td><td>&quot;S&quot;</td><td>1932-07-15</td><td>17:44:45</td><td>2022-08-03 13:00:43</td><td>null</td></tr><tr><td>9</td><td>&quot;Makayla Oneal&quot;</td><td>&quot;male&quot;</td><td>34</td><td>0</td><td>0.359105</td><td>null</td><td>&quot;S&quot;</td><td>1911-02-21</td><td>10:44:05</td><td>2022-08-04 00:50:53</td><td>null</td></tr><tr><td>10</td><td>&quot;Karen Douglas&quot;</td><td>&quot;female&quot;</td><td>31</td><td>0</td><td>0.542079</td><td>null</td><td>&quot;S&quot;</td><td>1928-11-09</td><td>null</td><td>2022-08-09 12:29:10</td><td>null</td></tr></tbody></table></div>"
      ],
      "text/plain": [
       "shape: (10, 12)\n",
       "┌─────────────┬──────────────┬────────┬──────┬───┬────────────┬────────────┬──────────────┬────────┐\n",
       "│ PassengerId ┆ Name         ┆ Sex    ┆ Age  ┆ … ┆ Birthday   ┆ Board time ┆ Married      ┆ all_NA │\n",
       "│ ---         ┆ ---          ┆ ---    ┆ ---  ┆   ┆ ---        ┆ ---        ┆ since        ┆ ---    │\n",
       "│ i64         ┆ str          ┆ cat    ┆ i64  ┆   ┆ date       ┆ time       ┆ ---          ┆ f32    │\n",
       "│             ┆              ┆        ┆      ┆   ┆            ┆            ┆ datetime[μs] ┆        │\n",
       "╞═════════════╪══════════════╪════════╪══════╪═══╪════════════╪════════════╪══════════════╪════════╡\n",
       "│ 1           ┆ Kathryn Tran ┆ male   ┆ 23   ┆ … ┆ 1931-01-16 ┆ 17:14:07   ┆ 2022-07-30   ┆ null   │\n",
       "│             ┆              ┆        ┆      ┆   ┆            ┆            ┆ 08:47:16     ┆        │\n",
       "│ 2           ┆ Eric Allen   ┆ male   ┆ null ┆ … ┆ 1909-04-20 ┆ 18:12:06   ┆ 2022-08-13   ┆ null   │\n",
       "│             ┆              ┆        ┆      ┆   ┆            ┆            ┆ 02:48:36     ┆        │\n",
       "│ 3           ┆ Cory         ┆ male   ┆ null ┆ … ┆ 1907-05-26 ┆ 15:37:13   ┆ 2022-07-19   ┆ null   │\n",
       "│             ┆ Martinez     ┆        ┆      ┆   ┆            ┆            ┆ 20:34:13     ┆        │\n",
       "│ 4           ┆ Kimberly     ┆ male   ┆ 36   ┆ … ┆ 1932-05-13 ┆ 17:54:06   ┆ 2022-08-08   ┆ null   │\n",
       "│             ┆ Chavez       ┆        ┆      ┆   ┆            ┆            ┆ 08:25:55     ┆        │\n",
       "│ …           ┆ …            ┆ …      ┆ …    ┆ … ┆ …          ┆ …          ┆ …            ┆ …      │\n",
       "│ 7           ┆ Sara Smith   ┆ male   ┆ null ┆ … ┆ 1928-09-12 ┆ 15:29:49   ┆ 2022-07-19   ┆ null   │\n",
       "│             ┆              ┆        ┆      ┆   ┆            ┆            ┆ 02:16:47     ┆        │\n",
       "│ 8           ┆ George Hood  ┆ male   ┆ null ┆ … ┆ 1932-07-15 ┆ 17:44:45   ┆ 2022-08-03   ┆ null   │\n",
       "│             ┆              ┆        ┆      ┆   ┆            ┆            ┆ 13:00:43     ┆        │\n",
       "│ 9           ┆ Makayla      ┆ male   ┆ 34   ┆ … ┆ 1911-02-21 ┆ 10:44:05   ┆ 2022-08-04   ┆ null   │\n",
       "│             ┆ Oneal        ┆        ┆      ┆   ┆            ┆            ┆ 00:50:53     ┆        │\n",
       "│ 10          ┆ Karen        ┆ female ┆ 31   ┆ … ┆ 1928-11-09 ┆ null       ┆ 2022-08-09   ┆ null   │\n",
       "│             ┆ Douglas      ┆        ┆      ┆   ┆            ┆            ┆ 12:29:10     ┆        │\n",
       "└─────────────┴──────────────┴────────┴──────┴───┴────────────┴────────────┴──────────────┴────────┘"
      ]
     },
     "execution_count": 14,
     "metadata": {},
     "output_type": "execute_result"
    }
   ],
   "source": [
    "from metasynth.distribution import RegexDistribution\n",
    "\n",
    "# To create a regex distribution, you need a list of tuples, where each tuple is an element.\n",
    "# The first part of the tuple is a string representation of the regex, while the second is the proportion of the\n",
    "# time the regex element is used.\n",
    "cabin_distribution = RegexDistribution(r\"[ABCDEF]\\d{2,3}\")  # Add the r so that it becomes a literal string.\n",
    "# just for completeness: data generated from this distribution will always match the regex [ABCDEF]?(\\d{2,3})?\n",
    "\n",
    "var_spec = {\n",
    "    \"PassengerId\": {\"unique\": True}, \n",
    "    \"Name\": {\"distribution\": FakerDistribution(\"name\")},\n",
    "    \"Fare\": {\"distribution\": \"LogNormalDistribution\"}, # estimate / fit a log-normal distribution based on the data\n",
    "    \"Age\": {\"distribution\": DiscreteUniformDistribution(20, 40)}, # fully specify a distribution for age (uniform between 20 and 40)\n",
    "    \"Cabin\": {\"distribution\": cabin_distribution}\n",
    "}\n",
    "\n",
    "meta_dataset = MetaDataset.from_dataframe(df, spec=var_spec)\n",
    "meta_dataset.synthesize(10)"
   ]
  },
  {
   "cell_type": "code",
   "execution_count": null,
   "id": "8d698aaa",
   "metadata": {},
   "outputs": [],
   "source": []
  }
 ],
 "metadata": {
  "kernelspec": {
   "display_name": "Python 3 (ipykernel)",
   "language": "python",
   "name": "python3"
  },
  "language_info": {
   "codemirror_mode": {
    "name": "ipython",
    "version": 3
   },
   "file_extension": ".py",
   "mimetype": "text/x-python",
   "name": "python",
   "nbconvert_exporter": "python",
   "pygments_lexer": "ipython3",
   "version": "3.9.10"
  },
  "vscode": {
   "interpreter": {
    "hash": "fdb1107d616260949a63e5f4e2c5568939cf2f2c0d0d70930ae22d4d9fd1a8a0"
   }
  }
 },
 "nbformat": 4,
 "nbformat_minor": 5
}
