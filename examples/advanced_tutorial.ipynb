{
 "cells": [
  {
   "cell_type": "markdown",
   "id": "f5c6597b",
   "metadata": {},
   "source": [
    "# Advanced Tutorial on MetaSynth\n",
    "\n",
    "In this tutorial, we will be creating a `generative metadata format` (`gmf`) metadata file from a dataset using MetaSynth. We are going to walk through some of the advanced abilities of MetaSynth, such as handling dates, setting distributions and ensuring uniqueness in columns. This example workflow starts from a `.csv` file as input, but it easily adapted to other formats. \n",
    "\n",
    "You can run this notebook by checking out the MetaSynth repo and installing metasynth with `pip install metasynth`"
   ]
  },
  {
   "cell_type": "code",
   "execution_count": 1,
   "id": "e4fae59f",
   "metadata": {},
   "outputs": [],
   "source": [
    "# %pip install metasynth"
   ]
  },
  {
   "cell_type": "code",
   "execution_count": 2,
   "id": "2442cb34",
   "metadata": {},
   "outputs": [],
   "source": [
    "# import required packages\n",
    "import datetime as dt\n",
    "import polars as pl\n",
    "from metasynth import MetaFrame, demo_file"
   ]
  },
  {
   "cell_type": "markdown",
   "id": "04466c26",
   "metadata": {},
   "source": [
    "## Step 1: Transforming your data into a polars DataFrame\n",
    "\n",
    "The first step in creating the metadata is reading and converting your dataset to a polars DataFrame. "
   ]
  },
  {
   "cell_type": "code",
   "execution_count": 3,
   "id": "3c2a44b7",
   "metadata": {},
   "outputs": [
    {
     "data": {
      "text/html": [
       "<div><style>\n",
       ".dataframe > thead > tr > th,\n",
       ".dataframe > tbody > tr > td {\n",
       "  text-align: right;\n",
       "}\n",
       "</style>\n",
       "<small>shape: (5, 12)</small><table border=\"1\" class=\"dataframe\"><thead><tr><th>PassengerId</th><th>Name</th><th>Sex</th><th>Age</th><th>Parch</th><th>Fare</th><th>Cabin</th><th>Embarked</th><th>Birthday</th><th>Board time</th><th>Married since</th><th>all_NA</th></tr><tr><td>i64</td><td>str</td><td>cat</td><td>i64</td><td>i64</td><td>f64</td><td>str</td><td>cat</td><td>date</td><td>time</td><td>datetime[μs]</td><td>str</td></tr></thead><tbody><tr><td>1</td><td>&quot;Braund, Mr. Ow…</td><td>&quot;male&quot;</td><td>22</td><td>0</td><td>7.25</td><td>null</td><td>&quot;S&quot;</td><td>1937-10-28</td><td>15:53:04</td><td>2022-08-05 04:43:34</td><td>null</td></tr><tr><td>2</td><td>&quot;Cumings, Mrs. …</td><td>&quot;female&quot;</td><td>38</td><td>0</td><td>71.2833</td><td>&quot;C85&quot;</td><td>&quot;C&quot;</td><td>null</td><td>12:26:00</td><td>2022-08-07 01:56:33</td><td>null</td></tr><tr><td>3</td><td>&quot;Heikkinen, Mis…</td><td>&quot;female&quot;</td><td>26</td><td>0</td><td>7.925</td><td>null</td><td>&quot;S&quot;</td><td>1931-09-24</td><td>16:08:25</td><td>2022-08-04 20:27:37</td><td>null</td></tr><tr><td>4</td><td>&quot;Futrelle, Mrs.…</td><td>&quot;female&quot;</td><td>35</td><td>0</td><td>53.1</td><td>&quot;C123&quot;</td><td>&quot;S&quot;</td><td>1936-11-30</td><td>null</td><td>2022-08-07 07:05:55</td><td>null</td></tr><tr><td>5</td><td>&quot;Allen, Mr. Wil…</td><td>&quot;male&quot;</td><td>35</td><td>0</td><td>8.05</td><td>null</td><td>&quot;S&quot;</td><td>1918-11-07</td><td>10:59:08</td><td>2022-08-02 15:13:34</td><td>null</td></tr></tbody></table></div>"
      ],
      "text/plain": [
       "shape: (5, 12)\n",
       "┌─────────────┬───────────────┬────────┬─────┬───┬────────────┬────────────┬──────────────┬────────┐\n",
       "│ PassengerId ┆ Name          ┆ Sex    ┆ Age ┆ … ┆ Birthday   ┆ Board time ┆ Married      ┆ all_NA │\n",
       "│ ---         ┆ ---           ┆ ---    ┆ --- ┆   ┆ ---        ┆ ---        ┆ since        ┆ ---    │\n",
       "│ i64         ┆ str           ┆ cat    ┆ i64 ┆   ┆ date       ┆ time       ┆ ---          ┆ str    │\n",
       "│             ┆               ┆        ┆     ┆   ┆            ┆            ┆ datetime[μs] ┆        │\n",
       "╞═════════════╪═══════════════╪════════╪═════╪═══╪════════════╪════════════╪══════════════╪════════╡\n",
       "│ 1           ┆ Braund, Mr.   ┆ male   ┆ 22  ┆ … ┆ 1937-10-28 ┆ 15:53:04   ┆ 2022-08-05   ┆ null   │\n",
       "│             ┆ Owen Harris   ┆        ┆     ┆   ┆            ┆            ┆ 04:43:34     ┆        │\n",
       "│ 2           ┆ Cumings, Mrs. ┆ female ┆ 38  ┆ … ┆ null       ┆ 12:26:00   ┆ 2022-08-07   ┆ null   │\n",
       "│             ┆ John Bradley  ┆        ┆     ┆   ┆            ┆            ┆ 01:56:33     ┆        │\n",
       "│             ┆ (Flor…        ┆        ┆     ┆   ┆            ┆            ┆              ┆        │\n",
       "│ 3           ┆ Heikkinen,    ┆ female ┆ 26  ┆ … ┆ 1931-09-24 ┆ 16:08:25   ┆ 2022-08-04   ┆ null   │\n",
       "│             ┆ Miss. Laina   ┆        ┆     ┆   ┆            ┆            ┆ 20:27:37     ┆        │\n",
       "│ 4           ┆ Futrelle,     ┆ female ┆ 35  ┆ … ┆ 1936-11-30 ┆ null       ┆ 2022-08-07   ┆ null   │\n",
       "│             ┆ Mrs. Jacques  ┆        ┆     ┆   ┆            ┆            ┆ 07:05:55     ┆        │\n",
       "│             ┆ Heath (Li…    ┆        ┆     ┆   ┆            ┆            ┆              ┆        │\n",
       "│ 5           ┆ Allen, Mr.    ┆ male   ┆ 35  ┆ … ┆ 1918-11-07 ┆ 10:59:08   ┆ 2022-08-02   ┆ null   │\n",
       "│             ┆ William Henry ┆        ┆     ┆   ┆            ┆            ┆ 15:13:34     ┆        │\n",
       "└─────────────┴───────────────┴────────┴─────┴───┴────────────┴────────────┴──────────────┴────────┘"
      ]
     },
     "execution_count": 3,
     "metadata": {},
     "output_type": "execute_result"
    }
   ],
   "source": [
    "demonstration_fp = demo_file()\n",
    "df = pl.read_csv(demonstration_fp, try_parse_dates=True, dtypes={\n",
    "    \"Sex\": pl.Categorical,\n",
    "    \"Embarked\": pl.Categorical})\n",
    "df.head()"
   ]
  },
  {
   "cell_type": "markdown",
   "id": "1e2481d4",
   "metadata": {},
   "source": [
    "Now, let's check the data types of our DataFrame:"
   ]
  },
  {
   "cell_type": "code",
   "execution_count": 4,
   "id": "0a5a1aa2",
   "metadata": {},
   "outputs": [
    {
     "data": {
      "text/plain": [
       "{'PassengerId': Int64,\n",
       " 'Name': Utf8,\n",
       " 'Sex': Categorical,\n",
       " 'Age': Int64,\n",
       " 'Parch': Int64,\n",
       " 'Fare': Float64,\n",
       " 'Cabin': Utf8,\n",
       " 'Embarked': Categorical,\n",
       " 'Birthday': Date,\n",
       " 'Board time': Time,\n",
       " 'Married since': Datetime(time_unit='us', time_zone=None),\n",
       " 'all_NA': Utf8}"
      ]
     },
     "execution_count": 4,
     "metadata": {},
     "output_type": "execute_result"
    }
   ],
   "source": [
    "dict(zip(df.columns, df.dtypes))"
   ]
  },
  {
   "cell_type": "markdown",
   "id": "2ebde17e",
   "metadata": {},
   "source": [
    "We see that most variables are now nicely specified as strings, categories, dates and ints where necessary."
   ]
  },
  {
   "cell_type": "markdown",
   "id": "13f849ed",
   "metadata": {},
   "source": [
    "## Step 2: Creating a MetaFrame object from a DataFrame\n",
    "\n",
    "Now a lot of work has already gone into creating a properly formatted dataframe. This work pays off at this stage: let's convert the DataFrame to a meta_dataset structure with the default options. Note: this takes a little bit of time!"
   ]
  },
  {
   "cell_type": "code",
   "execution_count": 5,
   "id": "e0c58473",
   "metadata": {},
   "outputs": [
    {
     "name": "stderr",
     "output_type": "stream",
     "text": [
      "/Users/qubix/Documents/work/metasynth/metasynth/metasynth/provider.py:202: UserWarning: \n",
      "Variable PassengerId seems unique, but not set to be unique.\n",
      "Set the variable to be either unique or not unique to remove this warning.\n",
      "\n",
      "  warnings.warn(f\"\\nVariable {series.name} seems unique, but not set to be unique.\\n\"\n"
     ]
    }
   ],
   "source": [
    "meta_dataset = MetaFrame.fit_dataframe(df)"
   ]
  },
  {
   "cell_type": "markdown",
   "id": "1e8a772d",
   "metadata": {},
   "source": [
    "Then, we can show the metadata as a dictionary:"
   ]
  },
  {
   "cell_type": "code",
   "execution_count": 6,
   "id": "abab1b78",
   "metadata": {},
   "outputs": [
    {
     "name": "stdout",
     "output_type": "stream",
     "text": [
      "# Rows: 891\n",
      "# Columns: 12\n",
      "\n",
      "{'name': 'PassengerId', 'description': None, 'type': 'discrete', 'dtype': 'Int64', 'prop_missing': 0.0, 'distribution': \"{'implements': 'core.discrete_uniform', 'provenance': 'builtin', 'class_name': 'DiscreteUniformDistribution', 'parameters': {'low': 1, 'high': 892}}\"}\n",
      "\n",
      "{'name': 'Name', 'description': None, 'type': 'string', 'dtype': 'Utf8', 'prop_missing': 0.0, 'distribution': '.[]{12,82}'}\n",
      "\n",
      "{'name': 'Sex', 'description': None, 'type': 'categorical', 'dtype': 'Categorical', 'prop_missing': 0.0, 'distribution': \"{'implements': 'core.multinoulli', 'provenance': 'builtin', 'class_name': 'MultinoulliDistribution', 'parameters': {'labels': array(['female', 'male'], dtype='<U6'), 'probs': array([0.35241302, 0.64758698])}}\"}\n",
      "\n",
      "{'name': 'Age', 'description': None, 'type': 'discrete', 'dtype': 'Int64', 'prop_missing': 0.19865319865319866, 'distribution': \"{'implements': 'core.discrete_uniform', 'provenance': 'builtin', 'class_name': 'DiscreteUniformDistribution', 'parameters': {'low': 0, 'high': 81}}\"}\n",
      "\n",
      "{'name': 'Parch', 'description': None, 'type': 'discrete', 'dtype': 'Int64', 'prop_missing': 0.0, 'distribution': \"{'implements': 'core.poisson', 'provenance': 'builtin', 'class_name': 'PoissonDistribution', 'parameters': {'mu': 0.38159371492704824}}\"}\n",
      "\n",
      "{'name': 'Fare', 'description': None, 'type': 'continuous', 'dtype': 'Float64', 'prop_missing': 0.0, 'distribution': \"{'implements': 'core.exponential', 'provenance': 'builtin', 'class_name': 'ExponentialDistribution', 'parameters': {'rate': 0.03052908440177665}}\"}\n",
      "\n",
      "{'name': 'Cabin', 'description': None, 'type': 'string', 'dtype': 'Utf8', 'prop_missing': 0.7710437710437711, 'distribution': '[ABCDEFGT].[]{1,14}'}\n",
      "\n",
      "{'name': 'Embarked', 'description': None, 'type': 'categorical', 'dtype': 'Categorical', 'prop_missing': 0.002244668911335578, 'distribution': \"{'implements': 'core.multinoulli', 'provenance': 'builtin', 'class_name': 'MultinoulliDistribution', 'parameters': {'labels': array(['C', 'Q', 'S'], dtype='<U1'), 'probs': array([0.18897638, 0.08661417, 0.72440945])}}\"}\n",
      "\n",
      "{'name': 'Birthday', 'description': None, 'type': 'date', 'dtype': 'Date', 'prop_missing': 0.08754208754208755, 'distribution': \"{'implements': 'core.uniform_date', 'provenance': 'builtin', 'class_name': 'UniformDateDistribution', 'parameters': {'start': '1903-07-28', 'end': '1940-05-27'}}\"}\n",
      "\n",
      "{'name': 'Board time', 'description': None, 'type': 'time', 'dtype': 'Time', 'prop_missing': 0.08866442199775533, 'distribution': \"{'implements': 'core.uniform_time', 'provenance': 'builtin', 'class_name': 'UniformTimeDistribution', 'parameters': {'start': '10:39:40', 'end': '18:39:28', 'precision': 'seconds'}}\"}\n",
      "\n",
      "{'name': 'Married since', 'description': None, 'type': 'datetime', 'dtype': \"Datetime(time_unit='us', time_zone=None)\", 'prop_missing': 0.10325476992143659, 'distribution': \"{'implements': 'core.uniform_datetime', 'provenance': 'builtin', 'class_name': 'UniformDateTimeDistribution', 'parameters': {'start': '2022-07-15T12:21:15', 'end': '2022-08-15T10:32:05', 'precision': 'seconds'}}\"}\n",
      "\n",
      "{'name': 'all_NA', 'description': None, 'type': 'string', 'dtype': 'Utf8', 'prop_missing': 1.0, 'distribution': \"{'implements': 'core.na', 'provenance': 'builtin', 'class_name': 'NADistribution', 'parameters': {}}\"}\n",
      "\n"
     ]
    }
   ],
   "source": [
    "print(meta_dataset)"
   ]
  },
  {
   "cell_type": "markdown",
   "id": "03b27a95",
   "metadata": {},
   "source": [
    "## Step 3: Saving the metadata in a file\n",
    "\n",
    "After creating the metadata, we can save it to a file. The default format is `json`, meaning the file is quite legible by humans and computers alike. Therefore, it can be checked by the data controller and, when the disclosure risk is deemed to be low, this file can be shared with others."
   ]
  },
  {
   "cell_type": "code",
   "execution_count": 7,
   "id": "11e355f3",
   "metadata": {},
   "outputs": [],
   "source": [
    "file_path = \"demonstration_metadata.json\"\n",
    "meta_dataset.to_json(file_path)"
   ]
  },
  {
   "cell_type": "markdown",
   "id": "6571873d",
   "metadata": {},
   "source": [
    "## Step 4: Generating synthetic data from the metadata"
   ]
  },
  {
   "cell_type": "markdown",
   "id": "fcd16a5a",
   "metadata": {},
   "source": [
    "Upon receiving this file, you can use the MetaSynth package to generate a synthetic version of the dataset:"
   ]
  },
  {
   "cell_type": "code",
   "execution_count": 8,
   "id": "4ccf451c",
   "metadata": {},
   "outputs": [
    {
     "data": {
      "text/html": [
       "<div><style>\n",
       ".dataframe > thead > tr > th,\n",
       ".dataframe > tbody > tr > td {\n",
       "  text-align: right;\n",
       "}\n",
       "</style>\n",
       "<small>shape: (5, 12)</small><table border=\"1\" class=\"dataframe\"><thead><tr><th>PassengerId</th><th>Name</th><th>Sex</th><th>Age</th><th>Parch</th><th>Fare</th><th>Cabin</th><th>Embarked</th><th>Birthday</th><th>Board time</th><th>Married since</th><th>all_NA</th></tr><tr><td>i64</td><td>str</td><td>cat</td><td>i64</td><td>i64</td><td>f64</td><td>str</td><td>cat</td><td>date</td><td>time</td><td>datetime[μs]</td><td>f32</td></tr></thead><tbody><tr><td>214</td><td>&quot;9&quot;\n",
       "w])z0#XuNK8…</td><td>&quot;male&quot;</td><td>19</td><td>0</td><td>19.020167</td><td>&quot;TLz~/=[4!Y/&quot;</td><td>&quot;S&quot;</td><td>1932-11-07</td><td>15:06:07</td><td>2022-07-27 11:20:49</td><td>null</td></tr><tr><td>679</td><td>&quot;-A@C&amp;s3kGrFlI&quot;</td><td>&quot;female&quot;</td><td>null</td><td>2</td><td>22.278076</td><td>null</td><td>&quot;S&quot;</td><td>1919-05-15</td><td>16:58:22</td><td>2022-07-25 23:06:38</td><td>null</td></tr><tr><td>21</td><td>&quot;\\OqxLpRUb`pb&amp;$…</td><td>&quot;male&quot;</td><td>50</td><td>2</td><td>1.349379</td><td>&quot;D27W&quot;</td><td>&quot;S&quot;</td><td>1921-10-27</td><td>null</td><td>2022-08-09 01:03:33</td><td>null</td></tr><tr><td>107</td><td>&quot;tr:#\r",
       "NgUA,T\u000b",
       "xR…</td><td>&quot;female&quot;</td><td>69</td><td>0</td><td>77.426879</td><td>&quot;G=Bs[\tV24]tqe#…</td><td>&quot;S&quot;</td><td>1905-02-18</td><td>11:17:27</td><td>2022-07-16 01:45:17</td><td>null</td></tr><tr><td>515</td><td>&quot;q}L+3\r",
       "Q)1:C5D?…</td><td>&quot;male&quot;</td><td>13</td><td>0</td><td>67.02794</td><td>null</td><td>&quot;S&quot;</td><td>1906-11-08</td><td>17:45:01</td><td>null</td><td>null</td></tr></tbody></table></div>"
      ],
      "text/plain": [
       "shape: (5, 12)\n",
       "┌─────────────┬──────────────┬────────┬──────┬───┬────────────┬────────────┬──────────────┬────────┐\n",
       "│ PassengerId ┆ Name         ┆ Sex    ┆ Age  ┆ … ┆ Birthday   ┆ Board time ┆ Married      ┆ all_NA │\n",
       "│ ---         ┆ ---          ┆ ---    ┆ ---  ┆   ┆ ---        ┆ ---        ┆ since        ┆ ---    │\n",
       "│ i64         ┆ str          ┆ cat    ┆ i64  ┆   ┆ date       ┆ time       ┆ ---          ┆ f32    │\n",
       "│             ┆              ┆        ┆      ┆   ┆            ┆            ┆ datetime[μs] ┆        │\n",
       "╞═════════════╪══════════════╪════════╪══════╪═══╪════════════╪════════════╪══════════════╪════════╡\n",
       "│ 214         ┆ 9\"           ┆ male   ┆ 19   ┆ … ┆ 1932-11-07 ┆ 15:06:07   ┆ 2022-07-27   ┆ null   │\n",
       "│             ┆ w])z0#XuNK8\n",
       "  ┆        ┆      ┆   ┆            ┆            ┆ 11:20:49     ┆        │\n",
       "│             ┆ r[fj\t>.Pc|    ┆        ┆      ┆   ┆            ┆            ┆              ┆        │\n",
       "│             ┆ \n",
       "OL,^4…       ┆        ┆      ┆   ┆            ┆            ┆              ┆        │\n",
       "│ 679         ┆ -A@C&s3kGrFl ┆ female ┆ null ┆ … ┆ 1919-05-15 ┆ 16:58:22   ┆ 2022-07-25   ┆ null   │\n",
       "│             ┆ I            ┆        ┆      ┆   ┆            ┆            ┆ 23:06:38     ┆        │\n",
       "│ 21          ┆ \\OqxLpRUb`pb ┆ male   ┆ 50   ┆ … ┆ 1921-10-27 ┆ null       ┆ 2022-08-09   ┆ null   │\n",
       "│             ┆ &$&          ┆        ┆      ┆   ┆            ┆            ┆ 01:03:33     ┆        │\n",
       "│             ┆ \n",
       "V=\"_BCP<hBq  ┆        ┆      ┆   ┆            ┆            ┆              ┆        │\n",
       "│             ┆ c8ry…        ┆        ┆      ┆   ┆            ┆            ┆              ┆        │\n",
       "│ 107         ┆ tr:#\n",
       "NgUA,T\n",
       "   ┆ female ┆ 69   ┆ … ┆ 1905-02-18 ┆ 11:17:27   ┆ 2022-07-16   ┆ null   │\n",
       "│             ┆ xR&)F4mi#al. ┆        ┆      ┆   ┆            ┆            ┆ 01:45:17     ┆        │\n",
       "│             ┆ @U&5F]de…    ┆        ┆      ┆   ┆            ┆            ┆              ┆        │\n",
       "│ 515         ┆ q}L+3\n",
       "Q)1:C5  ┆ male   ┆ 13   ┆ … ┆ 1906-11-08 ┆ 17:45:01   ┆ null         ┆ null   │\n",
       "│             ┆ D?&\"ecS.n`KD ┆        ┆      ┆   ┆            ┆            ┆              ┆        │\n",
       "│             ┆ twbrz\"%O…    ┆        ┆      ┆   ┆            ┆            ┆              ┆        │\n",
       "└─────────────┴──────────────┴────────┴──────┴───┴────────────┴────────────┴──────────────┴────────┘"
      ]
     },
     "execution_count": 8,
     "metadata": {},
     "output_type": "execute_result"
    }
   ],
   "source": [
    "new_meta_dataset = MetaFrame.from_json(file_path)\n",
    "new_meta_dataset.synthesize(5)"
   ]
  },
  {
   "cell_type": "markdown",
   "id": "669b1e95",
   "metadata": {},
   "source": [
    "As you can see, the fake data looks a lot like the real data! However, it could still use some improvement. In the next sections, we will explore manual changes we can make to improve the quality of the synthetic data."
   ]
  },
  {
   "cell_type": "markdown",
   "id": "e4cfe6cd",
   "metadata": {},
   "source": [
    "## Step 5: Improving the quality of the synthetic data"
   ]
  },
  {
   "cell_type": "markdown",
   "id": "df32cc3a",
   "metadata": {},
   "source": [
    "### Set unique columns\n",
    "\n",
    "One column (PassengerId) has been detected as possibly unique by MetaSynth, as indicated by the following warning:\n",
    "\n",
    "> \"Variable PassengerId seems unique, but not set to be unique.\"\n",
    "\n",
    "This column holds a variable with unique passenger identifiers, so in fact we do want synthetic data generated for this column to be unique as well. We can add this to the metadata by creating a list of options which we call a `specification`, or `spec`:"
   ]
  },
  {
   "cell_type": "code",
   "execution_count": 9,
   "id": "e7b76751",
   "metadata": {},
   "outputs": [
    {
     "data": {
      "text/plain": [
       "{'name': 'PassengerId',\n",
       " 'type': 'discrete',\n",
       " 'dtype': 'Int64',\n",
       " 'prop_missing': 0.0,\n",
       " 'distribution': {'implements': 'core.unique_key',\n",
       "  'provenance': 'builtin',\n",
       "  'class_name': 'UniqueKeyDistribution',\n",
       "  'parameters': {'low': 1, 'consecutive': 1}}}"
      ]
     },
     "execution_count": 9,
     "metadata": {},
     "output_type": "execute_result"
    }
   ],
   "source": [
    "# First, we create a specification dictionary for the variables\n",
    "var_spec = {\n",
    "    \"PassengerId\": {\"unique\": True}\n",
    "}\n",
    "\n",
    "# then, we add that dictionary as the `spec` argument\n",
    "meta_dataset = MetaFrame.fit_dataframe(df, spec=var_spec)\n",
    "\n",
    "# then, let's check what the metadata about PassengerId contains!\n",
    "meta_dataset[\"PassengerId\"].to_dict()"
   ]
  },
  {
   "cell_type": "markdown",
   "id": "a28f0970",
   "metadata": {},
   "source": [
    "So let's check what is generated from this new metadata:"
   ]
  },
  {
   "cell_type": "code",
   "execution_count": 10,
   "id": "38c2f4b6",
   "metadata": {},
   "outputs": [
    {
     "data": {
      "text/html": [
       "<div><style>\n",
       ".dataframe > thead > tr > th,\n",
       ".dataframe > tbody > tr > td {\n",
       "  text-align: right;\n",
       "}\n",
       "</style>\n",
       "<small>shape: (5, 12)</small><table border=\"1\" class=\"dataframe\"><thead><tr><th>PassengerId</th><th>Name</th><th>Sex</th><th>Age</th><th>Parch</th><th>Fare</th><th>Cabin</th><th>Embarked</th><th>Birthday</th><th>Board time</th><th>Married since</th><th>all_NA</th></tr><tr><td>i64</td><td>str</td><td>cat</td><td>i64</td><td>i64</td><td>f64</td><td>str</td><td>cat</td><td>date</td><td>time</td><td>datetime[μs]</td><td>f32</td></tr></thead><tbody><tr><td>1</td><td>&quot;&amp;c{&amp;oVHiru-x_H…</td><td>&quot;female&quot;</td><td>12</td><td>1</td><td>64.685147</td><td>&quot;AV0Hb,\f",
       "wo\u000b",
       "&quot;</td><td>&quot;C&quot;</td><td>1911-07-07</td><td>11:27:14</td><td>2022-07-29 07:59:06</td><td>null</td></tr><tr><td>2</td><td>&quot;,=x/6ly}&gt;d[ceK…</td><td>&quot;female&quot;</td><td>22</td><td>0</td><td>11.644796</td><td>null</td><td>&quot;S&quot;</td><td>1928-09-20</td><td>17:17:14</td><td>2022-08-12 07:07:39</td><td>null</td></tr><tr><td>3</td><td>&quot;hfbf&#x27;Zc\tC$=:S[…</td><td>&quot;male&quot;</td><td>30</td><td>0</td><td>1.893007</td><td>null</td><td>&quot;S&quot;</td><td>null</td><td>17:08:55</td><td>2022-08-03 22:43:55</td><td>null</td></tr><tr><td>4</td><td>&quot;qDjS6Y&gt;}kl6Z&#x27;\n",
       "…</td><td>&quot;male&quot;</td><td>67</td><td>0</td><td>70.434857</td><td>null</td><td>&quot;S&quot;</td><td>1940-05-22</td><td>13:13:42</td><td>2022-08-05 10:39:48</td><td>null</td></tr><tr><td>5</td><td>&quot;/@@tvl#\u000b",
       "\u000b",
       "Wi\r",
       "q~…</td><td>&quot;male&quot;</td><td>null</td><td>0</td><td>2.197158</td><td>null</td><td>&quot;C&quot;</td><td>null</td><td>17:33:28</td><td>2022-08-01 01:17:44</td><td>null</td></tr></tbody></table></div>"
      ],
      "text/plain": [
       "shape: (5, 12)\n",
       "┌─────────────┬──────────────┬────────┬──────┬───┬────────────┬────────────┬──────────────┬────────┐\n",
       "│ PassengerId ┆ Name         ┆ Sex    ┆ Age  ┆ … ┆ Birthday   ┆ Board time ┆ Married      ┆ all_NA │\n",
       "│ ---         ┆ ---          ┆ ---    ┆ ---  ┆   ┆ ---        ┆ ---        ┆ since        ┆ ---    │\n",
       "│ i64         ┆ str          ┆ cat    ┆ i64  ┆   ┆ date       ┆ time       ┆ ---          ┆ f32    │\n",
       "│             ┆              ┆        ┆      ┆   ┆            ┆            ┆ datetime[μs] ┆        │\n",
       "╞═════════════╪══════════════╪════════╪══════╪═══╪════════════╪════════════╪══════════════╪════════╡\n",
       "│ 1           ┆ &c{&oVHiru-x ┆ female ┆ 12   ┆ … ┆ 1911-07-07 ┆ 11:27:14   ┆ 2022-07-29   ┆ null   │\n",
       "│             ┆ _Hi8RwvD     ┆        ┆      ┆   ┆            ┆            ┆ 07:59:06     ┆        │\n",
       "│             ┆ cu:fw2j9=X_… ┆        ┆      ┆   ┆            ┆            ┆              ┆        │\n",
       "│ 2           ┆ ,=x/6ly}>d[c ┆ female ┆ 22   ┆ … ┆ 1928-09-20 ┆ 17:17:14   ┆ 2022-08-12   ┆ null   │\n",
       "│             ┆ eK^+U        ┆        ┆      ┆   ┆            ┆            ┆ 07:07:39     ┆        │\n",
       "│ 3           ┆ hfbf'Zc\tC$=:  ┆ male   ┆ 30   ┆ … ┆ null       ┆ 17:08:55   ┆ 2022-08-03   ┆ null   │\n",
       "│             ┆ S[v          ┆        ┆      ┆   ┆            ┆            ┆ 22:43:55     ┆        │\n",
       "│ 4           ┆ qDjS6Y>}kl6Z ┆ male   ┆ 67   ┆ … ┆ 1940-05-22 ┆ 13:13:42   ┆ 2022-08-05   ┆ null   │\n",
       "│             ┆ '            ┆        ┆      ┆   ┆            ┆            ┆ 10:39:48     ┆        │\n",
       "│             ┆ g@:p/y       ┆        ┆      ┆   ┆            ┆            ┆              ┆        │\n",
       "│             ┆ )#fz\n",
       ")wL7F+…  ┆        ┆      ┆   ┆            ┆            ┆              ┆        │\n",
       "│ 5           ┆ /@@tvl#\n",
       "\n",
       "Wi\n",
       "    ┆ male   ┆ null ┆ … ┆ null       ┆ 17:33:28   ┆ 2022-08-01   ┆ null   │\n",
       "│             ┆ q~m,E0e\n",
       "v8cl  ┆        ┆      ┆   ┆            ┆            ┆ 01:17:44     ┆        │\n",
       "│             ┆ p@           ┆        ┆      ┆   ┆            ┆            ┆              ┆        │\n",
       "└─────────────┴──────────────┴────────┴──────┴───┴────────────┴────────────┴──────────────┴────────┘"
      ]
     },
     "execution_count": 10,
     "metadata": {},
     "output_type": "execute_result"
    }
   ],
   "source": [
    "meta_dataset.synthesize(5)"
   ]
  },
  {
   "cell_type": "markdown",
   "id": "11c7f562",
   "metadata": {},
   "source": [
    "Now we that the `PassengerId` column is correctly represented with increasing id numbers."
   ]
  },
  {
   "cell_type": "markdown",
   "id": "6f884eb7",
   "metadata": {},
   "source": [
    "### Fake names (and others)\n",
    "\n",
    "As one can see, the `Name` of the passengers is not quite so well synthesized. The reason is that the string type interpreter in MetaSynth is designed for `structured` strings (like room numbers such as `B1.09`, `B1.01` or `A1.08`) and not unstructured strings. However, MetaSynth supports the [faker](https://faker.readthedocs.io/en/master/index.html) package, which includes a lot of data types that it can fake. The columns using faker are not based on the real data at all so they do not disclose any info about the real data.\n",
    "\n",
    "We fake names as follows:"
   ]
  },
  {
   "cell_type": "code",
   "execution_count": 11,
   "id": "d5615aa0",
   "metadata": {},
   "outputs": [
    {
     "data": {
      "text/html": [
       "<div><style>\n",
       ".dataframe > thead > tr > th,\n",
       ".dataframe > tbody > tr > td {\n",
       "  text-align: right;\n",
       "}\n",
       "</style>\n",
       "<small>shape: (5, 12)</small><table border=\"1\" class=\"dataframe\"><thead><tr><th>PassengerId</th><th>Name</th><th>Sex</th><th>Age</th><th>Parch</th><th>Fare</th><th>Cabin</th><th>Embarked</th><th>Birthday</th><th>Board time</th><th>Married since</th><th>all_NA</th></tr><tr><td>i64</td><td>str</td><td>cat</td><td>i64</td><td>i64</td><td>f64</td><td>str</td><td>cat</td><td>date</td><td>time</td><td>datetime[μs]</td><td>f32</td></tr></thead><tbody><tr><td>1</td><td>&quot;Carlos Kelly&quot;</td><td>&quot;male&quot;</td><td>null</td><td>0</td><td>36.098234</td><td>null</td><td>&quot;S&quot;</td><td>1920-01-16</td><td>15:11:33</td><td>2022-08-10 19:37:08</td><td>null</td></tr><tr><td>2</td><td>&quot;Tara Jackson&quot;</td><td>&quot;male&quot;</td><td>50</td><td>0</td><td>51.496397</td><td>null</td><td>&quot;S&quot;</td><td>1908-08-28</td><td>13:24:30</td><td>2022-08-11 21:29:41</td><td>null</td></tr><tr><td>3</td><td>&quot;John Hall&quot;</td><td>&quot;male&quot;</td><td>51</td><td>0</td><td>59.436604</td><td>null</td><td>&quot;S&quot;</td><td>1920-11-11</td><td>13:33:26</td><td>2022-08-05 11:51:47</td><td>null</td></tr><tr><td>4</td><td>&quot;Tina Coleman&quot;</td><td>&quot;male&quot;</td><td>42</td><td>0</td><td>35.83177</td><td>null</td><td>&quot;C&quot;</td><td>1940-02-22</td><td>12:11:58</td><td>2022-07-24 06:04:20</td><td>null</td></tr><tr><td>5</td><td>&quot;Erik Gentry&quot;</td><td>&quot;male&quot;</td><td>31</td><td>0</td><td>5.418221</td><td>&quot;T~[&lt;;&quot;</td><td>&quot;Q&quot;</td><td>1930-12-15</td><td>16:40:35</td><td>2022-08-01 23:17:03</td><td>null</td></tr></tbody></table></div>"
      ],
      "text/plain": [
       "shape: (5, 12)\n",
       "┌─────────────┬──────────────┬──────┬──────┬───┬────────────┬────────────┬────────────────┬────────┐\n",
       "│ PassengerId ┆ Name         ┆ Sex  ┆ Age  ┆ … ┆ Birthday   ┆ Board time ┆ Married since  ┆ all_NA │\n",
       "│ ---         ┆ ---          ┆ ---  ┆ ---  ┆   ┆ ---        ┆ ---        ┆ ---            ┆ ---    │\n",
       "│ i64         ┆ str          ┆ cat  ┆ i64  ┆   ┆ date       ┆ time       ┆ datetime[μs]   ┆ f32    │\n",
       "╞═════════════╪══════════════╪══════╪══════╪═══╪════════════╪════════════╪════════════════╪════════╡\n",
       "│ 1           ┆ Carlos Kelly ┆ male ┆ null ┆ … ┆ 1920-01-16 ┆ 15:11:33   ┆ 2022-08-10     ┆ null   │\n",
       "│             ┆              ┆      ┆      ┆   ┆            ┆            ┆ 19:37:08       ┆        │\n",
       "│ 2           ┆ Tara Jackson ┆ male ┆ 50   ┆ … ┆ 1908-08-28 ┆ 13:24:30   ┆ 2022-08-11     ┆ null   │\n",
       "│             ┆              ┆      ┆      ┆   ┆            ┆            ┆ 21:29:41       ┆        │\n",
       "│ 3           ┆ John Hall    ┆ male ┆ 51   ┆ … ┆ 1920-11-11 ┆ 13:33:26   ┆ 2022-08-05     ┆ null   │\n",
       "│             ┆              ┆      ┆      ┆   ┆            ┆            ┆ 11:51:47       ┆        │\n",
       "│ 4           ┆ Tina Coleman ┆ male ┆ 42   ┆ … ┆ 1940-02-22 ┆ 12:11:58   ┆ 2022-07-24     ┆ null   │\n",
       "│             ┆              ┆      ┆      ┆   ┆            ┆            ┆ 06:04:20       ┆        │\n",
       "│ 5           ┆ Erik Gentry  ┆ male ┆ 31   ┆ … ┆ 1930-12-15 ┆ 16:40:35   ┆ 2022-08-01     ┆ null   │\n",
       "│             ┆              ┆      ┆      ┆   ┆            ┆            ┆ 23:17:03       ┆        │\n",
       "└─────────────┴──────────────┴──────┴──────┴───┴────────────┴────────────┴────────────────┴────────┘"
      ]
     },
     "execution_count": 11,
     "metadata": {},
     "output_type": "execute_result"
    }
   ],
   "source": [
    "# First, we create a specification dictionary for the variables\n",
    "from metasynth.distribution import FakerDistribution\n",
    "\n",
    "var_spec = {\n",
    "    \"PassengerId\": {\"unique\": True}, \n",
    "    \"Name\": {\"distribution\": FakerDistribution(\"name\")}\n",
    "}\n",
    "\n",
    "meta_dataset = MetaFrame.fit_dataframe(df, spec=var_spec)\n",
    "meta_dataset.synthesize(5)"
   ]
  },
  {
   "cell_type": "markdown",
   "id": "de1fa66b",
   "metadata": {},
   "source": [
    "That already looks a lot better for the `Name` column!"
   ]
  },
  {
   "cell_type": "markdown",
   "id": "cf927af6",
   "metadata": {},
   "source": [
    "### Set distributions manually\n",
    "\n",
    "Without user input, the distribution chosen for each variable is inferred by choosing the best fitting from available distributions for the variable type. However, we can also manually specify which distribution to fit, or we can even just fully specify how the variable should be generated."
   ]
  },
  {
   "cell_type": "code",
   "execution_count": 12,
   "id": "ac4ba506",
   "metadata": {},
   "outputs": [
    {
     "data": {
      "text/html": [
       "<div><style>\n",
       ".dataframe > thead > tr > th,\n",
       ".dataframe > tbody > tr > td {\n",
       "  text-align: right;\n",
       "}\n",
       "</style>\n",
       "<small>shape: (5, 12)</small><table border=\"1\" class=\"dataframe\"><thead><tr><th>PassengerId</th><th>Name</th><th>Sex</th><th>Age</th><th>Parch</th><th>Fare</th><th>Cabin</th><th>Embarked</th><th>Birthday</th><th>Board time</th><th>Married since</th><th>all_NA</th></tr><tr><td>i64</td><td>str</td><td>cat</td><td>i64</td><td>i64</td><td>f64</td><td>str</td><td>cat</td><td>date</td><td>time</td><td>datetime[μs]</td><td>f32</td></tr></thead><tbody><tr><td>1</td><td>&quot;Carlos Kelly&quot;</td><td>&quot;male&quot;</td><td>38</td><td>0</td><td>0.877191</td><td>null</td><td>&quot;S&quot;</td><td>1912-11-12</td><td>17:20:09</td><td>2022-08-12 22:25:55</td><td>null</td></tr><tr><td>2</td><td>&quot;Tara Jackson&quot;</td><td>&quot;male&quot;</td><td>31</td><td>0</td><td>4.810884</td><td>null</td><td>&quot;S&quot;</td><td>1912-08-27</td><td>17:55:01</td><td>2022-08-11 15:14:53</td><td>null</td></tr><tr><td>3</td><td>&quot;John Hall&quot;</td><td>&quot;male&quot;</td><td>null</td><td>0</td><td>4.352428</td><td>null</td><td>&quot;C&quot;</td><td>1932-07-13</td><td>11:00:45</td><td>2022-07-22 14:01:09</td><td>null</td></tr><tr><td>4</td><td>&quot;Tina Coleman&quot;</td><td>&quot;male&quot;</td><td>25</td><td>0</td><td>0.198071</td><td>&quot;T..}X7&quot;</td><td>&quot;S&quot;</td><td>1911-07-18</td><td>11:10:25</td><td>2022-07-27 17:43:37</td><td>null</td></tr><tr><td>5</td><td>&quot;Erik Gentry&quot;</td><td>&quot;male&quot;</td><td>21</td><td>1</td><td>0.560526</td><td>&quot;A1\\khuU5\\FDj&quot;</td><td>&quot;S&quot;</td><td>1934-04-16</td><td>10:51:19</td><td>2022-07-23 10:42:34</td><td>null</td></tr></tbody></table></div>"
      ],
      "text/plain": [
       "shape: (5, 12)\n",
       "┌─────────────┬──────────────┬──────┬──────┬───┬────────────┬────────────┬────────────────┬────────┐\n",
       "│ PassengerId ┆ Name         ┆ Sex  ┆ Age  ┆ … ┆ Birthday   ┆ Board time ┆ Married since  ┆ all_NA │\n",
       "│ ---         ┆ ---          ┆ ---  ┆ ---  ┆   ┆ ---        ┆ ---        ┆ ---            ┆ ---    │\n",
       "│ i64         ┆ str          ┆ cat  ┆ i64  ┆   ┆ date       ┆ time       ┆ datetime[μs]   ┆ f32    │\n",
       "╞═════════════╪══════════════╪══════╪══════╪═══╪════════════╪════════════╪════════════════╪════════╡\n",
       "│ 1           ┆ Carlos Kelly ┆ male ┆ 38   ┆ … ┆ 1912-11-12 ┆ 17:20:09   ┆ 2022-08-12     ┆ null   │\n",
       "│             ┆              ┆      ┆      ┆   ┆            ┆            ┆ 22:25:55       ┆        │\n",
       "│ 2           ┆ Tara Jackson ┆ male ┆ 31   ┆ … ┆ 1912-08-27 ┆ 17:55:01   ┆ 2022-08-11     ┆ null   │\n",
       "│             ┆              ┆      ┆      ┆   ┆            ┆            ┆ 15:14:53       ┆        │\n",
       "│ 3           ┆ John Hall    ┆ male ┆ null ┆ … ┆ 1932-07-13 ┆ 11:00:45   ┆ 2022-07-22     ┆ null   │\n",
       "│             ┆              ┆      ┆      ┆   ┆            ┆            ┆ 14:01:09       ┆        │\n",
       "│ 4           ┆ Tina Coleman ┆ male ┆ 25   ┆ … ┆ 1911-07-18 ┆ 11:10:25   ┆ 2022-07-27     ┆ null   │\n",
       "│             ┆              ┆      ┆      ┆   ┆            ┆            ┆ 17:43:37       ┆        │\n",
       "│ 5           ┆ Erik Gentry  ┆ male ┆ 21   ┆ … ┆ 1934-04-16 ┆ 10:51:19   ┆ 2022-07-23     ┆ null   │\n",
       "│             ┆              ┆      ┆      ┆   ┆            ┆            ┆ 10:42:34       ┆        │\n",
       "└─────────────┴──────────────┴──────┴──────┴───┴────────────┴────────────┴────────────────┴────────┘"
      ]
     },
     "execution_count": 12,
     "metadata": {},
     "output_type": "execute_result"
    }
   ],
   "source": [
    "from metasynth.distribution import DiscreteUniformDistribution\n",
    "\n",
    "var_spec = {\n",
    "    \"PassengerId\": {\"unique\": True}, \n",
    "    \"Name\": {\"distribution\": FakerDistribution(\"name\")},\n",
    "    \"Fare\": {\"distribution\": \"LogNormalDistribution\"}, # estimate / fit an exponential distribution based on the data\n",
    "    \"Age\": {\"distribution\": DiscreteUniformDistribution(20, 40)} # fully specify a distribution for age (uniform between 20 and 40)\n",
    "}\n",
    "\n",
    "meta_dataset = MetaFrame.fit_dataframe(df, spec=var_spec)\n",
    "meta_dataset.synthesize(5)"
   ]
  },
  {
   "cell_type": "markdown",
   "id": "2897133c",
   "metadata": {},
   "source": [
    "### Specifying the distribution of structured strings\n",
    "\n",
    "For more or less structured strings, we can manually set the structure of the strings based on regular expressions. For example, we see that most Cabins are structured like [A-F] and then 2 or 3 digit numbers. We can include this as follows:"
   ]
  },
  {
   "cell_type": "code",
   "execution_count": 13,
   "id": "7b2c4003",
   "metadata": {},
   "outputs": [
    {
     "data": {
      "text/html": [
       "<div><style>\n",
       ".dataframe > thead > tr > th,\n",
       ".dataframe > tbody > tr > td {\n",
       "  text-align: right;\n",
       "}\n",
       "</style>\n",
       "<small>shape: (10, 12)</small><table border=\"1\" class=\"dataframe\"><thead><tr><th>PassengerId</th><th>Name</th><th>Sex</th><th>Age</th><th>Parch</th><th>Fare</th><th>Cabin</th><th>Embarked</th><th>Birthday</th><th>Board time</th><th>Married since</th><th>all_NA</th></tr><tr><td>i64</td><td>str</td><td>cat</td><td>i64</td><td>i64</td><td>f64</td><td>str</td><td>cat</td><td>date</td><td>time</td><td>datetime[μs]</td><td>f32</td></tr></thead><tbody><tr><td>1</td><td>&quot;Carlos Kelly&quot;</td><td>&quot;female&quot;</td><td>29</td><td>0</td><td>11.779226</td><td>null</td><td>&quot;S&quot;</td><td>1905-06-15</td><td>15:52:19</td><td>2022-07-24 21:13:12</td><td>null</td></tr><tr><td>2</td><td>&quot;Tara Jackson&quot;</td><td>&quot;male&quot;</td><td>38</td><td>0</td><td>16.717372</td><td>&quot;F932&quot;</td><td>&quot;S&quot;</td><td>null</td><td>13:23:20</td><td>2022-08-12 03:33:40</td><td>null</td></tr><tr><td>3</td><td>&quot;John Hall&quot;</td><td>&quot;male&quot;</td><td>34</td><td>0</td><td>21.10042</td><td>null</td><td>&quot;S&quot;</td><td>1919-11-24</td><td>17:38:41</td><td>2022-08-07 15:14:21</td><td>null</td></tr><tr><td>4</td><td>&quot;Tina Coleman&quot;</td><td>&quot;male&quot;</td><td>33</td><td>0</td><td>38.372983</td><td>null</td><td>&quot;S&quot;</td><td>1938-09-24</td><td>12:35:36</td><td>2022-07-18 07:01:43</td><td>null</td></tr><tr><td>5</td><td>&quot;Erik Gentry&quot;</td><td>&quot;female&quot;</td><td>30</td><td>1</td><td>30.103301</td><td>null</td><td>&quot;S&quot;</td><td>1935-10-12</td><td>16:28:10</td><td>2022-08-09 14:26:30</td><td>null</td></tr><tr><td>6</td><td>&quot;William Davis&quot;</td><td>&quot;male&quot;</td><td>21</td><td>0</td><td>37.616158</td><td>null</td><td>&quot;S&quot;</td><td>1930-08-13</td><td>16:38:30</td><td>2022-08-12 12:41:44</td><td>null</td></tr><tr><td>7</td><td>&quot;Andrew Moreno&quot;</td><td>&quot;male&quot;</td><td>37</td><td>0</td><td>24.799106</td><td>null</td><td>&quot;S&quot;</td><td>1919-11-26</td><td>17:57:46</td><td>2022-07-17 23:24:14</td><td>null</td></tr><tr><td>8</td><td>&quot;Whitney Brown&quot;</td><td>&quot;male&quot;</td><td>34</td><td>0</td><td>22.466841</td><td>null</td><td>&quot;S&quot;</td><td>1919-07-10</td><td>11:40:18</td><td>2022-08-05 04:17:00</td><td>null</td></tr><tr><td>9</td><td>&quot;Jose Smith&quot;</td><td>&quot;male&quot;</td><td>38</td><td>0</td><td>5.049875</td><td>null</td><td>&quot;S&quot;</td><td>1933-03-06</td><td>16:53:17</td><td>2022-08-10 04:20:27</td><td>null</td></tr><tr><td>10</td><td>&quot;Yolanda Dunn&quot;</td><td>&quot;female&quot;</td><td>27</td><td>1</td><td>1.96723</td><td>null</td><td>&quot;S&quot;</td><td>1927-09-04</td><td>15:17:45</td><td>2022-08-13 23:51:02</td><td>null</td></tr></tbody></table></div>"
      ],
      "text/plain": [
       "shape: (10, 12)\n",
       "┌─────────────┬───────────────┬────────┬─────┬───┬────────────┬────────────┬──────────────┬────────┐\n",
       "│ PassengerId ┆ Name          ┆ Sex    ┆ Age ┆ … ┆ Birthday   ┆ Board time ┆ Married      ┆ all_NA │\n",
       "│ ---         ┆ ---           ┆ ---    ┆ --- ┆   ┆ ---        ┆ ---        ┆ since        ┆ ---    │\n",
       "│ i64         ┆ str           ┆ cat    ┆ i64 ┆   ┆ date       ┆ time       ┆ ---          ┆ f32    │\n",
       "│             ┆               ┆        ┆     ┆   ┆            ┆            ┆ datetime[μs] ┆        │\n",
       "╞═════════════╪═══════════════╪════════╪═════╪═══╪════════════╪════════════╪══════════════╪════════╡\n",
       "│ 1           ┆ Carlos Kelly  ┆ female ┆ 29  ┆ … ┆ 1905-06-15 ┆ 15:52:19   ┆ 2022-07-24   ┆ null   │\n",
       "│             ┆               ┆        ┆     ┆   ┆            ┆            ┆ 21:13:12     ┆        │\n",
       "│ 2           ┆ Tara Jackson  ┆ male   ┆ 38  ┆ … ┆ null       ┆ 13:23:20   ┆ 2022-08-12   ┆ null   │\n",
       "│             ┆               ┆        ┆     ┆   ┆            ┆            ┆ 03:33:40     ┆        │\n",
       "│ 3           ┆ John Hall     ┆ male   ┆ 34  ┆ … ┆ 1919-11-24 ┆ 17:38:41   ┆ 2022-08-07   ┆ null   │\n",
       "│             ┆               ┆        ┆     ┆   ┆            ┆            ┆ 15:14:21     ┆        │\n",
       "│ 4           ┆ Tina Coleman  ┆ male   ┆ 33  ┆ … ┆ 1938-09-24 ┆ 12:35:36   ┆ 2022-07-18   ┆ null   │\n",
       "│             ┆               ┆        ┆     ┆   ┆            ┆            ┆ 07:01:43     ┆        │\n",
       "│ …           ┆ …             ┆ …      ┆ …   ┆ … ┆ …          ┆ …          ┆ …            ┆ …      │\n",
       "│ 7           ┆ Andrew Moreno ┆ male   ┆ 37  ┆ … ┆ 1919-11-26 ┆ 17:57:46   ┆ 2022-07-17   ┆ null   │\n",
       "│             ┆               ┆        ┆     ┆   ┆            ┆            ┆ 23:24:14     ┆        │\n",
       "│ 8           ┆ Whitney Brown ┆ male   ┆ 34  ┆ … ┆ 1919-07-10 ┆ 11:40:18   ┆ 2022-08-05   ┆ null   │\n",
       "│             ┆               ┆        ┆     ┆   ┆            ┆            ┆ 04:17:00     ┆        │\n",
       "│ 9           ┆ Jose Smith    ┆ male   ┆ 38  ┆ … ┆ 1933-03-06 ┆ 16:53:17   ┆ 2022-08-10   ┆ null   │\n",
       "│             ┆               ┆        ┆     ┆   ┆            ┆            ┆ 04:20:27     ┆        │\n",
       "│ 10          ┆ Yolanda Dunn  ┆ female ┆ 27  ┆ … ┆ 1927-09-04 ┆ 15:17:45   ┆ 2022-08-13   ┆ null   │\n",
       "│             ┆               ┆        ┆     ┆   ┆            ┆            ┆ 23:51:02     ┆        │\n",
       "└─────────────┴───────────────┴────────┴─────┴───┴────────────┴────────────┴──────────────┴────────┘"
      ]
     },
     "execution_count": 13,
     "metadata": {},
     "output_type": "execute_result"
    }
   ],
   "source": [
    "from metasynth.distribution import RegexDistribution\n",
    "\n",
    "# To create a regex distribution, you need a list of tuples, where each tuple is an element.\n",
    "# The first part of the tuple is a string representation of the regex, while the second is the proportion of the\n",
    "# time the regex element is used.\n",
    "cabin_distribution = RegexDistribution(r\"[ABCDEF]\\d{2,3}\")  # Add the r so that it becomes a literal string.\n",
    "# just for completeness: data generated from this distribution will always match the regex [ABCDEF]?(\\d{2,3})?\n",
    "\n",
    "var_spec = {\n",
    "    \"PassengerId\": {\"unique\": True}, \n",
    "    \"Name\": {\"distribution\": FakerDistribution(\"name\")},\n",
    "    \"Fare\": {\"distribution\": \"ExponentialDistribution\"}, # estimate / fit an exponential distribution based on the data\n",
    "    \"Age\": {\"distribution\": DiscreteUniformDistribution(20, 40)}, # fully specify a distribution for age (uniform between 20 and 40)\n",
    "    \"Cabin\": {\"distribution\": cabin_distribution}\n",
    "}\n",
    "\n",
    "meta_dataset = MetaFrame.fit_dataframe(df, spec=var_spec)\n",
    "meta_dataset.synthesize(10)"
   ]
  },
  {
   "cell_type": "markdown",
   "id": "93499251",
   "metadata": {},
   "source": [
    "## Comparing the final synthetic dataset to the original"
   ]
  },
  {
   "cell_type": "markdown",
   "id": "b2068e1d",
   "metadata": {},
   "source": [
    "Let's first compare the averages of the numerical columns:"
   ]
  },
  {
   "cell_type": "code",
   "execution_count": 14,
   "id": "a857ee6e",
   "metadata": {},
   "outputs": [
    {
     "data": {
      "text/html": [
       "<div><style>\n",
       ".dataframe > thead > tr > th,\n",
       ".dataframe > tbody > tr > td {\n",
       "  text-align: right;\n",
       "}\n",
       "</style>\n",
       "<small>shape: (1, 12)</small><table border=\"1\" class=\"dataframe\"><thead><tr><th>PassengerId</th><th>Name</th><th>Sex</th><th>Age</th><th>Parch</th><th>Fare</th><th>Cabin</th><th>Embarked</th><th>Birthday</th><th>Board time</th><th>Married since</th><th>all_NA</th></tr><tr><td>f64</td><td>str</td><td>cat</td><td>f64</td><td>f64</td><td>f64</td><td>str</td><td>cat</td><td>date</td><td>time</td><td>datetime[μs]</td><td>str</td></tr></thead><tbody><tr><td>446.0</td><td>null</td><td>null</td><td>29.693277</td><td>0.381594</td><td>32.204208</td><td>null</td><td>null</td><td>null</td><td>null</td><td>null</td><td>null</td></tr></tbody></table></div>"
      ],
      "text/plain": [
       "shape: (1, 12)\n",
       "┌─────────────┬──────┬──────┬───────────┬───┬──────────┬────────────┬───────────────┬────────┐\n",
       "│ PassengerId ┆ Name ┆ Sex  ┆ Age       ┆ … ┆ Birthday ┆ Board time ┆ Married since ┆ all_NA │\n",
       "│ ---         ┆ ---  ┆ ---  ┆ ---       ┆   ┆ ---      ┆ ---        ┆ ---           ┆ ---    │\n",
       "│ f64         ┆ str  ┆ cat  ┆ f64       ┆   ┆ date     ┆ time       ┆ datetime[μs]  ┆ str    │\n",
       "╞═════════════╪══════╪══════╪═══════════╪═══╪══════════╪════════════╪═══════════════╪════════╡\n",
       "│ 446.0       ┆ null ┆ null ┆ 29.693277 ┆ … ┆ null     ┆ null       ┆ null          ┆ null   │\n",
       "└─────────────┴──────┴──────┴───────────┴───┴──────────┴────────────┴───────────────┴────────┘"
      ]
     },
     "execution_count": 14,
     "metadata": {},
     "output_type": "execute_result"
    }
   ],
   "source": [
    "df.mean()"
   ]
  },
  {
   "cell_type": "code",
   "execution_count": 15,
   "id": "0ba303f3",
   "metadata": {},
   "outputs": [
    {
     "data": {
      "text/html": [
       "<div><style>\n",
       ".dataframe > thead > tr > th,\n",
       ".dataframe > tbody > tr > td {\n",
       "  text-align: right;\n",
       "}\n",
       "</style>\n",
       "<small>shape: (1, 12)</small><table border=\"1\" class=\"dataframe\"><thead><tr><th>PassengerId</th><th>Name</th><th>Sex</th><th>Age</th><th>Parch</th><th>Fare</th><th>Cabin</th><th>Embarked</th><th>Birthday</th><th>Board time</th><th>Married since</th><th>all_NA</th></tr><tr><td>f64</td><td>str</td><td>cat</td><td>f64</td><td>f64</td><td>f64</td><td>str</td><td>cat</td><td>date</td><td>time</td><td>datetime[μs]</td><td>f32</td></tr></thead><tbody><tr><td>446.0</td><td>null</td><td>null</td><td>29.707042</td><td>0.379349</td><td>29.770945</td><td>null</td><td>null</td><td>null</td><td>null</td><td>null</td><td>null</td></tr></tbody></table></div>"
      ],
      "text/plain": [
       "shape: (1, 12)\n",
       "┌─────────────┬──────┬──────┬───────────┬───┬──────────┬────────────┬───────────────┬────────┐\n",
       "│ PassengerId ┆ Name ┆ Sex  ┆ Age       ┆ … ┆ Birthday ┆ Board time ┆ Married since ┆ all_NA │\n",
       "│ ---         ┆ ---  ┆ ---  ┆ ---       ┆   ┆ ---      ┆ ---        ┆ ---           ┆ ---    │\n",
       "│ f64         ┆ str  ┆ cat  ┆ f64       ┆   ┆ date     ┆ time       ┆ datetime[μs]  ┆ f32    │\n",
       "╞═════════════╪══════╪══════╪═══════════╪═══╪══════════╪════════════╪═══════════════╪════════╡\n",
       "│ 446.0       ┆ null ┆ null ┆ 29.707042 ┆ … ┆ null     ┆ null       ┆ null          ┆ null   │\n",
       "└─────────────┴──────┴──────┴───────────┴───┴──────────┴────────────┴───────────────┴────────┘"
      ]
     },
     "execution_count": 15,
     "metadata": {},
     "output_type": "execute_result"
    }
   ],
   "source": [
    "meta_dataset.synthesize(len(df)).mean()"
   ]
  },
  {
   "cell_type": "markdown",
   "id": "89dfda1b",
   "metadata": {},
   "source": [
    "Then, we can also see how many missing values are in each column"
   ]
  },
  {
   "cell_type": "code",
   "execution_count": 16,
   "id": "c6ca2918",
   "metadata": {},
   "outputs": [
    {
     "data": {
      "text/html": [
       "<div><style>\n",
       ".dataframe > thead > tr > th,\n",
       ".dataframe > tbody > tr > td {\n",
       "  text-align: right;\n",
       "}\n",
       "</style>\n",
       "<small>shape: (1, 12)</small><table border=\"1\" class=\"dataframe\"><thead><tr><th>PassengerId</th><th>Name</th><th>Sex</th><th>Age</th><th>Parch</th><th>Fare</th><th>Cabin</th><th>Embarked</th><th>Birthday</th><th>Board time</th><th>Married since</th><th>all_NA</th></tr><tr><td>u32</td><td>u32</td><td>u32</td><td>u32</td><td>u32</td><td>u32</td><td>u32</td><td>u32</td><td>u32</td><td>u32</td><td>u32</td><td>u32</td></tr></thead><tbody><tr><td>0</td><td>0</td><td>0</td><td>177</td><td>0</td><td>0</td><td>687</td><td>2</td><td>78</td><td>79</td><td>92</td><td>891</td></tr></tbody></table></div>"
      ],
      "text/plain": [
       "shape: (1, 12)\n",
       "┌─────────────┬──────┬─────┬─────┬───┬──────────┬────────────┬───────────────┬────────┐\n",
       "│ PassengerId ┆ Name ┆ Sex ┆ Age ┆ … ┆ Birthday ┆ Board time ┆ Married since ┆ all_NA │\n",
       "│ ---         ┆ ---  ┆ --- ┆ --- ┆   ┆ ---      ┆ ---        ┆ ---           ┆ ---    │\n",
       "│ u32         ┆ u32  ┆ u32 ┆ u32 ┆   ┆ u32      ┆ u32        ┆ u32           ┆ u32    │\n",
       "╞═════════════╪══════╪═════╪═════╪═══╪══════════╪════════════╪═══════════════╪════════╡\n",
       "│ 0           ┆ 0    ┆ 0   ┆ 177 ┆ … ┆ 78       ┆ 79         ┆ 92            ┆ 891    │\n",
       "└─────────────┴──────┴─────┴─────┴───┴──────────┴────────────┴───────────────┴────────┘"
      ]
     },
     "execution_count": 16,
     "metadata": {},
     "output_type": "execute_result"
    }
   ],
   "source": [
    "df.null_count()"
   ]
  },
  {
   "cell_type": "code",
   "execution_count": 17,
   "id": "1dd596fb",
   "metadata": {},
   "outputs": [
    {
     "data": {
      "text/html": [
       "<div><style>\n",
       ".dataframe > thead > tr > th,\n",
       ".dataframe > tbody > tr > td {\n",
       "  text-align: right;\n",
       "}\n",
       "</style>\n",
       "<small>shape: (1, 12)</small><table border=\"1\" class=\"dataframe\"><thead><tr><th>PassengerId</th><th>Name</th><th>Sex</th><th>Age</th><th>Parch</th><th>Fare</th><th>Cabin</th><th>Embarked</th><th>Birthday</th><th>Board time</th><th>Married since</th><th>all_NA</th></tr><tr><td>u32</td><td>u32</td><td>u32</td><td>u32</td><td>u32</td><td>u32</td><td>u32</td><td>u32</td><td>u32</td><td>u32</td><td>u32</td><td>u32</td></tr></thead><tbody><tr><td>0</td><td>0</td><td>0</td><td>175</td><td>0</td><td>0</td><td>694</td><td>2</td><td>73</td><td>81</td><td>98</td><td>891</td></tr></tbody></table></div>"
      ],
      "text/plain": [
       "shape: (1, 12)\n",
       "┌─────────────┬──────┬─────┬─────┬───┬──────────┬────────────┬───────────────┬────────┐\n",
       "│ PassengerId ┆ Name ┆ Sex ┆ Age ┆ … ┆ Birthday ┆ Board time ┆ Married since ┆ all_NA │\n",
       "│ ---         ┆ ---  ┆ --- ┆ --- ┆   ┆ ---      ┆ ---        ┆ ---           ┆ ---    │\n",
       "│ u32         ┆ u32  ┆ u32 ┆ u32 ┆   ┆ u32      ┆ u32        ┆ u32           ┆ u32    │\n",
       "╞═════════════╪══════╪═════╪═════╪═══╪══════════╪════════════╪═══════════════╪════════╡\n",
       "│ 0           ┆ 0    ┆ 0   ┆ 175 ┆ … ┆ 73       ┆ 81         ┆ 98            ┆ 891    │\n",
       "└─────────────┴──────┴─────┴─────┴───┴──────────┴────────────┴───────────────┴────────┘"
      ]
     },
     "execution_count": 17,
     "metadata": {},
     "output_type": "execute_result"
    }
   ],
   "source": [
    "meta_dataset.synthesize(len(df)).null_count()"
   ]
  }
 ],
 "metadata": {
  "kernelspec": {
   "display_name": "Python 3 (ipykernel)",
   "language": "python",
   "name": "python3"
  },
  "language_info": {
   "codemirror_mode": {
    "name": "ipython",
    "version": 3
   },
   "file_extension": ".py",
   "mimetype": "text/x-python",
   "name": "python",
   "nbconvert_exporter": "python",
   "pygments_lexer": "ipython3",
   "version": "3.9.10"
  },
  "vscode": {
   "interpreter": {
    "hash": "fdb1107d616260949a63e5f4e2c5568939cf2f2c0d0d70930ae22d4d9fd1a8a0"
   }
  }
 },
 "nbformat": 4,
 "nbformat_minor": 5
}
