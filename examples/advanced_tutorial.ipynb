{
 "cells": [
  {
   "cell_type": "markdown",
   "id": "f5c6597b",
   "metadata": {},
   "source": [
    "# Advanced Tutorial on MetaSynth\n",
    "\n",
    "In this tutorial, we will be creating a `generative metadata format` (`gmf`) metadata file from a dataset using MetaSynth. We are going to walk through some of the advanced abilities of MetaSynth, such as handling dates, setting distributions and ensuring uniqueness in columns. This example workflow starts from a `.csv` file as input, but it easily adapted to other formats. \n",
    "\n",
    "You can run this notebook by checking out the MetaSynth repo and installing metasynth with `pip install metasynth`"
   ]
  },
  {
   "cell_type": "code",
   "execution_count": 1,
   "id": "e4fae59f",
   "metadata": {},
   "outputs": [],
   "source": [
    "# %pip install metasynth"
   ]
  },
  {
   "cell_type": "code",
   "execution_count": 2,
   "id": "2442cb34",
   "metadata": {},
   "outputs": [],
   "source": [
    "# import required packages\n",
    "import datetime as dt\n",
    "import polars as pl\n",
    "from metasynth import MetaDataset, demo_file"
   ]
  },
  {
   "cell_type": "markdown",
   "id": "04466c26",
   "metadata": {},
   "source": [
    "## Step 1: Transforming your data into a polars DataFrame\n",
    "\n",
    "The first step in creating the metadata is reading and converting your dataset to a polars DataFrame. "
   ]
  },
  {
   "cell_type": "code",
   "execution_count": 3,
   "id": "3c2a44b7",
   "metadata": {},
   "outputs": [
    {
     "data": {
      "text/html": [
       "<div><style>\n",
       ".dataframe > thead > tr > th,\n",
       ".dataframe > tbody > tr > td {\n",
       "  text-align: right;\n",
       "}\n",
       "</style>\n",
       "<small>shape: (5, 12)</small><table border=\"1\" class=\"dataframe\"><thead><tr><th>PassengerId</th><th>Name</th><th>Sex</th><th>Age</th><th>Parch</th><th>Fare</th><th>Cabin</th><th>Embarked</th><th>Birthday</th><th>Board time</th><th>Married since</th><th>all_NA</th></tr><tr><td>i64</td><td>str</td><td>cat</td><td>i64</td><td>i64</td><td>f64</td><td>str</td><td>cat</td><td>date</td><td>time</td><td>datetime[μs]</td><td>str</td></tr></thead><tbody><tr><td>1</td><td>&quot;Braund, Mr. Ow…</td><td>&quot;male&quot;</td><td>22</td><td>0</td><td>7.25</td><td>null</td><td>&quot;S&quot;</td><td>1937-10-28</td><td>15:53:04</td><td>2022-08-05 04:43:34</td><td>null</td></tr><tr><td>2</td><td>&quot;Cumings, Mrs. …</td><td>&quot;female&quot;</td><td>38</td><td>0</td><td>71.2833</td><td>&quot;C85&quot;</td><td>&quot;C&quot;</td><td>null</td><td>12:26:00</td><td>2022-08-07 01:56:33</td><td>null</td></tr><tr><td>3</td><td>&quot;Heikkinen, Mis…</td><td>&quot;female&quot;</td><td>26</td><td>0</td><td>7.925</td><td>null</td><td>&quot;S&quot;</td><td>1931-09-24</td><td>16:08:25</td><td>2022-08-04 20:27:37</td><td>null</td></tr><tr><td>4</td><td>&quot;Futrelle, Mrs.…</td><td>&quot;female&quot;</td><td>35</td><td>0</td><td>53.1</td><td>&quot;C123&quot;</td><td>&quot;S&quot;</td><td>1936-11-30</td><td>null</td><td>2022-08-07 07:05:55</td><td>null</td></tr><tr><td>5</td><td>&quot;Allen, Mr. Wil…</td><td>&quot;male&quot;</td><td>35</td><td>0</td><td>8.05</td><td>null</td><td>&quot;S&quot;</td><td>1918-11-07</td><td>10:59:08</td><td>2022-08-02 15:13:34</td><td>null</td></tr></tbody></table></div>"
      ],
      "text/plain": [
       "shape: (5, 12)\n",
       "┌─────────────┬───────────────┬────────┬─────┬───┬────────────┬────────────┬──────────────┬────────┐\n",
       "│ PassengerId ┆ Name          ┆ Sex    ┆ Age ┆ … ┆ Birthday   ┆ Board time ┆ Married      ┆ all_NA │\n",
       "│ ---         ┆ ---           ┆ ---    ┆ --- ┆   ┆ ---        ┆ ---        ┆ since        ┆ ---    │\n",
       "│ i64         ┆ str           ┆ cat    ┆ i64 ┆   ┆ date       ┆ time       ┆ ---          ┆ str    │\n",
       "│             ┆               ┆        ┆     ┆   ┆            ┆            ┆ datetime[μs] ┆        │\n",
       "╞═════════════╪═══════════════╪════════╪═════╪═══╪════════════╪════════════╪══════════════╪════════╡\n",
       "│ 1           ┆ Braund, Mr.   ┆ male   ┆ 22  ┆ … ┆ 1937-10-28 ┆ 15:53:04   ┆ 2022-08-05   ┆ null   │\n",
       "│             ┆ Owen Harris   ┆        ┆     ┆   ┆            ┆            ┆ 04:43:34     ┆        │\n",
       "│ 2           ┆ Cumings, Mrs. ┆ female ┆ 38  ┆ … ┆ null       ┆ 12:26:00   ┆ 2022-08-07   ┆ null   │\n",
       "│             ┆ John Bradley  ┆        ┆     ┆   ┆            ┆            ┆ 01:56:33     ┆        │\n",
       "│             ┆ (Flor…        ┆        ┆     ┆   ┆            ┆            ┆              ┆        │\n",
       "│ 3           ┆ Heikkinen,    ┆ female ┆ 26  ┆ … ┆ 1931-09-24 ┆ 16:08:25   ┆ 2022-08-04   ┆ null   │\n",
       "│             ┆ Miss. Laina   ┆        ┆     ┆   ┆            ┆            ┆ 20:27:37     ┆        │\n",
       "│ 4           ┆ Futrelle,     ┆ female ┆ 35  ┆ … ┆ 1936-11-30 ┆ null       ┆ 2022-08-07   ┆ null   │\n",
       "│             ┆ Mrs. Jacques  ┆        ┆     ┆   ┆            ┆            ┆ 07:05:55     ┆        │\n",
       "│             ┆ Heath (Li…    ┆        ┆     ┆   ┆            ┆            ┆              ┆        │\n",
       "│ 5           ┆ Allen, Mr.    ┆ male   ┆ 35  ┆ … ┆ 1918-11-07 ┆ 10:59:08   ┆ 2022-08-02   ┆ null   │\n",
       "│             ┆ William Henry ┆        ┆     ┆   ┆            ┆            ┆ 15:13:34     ┆        │\n",
       "└─────────────┴───────────────┴────────┴─────┴───┴────────────┴────────────┴──────────────┴────────┘"
      ]
     },
     "execution_count": 3,
     "metadata": {},
     "output_type": "execute_result"
    }
   ],
   "source": [
    "demonstration_fp = demo_file()\n",
    "df = pl.read_csv(demonstration_fp, try_parse_dates=True, dtypes={\n",
    "    \"Sex\": pl.Categorical,\n",
    "    \"Embarked\": pl.Categorical})\n",
    "df.head()"
   ]
  },
  {
   "cell_type": "markdown",
   "id": "1e2481d4",
   "metadata": {},
   "source": [
    "Now, let's check the data types of our DataFrame:"
   ]
  },
  {
   "cell_type": "code",
   "execution_count": 4,
   "id": "0a5a1aa2",
   "metadata": {},
   "outputs": [
    {
     "data": {
      "text/plain": [
       "{'PassengerId': Int64,\n",
       " 'Name': Utf8,\n",
       " 'Sex': Categorical,\n",
       " 'Age': Int64,\n",
       " 'Parch': Int64,\n",
       " 'Fare': Float64,\n",
       " 'Cabin': Utf8,\n",
       " 'Embarked': Categorical,\n",
       " 'Birthday': Date,\n",
       " 'Board time': Time,\n",
       " 'Married since': Datetime(time_unit='us', time_zone=None),\n",
       " 'all_NA': Utf8}"
      ]
     },
     "execution_count": 4,
     "metadata": {},
     "output_type": "execute_result"
    }
   ],
   "source": [
    "dict(zip(df.columns, df.dtypes))"
   ]
  },
  {
   "cell_type": "markdown",
   "id": "2ebde17e",
   "metadata": {},
   "source": [
    "We see that most variables are now nicely specified as strings, categories, dates and ints where necessary."
   ]
  },
  {
   "cell_type": "markdown",
   "id": "13f849ed",
   "metadata": {},
   "source": [
    "## Step 2: Creating a MetaDataset object from a DataFrame\n",
    "\n",
    "Now a lot of work has already gone into creating a properly formatted dataframe. This work pays off at this stage: let's convert the DataFrame to a meta_dataset structure with the default options. Note: this takes a little bit of time!"
   ]
  },
  {
   "cell_type": "code",
   "execution_count": 5,
   "id": "e0c58473",
   "metadata": {},
   "outputs": [
    {
     "name": "stderr",
     "output_type": "stream",
     "text": [
      "/Users/qubix/Documents/work/metasynth/metasynth/metasynth/provider.py:199: UserWarning: \n",
      "Variable PassengerId seems unique, but not set to be unique.\n",
      "Set the variable to be either unique or not unique to remove this warning.\n",
      "\n",
      "  warnings.warn(f\"\\nVariable {series.name} seems unique, but not set to be unique.\\n\"\n"
     ]
    }
   ],
   "source": [
    "meta_dataset = MetaDataset.from_dataframe(df)"
   ]
  },
  {
   "cell_type": "markdown",
   "id": "1e8a772d",
   "metadata": {},
   "source": [
    "Then, we can show the metadata as a dictionary:"
   ]
  },
  {
   "cell_type": "code",
   "execution_count": 6,
   "id": "abab1b78",
   "metadata": {},
   "outputs": [
    {
     "name": "stdout",
     "output_type": "stream",
     "text": [
      "# Rows: 891\n",
      "# Columns: 12\n",
      "\n",
      "{'name': 'PassengerId', 'description': None, 'type': 'discrete', 'dtype': 'Int64', 'prop_missing': 0.0, 'distribution': \"{'implements': 'core.discrete_uniform', 'provenance': 'builtin', 'class_name': 'DiscreteUniformDistribution', 'parameters': {'low': 1, 'high': 892}}\"}\n",
      "\n",
      "{'name': 'Name', 'description': None, 'type': 'string', 'dtype': 'Utf8', 'prop_missing': 0.0, 'distribution': '.[]{12,82}'}\n",
      "\n",
      "{'name': 'Sex', 'description': None, 'type': 'categorical', 'dtype': 'Categorical', 'prop_missing': 0.0, 'distribution': \"{'implements': 'core.multinoulli', 'provenance': 'builtin', 'class_name': 'MultinoulliDistribution', 'parameters': {'labels': array(['female', 'male'], dtype='<U6'), 'probs': array([0.35241302, 0.64758698])}}\"}\n",
      "\n",
      "{'name': 'Age', 'description': None, 'type': 'discrete', 'dtype': 'Int64', 'prop_missing': 0.19865319865319866, 'distribution': \"{'implements': 'core.discrete_uniform', 'provenance': 'builtin', 'class_name': 'DiscreteUniformDistribution', 'parameters': {'low': 0, 'high': 81}}\"}\n",
      "\n",
      "{'name': 'Parch', 'description': None, 'type': 'discrete', 'dtype': 'Int64', 'prop_missing': 0.0, 'distribution': \"{'implements': 'core.poisson', 'provenance': 'builtin', 'class_name': 'PoissonDistribution', 'parameters': {'mu': 0.38159371492704824}}\"}\n",
      "\n",
      "{'name': 'Fare', 'description': None, 'type': 'continuous', 'dtype': 'Float64', 'prop_missing': 0.0, 'distribution': \"{'implements': 'core.exponential', 'provenance': 'builtin', 'class_name': 'ExponentialDistribution', 'parameters': {'rate': 0.03052908440177665}}\"}\n",
      "\n",
      "{'name': 'Cabin', 'description': None, 'type': 'string', 'dtype': 'Utf8', 'prop_missing': 0.7710437710437711, 'distribution': '[ABCDEFGT].[]{1,14}'}\n",
      "\n",
      "{'name': 'Embarked', 'description': None, 'type': 'categorical', 'dtype': 'Categorical', 'prop_missing': 0.002244668911335578, 'distribution': \"{'implements': 'core.multinoulli', 'provenance': 'builtin', 'class_name': 'MultinoulliDistribution', 'parameters': {'labels': array(['C', 'Q', 'S'], dtype='<U1'), 'probs': array([0.18897638, 0.08661417, 0.72440945])}}\"}\n",
      "\n",
      "{'name': 'Birthday', 'description': None, 'type': 'date', 'dtype': 'Date', 'prop_missing': 0.08754208754208755, 'distribution': \"{'implements': 'core.uniform_date', 'provenance': 'builtin', 'class_name': 'UniformDateDistribution', 'parameters': {'start': '1903-07-28', 'end': '1940-05-27'}}\"}\n",
      "\n",
      "{'name': 'Board time', 'description': None, 'type': 'time', 'dtype': 'Time', 'prop_missing': 0.08866442199775533, 'distribution': \"{'implements': 'core.uniform_time', 'provenance': 'builtin', 'class_name': 'UniformTimeDistribution', 'parameters': {'start': '10:39:40', 'end': '18:39:28', 'precision': 'seconds'}}\"}\n",
      "\n",
      "{'name': 'Married since', 'description': None, 'type': 'datetime', 'dtype': \"Datetime(time_unit='us', time_zone=None)\", 'prop_missing': 0.10325476992143659, 'distribution': \"{'implements': 'core.uniform_datetime', 'provenance': 'builtin', 'class_name': 'UniformDateTimeDistribution', 'parameters': {'start': '2022-07-15T12:21:15', 'end': '2022-08-15T10:32:05', 'precision': 'seconds'}}\"}\n",
      "\n",
      "{'name': 'all_NA', 'description': None, 'type': 'string', 'dtype': 'Utf8', 'prop_missing': 1.0, 'distribution': '\\\\d{3,4}'}\n",
      "\n"
     ]
    }
   ],
   "source": [
    "print(meta_dataset)"
   ]
  },
  {
   "cell_type": "markdown",
   "id": "03b27a95",
   "metadata": {},
   "source": [
    "## Step 3: Saving the metadata in a file\n",
    "\n",
    "After creating the metadata, we can save it to a file. The default format is `json`, meaning the file is quite legible by humans and computers alike. Therefore, it can be checked by the data controller and, when the disclosure risk is deemed to be low, this file can be shared with others."
   ]
  },
  {
   "cell_type": "code",
   "execution_count": 7,
   "id": "11e355f3",
   "metadata": {},
   "outputs": [],
   "source": [
    "file_path = \"demonstration_metadata.json\"\n",
    "meta_dataset.to_json(file_path)"
   ]
  },
  {
   "cell_type": "markdown",
   "id": "6571873d",
   "metadata": {},
   "source": [
    "## Step 4: Generating synthetic data from the metadata"
   ]
  },
  {
   "cell_type": "markdown",
   "id": "fcd16a5a",
   "metadata": {},
   "source": [
    "Upon receiving this file, you can use the MetaSynth package to generate a synthetic version of the dataset:"
   ]
  },
  {
   "cell_type": "code",
   "execution_count": 8,
   "id": "4ccf451c",
   "metadata": {},
   "outputs": [
    {
     "data": {
      "text/html": [
       "<div><style>\n",
       ".dataframe > thead > tr > th,\n",
       ".dataframe > tbody > tr > td {\n",
       "  text-align: right;\n",
       "}\n",
       "</style>\n",
       "<small>shape: (5, 12)</small><table border=\"1\" class=\"dataframe\"><thead><tr><th>PassengerId</th><th>Name</th><th>Sex</th><th>Age</th><th>Parch</th><th>Fare</th><th>Cabin</th><th>Embarked</th><th>Birthday</th><th>Board time</th><th>Married since</th><th>all_NA</th></tr><tr><td>i64</td><td>str</td><td>cat</td><td>i64</td><td>i64</td><td>f64</td><td>f32</td><td>cat</td><td>date</td><td>time</td><td>datetime[μs]</td><td>f32</td></tr></thead><tbody><tr><td>238</td><td>&quot;$1H3mrvWcFvW&gt;4…</td><td>&quot;female&quot;</td><td>67</td><td>1</td><td>30.093937</td><td>null</td><td>&quot;Q&quot;</td><td>1930-01-05</td><td>12:31:25</td><td>2022-08-15 01:35:55</td><td>null</td></tr><tr><td>808</td><td>&quot;puoj\u000b",
       "^?}u_);SQ…</td><td>&quot;female&quot;</td><td>null</td><td>0</td><td>1.572982</td><td>null</td><td>&quot;S&quot;</td><td>1911-09-25</td><td>12:05:16</td><td>2022-07-24 14:20:05</td><td>null</td></tr><tr><td>571</td><td>&quot;eI+&gt;k\tI&#x27;S&lt;gs\r",
       "P…</td><td>&quot;female&quot;</td><td>61</td><td>0</td><td>66.063047</td><td>null</td><td>&quot;S&quot;</td><td>1940-03-12</td><td>null</td><td>2022-08-10 02:14:20</td><td>null</td></tr><tr><td>53</td><td>&quot;\tk62+Ij*4hks%p…</td><td>&quot;male&quot;</td><td>null</td><td>0</td><td>0.302661</td><td>null</td><td>&quot;C&quot;</td><td>1920-06-17</td><td>null</td><td>2022-07-17 16:29:17</td><td>null</td></tr><tr><td>833</td><td>&quot;hYcHE|hm,mQ.0S…</td><td>&quot;female&quot;</td><td>35</td><td>1</td><td>20.32786</td><td>null</td><td>&quot;C&quot;</td><td>1933-02-26</td><td>11:54:27</td><td>2022-07-25 10:34:40</td><td>null</td></tr></tbody></table></div>"
      ],
      "text/plain": [
       "shape: (5, 12)\n",
       "┌─────────────┬──────────────┬────────┬──────┬───┬────────────┬────────────┬──────────────┬────────┐\n",
       "│ PassengerId ┆ Name         ┆ Sex    ┆ Age  ┆ … ┆ Birthday   ┆ Board time ┆ Married      ┆ all_NA │\n",
       "│ ---         ┆ ---          ┆ ---    ┆ ---  ┆   ┆ ---        ┆ ---        ┆ since        ┆ ---    │\n",
       "│ i64         ┆ str          ┆ cat    ┆ i64  ┆   ┆ date       ┆ time       ┆ ---          ┆ f32    │\n",
       "│             ┆              ┆        ┆      ┆   ┆            ┆            ┆ datetime[μs] ┆        │\n",
       "╞═════════════╪══════════════╪════════╪══════╪═══╪════════════╪════════════╪══════════════╪════════╡\n",
       "│ 238         ┆ $1H3mrvWcFvW ┆ female ┆ 67   ┆ … ┆ 1930-01-05 ┆ 12:31:25   ┆ 2022-08-15   ┆ null   │\n",
       "│             ┆ >4EW\\%b9[[#6 ┆        ┆      ┆   ┆            ┆            ┆ 01:35:55     ┆        │\n",
       "│             ┆ Ix\n",
       "D:mmN…     ┆        ┆      ┆   ┆            ┆            ┆              ┆        │\n",
       "│ 808         ┆ puoj\n",
       "^?}u_);  ┆ female ┆ null ┆ … ┆ 1911-09-25 ┆ 12:05:16   ┆ 2022-07-24   ┆ null   │\n",
       "│             ┆ SQ)DCN@)~cZ' ┆        ┆      ┆   ┆            ┆            ┆ 14:20:05     ┆        │\n",
       "│             ┆ </^l\t=)'…     ┆        ┆      ┆   ┆            ┆            ┆              ┆        │\n",
       "│ 571         ┆ eI+>k\tI'S<gs  ┆ female ┆ 61   ┆ … ┆ 1940-03-12 ┆ null       ┆ 2022-08-10   ┆ null   │\n",
       "│             ┆ \n",
       "PjT          ┆        ┆      ┆   ┆            ┆            ┆ 02:14:20     ┆        │\n",
       "│             ┆ z|pj         ┆        ┆      ┆   ┆            ┆            ┆              ┆        │\n",
       "│ 53          ┆ \tk62+Ij*4hks  ┆ male   ┆ null ┆ … ┆ 1920-06-17 ┆ null       ┆ 2022-07-17   ┆ null   │\n",
       "│             ┆ %pB\n",
       "$J-,7gl`  ┆        ┆      ┆   ┆            ┆            ┆ 16:29:17     ┆        │\n",
       "│             ┆ SW\n",
       "qEW~N…     ┆        ┆      ┆   ┆            ┆            ┆              ┆        │\n",
       "│ 833         ┆ hYcHE|hm,mQ. ┆ female ┆ 35   ┆ … ┆ 1933-02-26 ┆ 11:54:27   ┆ 2022-07-25   ┆ null   │\n",
       "│             ┆ 0SCD\ta~t\tZIg%  ┆        ┆      ┆   ┆            ┆            ┆ 10:34:40     ┆        │\n",
       "└─────────────┴──────────────┴────────┴──────┴───┴────────────┴────────────┴──────────────┴────────┘"
      ]
     },
     "execution_count": 8,
     "metadata": {},
     "output_type": "execute_result"
    }
   ],
   "source": [
    "new_meta_dataset = MetaDataset.from_json(file_path)\n",
    "new_meta_dataset.synthesize(5)"
   ]
  },
  {
   "cell_type": "markdown",
   "id": "669b1e95",
   "metadata": {},
   "source": [
    "As you can see, the fake data looks a lot like the real data! However, it could still use some improvement. In the next sections, we will explore manual changes we can make to improve the quality of the synthetic data."
   ]
  },
  {
   "cell_type": "markdown",
   "id": "e4cfe6cd",
   "metadata": {},
   "source": [
    "## Step 5: Improving the quality of the synthetic data"
   ]
  },
  {
   "cell_type": "markdown",
   "id": "df32cc3a",
   "metadata": {},
   "source": [
    "### Set unique columns\n",
    "\n",
    "One column (PassengerId) has been detected as possibly unique by MetaSynth, as indicated by the following warning:\n",
    "\n",
    "> \"Variable PassengerId seems unique, but not set to be unique.\"\n",
    "\n",
    "This column holds a variable with unique passenger identifiers, so in fact we do want synthetic data generated for this column to be unique as well. We can add this to the metadata by creating a list of options which we call a `specification`, or `spec`:"
   ]
  },
  {
   "cell_type": "code",
   "execution_count": 9,
   "id": "e7b76751",
   "metadata": {},
   "outputs": [
    {
     "data": {
      "text/plain": [
       "{'name': 'PassengerId',\n",
       " 'type': 'discrete',\n",
       " 'dtype': 'Int64',\n",
       " 'prop_missing': 0.0,\n",
       " 'distribution': {'implements': 'core.unique_key',\n",
       "  'provenance': 'builtin',\n",
       "  'class_name': 'UniqueKeyDistribution',\n",
       "  'parameters': {'low': 1, 'consecutive': 1}}}"
      ]
     },
     "execution_count": 9,
     "metadata": {},
     "output_type": "execute_result"
    }
   ],
   "source": [
    "# First, we create a specification dictionary for the variables\n",
    "var_spec = {\n",
    "    \"PassengerId\": {\"unique\": True}\n",
    "}\n",
    "\n",
    "# then, we add that dictionary as the `spec` argument\n",
    "meta_dataset = MetaDataset.from_dataframe(df, spec=var_spec)\n",
    "\n",
    "# then, let's check what the metadata about PassengerId contains!\n",
    "meta_dataset[\"PassengerId\"].to_dict()"
   ]
  },
  {
   "cell_type": "markdown",
   "id": "a28f0970",
   "metadata": {},
   "source": [
    "So let's check what is generated from this new metadata:"
   ]
  },
  {
   "cell_type": "code",
   "execution_count": 10,
   "id": "38c2f4b6",
   "metadata": {},
   "outputs": [
    {
     "data": {
      "text/html": [
       "<div><style>\n",
       ".dataframe > thead > tr > th,\n",
       ".dataframe > tbody > tr > td {\n",
       "  text-align: right;\n",
       "}\n",
       "</style>\n",
       "<small>shape: (5, 12)</small><table border=\"1\" class=\"dataframe\"><thead><tr><th>PassengerId</th><th>Name</th><th>Sex</th><th>Age</th><th>Parch</th><th>Fare</th><th>Cabin</th><th>Embarked</th><th>Birthday</th><th>Board time</th><th>Married since</th><th>all_NA</th></tr><tr><td>i64</td><td>str</td><td>cat</td><td>i64</td><td>i64</td><td>f64</td><td>str</td><td>cat</td><td>date</td><td>time</td><td>datetime[μs]</td><td>f32</td></tr></thead><tbody><tr><td>1</td><td>&quot;y^dpnvg8&quot;XE(FP…</td><td>&quot;male&quot;</td><td>24</td><td>0</td><td>16.383339</td><td>null</td><td>&quot;S&quot;</td><td>1914-11-20</td><td>15:48:40</td><td>2022-07-31 03:53:33</td><td>null</td></tr><tr><td>2</td><td>&quot;$L?0zKsN+C=&#x27;O4…</td><td>&quot;male&quot;</td><td>36</td><td>1</td><td>28.624349</td><td>null</td><td>&quot;S&quot;</td><td>1924-12-02</td><td>12:36:07</td><td>2022-07-18 13:18:52</td><td>null</td></tr><tr><td>3</td><td>&quot;Odi0i*}C0m9)&lt;W…</td><td>&quot;male&quot;</td><td>null</td><td>0</td><td>6.618381</td><td>null</td><td>&quot;C&quot;</td><td>null</td><td>null</td><td>2022-08-07 20:27:11</td><td>null</td></tr><tr><td>4</td><td>&quot;lX\t&lt;:voFlq]h@=…</td><td>&quot;male&quot;</td><td>72</td><td>2</td><td>11.135868</td><td>null</td><td>&quot;S&quot;</td><td>1918-04-27</td><td>14:12:48</td><td>2022-08-02 16:28:51</td><td>null</td></tr><tr><td>5</td><td>&quot;uD\\,Cy#2pi\u000b",
       "rH3…</td><td>&quot;male&quot;</td><td>62</td><td>1</td><td>141.462069</td><td>&quot;AeFX&quot;</td><td>&quot;S&quot;</td><td>1910-03-20</td><td>null</td><td>2022-08-10 18:31:35</td><td>null</td></tr></tbody></table></div>"
      ],
      "text/plain": [
       "shape: (5, 12)\n",
       "┌─────────────┬───────────────┬──────┬──────┬───┬────────────┬────────────┬───────────────┬────────┐\n",
       "│ PassengerId ┆ Name          ┆ Sex  ┆ Age  ┆ … ┆ Birthday   ┆ Board time ┆ Married since ┆ all_NA │\n",
       "│ ---         ┆ ---           ┆ ---  ┆ ---  ┆   ┆ ---        ┆ ---        ┆ ---           ┆ ---    │\n",
       "│ i64         ┆ str           ┆ cat  ┆ i64  ┆   ┆ date       ┆ time       ┆ datetime[μs]  ┆ f32    │\n",
       "╞═════════════╪═══════════════╪══════╪══════╪═══╪════════════╪════════════╪═══════════════╪════════╡\n",
       "│ 1           ┆ y^dpnvg8\"XE(F ┆ male ┆ 24   ┆ … ┆ 1914-11-20 ┆ 15:48:40   ┆ 2022-07-31    ┆ null   │\n",
       "│             ┆ P]vd?0vl8IW5< ┆      ┆      ┆   ┆            ┆            ┆ 03:53:33      ┆        │\n",
       "│             ┆ E^62|^…       ┆      ┆      ┆   ┆            ┆            ┆               ┆        │\n",
       "│ 2           ┆ $L?0zKsN+C='O ┆ male ┆ 36   ┆ … ┆ 1924-12-02 ┆ 12:36:07   ┆ 2022-07-18    ┆ null   │\n",
       "│             ┆ 4\n",
       "Yv{c1FZL-Sg  ┆      ┆      ┆   ┆            ┆            ┆ 13:18:52      ┆        │\n",
       "│             ┆ 2R_d0d…       ┆      ┆      ┆   ┆            ┆            ┆               ┆        │\n",
       "│ 3           ┆ Odi0i*}C0m9)< ┆ male ┆ null ┆ … ┆ null       ┆ null       ┆ 2022-08-07    ┆ null   │\n",
       "│             ┆ WBb>M+U9,1[I\n",
       "  ┆      ┆      ┆   ┆            ┆            ┆ 20:27:11      ┆        │\n",
       "│             ┆ /&+           ┆      ┆      ┆   ┆            ┆            ┆               ┆        │\n",
       "│ 4           ┆ lX\t<:voFlq]h@  ┆ male ┆ 72   ┆ … ┆ 1918-04-27 ┆ 14:12:48   ┆ 2022-08-02    ┆ null   │\n",
       "│             ┆ =(Zh\n",
       "U         ┆      ┆      ┆   ┆            ┆            ┆ 16:28:51      ┆        │\n",
       "│ 5           ┆ uD\\,Cy#2pi\n",
       "rH  ┆ male ┆ 62   ┆ … ┆ 1910-03-20 ┆ null       ┆ 2022-08-10    ┆ null   │\n",
       "│             ┆ 3wi=9}&G<nj<\n",
       "  ┆      ┆      ┆   ┆            ┆            ┆ 18:31:35      ┆        │\n",
       "│             ┆ A.O\n",
       "4`…        ┆      ┆      ┆   ┆            ┆            ┆               ┆        │\n",
       "└─────────────┴───────────────┴──────┴──────┴───┴────────────┴────────────┴───────────────┴────────┘"
      ]
     },
     "execution_count": 10,
     "metadata": {},
     "output_type": "execute_result"
    }
   ],
   "source": [
    "meta_dataset.synthesize(5)"
   ]
  },
  {
   "cell_type": "markdown",
   "id": "11c7f562",
   "metadata": {},
   "source": [
    "Now we that the `PassengerId` column is correctly represented with increasing id numbers."
   ]
  },
  {
   "cell_type": "markdown",
   "id": "6f884eb7",
   "metadata": {},
   "source": [
    "### Fake names (and others)\n",
    "\n",
    "As one can see, the `Name` of the passengers is not quite so well synthesized. The reason is that the string type interpreter in MetaSynth is designed for `structured` strings (like room numbers such as `B1.09`, `B1.01` or `A1.08`) and not unstructured strings. However, MetaSynth supports the [faker](https://faker.readthedocs.io/en/master/index.html) package, which includes a lot of data types that it can fake. The columns using faker are not based on the real data at all so they do not disclose any info about the real data.\n",
    "\n",
    "We fake names as follows:"
   ]
  },
  {
   "cell_type": "code",
   "execution_count": 11,
   "id": "d5615aa0",
   "metadata": {},
   "outputs": [
    {
     "data": {
      "text/html": [
       "<div><style>\n",
       ".dataframe > thead > tr > th,\n",
       ".dataframe > tbody > tr > td {\n",
       "  text-align: right;\n",
       "}\n",
       "</style>\n",
       "<small>shape: (5, 12)</small><table border=\"1\" class=\"dataframe\"><thead><tr><th>PassengerId</th><th>Name</th><th>Sex</th><th>Age</th><th>Parch</th><th>Fare</th><th>Cabin</th><th>Embarked</th><th>Birthday</th><th>Board time</th><th>Married since</th><th>all_NA</th></tr><tr><td>i64</td><td>str</td><td>cat</td><td>i64</td><td>i64</td><td>f64</td><td>str</td><td>cat</td><td>date</td><td>time</td><td>datetime[μs]</td><td>f32</td></tr></thead><tbody><tr><td>1</td><td>&quot;Denise Smith&quot;</td><td>&quot;male&quot;</td><td>80</td><td>1</td><td>19.745816</td><td>null</td><td>&quot;C&quot;</td><td>1912-03-27</td><td>18:03:23</td><td>2022-07-29 03:11:55</td><td>null</td></tr><tr><td>2</td><td>&quot;Sarah James&quot;</td><td>&quot;female&quot;</td><td>57</td><td>0</td><td>14.240361</td><td>&quot;T|K&amp;k :QX&quot;</td><td>&quot;S&quot;</td><td>1918-02-22</td><td>13:18:24</td><td>2022-07-17 06:15:29</td><td>null</td></tr><tr><td>3</td><td>&quot;Thomas Oliver&quot;</td><td>&quot;male&quot;</td><td>70</td><td>0</td><td>23.827499</td><td>null</td><td>&quot;S&quot;</td><td>1904-05-07</td><td>13:24:53</td><td>null</td><td>null</td></tr><tr><td>4</td><td>&quot;Kimberly Randa…</td><td>&quot;female&quot;</td><td>12</td><td>0</td><td>7.388182</td><td>null</td><td>&quot;C&quot;</td><td>1905-06-14</td><td>13:40:48</td><td>2022-07-19 18:44:26</td><td>null</td></tr><tr><td>5</td><td>&quot;Kathleen Reill…</td><td>&quot;female&quot;</td><td>42</td><td>0</td><td>1.015004</td><td>null</td><td>&quot;C&quot;</td><td>1935-08-26</td><td>13:44:49</td><td>2022-08-13 14:59:58</td><td>null</td></tr></tbody></table></div>"
      ],
      "text/plain": [
       "shape: (5, 12)\n",
       "┌─────────────┬───────────────┬────────┬─────┬───┬────────────┬────────────┬──────────────┬────────┐\n",
       "│ PassengerId ┆ Name          ┆ Sex    ┆ Age ┆ … ┆ Birthday   ┆ Board time ┆ Married      ┆ all_NA │\n",
       "│ ---         ┆ ---           ┆ ---    ┆ --- ┆   ┆ ---        ┆ ---        ┆ since        ┆ ---    │\n",
       "│ i64         ┆ str           ┆ cat    ┆ i64 ┆   ┆ date       ┆ time       ┆ ---          ┆ f32    │\n",
       "│             ┆               ┆        ┆     ┆   ┆            ┆            ┆ datetime[μs] ┆        │\n",
       "╞═════════════╪═══════════════╪════════╪═════╪═══╪════════════╪════════════╪══════════════╪════════╡\n",
       "│ 1           ┆ Denise Smith  ┆ male   ┆ 80  ┆ … ┆ 1912-03-27 ┆ 18:03:23   ┆ 2022-07-29   ┆ null   │\n",
       "│             ┆               ┆        ┆     ┆   ┆            ┆            ┆ 03:11:55     ┆        │\n",
       "│ 2           ┆ Sarah James   ┆ female ┆ 57  ┆ … ┆ 1918-02-22 ┆ 13:18:24   ┆ 2022-07-17   ┆ null   │\n",
       "│             ┆               ┆        ┆     ┆   ┆            ┆            ┆ 06:15:29     ┆        │\n",
       "│ 3           ┆ Thomas Oliver ┆ male   ┆ 70  ┆ … ┆ 1904-05-07 ┆ 13:24:53   ┆ null         ┆ null   │\n",
       "│ 4           ┆ Kimberly      ┆ female ┆ 12  ┆ … ┆ 1905-06-14 ┆ 13:40:48   ┆ 2022-07-19   ┆ null   │\n",
       "│             ┆ Randall       ┆        ┆     ┆   ┆            ┆            ┆ 18:44:26     ┆        │\n",
       "│ 5           ┆ Kathleen      ┆ female ┆ 42  ┆ … ┆ 1935-08-26 ┆ 13:44:49   ┆ 2022-08-13   ┆ null   │\n",
       "│             ┆ Reilly        ┆        ┆     ┆   ┆            ┆            ┆ 14:59:58     ┆        │\n",
       "└─────────────┴───────────────┴────────┴─────┴───┴────────────┴────────────┴──────────────┴────────┘"
      ]
     },
     "execution_count": 11,
     "metadata": {},
     "output_type": "execute_result"
    }
   ],
   "source": [
    "# First, we create a specification dictionary for the variables\n",
    "from metasynth.distribution import FakerDistribution\n",
    "\n",
    "var_spec = {\n",
    "    \"PassengerId\": {\"unique\": True}, \n",
    "    \"Name\": {\"distribution\": FakerDistribution(\"name\")}\n",
    "}\n",
    "\n",
    "meta_dataset = MetaDataset.from_dataframe(df, spec=var_spec)\n",
    "meta_dataset.synthesize(5)"
   ]
  },
  {
   "cell_type": "markdown",
   "id": "de1fa66b",
   "metadata": {},
   "source": [
    "That already looks a lot better for the `Name` column!"
   ]
  },
  {
   "cell_type": "markdown",
   "id": "cf927af6",
   "metadata": {},
   "source": [
    "### Set distributions manually\n",
    "\n",
    "Without user input, the distribution chosen for each variable is inferred by choosing the best fitting from available distributions for the variable type. However, we can also manually specify which distribution to fit, or we can even just fully specify how the variable should be generated."
   ]
  },
  {
   "cell_type": "code",
   "execution_count": 12,
   "id": "ac4ba506",
   "metadata": {},
   "outputs": [
    {
     "data": {
      "text/html": [
       "<div><style>\n",
       ".dataframe > thead > tr > th,\n",
       ".dataframe > tbody > tr > td {\n",
       "  text-align: right;\n",
       "}\n",
       "</style>\n",
       "<small>shape: (5, 12)</small><table border=\"1\" class=\"dataframe\"><thead><tr><th>PassengerId</th><th>Name</th><th>Sex</th><th>Age</th><th>Parch</th><th>Fare</th><th>Cabin</th><th>Embarked</th><th>Birthday</th><th>Board time</th><th>Married since</th><th>all_NA</th></tr><tr><td>i64</td><td>str</td><td>cat</td><td>i64</td><td>i64</td><td>f64</td><td>str</td><td>cat</td><td>date</td><td>time</td><td>datetime[μs]</td><td>f32</td></tr></thead><tbody><tr><td>1</td><td>&quot;Denise Smith&quot;</td><td>&quot;male&quot;</td><td>33</td><td>0</td><td>0.188708</td><td>&quot;FS{P&quot;</td><td>&quot;S&quot;</td><td>1921-12-01</td><td>12:41:34</td><td>2022-07-16 12:17:32</td><td>null</td></tr><tr><td>2</td><td>&quot;Sarah James&quot;</td><td>&quot;male&quot;</td><td>25</td><td>0</td><td>0.459442</td><td>null</td><td>&quot;S&quot;</td><td>1929-08-06</td><td>15:34:47</td><td>2022-08-06 04:17:38</td><td>null</td></tr><tr><td>3</td><td>&quot;Thomas Oliver&quot;</td><td>&quot;male&quot;</td><td>34</td><td>0</td><td>7.043431</td><td>&quot;FA@e9]4F2J&#x27;&quot;</td><td>&quot;S&quot;</td><td>1929-07-26</td><td>13:24:31</td><td>2022-07-24 15:10:43</td><td>null</td></tr><tr><td>4</td><td>&quot;Kimberly Randa…</td><td>&quot;male&quot;</td><td>27</td><td>0</td><td>0.682256</td><td>null</td><td>&quot;C&quot;</td><td>1912-10-05</td><td>15:12:25</td><td>2022-07-15 13:27:17</td><td>null</td></tr><tr><td>5</td><td>&quot;Kathleen Reill…</td><td>&quot;male&quot;</td><td>28</td><td>0</td><td>0.256727</td><td>null</td><td>&quot;C&quot;</td><td>1930-08-14</td><td>12:38:52</td><td>2022-08-05 07:29:42</td><td>null</td></tr></tbody></table></div>"
      ],
      "text/plain": [
       "shape: (5, 12)\n",
       "┌─────────────┬────────────────┬──────┬─────┬───┬────────────┬────────────┬───────────────┬────────┐\n",
       "│ PassengerId ┆ Name           ┆ Sex  ┆ Age ┆ … ┆ Birthday   ┆ Board time ┆ Married since ┆ all_NA │\n",
       "│ ---         ┆ ---            ┆ ---  ┆ --- ┆   ┆ ---        ┆ ---        ┆ ---           ┆ ---    │\n",
       "│ i64         ┆ str            ┆ cat  ┆ i64 ┆   ┆ date       ┆ time       ┆ datetime[μs]  ┆ f32    │\n",
       "╞═════════════╪════════════════╪══════╪═════╪═══╪════════════╪════════════╪═══════════════╪════════╡\n",
       "│ 1           ┆ Denise Smith   ┆ male ┆ 33  ┆ … ┆ 1921-12-01 ┆ 12:41:34   ┆ 2022-07-16    ┆ null   │\n",
       "│             ┆                ┆      ┆     ┆   ┆            ┆            ┆ 12:17:32      ┆        │\n",
       "│ 2           ┆ Sarah James    ┆ male ┆ 25  ┆ … ┆ 1929-08-06 ┆ 15:34:47   ┆ 2022-08-06    ┆ null   │\n",
       "│             ┆                ┆      ┆     ┆   ┆            ┆            ┆ 04:17:38      ┆        │\n",
       "│ 3           ┆ Thomas Oliver  ┆ male ┆ 34  ┆ … ┆ 1929-07-26 ┆ 13:24:31   ┆ 2022-07-24    ┆ null   │\n",
       "│             ┆                ┆      ┆     ┆   ┆            ┆            ┆ 15:10:43      ┆        │\n",
       "│ 4           ┆ Kimberly       ┆ male ┆ 27  ┆ … ┆ 1912-10-05 ┆ 15:12:25   ┆ 2022-07-15    ┆ null   │\n",
       "│             ┆ Randall        ┆      ┆     ┆   ┆            ┆            ┆ 13:27:17      ┆        │\n",
       "│ 5           ┆ Kathleen       ┆ male ┆ 28  ┆ … ┆ 1930-08-14 ┆ 12:38:52   ┆ 2022-08-05    ┆ null   │\n",
       "│             ┆ Reilly         ┆      ┆     ┆   ┆            ┆            ┆ 07:29:42      ┆        │\n",
       "└─────────────┴────────────────┴──────┴─────┴───┴────────────┴────────────┴───────────────┴────────┘"
      ]
     },
     "execution_count": 12,
     "metadata": {},
     "output_type": "execute_result"
    }
   ],
   "source": [
    "from metasynth.distribution import DiscreteUniformDistribution\n",
    "\n",
    "var_spec = {\n",
    "    \"PassengerId\": {\"unique\": True}, \n",
    "    \"Name\": {\"distribution\": FakerDistribution(\"name\")},\n",
    "    \"Fare\": {\"distribution\": \"LogNormalDistribution\"}, # estimate / fit an exponential distribution based on the data\n",
    "    \"Age\": {\"distribution\": DiscreteUniformDistribution(20, 40)} # fully specify a distribution for age (uniform between 20 and 40)\n",
    "}\n",
    "\n",
    "meta_dataset = MetaDataset.from_dataframe(df, spec=var_spec)\n",
    "meta_dataset.synthesize(5)"
   ]
  },
  {
   "cell_type": "markdown",
   "id": "2897133c",
   "metadata": {},
   "source": [
    "### Specifying the distribution of structured strings\n",
    "\n",
    "For more or less structured strings, we can manually set the structure of the strings based on regular expressions. For example, we see that most Cabins are structured like [A-F] and then 2 or 3 digit numbers. We can include this as follows:"
   ]
  },
  {
   "cell_type": "code",
   "execution_count": 13,
   "id": "7b2c4003",
   "metadata": {},
   "outputs": [
    {
     "data": {
      "text/html": [
       "<div><style>\n",
       ".dataframe > thead > tr > th,\n",
       ".dataframe > tbody > tr > td {\n",
       "  text-align: right;\n",
       "}\n",
       "</style>\n",
       "<small>shape: (10, 12)</small><table border=\"1\" class=\"dataframe\"><thead><tr><th>PassengerId</th><th>Name</th><th>Sex</th><th>Age</th><th>Parch</th><th>Fare</th><th>Cabin</th><th>Embarked</th><th>Birthday</th><th>Board time</th><th>Married since</th><th>all_NA</th></tr><tr><td>i64</td><td>str</td><td>cat</td><td>i64</td><td>i64</td><td>f64</td><td>str</td><td>cat</td><td>date</td><td>time</td><td>datetime[μs]</td><td>f32</td></tr></thead><tbody><tr><td>1</td><td>&quot;Denise Smith&quot;</td><td>&quot;female&quot;</td><td>29</td><td>0</td><td>44.372505</td><td>null</td><td>&quot;S&quot;</td><td>1907-06-11</td><td>10:50:55</td><td>2022-07-22 19:35:36</td><td>null</td></tr><tr><td>2</td><td>&quot;Sarah James&quot;</td><td>&quot;male&quot;</td><td>24</td><td>0</td><td>35.821083</td><td>null</td><td>&quot;S&quot;</td><td>1918-01-28</td><td>13:07:14</td><td>2022-07-18 00:44:24</td><td>null</td></tr><tr><td>3</td><td>&quot;Thomas Oliver&quot;</td><td>&quot;female&quot;</td><td>21</td><td>0</td><td>60.5651</td><td>null</td><td>&quot;Q&quot;</td><td>1937-07-31</td><td>18:16:35</td><td>2022-07-21 15:15:27</td><td>null</td></tr><tr><td>4</td><td>&quot;Kimberly Randa…</td><td>&quot;male&quot;</td><td>29</td><td>0</td><td>9.463605</td><td>null</td><td>&quot;S&quot;</td><td>1929-07-13</td><td>12:03:07</td><td>2022-07-26 16:50:49</td><td>null</td></tr><tr><td>5</td><td>&quot;Kathleen Reill…</td><td>&quot;female&quot;</td><td>33</td><td>0</td><td>11.661819</td><td>null</td><td>&quot;C&quot;</td><td>1932-11-27</td><td>18:36:59</td><td>2022-08-01 02:39:56</td><td>null</td></tr><tr><td>6</td><td>&quot;James Sexton&quot;</td><td>&quot;male&quot;</td><td>23</td><td>1</td><td>5.705814</td><td>&quot;E108&quot;</td><td>&quot;C&quot;</td><td>1905-12-15</td><td>14:10:42</td><td>2022-07-19 16:26:28</td><td>null</td></tr><tr><td>7</td><td>&quot;Richard Smith&quot;</td><td>&quot;female&quot;</td><td>32</td><td>0</td><td>40.989583</td><td>null</td><td>&quot;S&quot;</td><td>1903-12-07</td><td>17:06:55</td><td>2022-07-19 14:33:52</td><td>null</td></tr><tr><td>8</td><td>&quot;Rachel Brooks&quot;</td><td>&quot;male&quot;</td><td>29</td><td>0</td><td>32.674552</td><td>&quot;D175&quot;</td><td>&quot;S&quot;</td><td>1903-08-05</td><td>12:39:56</td><td>2022-07-16 11:48:45</td><td>null</td></tr><tr><td>9</td><td>&quot;Diane Perry&quot;</td><td>&quot;male&quot;</td><td>34</td><td>1</td><td>55.406916</td><td>null</td><td>&quot;C&quot;</td><td>null</td><td>15:40:15</td><td>2022-07-26 18:17:59</td><td>null</td></tr><tr><td>10</td><td>&quot;Nicholas Conne…</td><td>&quot;male&quot;</td><td>38</td><td>1</td><td>6.052691</td><td>null</td><td>&quot;S&quot;</td><td>1911-04-08</td><td>17:57:16</td><td>2022-07-28 22:00:21</td><td>null</td></tr></tbody></table></div>"
      ],
      "text/plain": [
       "shape: (10, 12)\n",
       "┌─────────────┬───────────────┬────────┬─────┬───┬────────────┬────────────┬──────────────┬────────┐\n",
       "│ PassengerId ┆ Name          ┆ Sex    ┆ Age ┆ … ┆ Birthday   ┆ Board time ┆ Married      ┆ all_NA │\n",
       "│ ---         ┆ ---           ┆ ---    ┆ --- ┆   ┆ ---        ┆ ---        ┆ since        ┆ ---    │\n",
       "│ i64         ┆ str           ┆ cat    ┆ i64 ┆   ┆ date       ┆ time       ┆ ---          ┆ f32    │\n",
       "│             ┆               ┆        ┆     ┆   ┆            ┆            ┆ datetime[μs] ┆        │\n",
       "╞═════════════╪═══════════════╪════════╪═════╪═══╪════════════╪════════════╪══════════════╪════════╡\n",
       "│ 1           ┆ Denise Smith  ┆ female ┆ 29  ┆ … ┆ 1907-06-11 ┆ 10:50:55   ┆ 2022-07-22   ┆ null   │\n",
       "│             ┆               ┆        ┆     ┆   ┆            ┆            ┆ 19:35:36     ┆        │\n",
       "│ 2           ┆ Sarah James   ┆ male   ┆ 24  ┆ … ┆ 1918-01-28 ┆ 13:07:14   ┆ 2022-07-18   ┆ null   │\n",
       "│             ┆               ┆        ┆     ┆   ┆            ┆            ┆ 00:44:24     ┆        │\n",
       "│ 3           ┆ Thomas Oliver ┆ female ┆ 21  ┆ … ┆ 1937-07-31 ┆ 18:16:35   ┆ 2022-07-21   ┆ null   │\n",
       "│             ┆               ┆        ┆     ┆   ┆            ┆            ┆ 15:15:27     ┆        │\n",
       "│ 4           ┆ Kimberly      ┆ male   ┆ 29  ┆ … ┆ 1929-07-13 ┆ 12:03:07   ┆ 2022-07-26   ┆ null   │\n",
       "│             ┆ Randall       ┆        ┆     ┆   ┆            ┆            ┆ 16:50:49     ┆        │\n",
       "│ …           ┆ …             ┆ …      ┆ …   ┆ … ┆ …          ┆ …          ┆ …            ┆ …      │\n",
       "│ 7           ┆ Richard Smith ┆ female ┆ 32  ┆ … ┆ 1903-12-07 ┆ 17:06:55   ┆ 2022-07-19   ┆ null   │\n",
       "│             ┆               ┆        ┆     ┆   ┆            ┆            ┆ 14:33:52     ┆        │\n",
       "│ 8           ┆ Rachel Brooks ┆ male   ┆ 29  ┆ … ┆ 1903-08-05 ┆ 12:39:56   ┆ 2022-07-16   ┆ null   │\n",
       "│             ┆               ┆        ┆     ┆   ┆            ┆            ┆ 11:48:45     ┆        │\n",
       "│ 9           ┆ Diane Perry   ┆ male   ┆ 34  ┆ … ┆ null       ┆ 15:40:15   ┆ 2022-07-26   ┆ null   │\n",
       "│             ┆               ┆        ┆     ┆   ┆            ┆            ┆ 18:17:59     ┆        │\n",
       "│ 10          ┆ Nicholas      ┆ male   ┆ 38  ┆ … ┆ 1911-04-08 ┆ 17:57:16   ┆ 2022-07-28   ┆ null   │\n",
       "│             ┆ Conner        ┆        ┆     ┆   ┆            ┆            ┆ 22:00:21     ┆        │\n",
       "└─────────────┴───────────────┴────────┴─────┴───┴────────────┴────────────┴──────────────┴────────┘"
      ]
     },
     "execution_count": 13,
     "metadata": {},
     "output_type": "execute_result"
    }
   ],
   "source": [
    "from metasynth.distribution import RegexDistribution\n",
    "\n",
    "# To create a regex distribution, you need a list of tuples, where each tuple is an element.\n",
    "# The first part of the tuple is a string representation of the regex, while the second is the proportion of the\n",
    "# time the regex element is used.\n",
    "cabin_distribution = RegexDistribution(r\"[ABCDEF]\\d{2,3}\")  # Add the r so that it becomes a literal string.\n",
    "# just for completeness: data generated from this distribution will always match the regex [ABCDEF]?(\\d{2,3})?\n",
    "\n",
    "var_spec = {\n",
    "    \"PassengerId\": {\"unique\": True}, \n",
    "    \"Name\": {\"distribution\": FakerDistribution(\"name\")},\n",
    "    \"Fare\": {\"distribution\": \"ExponentialDistribution\"}, # estimate / fit an exponential distribution based on the data\n",
    "    \"Age\": {\"distribution\": DiscreteUniformDistribution(20, 40)}, # fully specify a distribution for age (uniform between 20 and 40)\n",
    "    \"Cabin\": {\"distribution\": cabin_distribution}\n",
    "}\n",
    "\n",
    "meta_dataset = MetaDataset.from_dataframe(df, spec=var_spec)\n",
    "meta_dataset.synthesize(10)"
   ]
  },
  {
   "cell_type": "markdown",
   "id": "93499251",
   "metadata": {},
   "source": [
    "## Comparing the final synthetic dataset to the original"
   ]
  },
  {
   "cell_type": "markdown",
   "id": "b2068e1d",
   "metadata": {},
   "source": [
    "Let's first compare the averages of the numerical columns:"
   ]
  },
  {
   "cell_type": "code",
   "execution_count": 14,
   "id": "a857ee6e",
   "metadata": {},
   "outputs": [
    {
     "data": {
      "text/html": [
       "<div><style>\n",
       ".dataframe > thead > tr > th,\n",
       ".dataframe > tbody > tr > td {\n",
       "  text-align: right;\n",
       "}\n",
       "</style>\n",
       "<small>shape: (1, 12)</small><table border=\"1\" class=\"dataframe\"><thead><tr><th>PassengerId</th><th>Name</th><th>Sex</th><th>Age</th><th>Parch</th><th>Fare</th><th>Cabin</th><th>Embarked</th><th>Birthday</th><th>Board time</th><th>Married since</th><th>all_NA</th></tr><tr><td>f64</td><td>str</td><td>cat</td><td>f64</td><td>f64</td><td>f64</td><td>str</td><td>cat</td><td>date</td><td>time</td><td>datetime[μs]</td><td>str</td></tr></thead><tbody><tr><td>446.0</td><td>null</td><td>null</td><td>29.693277</td><td>0.381594</td><td>32.204208</td><td>null</td><td>null</td><td>null</td><td>null</td><td>null</td><td>null</td></tr></tbody></table></div>"
      ],
      "text/plain": [
       "shape: (1, 12)\n",
       "┌─────────────┬──────┬──────┬───────────┬───┬──────────┬────────────┬───────────────┬────────┐\n",
       "│ PassengerId ┆ Name ┆ Sex  ┆ Age       ┆ … ┆ Birthday ┆ Board time ┆ Married since ┆ all_NA │\n",
       "│ ---         ┆ ---  ┆ ---  ┆ ---       ┆   ┆ ---      ┆ ---        ┆ ---           ┆ ---    │\n",
       "│ f64         ┆ str  ┆ cat  ┆ f64       ┆   ┆ date     ┆ time       ┆ datetime[μs]  ┆ str    │\n",
       "╞═════════════╪══════╪══════╪═══════════╪═══╪══════════╪════════════╪═══════════════╪════════╡\n",
       "│ 446.0       ┆ null ┆ null ┆ 29.693277 ┆ … ┆ null     ┆ null       ┆ null          ┆ null   │\n",
       "└─────────────┴──────┴──────┴───────────┴───┴──────────┴────────────┴───────────────┴────────┘"
      ]
     },
     "execution_count": 14,
     "metadata": {},
     "output_type": "execute_result"
    }
   ],
   "source": [
    "df.mean()"
   ]
  },
  {
   "cell_type": "code",
   "execution_count": 15,
   "id": "0ba303f3",
   "metadata": {},
   "outputs": [
    {
     "data": {
      "text/html": [
       "<div><style>\n",
       ".dataframe > thead > tr > th,\n",
       ".dataframe > tbody > tr > td {\n",
       "  text-align: right;\n",
       "}\n",
       "</style>\n",
       "<small>shape: (1, 12)</small><table border=\"1\" class=\"dataframe\"><thead><tr><th>PassengerId</th><th>Name</th><th>Sex</th><th>Age</th><th>Parch</th><th>Fare</th><th>Cabin</th><th>Embarked</th><th>Birthday</th><th>Board time</th><th>Married since</th><th>all_NA</th></tr><tr><td>f64</td><td>str</td><td>cat</td><td>f64</td><td>f64</td><td>f64</td><td>str</td><td>cat</td><td>date</td><td>time</td><td>datetime[μs]</td><td>f32</td></tr></thead><tbody><tr><td>446.0</td><td>null</td><td>null</td><td>29.493075</td><td>0.42312</td><td>32.710142</td><td>null</td><td>null</td><td>null</td><td>null</td><td>null</td><td>null</td></tr></tbody></table></div>"
      ],
      "text/plain": [
       "shape: (1, 12)\n",
       "┌─────────────┬──────┬──────┬───────────┬───┬──────────┬────────────┬───────────────┬────────┐\n",
       "│ PassengerId ┆ Name ┆ Sex  ┆ Age       ┆ … ┆ Birthday ┆ Board time ┆ Married since ┆ all_NA │\n",
       "│ ---         ┆ ---  ┆ ---  ┆ ---       ┆   ┆ ---      ┆ ---        ┆ ---           ┆ ---    │\n",
       "│ f64         ┆ str  ┆ cat  ┆ f64       ┆   ┆ date     ┆ time       ┆ datetime[μs]  ┆ f32    │\n",
       "╞═════════════╪══════╪══════╪═══════════╪═══╪══════════╪════════════╪═══════════════╪════════╡\n",
       "│ 446.0       ┆ null ┆ null ┆ 29.493075 ┆ … ┆ null     ┆ null       ┆ null          ┆ null   │\n",
       "└─────────────┴──────┴──────┴───────────┴───┴──────────┴────────────┴───────────────┴────────┘"
      ]
     },
     "execution_count": 15,
     "metadata": {},
     "output_type": "execute_result"
    }
   ],
   "source": [
    "meta_dataset.synthesize(len(df)).mean()"
   ]
  },
  {
   "cell_type": "markdown",
   "id": "89dfda1b",
   "metadata": {},
   "source": [
    "Then, we can also see how many missing values are in each column"
   ]
  },
  {
   "cell_type": "code",
   "execution_count": 16,
   "id": "c6ca2918",
   "metadata": {},
   "outputs": [
    {
     "data": {
      "text/html": [
       "<div><style>\n",
       ".dataframe > thead > tr > th,\n",
       ".dataframe > tbody > tr > td {\n",
       "  text-align: right;\n",
       "}\n",
       "</style>\n",
       "<small>shape: (1, 12)</small><table border=\"1\" class=\"dataframe\"><thead><tr><th>PassengerId</th><th>Name</th><th>Sex</th><th>Age</th><th>Parch</th><th>Fare</th><th>Cabin</th><th>Embarked</th><th>Birthday</th><th>Board time</th><th>Married since</th><th>all_NA</th></tr><tr><td>u32</td><td>u32</td><td>u32</td><td>u32</td><td>u32</td><td>u32</td><td>u32</td><td>u32</td><td>u32</td><td>u32</td><td>u32</td><td>u32</td></tr></thead><tbody><tr><td>0</td><td>0</td><td>0</td><td>177</td><td>0</td><td>0</td><td>687</td><td>2</td><td>78</td><td>79</td><td>92</td><td>891</td></tr></tbody></table></div>"
      ],
      "text/plain": [
       "shape: (1, 12)\n",
       "┌─────────────┬──────┬─────┬─────┬───┬──────────┬────────────┬───────────────┬────────┐\n",
       "│ PassengerId ┆ Name ┆ Sex ┆ Age ┆ … ┆ Birthday ┆ Board time ┆ Married since ┆ all_NA │\n",
       "│ ---         ┆ ---  ┆ --- ┆ --- ┆   ┆ ---      ┆ ---        ┆ ---           ┆ ---    │\n",
       "│ u32         ┆ u32  ┆ u32 ┆ u32 ┆   ┆ u32      ┆ u32        ┆ u32           ┆ u32    │\n",
       "╞═════════════╪══════╪═════╪═════╪═══╪══════════╪════════════╪═══════════════╪════════╡\n",
       "│ 0           ┆ 0    ┆ 0   ┆ 177 ┆ … ┆ 78       ┆ 79         ┆ 92            ┆ 891    │\n",
       "└─────────────┴──────┴─────┴─────┴───┴──────────┴────────────┴───────────────┴────────┘"
      ]
     },
     "execution_count": 16,
     "metadata": {},
     "output_type": "execute_result"
    }
   ],
   "source": [
    "df.null_count()"
   ]
  },
  {
   "cell_type": "code",
   "execution_count": 17,
   "id": "1dd596fb",
   "metadata": {},
   "outputs": [
    {
     "data": {
      "text/html": [
       "<div><style>\n",
       ".dataframe > thead > tr > th,\n",
       ".dataframe > tbody > tr > td {\n",
       "  text-align: right;\n",
       "}\n",
       "</style>\n",
       "<small>shape: (1, 12)</small><table border=\"1\" class=\"dataframe\"><thead><tr><th>PassengerId</th><th>Name</th><th>Sex</th><th>Age</th><th>Parch</th><th>Fare</th><th>Cabin</th><th>Embarked</th><th>Birthday</th><th>Board time</th><th>Married since</th><th>all_NA</th></tr><tr><td>u32</td><td>u32</td><td>u32</td><td>u32</td><td>u32</td><td>u32</td><td>u32</td><td>u32</td><td>u32</td><td>u32</td><td>u32</td><td>u32</td></tr></thead><tbody><tr><td>0</td><td>0</td><td>0</td><td>185</td><td>0</td><td>0</td><td>700</td><td>1</td><td>96</td><td>76</td><td>95</td><td>891</td></tr></tbody></table></div>"
      ],
      "text/plain": [
       "shape: (1, 12)\n",
       "┌─────────────┬──────┬─────┬─────┬───┬──────────┬────────────┬───────────────┬────────┐\n",
       "│ PassengerId ┆ Name ┆ Sex ┆ Age ┆ … ┆ Birthday ┆ Board time ┆ Married since ┆ all_NA │\n",
       "│ ---         ┆ ---  ┆ --- ┆ --- ┆   ┆ ---      ┆ ---        ┆ ---           ┆ ---    │\n",
       "│ u32         ┆ u32  ┆ u32 ┆ u32 ┆   ┆ u32      ┆ u32        ┆ u32           ┆ u32    │\n",
       "╞═════════════╪══════╪═════╪═════╪═══╪══════════╪════════════╪═══════════════╪════════╡\n",
       "│ 0           ┆ 0    ┆ 0   ┆ 185 ┆ … ┆ 96       ┆ 76         ┆ 95            ┆ 891    │\n",
       "└─────────────┴──────┴─────┴─────┴───┴──────────┴────────────┴───────────────┴────────┘"
      ]
     },
     "execution_count": 17,
     "metadata": {},
     "output_type": "execute_result"
    }
   ],
   "source": [
    "meta_dataset.synthesize(len(df)).null_count()"
   ]
  }
 ],
 "metadata": {
  "kernelspec": {
   "display_name": "Python 3 (ipykernel)",
   "language": "python",
   "name": "python3"
  },
  "language_info": {
   "codemirror_mode": {
    "name": "ipython",
    "version": 3
   },
   "file_extension": ".py",
   "mimetype": "text/x-python",
   "name": "python",
   "nbconvert_exporter": "python",
   "pygments_lexer": "ipython3",
   "version": "3.9.10"
  },
  "vscode": {
   "interpreter": {
    "hash": "fdb1107d616260949a63e5f4e2c5568939cf2f2c0d0d70930ae22d4d9fd1a8a0"
   }
  }
 },
 "nbformat": 4,
 "nbformat_minor": 5
}
