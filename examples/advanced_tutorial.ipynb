{
 "cells": [
  {
   "cell_type": "markdown",
   "id": "816e8dfe9a4ba016",
   "metadata": {},
   "source": [
    "# Advanced Tutorial on metasyn\n",
    "\n",
    "In this tutorial, we will be creating a `MetaFrame`, which is a metadata representation of a given dataset, and proceed by generating synthetic data from it. In the process, we are going to walk through some of the advanced abilities of metasyn, such as handling dates, setting distributions and ensuring uniqueness in columns. This example workflow starts from a `.csv` file as input, but it easily adapted to other formats. "
   ]
  },
  {
   "cell_type": "markdown",
   "id": "f5c6597b",
   "metadata": {
    "collapsed": false
   },
   "source": [
    "## Step 0: Install the metasyn package and import required packages"
   ]
  },
  {
   "cell_type": "code",
   "execution_count": 3,
   "id": "e4fae59f",
   "metadata": {
    "ExecuteTime": {
     "end_time": "2023-10-05T09:17:17.820467Z",
     "start_time": "2023-10-05T09:17:17.794619Z"
    }
   },
   "outputs": [],
   "source": [
    "# uncomment the following line and run the cell to install metasyn\n",
    "# %pip install metasyn"
   ]
  },
  {
   "cell_type": "code",
   "execution_count": 4,
   "id": "2442cb34",
   "metadata": {
    "ExecuteTime": {
     "end_time": "2023-10-05T09:17:19.058884Z",
     "start_time": "2023-10-05T09:17:17.798966Z"
    }
   },
   "outputs": [],
   "source": [
    "# import required packages\n",
    "import datetime as dt\n",
    "import polars as pl\n",
    "from metasyn import MetaFrame, demo_file"
   ]
  },
  {
   "cell_type": "markdown",
   "id": "04466c26",
   "metadata": {},
   "source": [
    "## Step 1: Transforming your data into a polars DataFrame\n",
    "\n",
    "The first step in creating the MetaFrame is reading and converting your dataset to a polars DataFrame. "
   ]
  },
  {
   "cell_type": "code",
   "execution_count": 5,
   "id": "3c2a44b7",
   "metadata": {
    "ExecuteTime": {
     "end_time": "2023-10-05T09:17:19.092857Z",
     "start_time": "2023-10-05T09:17:19.080341Z"
    }
   },
   "outputs": [
    {
     "data": {
      "text/plain": "shape: (5, 13)\n┌─────────────┬───────────────┬────────┬─────┬───┬────────────┬────────────┬──────────────┬────────┐\n│ PassengerId ┆ Name          ┆ Sex    ┆ Age ┆ … ┆ Birthday   ┆ Board time ┆ Married      ┆ all_NA │\n│ ---         ┆ ---           ┆ ---    ┆ --- ┆   ┆ ---        ┆ ---        ┆ since        ┆ ---    │\n│ i64         ┆ str           ┆ cat    ┆ i64 ┆   ┆ date       ┆ time       ┆ ---          ┆ str    │\n│             ┆               ┆        ┆     ┆   ┆            ┆            ┆ datetime[μs] ┆        │\n╞═════════════╪═══════════════╪════════╪═════╪═══╪════════════╪════════════╪══════════════╪════════╡\n│ 1           ┆ Braund, Mr.   ┆ male   ┆ 22  ┆ … ┆ 1937-10-28 ┆ 15:53:04   ┆ 2022-08-05   ┆ null   │\n│             ┆ Owen Harris   ┆        ┆     ┆   ┆            ┆            ┆ 04:43:34     ┆        │\n│ 2           ┆ Cumings, Mrs. ┆ female ┆ 38  ┆ … ┆ null       ┆ 12:26:00   ┆ 2022-08-07   ┆ null   │\n│             ┆ John Bradley  ┆        ┆     ┆   ┆            ┆            ┆ 01:56:33     ┆        │\n│             ┆ (Flor…        ┆        ┆     ┆   ┆            ┆            ┆              ┆        │\n│ 3           ┆ Heikkinen,    ┆ female ┆ 26  ┆ … ┆ 1931-09-24 ┆ 16:08:25   ┆ 2022-08-04   ┆ null   │\n│             ┆ Miss. Laina   ┆        ┆     ┆   ┆            ┆            ┆ 20:27:37     ┆        │\n│ 4           ┆ Futrelle,     ┆ female ┆ 35  ┆ … ┆ 1936-11-30 ┆ null       ┆ 2022-08-07   ┆ null   │\n│             ┆ Mrs. Jacques  ┆        ┆     ┆   ┆            ┆            ┆ 07:05:55     ┆        │\n│             ┆ Heath (Li…    ┆        ┆     ┆   ┆            ┆            ┆              ┆        │\n│ 5           ┆ Allen, Mr.    ┆ male   ┆ 35  ┆ … ┆ 1918-11-07 ┆ 10:59:08   ┆ 2022-08-02   ┆ null   │\n│             ┆ William Henry ┆        ┆     ┆   ┆            ┆            ┆ 15:13:34     ┆        │\n└─────────────┴───────────────┴────────┴─────┴───┴────────────┴────────────┴──────────────┴────────┘",
      "text/html": "<div><style>\n.dataframe > thead > tr > th,\n.dataframe > tbody > tr > td {\n  text-align: right;\n}\n</style>\n<small>shape: (5, 13)</small><table border=\"1\" class=\"dataframe\"><thead><tr><th>PassengerId</th><th>Name</th><th>Sex</th><th>Age</th><th>Parch</th><th>Ticket</th><th>Fare</th><th>Cabin</th><th>Embarked</th><th>Birthday</th><th>Board time</th><th>Married since</th><th>all_NA</th></tr><tr><td>i64</td><td>str</td><td>cat</td><td>i64</td><td>i64</td><td>str</td><td>f64</td><td>str</td><td>cat</td><td>date</td><td>time</td><td>datetime[μs]</td><td>str</td></tr></thead><tbody><tr><td>1</td><td>&quot;Braund, Mr. Ow…</td><td>&quot;male&quot;</td><td>22</td><td>0</td><td>&quot;A/5 21171&quot;</td><td>7.25</td><td>null</td><td>&quot;S&quot;</td><td>1937-10-28</td><td>15:53:04</td><td>2022-08-05 04:43:34</td><td>null</td></tr><tr><td>2</td><td>&quot;Cumings, Mrs. …</td><td>&quot;female&quot;</td><td>38</td><td>0</td><td>&quot;PC 17599&quot;</td><td>71.2833</td><td>&quot;C85&quot;</td><td>&quot;C&quot;</td><td>null</td><td>12:26:00</td><td>2022-08-07 01:56:33</td><td>null</td></tr><tr><td>3</td><td>&quot;Heikkinen, Mis…</td><td>&quot;female&quot;</td><td>26</td><td>0</td><td>&quot;STON/O2. 31012…</td><td>7.925</td><td>null</td><td>&quot;S&quot;</td><td>1931-09-24</td><td>16:08:25</td><td>2022-08-04 20:27:37</td><td>null</td></tr><tr><td>4</td><td>&quot;Futrelle, Mrs.…</td><td>&quot;female&quot;</td><td>35</td><td>0</td><td>&quot;113803&quot;</td><td>53.1</td><td>&quot;C123&quot;</td><td>&quot;S&quot;</td><td>1936-11-30</td><td>null</td><td>2022-08-07 07:05:55</td><td>null</td></tr><tr><td>5</td><td>&quot;Allen, Mr. Wil…</td><td>&quot;male&quot;</td><td>35</td><td>0</td><td>&quot;373450&quot;</td><td>8.05</td><td>null</td><td>&quot;S&quot;</td><td>1918-11-07</td><td>10:59:08</td><td>2022-08-02 15:13:34</td><td>null</td></tr></tbody></table></div>"
     },
     "execution_count": 5,
     "metadata": {},
     "output_type": "execute_result"
    }
   ],
   "source": [
    "# get the path of the demo csv\n",
    "demo_file_path = demo_file()\n",
    "\n",
    "# read the data with the correct categorical variables\n",
    "data_types={\n",
    "    \"Sex\": pl.Categorical,\n",
    "    \"Embarked\": pl.Categorical\n",
    "}\n",
    "\n",
    "df = pl.read_csv(demo_file_path, try_parse_dates=True, dtypes=data_types)\n",
    "\n",
    "# check out the data\n",
    "df.head()"
   ]
  },
  {
   "cell_type": "markdown",
   "id": "1e2481d4",
   "metadata": {},
   "source": [
    "Now, let's check the data types of our DataFrame:"
   ]
  },
  {
   "cell_type": "code",
   "execution_count": 6,
   "id": "0a5a1aa2",
   "metadata": {
    "ExecuteTime": {
     "end_time": "2023-10-05T09:17:19.094239Z",
     "start_time": "2023-10-05T09:17:19.084394Z"
    }
   },
   "outputs": [
    {
     "data": {
      "text/plain": "{'PassengerId': Int64,\n 'Name': Utf8,\n 'Sex': Categorical,\n 'Age': Int64,\n 'Parch': Int64,\n 'Ticket': Utf8,\n 'Fare': Float64,\n 'Cabin': Utf8,\n 'Embarked': Categorical,\n 'Birthday': Date,\n 'Board time': Time,\n 'Married since': Datetime(time_unit='us', time_zone=None),\n 'all_NA': Utf8}"
     },
     "execution_count": 6,
     "metadata": {},
     "output_type": "execute_result"
    }
   ],
   "source": [
    "dict(zip(df.columns, df.dtypes))"
   ]
  },
  {
   "cell_type": "markdown",
   "id": "2ebde17e",
   "metadata": {},
   "source": [
    "We see that most variables are now nicely specified as strings, categories, dates and ints where necessary. We can also inspect the data a bit more with `describe()`."
   ]
  },
  {
   "cell_type": "code",
   "execution_count": 7,
   "id": "c72c2acb55fca193",
   "metadata": {
    "collapsed": false,
    "ExecuteTime": {
     "end_time": "2023-10-05T09:17:19.103912Z",
     "start_time": "2023-10-05T09:17:19.088791Z"
    }
   },
   "outputs": [
    {
     "data": {
      "text/plain": "shape: (9, 14)\n┌────────────┬───────────┬──────────────┬──────┬───┬────────────┬────────────┬────────────┬────────┐\n│ describe   ┆ Passenger ┆ Name         ┆ Sex  ┆ … ┆ Birthday   ┆ Board time ┆ Married    ┆ all_NA │\n│ ---        ┆ Id        ┆ ---          ┆ ---  ┆   ┆ ---        ┆ ---        ┆ since      ┆ ---    │\n│ str        ┆ ---       ┆ str          ┆ str  ┆   ┆ str        ┆ str        ┆ ---        ┆ str    │\n│            ┆ f64       ┆              ┆      ┆   ┆            ┆            ┆ str        ┆        │\n╞════════════╪═══════════╪══════════════╪══════╪═══╪════════════╪════════════╪════════════╪════════╡\n│ count      ┆ 891.0     ┆ 891          ┆ 891  ┆ … ┆ 891        ┆ 891        ┆ 891        ┆ 891    │\n│ null_count ┆ 0.0       ┆ 0            ┆ 0    ┆ … ┆ 78         ┆ 79         ┆ 92         ┆ 891    │\n│ mean       ┆ 446.0     ┆ null         ┆ null ┆ … ┆ null       ┆ null       ┆ null       ┆ null   │\n│ std        ┆ 257.35384 ┆ null         ┆ null ┆ … ┆ null       ┆ null       ┆ null       ┆ null   │\n│            ┆ 2         ┆              ┆      ┆   ┆            ┆            ┆            ┆        │\n│ min        ┆ 1.0       ┆ Abbing, Mr.  ┆ null ┆ … ┆ 1903-07-28 ┆ 10:39:40   ┆ 2022-07-15 ┆ null   │\n│            ┆           ┆ Anthony      ┆      ┆   ┆            ┆            ┆ 12:21:15   ┆        │\n│ max        ┆ 891.0     ┆ van          ┆ null ┆ … ┆ 1940-05-27 ┆ 18:39:28   ┆ 2022-08-15 ┆ null   │\n│            ┆           ┆ Melkebeke,   ┆      ┆   ┆            ┆            ┆ 10:32:05   ┆        │\n│            ┆           ┆ Mr. Philemon ┆      ┆   ┆            ┆            ┆            ┆        │\n│ median     ┆ 446.0     ┆ null         ┆ null ┆ … ┆ null       ┆ null       ┆ null       ┆ null   │\n│ 25%        ┆ 223.0     ┆ null         ┆ null ┆ … ┆ null       ┆ null       ┆ null       ┆ null   │\n│ 75%        ┆ 669.0     ┆ null         ┆ null ┆ … ┆ null       ┆ null       ┆ null       ┆ null   │\n└────────────┴───────────┴──────────────┴──────┴───┴────────────┴────────────┴────────────┴────────┘",
      "text/html": "<div><style>\n.dataframe > thead > tr > th,\n.dataframe > tbody > tr > td {\n  text-align: right;\n}\n</style>\n<small>shape: (9, 14)</small><table border=\"1\" class=\"dataframe\"><thead><tr><th>describe</th><th>PassengerId</th><th>Name</th><th>Sex</th><th>Age</th><th>Parch</th><th>Ticket</th><th>Fare</th><th>Cabin</th><th>Embarked</th><th>Birthday</th><th>Board time</th><th>Married since</th><th>all_NA</th></tr><tr><td>str</td><td>f64</td><td>str</td><td>str</td><td>f64</td><td>f64</td><td>str</td><td>f64</td><td>str</td><td>str</td><td>str</td><td>str</td><td>str</td><td>str</td></tr></thead><tbody><tr><td>&quot;count&quot;</td><td>891.0</td><td>&quot;891&quot;</td><td>&quot;891&quot;</td><td>891.0</td><td>891.0</td><td>&quot;891&quot;</td><td>891.0</td><td>&quot;891&quot;</td><td>&quot;891&quot;</td><td>&quot;891&quot;</td><td>&quot;891&quot;</td><td>&quot;891&quot;</td><td>&quot;891&quot;</td></tr><tr><td>&quot;null_count&quot;</td><td>0.0</td><td>&quot;0&quot;</td><td>&quot;0&quot;</td><td>177.0</td><td>0.0</td><td>&quot;0&quot;</td><td>0.0</td><td>&quot;687&quot;</td><td>&quot;2&quot;</td><td>&quot;78&quot;</td><td>&quot;79&quot;</td><td>&quot;92&quot;</td><td>&quot;891&quot;</td></tr><tr><td>&quot;mean&quot;</td><td>446.0</td><td>null</td><td>null</td><td>29.693277</td><td>0.381594</td><td>null</td><td>32.204208</td><td>null</td><td>null</td><td>null</td><td>null</td><td>null</td><td>null</td></tr><tr><td>&quot;std&quot;</td><td>257.353842</td><td>null</td><td>null</td><td>14.524527</td><td>0.806057</td><td>null</td><td>49.693429</td><td>null</td><td>null</td><td>null</td><td>null</td><td>null</td><td>null</td></tr><tr><td>&quot;min&quot;</td><td>1.0</td><td>&quot;Abbing, Mr. An…</td><td>null</td><td>0.0</td><td>0.0</td><td>&quot;110152&quot;</td><td>0.0</td><td>&quot;A10&quot;</td><td>null</td><td>&quot;1903-07-28&quot;</td><td>&quot;10:39:40&quot;</td><td>&quot;2022-07-15 12:…</td><td>null</td></tr><tr><td>&quot;max&quot;</td><td>891.0</td><td>&quot;van Melkebeke,…</td><td>null</td><td>80.0</td><td>6.0</td><td>&quot;WE/P 5735&quot;</td><td>512.3292</td><td>&quot;T&quot;</td><td>null</td><td>&quot;1940-05-27&quot;</td><td>&quot;18:39:28&quot;</td><td>&quot;2022-08-15 10:…</td><td>null</td></tr><tr><td>&quot;median&quot;</td><td>446.0</td><td>null</td><td>null</td><td>28.0</td><td>0.0</td><td>null</td><td>14.4542</td><td>null</td><td>null</td><td>null</td><td>null</td><td>null</td><td>null</td></tr><tr><td>&quot;25%&quot;</td><td>223.0</td><td>null</td><td>null</td><td>20.0</td><td>0.0</td><td>null</td><td>7.8958</td><td>null</td><td>null</td><td>null</td><td>null</td><td>null</td><td>null</td></tr><tr><td>&quot;75%&quot;</td><td>669.0</td><td>null</td><td>null</td><td>38.0</td><td>0.0</td><td>null</td><td>31.0</td><td>null</td><td>null</td><td>null</td><td>null</td><td>null</td><td>null</td></tr></tbody></table></div>"
     },
     "execution_count": 7,
     "metadata": {},
     "output_type": "execute_result"
    }
   ],
   "source": [
    "df.describe()"
   ]
  },
  {
   "cell_type": "markdown",
   "id": "5df3f1e974e84da4",
   "metadata": {
    "collapsed": false
   },
   "source": []
  },
  {
   "cell_type": "markdown",
   "id": "13f849ed",
   "metadata": {},
   "source": [
    "## Step 2: Creating a MetaFrame object from a DataFrame\n",
    "\n",
    "Now a lot of work has already gone into creating a properly formatted DataFrame. This work pays off at this stage: let's convert the DataFrame to a MetaFrame structure with the default options. Note: this takes a little bit of time!"
   ]
  },
  {
   "cell_type": "code",
   "execution_count": 8,
   "id": "e0c58473",
   "metadata": {
    "ExecuteTime": {
     "end_time": "2023-10-05T09:17:34.919491Z",
     "start_time": "2023-10-05T09:17:19.097935Z"
    }
   },
   "outputs": [
    {
     "name": "stderr",
     "output_type": "stream",
     "text": [
      "/Users/samuel/Desktop/Creating/Python Projects/MetaSynthDev/github_repo/metasyn/provider.py:226: UserWarning: \n",
      "Variable PassengerId seems unique, but not set to be unique.\n",
      "Set the variable to be either unique or not unique to remove this warning.\n",
      "\n",
      "  warnings.warn(f\"\\nVariable {series.name} seems unique, but not set to be unique.\\n\"\n"
     ]
    }
   ],
   "source": [
    "mf = MetaFrame.fit_dataframe(df)"
   ]
  },
  {
   "cell_type": "markdown",
   "id": "1e8a772d",
   "metadata": {},
   "source": [
    "Then, we can simply print the MetaFrame to display it in an easy-to-read format:"
   ]
  },
  {
   "cell_type": "code",
   "execution_count": 9,
   "id": "abab1b78",
   "metadata": {
    "ExecuteTime": {
     "end_time": "2023-10-05T09:17:34.926193Z",
     "start_time": "2023-10-05T09:17:34.920932Z"
    }
   },
   "outputs": [
    {
     "name": "stdout",
     "output_type": "stream",
     "text": [
      "# Rows: 891\n",
      "# Columns: 13\n",
      "\n",
      "Column 1: \"PassengerId\"\n",
      "- Variable Type: discrete\n",
      "- Data Type: Int64\n",
      "- Proportion of Missing Values: 0.0000\n",
      "- Distribution:\n",
      "\t- Type: core.discrete_uniform\n",
      "\t- Provenance: builtin\n",
      "\t- Parameters:\n",
      "\t\t- low: 1\n",
      "\t\t- high: 892\n",
      "\t\n",
      "\n",
      "Column 2: \"Name\"\n",
      "- Variable Type: string\n",
      "- Data Type: Utf8\n",
      "- Proportion of Missing Values: 0.0000\n",
      "- Distribution:\n",
      "\t- Type: core.regex\n",
      "\t- Provenance: builtin\n",
      "\t- Parameters:\n",
      "\t\t- regex: [A-Z][a-z]{2,9}[,][ ][M]((|[a][s][t][e])[r][\\.][ ][A-Z][a-z]{3,7}(|[ ][A-Z][a-z]{3,7})|[i][s]{2,2}[\\.][ ][A-Z][a-z]{3,8}(|[ ][A-Z][a-z]{4,7}))\n",
      "\t\n",
      "\n",
      "Column 3: \"Sex\"\n",
      "- Variable Type: categorical\n",
      "- Data Type: Categorical\n",
      "- Proportion of Missing Values: 0.0000\n",
      "- Distribution:\n",
      "\t- Type: core.multinoulli\n",
      "\t- Provenance: builtin\n",
      "\t- Parameters:\n",
      "\t\t- labels: ['female' 'male']\n",
      "\t\t- probs: [0.35241302 0.64758698]\n",
      "\t\n",
      "\n",
      "Column 4: \"Age\"\n",
      "- Variable Type: discrete\n",
      "- Data Type: Int64\n",
      "- Proportion of Missing Values: 0.1987\n",
      "- Distribution:\n",
      "\t- Type: core.multinoulli\n",
      "\t- Provenance: builtin\n",
      "\t- Parameters:\n",
      "\t\t- labels: [ 0  1  2  3  4  5  6  7  8  9 10 11 12 13 14 15 16 17 18 19 20 21 22 23\n",
      "\t 24 25 26 27 28 29 30 31 32 33 34 35 36 37 38 39 40 41 42 43 44 45 46 47\n",
      "\t 48 49 50 51 52 53 54 55 56 57 58 59 60 61 62 63 64 65 66 70 71 74 80]\n",
      "\t\t- probs: [0.00140056 0.01820728 0.0140056  0.00840336 0.0140056  0.00560224\n",
      "\t 0.00420168 0.00420168 0.00560224 0.01120448 0.00280112 0.00560224\n",
      "\t 0.00140056 0.00280112 0.00980392 0.0070028  0.02380952 0.01820728\n",
      "\t 0.03641457 0.03501401 0.02240896 0.03361345 0.03781513 0.0210084\n",
      "\t 0.04481793 0.03221289 0.02521008 0.02521008 0.03781513 0.0280112\n",
      "\t 0.03781513 0.02380952 0.0280112  0.0210084  0.02240896 0.02521008\n",
      "\t 0.03221289 0.00840336 0.01540616 0.01960784 0.0210084  0.00840336\n",
      "\t 0.01820728 0.0070028  0.01260504 0.01680672 0.0070028  0.01260504\n",
      "\t 0.01260504 0.00840336 0.0140056  0.00980392 0.00840336 0.00140056\n",
      "\t 0.01120448 0.00280112 0.0070028  0.00280112 0.0070028  0.00280112\n",
      "\t 0.00560224 0.00420168 0.00560224 0.00280112 0.00280112 0.00420168\n",
      "\t 0.00140056 0.00420168 0.00280112 0.00140056 0.00140056]\n",
      "\t\n",
      "\n",
      "Column 5: \"Parch\"\n",
      "- Variable Type: discrete\n",
      "- Data Type: Int64\n",
      "- Proportion of Missing Values: 0.0000\n",
      "- Distribution:\n",
      "\t- Type: core.multinoulli\n",
      "\t- Provenance: builtin\n",
      "\t- Parameters:\n",
      "\t\t- labels: [0 1 2 3 4 5 6]\n",
      "\t\t- probs: [0.76094276 0.13243547 0.08978676 0.00561167 0.00448934 0.00561167\n",
      "\t 0.00112233]\n",
      "\t\n",
      "\n",
      "Column 6: \"Ticket\"\n",
      "- Variable Type: string\n",
      "- Data Type: Utf8\n",
      "- Proportion of Missing Values: 0.0000\n",
      "- Distribution:\n",
      "\t- Type: core.regex\n",
      "\t- Provenance: builtin\n",
      "\t- Parameters:\n",
      "\t\t- regex: (|([P][C][ ]|[CA-Z]{1,4}[\\.][A][\\.][ ]))[0-9]{4,6}\n",
      "\t\n",
      "\n",
      "Column 7: \"Fare\"\n",
      "- Variable Type: continuous\n",
      "- Data Type: Float64\n",
      "- Proportion of Missing Values: 0.0000\n",
      "- Distribution:\n",
      "\t- Type: core.exponential\n",
      "\t- Provenance: builtin\n",
      "\t- Parameters:\n",
      "\t\t- rate: 0.03052908440177665\n",
      "\t\n",
      "\n",
      "Column 8: \"Cabin\"\n",
      "- Variable Type: string\n",
      "- Data Type: Utf8\n",
      "- Proportion of Missing Values: 0.7710\n",
      "- Distribution:\n",
      "\t- Type: core.regex\n",
      "\t- Provenance: builtin\n",
      "\t- Parameters:\n",
      "\t\t- regex: [A-Z](|[0-9 ]{1,2}(|(|[ ](|[C][2][5][ ]))[0-9A-Z]{1,3}))\n",
      "\t\n",
      "\n",
      "Column 9: \"Embarked\"\n",
      "- Variable Type: categorical\n",
      "- Data Type: Categorical\n",
      "- Proportion of Missing Values: 0.0022\n",
      "- Distribution:\n",
      "\t- Type: core.multinoulli\n",
      "\t- Provenance: builtin\n",
      "\t- Parameters:\n",
      "\t\t- labels: ['C' 'Q' 'S']\n",
      "\t\t- probs: [0.18897638 0.08661417 0.72440945]\n",
      "\t\n",
      "\n",
      "Column 10: \"Birthday\"\n",
      "- Variable Type: date\n",
      "- Data Type: Date\n",
      "- Proportion of Missing Values: 0.0875\n",
      "- Distribution:\n",
      "\t- Type: core.uniform_date\n",
      "\t- Provenance: builtin\n",
      "\t- Parameters:\n",
      "\t\t- start: 1903-07-28\n",
      "\t\t- end: 1940-05-27\n",
      "\t\n",
      "\n",
      "Column 11: \"Board time\"\n",
      "- Variable Type: time\n",
      "- Data Type: Time\n",
      "- Proportion of Missing Values: 0.0887\n",
      "- Distribution:\n",
      "\t- Type: core.uniform_time\n",
      "\t- Provenance: builtin\n",
      "\t- Parameters:\n",
      "\t\t- start: 10:39:40\n",
      "\t\t- end: 18:39:28\n",
      "\t\t- precision: seconds\n",
      "\t\n",
      "\n",
      "Column 12: \"Married since\"\n",
      "- Variable Type: datetime\n",
      "- Data Type: Datetime(time_unit='us', time_zone=None)\n",
      "- Proportion of Missing Values: 0.1033\n",
      "- Distribution:\n",
      "\t- Type: core.uniform_datetime\n",
      "\t- Provenance: builtin\n",
      "\t- Parameters:\n",
      "\t\t- start: 2022-07-15T12:21:15\n",
      "\t\t- end: 2022-08-15T10:32:05\n",
      "\t\t- precision: seconds\n",
      "\t\n",
      "\n",
      "Column 13: \"all_NA\"\n",
      "- Variable Type: string\n",
      "- Data Type: Utf8\n",
      "- Proportion of Missing Values: 1.0000\n",
      "- Distribution:\n",
      "\t- Type: core.na\n",
      "\t- Provenance: builtin\n",
      "\t- Parameters:\n",
      "\t\n",
      "\t\n"
     ]
    }
   ],
   "source": [
    "print(mf)"
   ]
  },
  {
   "cell_type": "markdown",
   "id": "03b27a95",
   "metadata": {},
   "source": [
    "## Step 3: Exporting the MetaFrame\n",
    "\n",
    "After creating the MetaFrame, Metasyn can serialize and export it into a GMF file. \n",
    "\n",
    "\n",
    "> **GMF files:**\n",
    "> GMF files are JSON files that follow the [Generative Metadata Format (GMF)](https://github.com/sodascience/generative_metadata_format), a format designed to contain statistical metadata for (tabular) datasets that has been designed to be easy to read and understand. This allows users to audit, understand, modify and share their data generation model with ease."
   ]
  },
  {
   "cell_type": "code",
   "execution_count": 11,
   "id": "11e355f3",
   "metadata": {
    "ExecuteTime": {
     "end_time": "2023-10-05T09:17:35.112465Z",
     "start_time": "2023-10-05T09:17:34.928755Z"
    }
   },
   "outputs": [],
   "source": [
    "# save the metadata to a file\n",
    "file_path = \"example_gmf_titanic.json\"\n",
    "mf.export(file_path)\n",
    "\n",
    "# you can now open and read the json file!"
   ]
  },
  {
   "cell_type": "markdown",
   "source": [
    "Alternatively, we can preview how the exported file would look, without saving it to disk as follows:"
   ],
   "metadata": {
    "collapsed": false
   },
   "id": "fea40d1407e42ea"
  },
  {
   "cell_type": "code",
   "execution_count": null,
   "outputs": [],
   "source": [
    "gmf_preview = repr(mf)\n",
    "print(gmf_preview)"
   ],
   "metadata": {
    "collapsed": false
   },
   "id": "2b72d8907ec04999"
  },
  {
   "cell_type": "markdown",
   "id": "6571873d",
   "metadata": {},
   "source": [
    "## Step 4: Generating synthetic data from the metadata"
   ]
  },
  {
   "cell_type": "markdown",
   "id": "fcd16a5a",
   "metadata": {},
   "source": [
    "A previously exported MetaFrame (.json) file can be loaded into a MetaFrame object. "
   ]
  },
  {
   "cell_type": "code",
   "execution_count": 12,
   "id": "c5eac7eeb3326f03",
   "metadata": {
    "collapsed": false,
    "ExecuteTime": {
     "end_time": "2023-10-05T09:17:35.319094Z",
     "start_time": "2023-10-05T09:17:35.112779Z"
    }
   },
   "outputs": [],
   "source": [
    "#load previously exported MetaFrame (.json) file\n",
    "mf = MetaFrame.from_json(file_path)"
   ]
  },
  {
   "cell_type": "markdown",
   "id": "85201666a67a73fd",
   "metadata": {
    "collapsed": false
   },
   "source": [
    "Once a MetaFrame is loaded, synthetic data can be generated from it. The `synthesize` method takes the number of rows to be generated as parameter and returns a DataFrame with the synthetic data."
   ]
  },
  {
   "cell_type": "code",
   "execution_count": 13,
   "id": "4ccf451c",
   "metadata": {
    "ExecuteTime": {
     "end_time": "2023-10-05T09:17:35.336222Z",
     "start_time": "2023-10-05T09:17:35.322646Z"
    }
   },
   "outputs": [
    {
     "data": {
      "text/plain": "shape: (5, 13)\n┌─────────────┬──────────────┬────────┬──────┬───┬────────────┬────────────┬──────────────┬────────┐\n│ PassengerId ┆ Name         ┆ Sex    ┆ Age  ┆ … ┆ Birthday   ┆ Board time ┆ Married      ┆ all_NA │\n│ ---         ┆ ---          ┆ ---    ┆ ---  ┆   ┆ ---        ┆ ---        ┆ since        ┆ ---    │\n│ i64         ┆ str          ┆ cat    ┆ i64  ┆   ┆ date       ┆ time       ┆ ---          ┆ f32    │\n│             ┆              ┆        ┆      ┆   ┆            ┆            ┆ datetime[μs] ┆        │\n╞═════════════╪══════════════╪════════╪══════╪═══╪════════════╪════════════╪══════════════╪════════╡\n│ 44          ┆ Agptbme,     ┆ male   ┆ 17   ┆ … ┆ null       ┆ 18:11:28   ┆ 2022-08-11   ┆ null   │\n│             ┆ Miss. Nqduqf ┆        ┆      ┆   ┆            ┆            ┆ 02:03:31     ┆        │\n│ 655         ┆ Atzljlwzp,   ┆ female ┆ null ┆ … ┆ 1914-06-10 ┆ 16:58:14   ┆ 2022-08-02   ┆ null   │\n│             ┆ Master. Pwnn ┆        ┆      ┆   ┆            ┆            ┆ 08:13:51     ┆        │\n│             ┆ Eizrcyoi     ┆        ┆      ┆   ┆            ┆            ┆              ┆        │\n│ 111         ┆ Sir, Mr.     ┆ male   ┆ 26   ┆ … ┆ 1936-06-18 ┆ 17:40:49   ┆ 2022-08-10   ┆ null   │\n│             ┆ Xzzqezs Yszn ┆        ┆      ┆   ┆            ┆            ┆ 14:20:01     ┆        │\n│ 523         ┆ Ftmq, Mr.    ┆ male   ┆ 34   ┆ … ┆ null       ┆ 18:25:02   ┆ 2022-07-22   ┆ null   │\n│             ┆ Wjltxew      ┆        ┆      ┆   ┆            ┆            ┆ 19:37:23     ┆        │\n│             ┆ Ywnwo        ┆        ┆      ┆   ┆            ┆            ┆              ┆        │\n│ 426         ┆ Ewxlihlpq,   ┆ male   ┆ 24   ┆ … ┆ 1936-11-12 ┆ 11:29:18   ┆ 2022-07-19   ┆ null   │\n│             ┆ Mr. Jjvg     ┆        ┆      ┆   ┆            ┆            ┆ 18:40:49     ┆        │\n│             ┆ Pkdyg        ┆        ┆      ┆   ┆            ┆            ┆              ┆        │\n└─────────────┴──────────────┴────────┴──────┴───┴────────────┴────────────┴──────────────┴────────┘",
      "text/html": "<div><style>\n.dataframe > thead > tr > th,\n.dataframe > tbody > tr > td {\n  text-align: right;\n}\n</style>\n<small>shape: (5, 13)</small><table border=\"1\" class=\"dataframe\"><thead><tr><th>PassengerId</th><th>Name</th><th>Sex</th><th>Age</th><th>Parch</th><th>Ticket</th><th>Fare</th><th>Cabin</th><th>Embarked</th><th>Birthday</th><th>Board time</th><th>Married since</th><th>all_NA</th></tr><tr><td>i64</td><td>str</td><td>cat</td><td>i64</td><td>i64</td><td>str</td><td>f64</td><td>f32</td><td>cat</td><td>date</td><td>time</td><td>datetime[μs]</td><td>f32</td></tr></thead><tbody><tr><td>44</td><td>&quot;Agptbme, Miss.…</td><td>&quot;male&quot;</td><td>17</td><td>0</td><td>&quot;60775&quot;</td><td>88.179267</td><td>null</td><td>&quot;S&quot;</td><td>null</td><td>18:11:28</td><td>2022-08-11 02:03:31</td><td>null</td></tr><tr><td>655</td><td>&quot;Atzljlwzp, Mas…</td><td>&quot;female&quot;</td><td>null</td><td>1</td><td>&quot;598738&quot;</td><td>8.664989</td><td>null</td><td>&quot;C&quot;</td><td>1914-06-10</td><td>16:58:14</td><td>2022-08-02 08:13:51</td><td>null</td></tr><tr><td>111</td><td>&quot;Sir, Mr. Xzzqe…</td><td>&quot;male&quot;</td><td>26</td><td>0</td><td>&quot;PC 077395&quot;</td><td>47.715067</td><td>null</td><td>&quot;S&quot;</td><td>1936-06-18</td><td>17:40:49</td><td>2022-08-10 14:20:01</td><td>null</td></tr><tr><td>523</td><td>&quot;Ftmq, Mr. Wjlt…</td><td>&quot;male&quot;</td><td>34</td><td>2</td><td>&quot;PC 4541&quot;</td><td>29.418323</td><td>null</td><td>&quot;C&quot;</td><td>null</td><td>18:25:02</td><td>2022-07-22 19:37:23</td><td>null</td></tr><tr><td>426</td><td>&quot;Ewxlihlpq, Mr.…</td><td>&quot;male&quot;</td><td>24</td><td>0</td><td>&quot;2337&quot;</td><td>57.856906</td><td>null</td><td>&quot;S&quot;</td><td>1936-11-12</td><td>11:29:18</td><td>2022-07-19 18:40:49</td><td>null</td></tr></tbody></table></div>"
     },
     "execution_count": 13,
     "metadata": {},
     "output_type": "execute_result"
    }
   ],
   "source": [
    "# generate synthetic data\n",
    "mf.synthesize(5)"
   ]
  },
  {
   "cell_type": "markdown",
   "id": "669b1e95",
   "metadata": {},
   "source": [
    "As you can see, the fake data looks a lot like the real data! However, it could still use some improvement. In the next sections, we will explore manual changes we can make to improve the quality of the synthetic data."
   ]
  },
  {
   "cell_type": "markdown",
   "id": "e4cfe6cd",
   "metadata": {},
   "source": [
    "## Step 5: Improving the quality of the synthetic data"
   ]
  },
  {
   "cell_type": "markdown",
   "id": "df32cc3a",
   "metadata": {},
   "source": [
    "### Set unique columns\n",
    "\n",
    "One column (PassengerId) has been detected as possibly unique by metasyn, as indicated by the following warning:\n",
    "\n",
    "> \"Variable PassengerId seems unique, but not set to be unique.\"\n",
    "\n",
    "This column holds a variable with unique passenger identifiers, so in fact we do want synthetic data generated for this column to be unique as well. We can add this to the metadata by creating a list of options which we call a `specification`, or `spec`:"
   ]
  },
  {
   "cell_type": "code",
   "execution_count": 14,
   "id": "e7b76751",
   "metadata": {
    "ExecuteTime": {
     "end_time": "2023-10-05T09:17:37.530331Z",
     "start_time": "2023-10-05T09:17:35.338794Z"
    }
   },
   "outputs": [
    {
     "data": {
      "text/plain": "{'name': 'PassengerId',\n 'type': 'discrete',\n 'dtype': 'Int64',\n 'prop_missing': 0.0,\n 'distribution': {'implements': 'core.unique_key',\n  'version': '1.0',\n  'provenance': 'builtin',\n  'class_name': 'UniqueKeyDistribution',\n  'parameters': {'low': 1, 'consecutive': 1}}}"
     },
     "execution_count": 14,
     "metadata": {},
     "output_type": "execute_result"
    }
   ],
   "source": [
    "# First, we create a specification dictionary for the variables\n",
    "var_spec = {\n",
    "    \"PassengerId\": {\"unique\": True}\n",
    "}\n",
    "\n",
    "# then, we add that dictionary as the `spec` argument\n",
    "mf = MetaFrame.fit_dataframe(df, spec=var_spec)\n",
    "\n",
    "# then, let's check what the metadata about PassengerId contains!\n",
    "mf[\"PassengerId\"].to_dict()"
   ]
  },
  {
   "cell_type": "markdown",
   "id": "a28f0970",
   "metadata": {},
   "source": [
    "So let's check what is generated from this new MetaFrame:"
   ]
  },
  {
   "cell_type": "code",
   "execution_count": 15,
   "id": "38c2f4b6",
   "metadata": {
    "ExecuteTime": {
     "end_time": "2023-10-05T09:17:37.544256Z",
     "start_time": "2023-10-05T09:17:37.530529Z"
    }
   },
   "outputs": [
    {
     "data": {
      "text/plain": "shape: (5, 13)\n┌─────────────┬────────────────┬──────┬─────┬───┬────────────┬────────────┬───────────────┬────────┐\n│ PassengerId ┆ Name           ┆ Sex  ┆ Age ┆ … ┆ Birthday   ┆ Board time ┆ Married since ┆ all_NA │\n│ ---         ┆ ---            ┆ ---  ┆ --- ┆   ┆ ---        ┆ ---        ┆ ---           ┆ ---    │\n│ i64         ┆ str            ┆ cat  ┆ i64 ┆   ┆ date       ┆ time       ┆ datetime[μs]  ┆ f32    │\n╞═════════════╪════════════════╪══════╪═════╪═══╪════════════╪════════════╪═══════════════╪════════╡\n│ 1           ┆ Yefogmjpea,    ┆ male ┆ 17  ┆ … ┆ 1924-05-13 ┆ 13:56:50   ┆ 2022-07-26    ┆ null   │\n│             ┆ Miss. Svgei    ┆      ┆     ┆   ┆            ┆            ┆ 08:22:00      ┆        │\n│ 2           ┆ Pxfibl, Mr.    ┆ male ┆ 25  ┆ … ┆ 1927-04-15 ┆ null       ┆ 2022-07-25    ┆ null   │\n│             ┆ Ifxf           ┆      ┆     ┆   ┆            ┆            ┆ 18:00:04      ┆        │\n│ 3           ┆ Zkpidj, Mr.    ┆ male ┆ 70  ┆ … ┆ 1911-02-03 ┆ 11:40:45   ┆ 2022-07-25    ┆ null   │\n│             ┆ Gnqnubzv       ┆      ┆     ┆   ┆            ┆            ┆ 18:05:10      ┆        │\n│ 4           ┆ Qmmcsyf, Miss. ┆ male ┆ 38  ┆ … ┆ 1921-12-22 ┆ null       ┆ 2022-07-22    ┆ null   │\n│             ┆ Sepbupjw Mmibo ┆      ┆     ┆   ┆            ┆            ┆ 18:25:04      ┆        │\n│ 5           ┆ Sdg, Miss.     ┆ male ┆ 26  ┆ … ┆ 1932-11-17 ┆ 12:32:26   ┆ 2022-08-02    ┆ null   │\n│             ┆ Fiwiwqqi       ┆      ┆     ┆   ┆            ┆            ┆ 02:25:18      ┆        │\n└─────────────┴────────────────┴──────┴─────┴───┴────────────┴────────────┴───────────────┴────────┘",
      "text/html": "<div><style>\n.dataframe > thead > tr > th,\n.dataframe > tbody > tr > td {\n  text-align: right;\n}\n</style>\n<small>shape: (5, 13)</small><table border=\"1\" class=\"dataframe\"><thead><tr><th>PassengerId</th><th>Name</th><th>Sex</th><th>Age</th><th>Parch</th><th>Ticket</th><th>Fare</th><th>Cabin</th><th>Embarked</th><th>Birthday</th><th>Board time</th><th>Married since</th><th>all_NA</th></tr><tr><td>i64</td><td>str</td><td>cat</td><td>i64</td><td>i64</td><td>str</td><td>f64</td><td>f32</td><td>cat</td><td>date</td><td>time</td><td>datetime[μs]</td><td>f32</td></tr></thead><tbody><tr><td>1</td><td>&quot;Yefogmjpea, Mi…</td><td>&quot;male&quot;</td><td>17</td><td>0</td><td>&quot;115936&quot;</td><td>25.237458</td><td>null</td><td>&quot;C&quot;</td><td>1924-05-13</td><td>13:56:50</td><td>2022-07-26 08:22:00</td><td>null</td></tr><tr><td>2</td><td>&quot;Pxfibl, Mr. If…</td><td>&quot;male&quot;</td><td>25</td><td>0</td><td>&quot;PC 8109&quot;</td><td>24.613732</td><td>null</td><td>&quot;S&quot;</td><td>1927-04-15</td><td>null</td><td>2022-07-25 18:00:04</td><td>null</td></tr><tr><td>3</td><td>&quot;Zkpidj, Mr. Gn…</td><td>&quot;male&quot;</td><td>70</td><td>0</td><td>&quot;873293&quot;</td><td>98.012502</td><td>null</td><td>&quot;S&quot;</td><td>1911-02-03</td><td>11:40:45</td><td>2022-07-25 18:05:10</td><td>null</td></tr><tr><td>4</td><td>&quot;Qmmcsyf, Miss.…</td><td>&quot;male&quot;</td><td>38</td><td>0</td><td>&quot;529583&quot;</td><td>7.802801</td><td>null</td><td>&quot;C&quot;</td><td>1921-12-22</td><td>null</td><td>2022-07-22 18:25:04</td><td>null</td></tr><tr><td>5</td><td>&quot;Sdg, Miss. Fiw…</td><td>&quot;male&quot;</td><td>26</td><td>0</td><td>&quot;64638&quot;</td><td>9.796996</td><td>null</td><td>&quot;S&quot;</td><td>1932-11-17</td><td>12:32:26</td><td>2022-08-02 02:25:18</td><td>null</td></tr></tbody></table></div>"
     },
     "execution_count": 15,
     "metadata": {},
     "output_type": "execute_result"
    }
   ],
   "source": [
    "mf.synthesize(5)"
   ]
  },
  {
   "cell_type": "markdown",
   "id": "11c7f562",
   "metadata": {},
   "source": [
    "Now we that the `PassengerId` column is correctly represented with increasing id numbers."
   ]
  },
  {
   "cell_type": "markdown",
   "id": "6f884eb7",
   "metadata": {},
   "source": [
    "### Fake names (and others)\n",
    "\n",
    "As one can see, the `Name` of the passengers is not quite so well synthesized. The reason is that the string type interpreter in metasyn is designed for `structured` strings (like room numbers such as `B1.09`, `B1.01` or `A1.08`) and not unstructured strings. However, metasyn supports the [faker](https://faker.readthedocs.io/en/master/index.html) package, which includes a lot of data types that it can fake. The columns using faker are not based on the real data at all so they do not disclose any info about the real data.\n",
    "\n",
    "We fake names as follows:"
   ]
  },
  {
   "cell_type": "code",
   "execution_count": 16,
   "id": "d5615aa0",
   "metadata": {
    "ExecuteTime": {
     "end_time": "2023-10-05T09:17:38.877310Z",
     "start_time": "2023-10-05T09:17:37.540446Z"
    }
   },
   "outputs": [
    {
     "data": {
      "text/plain": "shape: (5, 13)\n┌─────────────┬──────────────┬────────┬──────┬───┬────────────┬────────────┬──────────────┬────────┐\n│ PassengerId ┆ Name         ┆ Sex    ┆ Age  ┆ … ┆ Birthday   ┆ Board time ┆ Married      ┆ all_NA │\n│ ---         ┆ ---          ┆ ---    ┆ ---  ┆   ┆ ---        ┆ ---        ┆ since        ┆ ---    │\n│ i64         ┆ str          ┆ cat    ┆ i64  ┆   ┆ date       ┆ time       ┆ ---          ┆ f32    │\n│             ┆              ┆        ┆      ┆   ┆            ┆            ┆ datetime[μs] ┆        │\n╞═════════════╪══════════════╪════════╪══════╪═══╪════════════╪════════════╪══════════════╪════════╡\n│ 1           ┆ Jessica      ┆ female ┆ 29   ┆ … ┆ 1931-03-25 ┆ 14:20:23   ┆ 2022-07-25   ┆ null   │\n│             ┆ Rodriguez    ┆        ┆      ┆   ┆            ┆            ┆ 09:18:33     ┆        │\n│ 2           ┆ Ryan Hunt    ┆ male   ┆ 30   ┆ … ┆ 1915-09-07 ┆ null       ┆ 2022-07-26   ┆ null   │\n│             ┆              ┆        ┆      ┆   ┆            ┆            ┆ 10:32:42     ┆        │\n│ 3           ┆ Lauren Webb  ┆ female ┆ null ┆ … ┆ 1922-11-20 ┆ 14:00:11   ┆ 2022-08-12   ┆ null   │\n│             ┆              ┆        ┆      ┆   ┆            ┆            ┆ 07:52:11     ┆        │\n│ 4           ┆ Derek        ┆ male   ┆ 7    ┆ … ┆ 1921-07-19 ┆ null       ┆ 2022-07-27   ┆ null   │\n│             ┆ Carpenter    ┆        ┆      ┆   ┆            ┆            ┆ 06:21:23     ┆        │\n│ 5           ┆ David Payne  ┆ male   ┆ null ┆ … ┆ 1924-08-09 ┆ 10:43:13   ┆ 2022-07-17   ┆ null   │\n│             ┆              ┆        ┆      ┆   ┆            ┆            ┆ 02:25:01     ┆        │\n└─────────────┴──────────────┴────────┴──────┴───┴────────────┴────────────┴──────────────┴────────┘",
      "text/html": "<div><style>\n.dataframe > thead > tr > th,\n.dataframe > tbody > tr > td {\n  text-align: right;\n}\n</style>\n<small>shape: (5, 13)</small><table border=\"1\" class=\"dataframe\"><thead><tr><th>PassengerId</th><th>Name</th><th>Sex</th><th>Age</th><th>Parch</th><th>Ticket</th><th>Fare</th><th>Cabin</th><th>Embarked</th><th>Birthday</th><th>Board time</th><th>Married since</th><th>all_NA</th></tr><tr><td>i64</td><td>str</td><td>cat</td><td>i64</td><td>i64</td><td>str</td><td>f64</td><td>f32</td><td>cat</td><td>date</td><td>time</td><td>datetime[μs]</td><td>f32</td></tr></thead><tbody><tr><td>1</td><td>&quot;Jessica Rodrig…</td><td>&quot;female&quot;</td><td>29</td><td>0</td><td>&quot;89526&quot;</td><td>3.406816</td><td>null</td><td>&quot;S&quot;</td><td>1931-03-25</td><td>14:20:23</td><td>2022-07-25 09:18:33</td><td>null</td></tr><tr><td>2</td><td>&quot;Ryan Hunt&quot;</td><td>&quot;male&quot;</td><td>30</td><td>0</td><td>&quot;909714&quot;</td><td>17.027656</td><td>null</td><td>&quot;C&quot;</td><td>1915-09-07</td><td>null</td><td>2022-07-26 10:32:42</td><td>null</td></tr><tr><td>3</td><td>&quot;Lauren Webb&quot;</td><td>&quot;female&quot;</td><td>null</td><td>0</td><td>&quot;19210&quot;</td><td>96.355455</td><td>null</td><td>&quot;S&quot;</td><td>1922-11-20</td><td>14:00:11</td><td>2022-08-12 07:52:11</td><td>null</td></tr><tr><td>4</td><td>&quot;Derek Carpente…</td><td>&quot;male&quot;</td><td>7</td><td>1</td><td>&quot;PC 10949&quot;</td><td>14.2708</td><td>null</td><td>&quot;S&quot;</td><td>1921-07-19</td><td>null</td><td>2022-07-27 06:21:23</td><td>null</td></tr><tr><td>5</td><td>&quot;David Payne&quot;</td><td>&quot;male&quot;</td><td>null</td><td>0</td><td>&quot;494771&quot;</td><td>26.470742</td><td>null</td><td>&quot;S&quot;</td><td>1924-08-09</td><td>10:43:13</td><td>2022-07-17 02:25:01</td><td>null</td></tr></tbody></table></div>"
     },
     "execution_count": 16,
     "metadata": {},
     "output_type": "execute_result"
    }
   ],
   "source": [
    "# First, we create a specification dictionary for the variables\n",
    "from metasyn.distribution import FakerDistribution\n",
    "\n",
    "var_spec = {\n",
    "    \"PassengerId\": {\"unique\": True}, \n",
    "    \"Name\": {\"distribution\": FakerDistribution(\"name\")}\n",
    "}\n",
    "\n",
    "mf = MetaFrame.fit_dataframe(df, spec=var_spec)\n",
    "mf.synthesize(5)"
   ]
  },
  {
   "cell_type": "markdown",
   "id": "de1fa66b",
   "metadata": {},
   "source": [
    "That already looks a lot better for the `Name` column!"
   ]
  },
  {
   "cell_type": "markdown",
   "id": "cf927af6",
   "metadata": {},
   "source": [
    "### Set distributions manually\n",
    "\n",
    "Without user input, the distribution chosen for each variable is inferred by choosing the best fitting from available distributions for the variable type. However, we can also manually specify which distribution to fit, or we can even just fully specify how the variable should be generated."
   ]
  },
  {
   "cell_type": "code",
   "execution_count": 17,
   "id": "ac4ba506",
   "metadata": {
    "ExecuteTime": {
     "end_time": "2023-10-05T09:17:40.044216Z",
     "start_time": "2023-10-05T09:17:38.877821Z"
    }
   },
   "outputs": [
    {
     "data": {
      "text/plain": "shape: (5, 13)\n┌─────────────┬──────────────┬────────┬──────┬───┬────────────┬────────────┬──────────────┬────────┐\n│ PassengerId ┆ Name         ┆ Sex    ┆ Age  ┆ … ┆ Birthday   ┆ Board time ┆ Married      ┆ all_NA │\n│ ---         ┆ ---          ┆ ---    ┆ ---  ┆   ┆ ---        ┆ ---        ┆ since        ┆ ---    │\n│ i64         ┆ str          ┆ cat    ┆ i64  ┆   ┆ date       ┆ time       ┆ ---          ┆ f32    │\n│             ┆              ┆        ┆      ┆   ┆            ┆            ┆ datetime[μs] ┆        │\n╞═════════════╪══════════════╪════════╪══════╪═══╪════════════╪════════════╪══════════════╪════════╡\n│ 1           ┆ Jessica      ┆ female ┆ 28   ┆ … ┆ 1939-10-08 ┆ 17:46:39   ┆ 2022-08-13   ┆ null   │\n│             ┆ Rodriguez    ┆        ┆      ┆   ┆            ┆            ┆ 14:47:30     ┆        │\n│ 2           ┆ Ryan Hunt    ┆ female ┆ 36   ┆ … ┆ 1928-08-19 ┆ 11:04:56   ┆ 2022-07-23   ┆ null   │\n│             ┆              ┆        ┆      ┆   ┆            ┆            ┆ 13:12:24     ┆        │\n│ 3           ┆ Lauren Webb  ┆ male   ┆ null ┆ … ┆ 1915-09-12 ┆ 14:08:43   ┆ 2022-07-23   ┆ null   │\n│             ┆              ┆        ┆      ┆   ┆            ┆            ┆ 04:50:25     ┆        │\n│ 4           ┆ Derek        ┆ female ┆ 36   ┆ … ┆ 1933-04-06 ┆ 18:12:14   ┆ 2022-08-05   ┆ null   │\n│             ┆ Carpenter    ┆        ┆      ┆   ┆            ┆            ┆ 08:44:36     ┆        │\n│ 5           ┆ David Payne  ┆ male   ┆ 29   ┆ … ┆ 1925-05-09 ┆ 12:33:11   ┆ 2022-08-04   ┆ null   │\n│             ┆              ┆        ┆      ┆   ┆            ┆            ┆ 17:45:26     ┆        │\n└─────────────┴──────────────┴────────┴──────┴───┴────────────┴────────────┴──────────────┴────────┘",
      "text/html": "<div><style>\n.dataframe > thead > tr > th,\n.dataframe > tbody > tr > td {\n  text-align: right;\n}\n</style>\n<small>shape: (5, 13)</small><table border=\"1\" class=\"dataframe\"><thead><tr><th>PassengerId</th><th>Name</th><th>Sex</th><th>Age</th><th>Parch</th><th>Ticket</th><th>Fare</th><th>Cabin</th><th>Embarked</th><th>Birthday</th><th>Board time</th><th>Married since</th><th>all_NA</th></tr><tr><td>i64</td><td>str</td><td>cat</td><td>i64</td><td>i64</td><td>str</td><td>f64</td><td>str</td><td>cat</td><td>date</td><td>time</td><td>datetime[μs]</td><td>f32</td></tr></thead><tbody><tr><td>1</td><td>&quot;Jessica Rodrig…</td><td>&quot;female&quot;</td><td>28</td><td>0</td><td>&quot;ZV.A. 3151&quot;</td><td>3.882531</td><td>null</td><td>&quot;S&quot;</td><td>1939-10-08</td><td>17:46:39</td><td>2022-08-13 14:47:30</td><td>null</td></tr><tr><td>2</td><td>&quot;Ryan Hunt&quot;</td><td>&quot;female&quot;</td><td>36</td><td>2</td><td>&quot;7319&quot;</td><td>0.902582</td><td>null</td><td>&quot;S&quot;</td><td>1928-08-19</td><td>11:04:56</td><td>2022-07-23 13:12:24</td><td>null</td></tr><tr><td>3</td><td>&quot;Lauren Webb&quot;</td><td>&quot;male&quot;</td><td>null</td><td>0</td><td>&quot;PC 957193&quot;</td><td>0.525197</td><td>&quot;Q 9&quot;</td><td>&quot;C&quot;</td><td>1915-09-12</td><td>14:08:43</td><td>2022-07-23 04:50:25</td><td>null</td></tr><tr><td>4</td><td>&quot;Derek Carpente…</td><td>&quot;female&quot;</td><td>36</td><td>0</td><td>&quot;290374&quot;</td><td>0.402547</td><td>&quot;V18&quot;</td><td>&quot;S&quot;</td><td>1933-04-06</td><td>18:12:14</td><td>2022-08-05 08:44:36</td><td>null</td></tr><tr><td>5</td><td>&quot;David Payne&quot;</td><td>&quot;male&quot;</td><td>29</td><td>2</td><td>&quot;3822&quot;</td><td>12.817667</td><td>null</td><td>&quot;C&quot;</td><td>1925-05-09</td><td>12:33:11</td><td>2022-08-04 17:45:26</td><td>null</td></tr></tbody></table></div>"
     },
     "execution_count": 17,
     "metadata": {},
     "output_type": "execute_result"
    }
   ],
   "source": [
    "from metasyn.distribution import DiscreteUniformDistribution\n",
    "\n",
    "var_spec = {\n",
    "    \"PassengerId\": {\"unique\": True}, \n",
    "    \"Name\": {\"distribution\": FakerDistribution(\"name\")},\n",
    "    \"Fare\": {\"distribution\": \"LogNormalDistribution\"}, # estimate / fit an exponential distribution based on the data\n",
    "    \"Age\": {\"distribution\": DiscreteUniformDistribution(20, 40)} # fully specify a distribution for age (uniform between 20 and 40)\n",
    "}\n",
    "\n",
    "mf = MetaFrame.fit_dataframe(df, spec=var_spec)\n",
    "mf.synthesize(5)"
   ]
  },
  {
   "cell_type": "markdown",
   "id": "2897133c",
   "metadata": {},
   "source": [
    "### Specifying the distribution of structured strings\n",
    "\n",
    "For more or less structured strings, we can manually set the structure of the strings based on regular expressions. For example, we see that most Cabins are structured like [A-F] and then 2 or 3 digit numbers. We can include this as follows:"
   ]
  },
  {
   "cell_type": "code",
   "execution_count": 18,
   "id": "7b2c4003",
   "metadata": {
    "ExecuteTime": {
     "end_time": "2023-10-05T09:17:40.828871Z",
     "start_time": "2023-10-05T09:17:40.043441Z"
    }
   },
   "outputs": [
    {
     "data": {
      "text/plain": "shape: (10, 13)\n┌─────────────┬──────────────┬────────┬──────┬───┬────────────┬────────────┬──────────────┬────────┐\n│ PassengerId ┆ Name         ┆ Sex    ┆ Age  ┆ … ┆ Birthday   ┆ Board time ┆ Married      ┆ all_NA │\n│ ---         ┆ ---          ┆ ---    ┆ ---  ┆   ┆ ---        ┆ ---        ┆ since        ┆ ---    │\n│ i64         ┆ str          ┆ cat    ┆ i64  ┆   ┆ date       ┆ time       ┆ ---          ┆ f32    │\n│             ┆              ┆        ┆      ┆   ┆            ┆            ┆ datetime[μs] ┆        │\n╞═════════════╪══════════════╪════════╪══════╪═══╪════════════╪════════════╪══════════════╪════════╡\n│ 1           ┆ Jessica      ┆ male   ┆ null ┆ … ┆ 1910-01-07 ┆ 15:09:30   ┆ 2022-08-09   ┆ null   │\n│             ┆ Rodriguez    ┆        ┆      ┆   ┆            ┆            ┆ 07:48:24     ┆        │\n│ 2           ┆ Ryan Hunt    ┆ female ┆ 22   ┆ … ┆ 1938-08-09 ┆ 13:35:09   ┆ 2022-07-24   ┆ null   │\n│             ┆              ┆        ┆      ┆   ┆            ┆            ┆ 17:19:40     ┆        │\n│ 3           ┆ Lauren Webb  ┆ female ┆ null ┆ … ┆ 1934-06-28 ┆ 12:21:46   ┆ 2022-08-02   ┆ null   │\n│             ┆              ┆        ┆      ┆   ┆            ┆            ┆ 23:22:06     ┆        │\n│ 4           ┆ Derek        ┆ female ┆ 32   ┆ … ┆ 1932-05-05 ┆ null       ┆ 2022-07-30   ┆ null   │\n│             ┆ Carpenter    ┆        ┆      ┆   ┆            ┆            ┆ 17:03:11     ┆        │\n│ …           ┆ …            ┆ …      ┆ …    ┆ … ┆ …          ┆ …          ┆ …            ┆ …      │\n│ 7           ┆ Shawn        ┆ female ┆ null ┆ … ┆ 1907-07-05 ┆ 17:29:12   ┆ 2022-08-01   ┆ null   │\n│             ┆ Walters      ┆        ┆      ┆   ┆            ┆            ┆ 02:54:07     ┆        │\n│ 8           ┆ Patrick      ┆ male   ┆ 23   ┆ … ┆ 1940-01-22 ┆ 12:07:01   ┆ 2022-08-04   ┆ null   │\n│             ┆ Camacho      ┆        ┆      ┆   ┆            ┆            ┆ 18:09:12     ┆        │\n│ 9           ┆ Shawn        ┆ male   ┆ 32   ┆ … ┆ 1920-12-04 ┆ 14:55:24   ┆ 2022-08-14   ┆ null   │\n│             ┆ Townsend     ┆        ┆      ┆   ┆            ┆            ┆ 22:48:27     ┆        │\n│ 10          ┆ Eric         ┆ male   ┆ 37   ┆ … ┆ 1918-03-14 ┆ 14:48:56   ┆ 2022-08-02   ┆ null   │\n│             ┆ Washington   ┆        ┆      ┆   ┆            ┆            ┆ 19:54:57     ┆        │\n└─────────────┴──────────────┴────────┴──────┴───┴────────────┴────────────┴──────────────┴────────┘",
      "text/html": "<div><style>\n.dataframe > thead > tr > th,\n.dataframe > tbody > tr > td {\n  text-align: right;\n}\n</style>\n<small>shape: (10, 13)</small><table border=\"1\" class=\"dataframe\"><thead><tr><th>PassengerId</th><th>Name</th><th>Sex</th><th>Age</th><th>Parch</th><th>Ticket</th><th>Fare</th><th>Cabin</th><th>Embarked</th><th>Birthday</th><th>Board time</th><th>Married since</th><th>all_NA</th></tr><tr><td>i64</td><td>str</td><td>cat</td><td>i64</td><td>i64</td><td>str</td><td>f64</td><td>str</td><td>cat</td><td>date</td><td>time</td><td>datetime[μs]</td><td>f32</td></tr></thead><tbody><tr><td>1</td><td>&quot;Jessica Rodrig…</td><td>&quot;male&quot;</td><td>null</td><td>0</td><td>&quot;93804&quot;</td><td>23.708468</td><td>null</td><td>&quot;S&quot;</td><td>1910-01-07</td><td>15:09:30</td><td>2022-08-09 07:48:24</td><td>null</td></tr><tr><td>2</td><td>&quot;Ryan Hunt&quot;</td><td>&quot;female&quot;</td><td>22</td><td>1</td><td>&quot;2898&quot;</td><td>18.812796</td><td>&quot;A002&quot;</td><td>&quot;S&quot;</td><td>1938-08-09</td><td>13:35:09</td><td>2022-07-24 17:19:40</td><td>null</td></tr><tr><td>3</td><td>&quot;Lauren Webb&quot;</td><td>&quot;female&quot;</td><td>null</td><td>0</td><td>&quot;0798&quot;</td><td>63.257429</td><td>&quot;A648&quot;</td><td>&quot;C&quot;</td><td>1934-06-28</td><td>12:21:46</td><td>2022-08-02 23:22:06</td><td>null</td></tr><tr><td>4</td><td>&quot;Derek Carpente…</td><td>&quot;female&quot;</td><td>32</td><td>2</td><td>&quot;593499&quot;</td><td>23.324004</td><td>null</td><td>&quot;S&quot;</td><td>1932-05-05</td><td>null</td><td>2022-07-30 17:03:11</td><td>null</td></tr><tr><td>5</td><td>&quot;David Payne&quot;</td><td>&quot;female&quot;</td><td>31</td><td>0</td><td>&quot;527893&quot;</td><td>47.319097</td><td>null</td><td>&quot;S&quot;</td><td>1934-04-28</td><td>11:25:22</td><td>2022-07-17 19:52:04</td><td>null</td></tr><tr><td>6</td><td>&quot;Christopher Yo…</td><td>&quot;male&quot;</td><td>20</td><td>0</td><td>&quot;673979&quot;</td><td>94.228127</td><td>null</td><td>&quot;S&quot;</td><td>1920-03-05</td><td>17:05:51</td><td>2022-08-03 06:05:54</td><td>null</td></tr><tr><td>7</td><td>&quot;Shawn Walters&quot;</td><td>&quot;female&quot;</td><td>null</td><td>0</td><td>&quot;9008&quot;</td><td>215.074375</td><td>null</td><td>&quot;S&quot;</td><td>1907-07-05</td><td>17:29:12</td><td>2022-08-01 02:54:07</td><td>null</td></tr><tr><td>8</td><td>&quot;Patrick Camach…</td><td>&quot;male&quot;</td><td>23</td><td>0</td><td>&quot;172498&quot;</td><td>11.913815</td><td>&quot;C87&quot;</td><td>&quot;C&quot;</td><td>1940-01-22</td><td>12:07:01</td><td>2022-08-04 18:09:12</td><td>null</td></tr><tr><td>9</td><td>&quot;Shawn Townsend…</td><td>&quot;male&quot;</td><td>32</td><td>0</td><td>&quot;049428&quot;</td><td>100.368084</td><td>null</td><td>&quot;S&quot;</td><td>1920-12-04</td><td>14:55:24</td><td>2022-08-14 22:48:27</td><td>null</td></tr><tr><td>10</td><td>&quot;Eric Washingto…</td><td>&quot;male&quot;</td><td>37</td><td>0</td><td>&quot;5364&quot;</td><td>56.337843</td><td>null</td><td>&quot;S&quot;</td><td>1918-03-14</td><td>14:48:56</td><td>2022-08-02 19:54:57</td><td>null</td></tr></tbody></table></div>"
     },
     "execution_count": 18,
     "metadata": {},
     "output_type": "execute_result"
    }
   ],
   "source": [
    "from metasyn.distribution import RegexDistribution\n",
    "\n",
    "# To create a regex distribution, you need a list of tuples, where each tuple is an element.\n",
    "# The first part of the tuple is a string representation of the regex, while the second is the proportion of the\n",
    "# time the regex element is used.\n",
    "cabin_distribution = RegexDistribution(r\"[ABCDEF][0-9]{2,3}\")  # Add the r so that it becomes a literal string.\n",
    "# just for completeness: data generated from this distribution will always match the regex [ABCDEF]?(\\d{2,3})?\n",
    "\n",
    "var_spec = {\n",
    "    \"PassengerId\": {\"unique\": True}, \n",
    "    \"Name\": {\"distribution\": FakerDistribution(\"name\")},\n",
    "    \"Fare\": {\"distribution\": \"ExponentialDistribution\"}, # estimate / fit an exponential distribution based on the data\n",
    "    \"Age\": {\"distribution\": DiscreteUniformDistribution(20, 40)}, # fully specify a distribution for age (uniform between 20 and 40)\n",
    "    \"Cabin\": {\"distribution\": cabin_distribution}\n",
    "}\n",
    "\n",
    "mf = MetaFrame.fit_dataframe(df, spec=var_spec)\n",
    "mf.synthesize(10)"
   ]
  },
  {
   "cell_type": "markdown",
   "id": "93499251",
   "metadata": {},
   "source": [
    "## Comparing the final synthetic dataset to the original"
   ]
  },
  {
   "cell_type": "markdown",
   "id": "b2068e1d",
   "metadata": {},
   "source": [
    "Let's first compare the averages of the numerical columns:"
   ]
  },
  {
   "cell_type": "code",
   "execution_count": 19,
   "id": "a857ee6e",
   "metadata": {
    "ExecuteTime": {
     "end_time": "2023-10-05T09:17:40.834527Z",
     "start_time": "2023-10-05T09:17:40.829883Z"
    }
   },
   "outputs": [
    {
     "data": {
      "text/plain": "shape: (1, 13)\n┌─────────────┬──────┬──────┬───────────┬───┬──────────┬────────────┬───────────────┬────────┐\n│ PassengerId ┆ Name ┆ Sex  ┆ Age       ┆ … ┆ Birthday ┆ Board time ┆ Married since ┆ all_NA │\n│ ---         ┆ ---  ┆ ---  ┆ ---       ┆   ┆ ---      ┆ ---        ┆ ---           ┆ ---    │\n│ f64         ┆ str  ┆ cat  ┆ f64       ┆   ┆ date     ┆ time       ┆ datetime[μs]  ┆ str    │\n╞═════════════╪══════╪══════╪═══════════╪═══╪══════════╪════════════╪═══════════════╪════════╡\n│ 446.0       ┆ null ┆ null ┆ 29.693277 ┆ … ┆ null     ┆ null       ┆ null          ┆ null   │\n└─────────────┴──────┴──────┴───────────┴───┴──────────┴────────────┴───────────────┴────────┘",
      "text/html": "<div><style>\n.dataframe > thead > tr > th,\n.dataframe > tbody > tr > td {\n  text-align: right;\n}\n</style>\n<small>shape: (1, 13)</small><table border=\"1\" class=\"dataframe\"><thead><tr><th>PassengerId</th><th>Name</th><th>Sex</th><th>Age</th><th>Parch</th><th>Ticket</th><th>Fare</th><th>Cabin</th><th>Embarked</th><th>Birthday</th><th>Board time</th><th>Married since</th><th>all_NA</th></tr><tr><td>f64</td><td>str</td><td>cat</td><td>f64</td><td>f64</td><td>str</td><td>f64</td><td>str</td><td>cat</td><td>date</td><td>time</td><td>datetime[μs]</td><td>str</td></tr></thead><tbody><tr><td>446.0</td><td>null</td><td>null</td><td>29.693277</td><td>0.381594</td><td>null</td><td>32.204208</td><td>null</td><td>null</td><td>null</td><td>null</td><td>null</td><td>null</td></tr></tbody></table></div>"
     },
     "execution_count": 19,
     "metadata": {},
     "output_type": "execute_result"
    }
   ],
   "source": [
    "df.mean()"
   ]
  },
  {
   "cell_type": "code",
   "execution_count": 20,
   "id": "0ba303f3",
   "metadata": {
    "ExecuteTime": {
     "end_time": "2023-10-05T09:17:41.206308Z",
     "start_time": "2023-10-05T09:17:40.858294Z"
    }
   },
   "outputs": [
    {
     "data": {
      "text/plain": "shape: (1, 13)\n┌─────────────┬──────┬──────┬───────────┬───┬──────────┬────────────┬───────────────┬────────┐\n│ PassengerId ┆ Name ┆ Sex  ┆ Age       ┆ … ┆ Birthday ┆ Board time ┆ Married since ┆ all_NA │\n│ ---         ┆ ---  ┆ ---  ┆ ---       ┆   ┆ ---      ┆ ---        ┆ ---           ┆ ---    │\n│ f64         ┆ str  ┆ cat  ┆ f64       ┆   ┆ date     ┆ time       ┆ datetime[μs]  ┆ f32    │\n╞═════════════╪══════╪══════╪═══════════╪═══╪══════════╪════════════╪═══════════════╪════════╡\n│ 446.0       ┆ null ┆ null ┆ 29.352617 ┆ … ┆ null     ┆ null       ┆ null          ┆ null   │\n└─────────────┴──────┴──────┴───────────┴───┴──────────┴────────────┴───────────────┴────────┘",
      "text/html": "<div><style>\n.dataframe > thead > tr > th,\n.dataframe > tbody > tr > td {\n  text-align: right;\n}\n</style>\n<small>shape: (1, 13)</small><table border=\"1\" class=\"dataframe\"><thead><tr><th>PassengerId</th><th>Name</th><th>Sex</th><th>Age</th><th>Parch</th><th>Ticket</th><th>Fare</th><th>Cabin</th><th>Embarked</th><th>Birthday</th><th>Board time</th><th>Married since</th><th>all_NA</th></tr><tr><td>f64</td><td>str</td><td>cat</td><td>f64</td><td>f64</td><td>str</td><td>f64</td><td>str</td><td>cat</td><td>date</td><td>time</td><td>datetime[μs]</td><td>f32</td></tr></thead><tbody><tr><td>446.0</td><td>null</td><td>null</td><td>29.352617</td><td>0.353535</td><td>null</td><td>31.671909</td><td>null</td><td>null</td><td>null</td><td>null</td><td>null</td><td>null</td></tr></tbody></table></div>"
     },
     "execution_count": 20,
     "metadata": {},
     "output_type": "execute_result"
    }
   ],
   "source": [
    "mf.synthesize(len(df)).mean()"
   ]
  },
  {
   "cell_type": "markdown",
   "id": "89dfda1b",
   "metadata": {},
   "source": [
    "Then, we can also see how many missing values are in each column"
   ]
  },
  {
   "cell_type": "code",
   "execution_count": 21,
   "id": "c6ca2918",
   "metadata": {
    "ExecuteTime": {
     "end_time": "2023-10-05T09:17:41.211968Z",
     "start_time": "2023-10-05T09:17:41.208354Z"
    }
   },
   "outputs": [
    {
     "data": {
      "text/plain": "shape: (1, 13)\n┌─────────────┬──────┬─────┬─────┬───┬──────────┬────────────┬───────────────┬────────┐\n│ PassengerId ┆ Name ┆ Sex ┆ Age ┆ … ┆ Birthday ┆ Board time ┆ Married since ┆ all_NA │\n│ ---         ┆ ---  ┆ --- ┆ --- ┆   ┆ ---      ┆ ---        ┆ ---           ┆ ---    │\n│ u32         ┆ u32  ┆ u32 ┆ u32 ┆   ┆ u32      ┆ u32        ┆ u32           ┆ u32    │\n╞═════════════╪══════╪═════╪═════╪═══╪══════════╪════════════╪═══════════════╪════════╡\n│ 0           ┆ 0    ┆ 0   ┆ 177 ┆ … ┆ 78       ┆ 79         ┆ 92            ┆ 891    │\n└─────────────┴──────┴─────┴─────┴───┴──────────┴────────────┴───────────────┴────────┘",
      "text/html": "<div><style>\n.dataframe > thead > tr > th,\n.dataframe > tbody > tr > td {\n  text-align: right;\n}\n</style>\n<small>shape: (1, 13)</small><table border=\"1\" class=\"dataframe\"><thead><tr><th>PassengerId</th><th>Name</th><th>Sex</th><th>Age</th><th>Parch</th><th>Ticket</th><th>Fare</th><th>Cabin</th><th>Embarked</th><th>Birthday</th><th>Board time</th><th>Married since</th><th>all_NA</th></tr><tr><td>u32</td><td>u32</td><td>u32</td><td>u32</td><td>u32</td><td>u32</td><td>u32</td><td>u32</td><td>u32</td><td>u32</td><td>u32</td><td>u32</td><td>u32</td></tr></thead><tbody><tr><td>0</td><td>0</td><td>0</td><td>177</td><td>0</td><td>0</td><td>0</td><td>687</td><td>2</td><td>78</td><td>79</td><td>92</td><td>891</td></tr></tbody></table></div>"
     },
     "execution_count": 21,
     "metadata": {},
     "output_type": "execute_result"
    }
   ],
   "source": [
    "df.null_count()"
   ]
  },
  {
   "cell_type": "code",
   "execution_count": 22,
   "id": "1dd596fb",
   "metadata": {
    "ExecuteTime": {
     "end_time": "2023-10-05T09:17:41.587568Z",
     "start_time": "2023-10-05T09:17:41.255392Z"
    }
   },
   "outputs": [
    {
     "data": {
      "text/plain": "shape: (1, 13)\n┌─────────────┬──────┬─────┬─────┬───┬──────────┬────────────┬───────────────┬────────┐\n│ PassengerId ┆ Name ┆ Sex ┆ Age ┆ … ┆ Birthday ┆ Board time ┆ Married since ┆ all_NA │\n│ ---         ┆ ---  ┆ --- ┆ --- ┆   ┆ ---      ┆ ---        ┆ ---           ┆ ---    │\n│ u32         ┆ u32  ┆ u32 ┆ u32 ┆   ┆ u32      ┆ u32        ┆ u32           ┆ u32    │\n╞═════════════╪══════╪═════╪═════╪═══╪══════════╪════════════╪═══════════════╪════════╡\n│ 0           ┆ 0    ┆ 0   ┆ 175 ┆ … ┆ 70       ┆ 79         ┆ 86            ┆ 891    │\n└─────────────┴──────┴─────┴─────┴───┴──────────┴────────────┴───────────────┴────────┘",
      "text/html": "<div><style>\n.dataframe > thead > tr > th,\n.dataframe > tbody > tr > td {\n  text-align: right;\n}\n</style>\n<small>shape: (1, 13)</small><table border=\"1\" class=\"dataframe\"><thead><tr><th>PassengerId</th><th>Name</th><th>Sex</th><th>Age</th><th>Parch</th><th>Ticket</th><th>Fare</th><th>Cabin</th><th>Embarked</th><th>Birthday</th><th>Board time</th><th>Married since</th><th>all_NA</th></tr><tr><td>u32</td><td>u32</td><td>u32</td><td>u32</td><td>u32</td><td>u32</td><td>u32</td><td>u32</td><td>u32</td><td>u32</td><td>u32</td><td>u32</td><td>u32</td></tr></thead><tbody><tr><td>0</td><td>0</td><td>0</td><td>175</td><td>0</td><td>0</td><td>0</td><td>717</td><td>0</td><td>70</td><td>79</td><td>86</td><td>891</td></tr></tbody></table></div>"
     },
     "execution_count": 22,
     "metadata": {},
     "output_type": "execute_result"
    }
   ],
   "source": [
    "mf.synthesize(len(df)).null_count()"
   ]
  }
 ],
 "metadata": {
  "kernelspec": {
   "display_name": "Python 3 (ipykernel)",
   "language": "python",
   "name": "python3"
  },
  "language_info": {
   "codemirror_mode": {
    "name": "ipython",
    "version": 3
   },
   "file_extension": ".py",
   "mimetype": "text/x-python",
   "name": "python",
   "nbconvert_exporter": "python",
   "pygments_lexer": "ipython3",
   "version": "3.11.1"
  },
  "vscode": {
   "interpreter": {
    "hash": "fdb1107d616260949a63e5f4e2c5568939cf2f2c0d0d70930ae22d4d9fd1a8a0"
   }
  }
 },
 "nbformat": 4,
 "nbformat_minor": 5
}
