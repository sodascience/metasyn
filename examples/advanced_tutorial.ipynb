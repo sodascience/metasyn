{
 "cells": [
  {
   "cell_type": "markdown",
   "id": "f5c6597b",
   "metadata": {},
   "source": [
    "# Advanced Tutorial on MetaSynth\n",
    "\n",
    "In this tutorial, we will be creating a `generative metadata format` (`gmf`) metadata file from a dataset using MetaSynth. We are going to walk through some of the advanced abilities of MetaSynth, such as handling dates, setting distributions and ensuring uniqueness in columns. This example workflow starts from a `.csv` file as input, but it easily adapted to other formats. \n",
    "\n",
    "You can run this notebook by checking out the MetaSynth repo and installing metasynth with `pip install metasynth`"
   ]
  },
  {
   "cell_type": "code",
   "execution_count": 1,
   "id": "e4fae59f",
   "metadata": {},
   "outputs": [],
   "source": [
    "# %pip install metasynth"
   ]
  },
  {
   "cell_type": "code",
   "execution_count": 2,
   "id": "2442cb34",
   "metadata": {},
   "outputs": [],
   "source": [
    "# import required packages\n",
    "import datetime as dt\n",
    "import polars as pl\n",
    "from metasynth import MetaDataset, demo_file"
   ]
  },
  {
   "cell_type": "markdown",
   "id": "04466c26",
   "metadata": {},
   "source": [
    "## Step 1: Transforming your data into a polars DataFrame\n",
    "\n",
    "The first step in creating the metadata is reading and converting your dataset to a polars DataFrame. "
   ]
  },
  {
   "cell_type": "code",
   "execution_count": 3,
   "id": "3c2a44b7",
   "metadata": {},
   "outputs": [
    {
     "data": {
      "text/html": [
       "<div><style>\n",
       ".dataframe > thead > tr > th,\n",
       ".dataframe > tbody > tr > td {\n",
       "  text-align: right;\n",
       "}\n",
       "</style>\n",
       "<small>shape: (5, 12)</small><table border=\"1\" class=\"dataframe\"><thead><tr><th>PassengerId</th><th>Name</th><th>Sex</th><th>Age</th><th>Parch</th><th>Fare</th><th>Cabin</th><th>Embarked</th><th>Birthday</th><th>Board time</th><th>Married since</th><th>all_NA</th></tr><tr><td>i64</td><td>str</td><td>cat</td><td>i64</td><td>i64</td><td>f64</td><td>str</td><td>cat</td><td>date</td><td>time</td><td>datetime[μs]</td><td>str</td></tr></thead><tbody><tr><td>1</td><td>&quot;Braund, Mr. Ow…</td><td>&quot;male&quot;</td><td>22</td><td>0</td><td>7.25</td><td>null</td><td>&quot;S&quot;</td><td>1937-10-28</td><td>15:53:04</td><td>2022-08-05 04:43:34</td><td>null</td></tr><tr><td>2</td><td>&quot;Cumings, Mrs. …</td><td>&quot;female&quot;</td><td>38</td><td>0</td><td>71.2833</td><td>&quot;C85&quot;</td><td>&quot;C&quot;</td><td>null</td><td>12:26:00</td><td>2022-08-07 01:56:33</td><td>null</td></tr><tr><td>3</td><td>&quot;Heikkinen, Mis…</td><td>&quot;female&quot;</td><td>26</td><td>0</td><td>7.925</td><td>null</td><td>&quot;S&quot;</td><td>1931-09-24</td><td>16:08:25</td><td>2022-08-04 20:27:37</td><td>null</td></tr><tr><td>4</td><td>&quot;Futrelle, Mrs.…</td><td>&quot;female&quot;</td><td>35</td><td>0</td><td>53.1</td><td>&quot;C123&quot;</td><td>&quot;S&quot;</td><td>1936-11-30</td><td>null</td><td>2022-08-07 07:05:55</td><td>null</td></tr><tr><td>5</td><td>&quot;Allen, Mr. Wil…</td><td>&quot;male&quot;</td><td>35</td><td>0</td><td>8.05</td><td>null</td><td>&quot;S&quot;</td><td>1918-11-07</td><td>10:59:08</td><td>2022-08-02 15:13:34</td><td>null</td></tr></tbody></table></div>"
      ],
      "text/plain": [
       "shape: (5, 12)\n",
       "┌─────────────┬───────────────┬────────┬─────┬───┬────────────┬────────────┬──────────────┬────────┐\n",
       "│ PassengerId ┆ Name          ┆ Sex    ┆ Age ┆ … ┆ Birthday   ┆ Board time ┆ Married      ┆ all_NA │\n",
       "│ ---         ┆ ---           ┆ ---    ┆ --- ┆   ┆ ---        ┆ ---        ┆ since        ┆ ---    │\n",
       "│ i64         ┆ str           ┆ cat    ┆ i64 ┆   ┆ date       ┆ time       ┆ ---          ┆ str    │\n",
       "│             ┆               ┆        ┆     ┆   ┆            ┆            ┆ datetime[μs] ┆        │\n",
       "╞═════════════╪═══════════════╪════════╪═════╪═══╪════════════╪════════════╪══════════════╪════════╡\n",
       "│ 1           ┆ Braund, Mr.   ┆ male   ┆ 22  ┆ … ┆ 1937-10-28 ┆ 15:53:04   ┆ 2022-08-05   ┆ null   │\n",
       "│             ┆ Owen Harris   ┆        ┆     ┆   ┆            ┆            ┆ 04:43:34     ┆        │\n",
       "│ 2           ┆ Cumings, Mrs. ┆ female ┆ 38  ┆ … ┆ null       ┆ 12:26:00   ┆ 2022-08-07   ┆ null   │\n",
       "│             ┆ John Bradley  ┆        ┆     ┆   ┆            ┆            ┆ 01:56:33     ┆        │\n",
       "│             ┆ (Flor…        ┆        ┆     ┆   ┆            ┆            ┆              ┆        │\n",
       "│ 3           ┆ Heikkinen,    ┆ female ┆ 26  ┆ … ┆ 1931-09-24 ┆ 16:08:25   ┆ 2022-08-04   ┆ null   │\n",
       "│             ┆ Miss. Laina   ┆        ┆     ┆   ┆            ┆            ┆ 20:27:37     ┆        │\n",
       "│ 4           ┆ Futrelle,     ┆ female ┆ 35  ┆ … ┆ 1936-11-30 ┆ null       ┆ 2022-08-07   ┆ null   │\n",
       "│             ┆ Mrs. Jacques  ┆        ┆     ┆   ┆            ┆            ┆ 07:05:55     ┆        │\n",
       "│             ┆ Heath (Li…    ┆        ┆     ┆   ┆            ┆            ┆              ┆        │\n",
       "│ 5           ┆ Allen, Mr.    ┆ male   ┆ 35  ┆ … ┆ 1918-11-07 ┆ 10:59:08   ┆ 2022-08-02   ┆ null   │\n",
       "│             ┆ William Henry ┆        ┆     ┆   ┆            ┆            ┆ 15:13:34     ┆        │\n",
       "└─────────────┴───────────────┴────────┴─────┴───┴────────────┴────────────┴──────────────┴────────┘"
      ]
     },
     "execution_count": 3,
     "metadata": {},
     "output_type": "execute_result"
    }
   ],
   "source": [
    "demonstration_fp = demo_file()\n",
    "df = pl.read_csv(demonstration_fp, try_parse_dates=True, dtypes={\n",
    "    \"Sex\": pl.Categorical,\n",
    "    \"Embarked\": pl.Categorical})\n",
    "df.head()"
   ]
  },
  {
   "cell_type": "markdown",
   "id": "1e2481d4",
   "metadata": {},
   "source": [
    "Now, let's check the data types of our DataFrame:"
   ]
  },
  {
   "cell_type": "code",
   "execution_count": 4,
   "id": "0a5a1aa2",
   "metadata": {},
   "outputs": [
    {
     "data": {
      "text/plain": [
       "{'PassengerId': Int64,\n",
       " 'Name': Utf8,\n",
       " 'Sex': Categorical,\n",
       " 'Age': Int64,\n",
       " 'Parch': Int64,\n",
       " 'Fare': Float64,\n",
       " 'Cabin': Utf8,\n",
       " 'Embarked': Categorical,\n",
       " 'Birthday': Date,\n",
       " 'Board time': Time,\n",
       " 'Married since': Datetime(time_unit='us', time_zone=None),\n",
       " 'all_NA': Utf8}"
      ]
     },
     "execution_count": 4,
     "metadata": {},
     "output_type": "execute_result"
    }
   ],
   "source": [
    "dict(zip(df.columns, df.dtypes))"
   ]
  },
  {
   "cell_type": "markdown",
   "id": "2ebde17e",
   "metadata": {},
   "source": [
    "We see that most variables are now nicely specified as strings, categories, dates and ints where necessary."
   ]
  },
  {
   "cell_type": "markdown",
   "id": "13f849ed",
   "metadata": {},
   "source": [
    "## Step 2: Creating a MetaDataset object from a DataFrame\n",
    "\n",
    "Now a lot of work has already gone into creating a properly formatted dataframe. This work pays off at this stage: let's convert the DataFrame to a meta_dataset structure with the default options. Note: this takes a little bit of time!"
   ]
  },
  {
   "cell_type": "code",
   "execution_count": 6,
   "id": "e0c58473",
   "metadata": {},
   "outputs": [
    {
     "name": "stderr",
     "output_type": "stream",
     "text": [
      "/Users/qubix/Documents/work/metasynth/metasynth/metasynth/provider.py:199: UserWarning: \n",
      "Variable PassengerId seems unique, but not set to be unique.\n",
      "Set the variable to be either unique or not unique to remove this warning.\n",
      "\n",
      "  warnings.warn(f\"\\nVariable {series.name} seems unique, but not set to be unique.\\n\"\n"
     ]
    }
   ],
   "source": [
    "meta_dataset = MetaDataset.from_dataframe(df)"
   ]
  },
  {
   "cell_type": "markdown",
   "id": "1e8a772d",
   "metadata": {},
   "source": [
    "Then, we can show the metadata as a dictionary:"
   ]
  },
  {
   "cell_type": "code",
   "execution_count": 7,
   "id": "abab1b78",
   "metadata": {},
   "outputs": [
    {
     "name": "stdout",
     "output_type": "stream",
     "text": [
      "# Rows: 891\n",
      "# Columns: 12\n",
      "\n",
      "{'name': 'PassengerId', 'description': None, 'type': 'discrete', 'dtype': 'Int64', 'prop_missing': 0.0, 'distribution': \"{'implements': 'core.discrete_uniform', 'provenance': 'builtin', 'class_name': 'DiscreteUniformDistribution', 'parameters': {'low': 1, 'high': 892}}\"}\n",
      "\n",
      "{'name': 'Name', 'description': None, 'type': 'string', 'dtype': 'Utf8', 'prop_missing': 0.0, 'distribution': '.[]{12,82}'}\n",
      "\n",
      "{'name': 'Sex', 'description': None, 'type': 'categorical', 'dtype': 'Categorical', 'prop_missing': 0.0, 'distribution': \"{'implements': 'core.multinoulli', 'provenance': 'builtin', 'class_name': 'MultinoulliDistribution', 'parameters': {'labels': array(['female', 'male'], dtype='<U6'), 'probs': array([0.35241302, 0.64758698])}}\"}\n",
      "\n",
      "{'name': 'Age', 'description': None, 'type': 'discrete', 'dtype': 'Int64', 'prop_missing': 0.19865319865319866, 'distribution': \"{'implements': 'core.discrete_uniform', 'provenance': 'builtin', 'class_name': 'DiscreteUniformDistribution', 'parameters': {'low': 0, 'high': 81}}\"}\n",
      "\n",
      "{'name': 'Parch', 'description': None, 'type': 'discrete', 'dtype': 'Int64', 'prop_missing': 0.0, 'distribution': \"{'implements': 'core.poisson', 'provenance': 'builtin', 'class_name': 'PoissonDistribution', 'parameters': {'mu': 0.38159371492704824}}\"}\n",
      "\n",
      "{'name': 'Fare', 'description': None, 'type': 'continuous', 'dtype': 'Float64', 'prop_missing': 0.0, 'distribution': \"{'implements': 'core.exponential', 'provenance': 'builtin', 'class_name': 'ExponentialDistribution', 'parameters': {'rate': 0.03052908440177665}}\"}\n",
      "\n",
      "{'name': 'Cabin', 'description': None, 'type': 'string', 'dtype': 'Utf8', 'prop_missing': 0.7710437710437711, 'distribution': '[ABCDEFGT].[]{1,14}'}\n",
      "\n",
      "{'name': 'Embarked', 'description': None, 'type': 'categorical', 'dtype': 'Categorical', 'prop_missing': 0.002244668911335578, 'distribution': \"{'implements': 'core.multinoulli', 'provenance': 'builtin', 'class_name': 'MultinoulliDistribution', 'parameters': {'labels': array(['C', 'Q', 'S'], dtype='<U1'), 'probs': array([0.18897638, 0.08661417, 0.72440945])}}\"}\n",
      "\n",
      "{'name': 'Birthday', 'description': None, 'type': 'date', 'dtype': 'Date', 'prop_missing': 0.08754208754208755, 'distribution': \"{'implements': 'core.uniform_date', 'provenance': 'builtin', 'class_name': 'UniformDateDistribution', 'parameters': {'start': '1903-07-28', 'end': '1940-05-27'}}\"}\n",
      "\n",
      "{'name': 'Board time', 'description': None, 'type': 'time', 'dtype': 'Time', 'prop_missing': 0.08866442199775533, 'distribution': \"{'implements': 'core.uniform_time', 'provenance': 'builtin', 'class_name': 'UniformTimeDistribution', 'parameters': {'start': '10:39:40', 'end': '18:39:28', 'precision': 'seconds'}}\"}\n",
      "\n",
      "{'name': 'Married since', 'description': None, 'type': 'datetime', 'dtype': \"Datetime(time_unit='us', time_zone=None)\", 'prop_missing': 0.10325476992143659, 'distribution': \"{'implements': 'core.uniform_datetime', 'provenance': 'builtin', 'class_name': 'UniformDateTimeDistribution', 'parameters': {'start': '2022-07-15T12:21:15', 'end': '2022-08-15T10:32:05', 'precision': 'seconds'}}\"}\n",
      "\n",
      "{'name': 'all_NA', 'description': None, 'type': 'string', 'dtype': 'Utf8', 'prop_missing': 1.0, 'distribution': '\\\\d{3,4}'}\n",
      "\n"
     ]
    }
   ],
   "source": [
    "print(meta_dataset)"
   ]
  },
  {
   "cell_type": "markdown",
   "id": "03b27a95",
   "metadata": {},
   "source": [
    "## Step 3: Saving the metadata in a file\n",
    "\n",
    "After creating the metadata, we can save it to a file. The default format is `json`, meaning the file is quite legible by humans and computers alike. Therefore, it can be checked by the data controller and, when the disclosure risk is deemed to be low, this file can be shared with others."
   ]
  },
  {
   "cell_type": "code",
   "execution_count": 8,
   "id": "11e355f3",
   "metadata": {},
   "outputs": [],
   "source": [
    "file_path = \"demonstration_metadata.json\"\n",
    "meta_dataset.to_json(file_path)"
   ]
  },
  {
   "cell_type": "markdown",
   "id": "6571873d",
   "metadata": {},
   "source": [
    "## Step 4: Generating synthetic data from the metadata"
   ]
  },
  {
   "cell_type": "markdown",
   "id": "fcd16a5a",
   "metadata": {},
   "source": [
    "Upon receiving this file, you can use the MetaSynth package to generate a synthetic version of the dataset:"
   ]
  },
  {
   "cell_type": "code",
   "execution_count": 9,
   "id": "4ccf451c",
   "metadata": {},
   "outputs": [
    {
     "data": {
      "text/html": [
       "<div><style>\n",
       ".dataframe > thead > tr > th,\n",
       ".dataframe > tbody > tr > td {\n",
       "  text-align: right;\n",
       "}\n",
       "</style>\n",
       "<small>shape: (5, 12)</small><table border=\"1\" class=\"dataframe\"><thead><tr><th>PassengerId</th><th>Name</th><th>Sex</th><th>Age</th><th>Parch</th><th>Fare</th><th>Cabin</th><th>Embarked</th><th>Birthday</th><th>Board time</th><th>Married since</th><th>all_NA</th></tr><tr><td>i64</td><td>str</td><td>cat</td><td>i64</td><td>i64</td><td>f64</td><td>str</td><td>cat</td><td>date</td><td>time</td><td>datetime[μs]</td><td>f32</td></tr></thead><tbody><tr><td>803</td><td>&quot;9T(y&gt;?R.qYXV%t…</td><td>&quot;male&quot;</td><td>null</td><td>0</td><td>2.56137</td><td>&quot;Ad!-I*&quot;</td><td>&quot;S&quot;</td><td>1922-05-16</td><td>17:15:49</td><td>2022-08-14 11:06:28</td><td>null</td></tr><tr><td>437</td><td>&quot;`.b)P@g,wH+&lt;kb…</td><td>&quot;male&quot;</td><td>21</td><td>0</td><td>13.841555</td><td>null</td><td>&quot;S&quot;</td><td>1932-01-27</td><td>16:30:46</td><td>2022-07-15 12:52:28</td><td>null</td></tr><tr><td>791</td><td>&quot;&quot;$)U\f",
       "V7\r",
       "At_CcQ…</td><td>&quot;male&quot;</td><td>19</td><td>1</td><td>6.040909</td><td>&quot;B`\u000b",
       "3E\r",
       "X&quot;</td><td>&quot;C&quot;</td><td>1918-08-24</td><td>15:36:32</td><td>2022-07-17 01:02:36</td><td>null</td></tr><tr><td>763</td><td>&quot;eclykNmK)_5AMK…</td><td>&quot;male&quot;</td><td>null</td><td>0</td><td>117.469172</td><td>null</td><td>&quot;S&quot;</td><td>1930-02-24</td><td>11:41:42</td><td>2022-07-22 17:20:30</td><td>null</td></tr><tr><td>490</td><td>&quot;\n",
       "!\r",
       "*@g5n\f",
       "j6e3^…</td><td>&quot;male&quot;</td><td>34</td><td>0</td><td>24.080239</td><td>null</td><td>&quot;S&quot;</td><td>1916-11-17</td><td>13:53:16</td><td>2022-07-15 23:04:10</td><td>null</td></tr></tbody></table></div>"
      ],
      "text/plain": [
       "shape: (5, 12)\n",
       "┌─────────────┬───────────────┬──────┬──────┬───┬────────────┬────────────┬───────────────┬────────┐\n",
       "│ PassengerId ┆ Name          ┆ Sex  ┆ Age  ┆ … ┆ Birthday   ┆ Board time ┆ Married since ┆ all_NA │\n",
       "│ ---         ┆ ---           ┆ ---  ┆ ---  ┆   ┆ ---        ┆ ---        ┆ ---           ┆ ---    │\n",
       "│ i64         ┆ str           ┆ cat  ┆ i64  ┆   ┆ date       ┆ time       ┆ datetime[μs]  ┆ f32    │\n",
       "╞═════════════╪═══════════════╪══════╪══════╪═══╪════════════╪════════════╪═══════════════╪════════╡\n",
       "│ 803         ┆ 9T(y>?R.qYXV% ┆ male ┆ null ┆ … ┆ 1922-05-16 ┆ 17:15:49   ┆ 2022-08-14    ┆ null   │\n",
       "│             ┆ tBn |csE  R   ┆      ┆      ┆   ┆            ┆            ┆ 11:06:28      ┆        │\n",
       "│             ┆ UzR           ┆      ┆      ┆   ┆            ┆            ┆               ┆        │\n",
       "│             ┆ kZl…          ┆      ┆      ┆   ┆            ┆            ┆               ┆        │\n",
       "│ 437         ┆ `.b)P@g,wH+<k ┆ male ┆ 21   ┆ … ┆ 1932-01-27 ┆ 16:30:46   ┆ 2022-07-15    ┆ null   │\n",
       "│             ┆ b4            ┆      ┆      ┆   ┆            ┆            ┆ 12:52:28      ┆        │\n",
       "│ 791         ┆ \"$)U\n",
       "V7\n",
       "At_Cc   ┆ male ┆ 19   ┆ … ┆ 1918-08-24 ┆ 15:36:32   ┆ 2022-07-17    ┆ null   │\n",
       "│             ┆ Q3:-Q=\n",
       "i9>p\n",
       "c   ┆      ┆      ┆   ┆            ┆            ┆ 01:02:36      ┆        │\n",
       "│             ┆ PLg9s…        ┆      ┆      ┆   ┆            ┆            ┆               ┆        │\n",
       "│ 763         ┆ eclykNmK)_5AM ┆ male ┆ null ┆ … ┆ 1930-02-24 ┆ 11:41:42   ┆ 2022-07-22    ┆ null   │\n",
       "│             ┆ K>QRYE$.XQWaM ┆      ┆      ┆   ┆            ┆            ┆ 17:20:30      ┆        │\n",
       "│             ┆ jUZNT;…       ┆      ┆      ┆   ┆            ┆            ┆               ┆        │\n",
       "│ 490         ┆               ┆ male ┆ 34   ┆ … ┆ 1916-11-17 ┆ 13:53:16   ┆ 2022-07-15    ┆ null   │\n",
       "│             ┆ !\n",
       "*@g5n\n",
       "j6e3^   ┆      ┆      ┆   ┆            ┆            ┆ 23:04:10      ┆        │\n",
       "│             ┆ Y@XxFi&8XY^'< ┆      ┆      ┆   ┆            ┆            ┆               ┆        │\n",
       "│             ┆ :j;           ┆      ┆      ┆   ┆            ┆            ┆               ┆        │\n",
       "└─────────────┴───────────────┴──────┴──────┴───┴────────────┴────────────┴───────────────┴────────┘"
      ]
     },
     "execution_count": 9,
     "metadata": {},
     "output_type": "execute_result"
    }
   ],
   "source": [
    "new_meta_dataset = MetaDataset.from_json(file_path)\n",
    "new_meta_dataset.synthesize(5)"
   ]
  },
  {
   "cell_type": "markdown",
   "id": "669b1e95",
   "metadata": {},
   "source": [
    "As you can see, the fake data looks a lot like the real data! However, it could still use some improvement. In the next sections, we will explore manual changes we can make to improve the quality of the synthetic data."
   ]
  },
  {
   "cell_type": "markdown",
   "id": "e4cfe6cd",
   "metadata": {},
   "source": [
    "## Step 5: Improving the quality of the synthetic data"
   ]
  },
  {
   "cell_type": "markdown",
   "id": "df32cc3a",
   "metadata": {},
   "source": [
    "### Set unique columns\n",
    "\n",
    "One column (PassengerId) has been detected as possibly unique by MetaSynth, as indicated by the following warning:\n",
    "\n",
    "> \"Variable PassengerId seems unique, but not set to be unique.\"\n",
    "\n",
    "This column holds a variable with unique passenger identifiers, so in fact we do want synthetic data generated for this column to be unique as well. We can add this to the metadata by creating a list of options which we call a `specification`, or `spec`:"
   ]
  },
  {
   "cell_type": "code",
   "execution_count": 10,
   "id": "e7b76751",
   "metadata": {},
   "outputs": [
    {
     "data": {
      "text/plain": [
       "{'name': 'PassengerId',\n",
       " 'type': 'discrete',\n",
       " 'dtype': 'Int64',\n",
       " 'prop_missing': 0.0,\n",
       " 'distribution': {'implements': 'core.unique_key',\n",
       "  'provenance': 'builtin',\n",
       "  'class_name': 'UniqueKeyDistribution',\n",
       "  'parameters': {'low': 1, 'consecutive': 1}}}"
      ]
     },
     "execution_count": 10,
     "metadata": {},
     "output_type": "execute_result"
    }
   ],
   "source": [
    "# First, we create a specification dictionary for the variables\n",
    "var_spec = {\n",
    "    \"PassengerId\": {\"unique\": True}\n",
    "}\n",
    "\n",
    "# then, we add that dictionary as the `spec` argument\n",
    "meta_dataset = MetaDataset.from_dataframe(df, spec=var_spec)\n",
    "\n",
    "# then, let's check what the metadata about PassengerId contains!\n",
    "meta_dataset[\"PassengerId\"].to_dict()"
   ]
  },
  {
   "cell_type": "markdown",
   "id": "a28f0970",
   "metadata": {},
   "source": [
    "So let's check what is generated from this new metadata:"
   ]
  },
  {
   "cell_type": "code",
   "execution_count": 11,
   "id": "38c2f4b6",
   "metadata": {},
   "outputs": [
    {
     "data": {
      "text/html": [
       "<div><style>\n",
       ".dataframe > thead > tr > th,\n",
       ".dataframe > tbody > tr > td {\n",
       "  text-align: right;\n",
       "}\n",
       "</style>\n",
       "<small>shape: (5, 12)</small><table border=\"1\" class=\"dataframe\"><thead><tr><th>PassengerId</th><th>Name</th><th>Sex</th><th>Age</th><th>Parch</th><th>Fare</th><th>Cabin</th><th>Embarked</th><th>Birthday</th><th>Board time</th><th>Married since</th><th>all_NA</th></tr><tr><td>i64</td><td>str</td><td>cat</td><td>i64</td><td>i64</td><td>f64</td><td>f32</td><td>cat</td><td>date</td><td>time</td><td>datetime[μs]</td><td>f32</td></tr></thead><tbody><tr><td>1</td><td>&quot;\n",
       "}}j$NN%\u000b",
       "|(P7Z…</td><td>&quot;male&quot;</td><td>78</td><td>0</td><td>10.41064</td><td>null</td><td>&quot;S&quot;</td><td>1919-09-21</td><td>11:02:37</td><td>null</td><td>null</td></tr><tr><td>2</td><td>&quot;.Q=,^dy^Bi3S`l…</td><td>&quot;male&quot;</td><td>null</td><td>1</td><td>23.2323</td><td>null</td><td>&quot;S&quot;</td><td>1935-08-14</td><td>10:59:55</td><td>2022-08-05 00:59:17</td><td>null</td></tr><tr><td>3</td><td>&quot;:1\r",
       "-*BISW\tj5\r",
       "b…</td><td>&quot;male&quot;</td><td>39</td><td>1</td><td>8.431676</td><td>null</td><td>&quot;S&quot;</td><td>1913-03-20</td><td>15:44:37</td><td>2022-08-08 11:06:02</td><td>null</td></tr><tr><td>4</td><td>&quot;?ez3=d\n",
       "&quot;-[]JD5…</td><td>&quot;male&quot;</td><td>19</td><td>2</td><td>13.494657</td><td>null</td><td>&quot;S&quot;</td><td>1936-07-01</td><td>14:30:42</td><td>2022-07-29 17:58:08</td><td>null</td></tr><tr><td>5</td><td>&quot;i$-#7i~IvS&gt;IM%…</td><td>&quot;male&quot;</td><td>17</td><td>1</td><td>4.245998</td><td>null</td><td>&quot;Q&quot;</td><td>1937-12-27</td><td>18:00:10</td><td>2022-07-23 13:01:22</td><td>null</td></tr></tbody></table></div>"
      ],
      "text/plain": [
       "shape: (5, 12)\n",
       "┌─────────────┬───────────────┬──────┬──────┬───┬────────────┬────────────┬───────────────┬────────┐\n",
       "│ PassengerId ┆ Name          ┆ Sex  ┆ Age  ┆ … ┆ Birthday   ┆ Board time ┆ Married since ┆ all_NA │\n",
       "│ ---         ┆ ---           ┆ ---  ┆ ---  ┆   ┆ ---        ┆ ---        ┆ ---           ┆ ---    │\n",
       "│ i64         ┆ str           ┆ cat  ┆ i64  ┆   ┆ date       ┆ time       ┆ datetime[μs]  ┆ f32    │\n",
       "╞═════════════╪═══════════════╪══════╪══════╪═══╪════════════╪════════════╪═══════════════╪════════╡\n",
       "│ 1           ┆               ┆ male ┆ 78   ┆ … ┆ 1919-09-21 ┆ 11:02:37   ┆ null          ┆ null   │\n",
       "│             ┆ }}j$NN%\n",
       "|(P7Z  ┆      ┆      ┆   ┆            ┆            ┆               ┆        │\n",
       "│             ┆ ?9)MP9&\"/3[.9 ┆      ┆      ┆   ┆            ┆            ┆               ┆        │\n",
       "│             ┆ V/l4J…        ┆      ┆      ┆   ┆            ┆            ┆               ┆        │\n",
       "│ 2           ┆ .Q=,^dy^Bi3S` ┆ male ┆ null ┆ … ┆ 1935-08-14 ┆ 10:59:55   ┆ 2022-08-05    ┆ null   │\n",
       "│             ┆ l0SD68Yir%U3Z ┆      ┆      ┆   ┆            ┆            ┆ 00:59:17      ┆        │\n",
       "│             ┆ HUS\\KS…       ┆      ┆      ┆   ┆            ┆            ┆               ┆        │\n",
       "│ 3           ┆ :1\n",
       "-*BISW\tj5\n",
       "    ┆ male ┆ 39   ┆ … ┆ 1913-03-20 ┆ 15:44:37   ┆ 2022-08-08    ┆ null   │\n",
       "│             ┆ bG!VaOAc9jq'\n",
       "  ┆      ┆      ┆   ┆            ┆            ┆ 11:06:02      ┆        │\n",
       "│             ┆ 6h~7Sv…       ┆      ┆      ┆   ┆            ┆            ┆               ┆        │\n",
       "│ 4           ┆ ?ez3=d        ┆ male ┆ 19   ┆ … ┆ 1936-07-01 ┆ 14:30:42   ┆ 2022-07-29    ┆ null   │\n",
       "│             ┆ \"-[]JD5#FZQ   ┆      ┆      ┆   ┆            ┆            ┆ 17:58:08      ┆        │\n",
       "│             ┆ q2&\n",
       "ht>G]7BEz… ┆      ┆      ┆   ┆            ┆            ┆               ┆        │\n",
       "│ 5           ┆ i$-#7i~IvS>IM ┆ male ┆ 17   ┆ … ┆ 1937-12-27 ┆ 18:00:10   ┆ 2022-07-23    ┆ null   │\n",
       "│             ┆ %(#_+I_ldE    ┆      ┆      ┆   ┆            ┆            ┆ 13:01:22      ┆        │\n",
       "│             ┆ oJ\n",
       "Zk*U'…      ┆      ┆      ┆   ┆            ┆            ┆               ┆        │\n",
       "└─────────────┴───────────────┴──────┴──────┴───┴────────────┴────────────┴───────────────┴────────┘"
      ]
     },
     "execution_count": 11,
     "metadata": {},
     "output_type": "execute_result"
    }
   ],
   "source": [
    "meta_dataset.synthesize(5)"
   ]
  },
  {
   "cell_type": "markdown",
   "id": "13453746",
   "metadata": {},
   "source": [
    "Now we that the `PassengerId` column is correctly represented with increasing id numbers."
   ]
  },
  {
   "cell_type": "markdown",
   "id": "6f884eb7",
   "metadata": {},
   "source": [
    "### Fake names (and others)\n",
    "\n",
    "As one can see, the `Name` of the passengers is not quite so well synthesized. The reason is that the string type interpreter in MetaSynth is designed for `structured` strings (like room numbers such as `B1.09`, `B1.01` or `A1.08`) and not unstructured strings. However, MetaSynth supports the [faker](https://faker.readthedocs.io/en/master/index.html) package, which includes a lot of data types that it can fake. The columns using faker are not based on the real data at all so they do not disclose any info about the real data.\n",
    "\n",
    "We fake names as follows:"
   ]
  },
  {
   "cell_type": "code",
   "execution_count": 12,
   "id": "d5615aa0",
   "metadata": {},
   "outputs": [
    {
     "data": {
      "text/html": [
       "<div><style>\n",
       ".dataframe > thead > tr > th,\n",
       ".dataframe > tbody > tr > td {\n",
       "  text-align: right;\n",
       "}\n",
       "</style>\n",
       "<small>shape: (5, 12)</small><table border=\"1\" class=\"dataframe\"><thead><tr><th>PassengerId</th><th>Name</th><th>Sex</th><th>Age</th><th>Parch</th><th>Fare</th><th>Cabin</th><th>Embarked</th><th>Birthday</th><th>Board time</th><th>Married since</th><th>all_NA</th></tr><tr><td>i64</td><td>str</td><td>cat</td><td>i64</td><td>i64</td><td>f64</td><td>f32</td><td>cat</td><td>date</td><td>time</td><td>datetime[μs]</td><td>f32</td></tr></thead><tbody><tr><td>1</td><td>&quot;John Snyder&quot;</td><td>&quot;female&quot;</td><td>11</td><td>1</td><td>20.730102</td><td>null</td><td>&quot;C&quot;</td><td>1923-02-24</td><td>15:18:06</td><td>2022-08-02 02:22:32</td><td>null</td></tr><tr><td>2</td><td>&quot;Loretta Sutton…</td><td>&quot;male&quot;</td><td>17</td><td>0</td><td>33.783819</td><td>null</td><td>&quot;S&quot;</td><td>1920-03-02</td><td>11:11:34</td><td>2022-07-29 10:35:05</td><td>null</td></tr><tr><td>3</td><td>&quot;Jeffrey Romero…</td><td>&quot;male&quot;</td><td>null</td><td>1</td><td>116.916082</td><td>null</td><td>&quot;C&quot;</td><td>1904-03-22</td><td>13:39:50</td><td>2022-08-12 17:17:57</td><td>null</td></tr><tr><td>4</td><td>&quot;Kristin Silva&quot;</td><td>&quot;female&quot;</td><td>69</td><td>1</td><td>0.785428</td><td>null</td><td>&quot;S&quot;</td><td>1929-02-07</td><td>null</td><td>2022-08-09 19:34:13</td><td>null</td></tr><tr><td>5</td><td>&quot;Jamie Adkins&quot;</td><td>&quot;male&quot;</td><td>null</td><td>1</td><td>23.869532</td><td>null</td><td>&quot;S&quot;</td><td>1927-11-24</td><td>null</td><td>2022-07-29 16:21:41</td><td>null</td></tr></tbody></table></div>"
      ],
      "text/plain": [
       "shape: (5, 12)\n",
       "┌─────────────┬──────────────┬────────┬──────┬───┬────────────┬────────────┬──────────────┬────────┐\n",
       "│ PassengerId ┆ Name         ┆ Sex    ┆ Age  ┆ … ┆ Birthday   ┆ Board time ┆ Married      ┆ all_NA │\n",
       "│ ---         ┆ ---          ┆ ---    ┆ ---  ┆   ┆ ---        ┆ ---        ┆ since        ┆ ---    │\n",
       "│ i64         ┆ str          ┆ cat    ┆ i64  ┆   ┆ date       ┆ time       ┆ ---          ┆ f32    │\n",
       "│             ┆              ┆        ┆      ┆   ┆            ┆            ┆ datetime[μs] ┆        │\n",
       "╞═════════════╪══════════════╪════════╪══════╪═══╪════════════╪════════════╪══════════════╪════════╡\n",
       "│ 1           ┆ John Snyder  ┆ female ┆ 11   ┆ … ┆ 1923-02-24 ┆ 15:18:06   ┆ 2022-08-02   ┆ null   │\n",
       "│             ┆              ┆        ┆      ┆   ┆            ┆            ┆ 02:22:32     ┆        │\n",
       "│ 2           ┆ Loretta      ┆ male   ┆ 17   ┆ … ┆ 1920-03-02 ┆ 11:11:34   ┆ 2022-07-29   ┆ null   │\n",
       "│             ┆ Sutton       ┆        ┆      ┆   ┆            ┆            ┆ 10:35:05     ┆        │\n",
       "│ 3           ┆ Jeffrey      ┆ male   ┆ null ┆ … ┆ 1904-03-22 ┆ 13:39:50   ┆ 2022-08-12   ┆ null   │\n",
       "│             ┆ Romero       ┆        ┆      ┆   ┆            ┆            ┆ 17:17:57     ┆        │\n",
       "│ 4           ┆ Kristin      ┆ female ┆ 69   ┆ … ┆ 1929-02-07 ┆ null       ┆ 2022-08-09   ┆ null   │\n",
       "│             ┆ Silva        ┆        ┆      ┆   ┆            ┆            ┆ 19:34:13     ┆        │\n",
       "│ 5           ┆ Jamie Adkins ┆ male   ┆ null ┆ … ┆ 1927-11-24 ┆ null       ┆ 2022-07-29   ┆ null   │\n",
       "│             ┆              ┆        ┆      ┆   ┆            ┆            ┆ 16:21:41     ┆        │\n",
       "└─────────────┴──────────────┴────────┴──────┴───┴────────────┴────────────┴──────────────┴────────┘"
      ]
     },
     "execution_count": 12,
     "metadata": {},
     "output_type": "execute_result"
    }
   ],
   "source": [
    "# First, we create a specification dictionary for the variables\n",
    "from metasynth.distribution import FakerDistribution\n",
    "\n",
    "var_spec = {\n",
    "    \"PassengerId\": {\"unique\": True}, \n",
    "    \"Name\": {\"distribution\": FakerDistribution(\"name\")}\n",
    "}\n",
    "\n",
    "meta_dataset = MetaDataset.from_dataframe(df, spec=var_spec)\n",
    "meta_dataset.synthesize(5)"
   ]
  },
  {
   "cell_type": "markdown",
   "id": "d5af6776",
   "metadata": {},
   "source": [
    "That already looks a lot better for the `Name` column!"
   ]
  },
  {
   "cell_type": "markdown",
   "id": "cf927af6",
   "metadata": {},
   "source": [
    "### Set distributions manually\n",
    "\n",
    "Without user input, the distribution chosen for each variable is inferred by choosing the best fitting from available distributions for the variable type. However, we can also manually specify which distribution to fit, or we can even just fully specify how the variable should be generated."
   ]
  },
  {
   "cell_type": "code",
   "execution_count": 13,
   "id": "ac4ba506",
   "metadata": {},
   "outputs": [
    {
     "data": {
      "text/html": [
       "<div><style>\n",
       ".dataframe > thead > tr > th,\n",
       ".dataframe > tbody > tr > td {\n",
       "  text-align: right;\n",
       "}\n",
       "</style>\n",
       "<small>shape: (5, 12)</small><table border=\"1\" class=\"dataframe\"><thead><tr><th>PassengerId</th><th>Name</th><th>Sex</th><th>Age</th><th>Parch</th><th>Fare</th><th>Cabin</th><th>Embarked</th><th>Birthday</th><th>Board time</th><th>Married since</th><th>all_NA</th></tr><tr><td>i64</td><td>str</td><td>cat</td><td>i64</td><td>i64</td><td>f64</td><td>str</td><td>cat</td><td>date</td><td>time</td><td>datetime[μs]</td><td>f32</td></tr></thead><tbody><tr><td>1</td><td>&quot;John Snyder&quot;</td><td>&quot;female&quot;</td><td>null</td><td>1</td><td>0.497802</td><td>null</td><td>&quot;S&quot;</td><td>1903-10-17</td><td>12:25:53</td><td>2022-07-24 05:03:27</td><td>null</td></tr><tr><td>2</td><td>&quot;Loretta Sutton…</td><td>&quot;male&quot;</td><td>null</td><td>0</td><td>0.502027</td><td>null</td><td>&quot;S&quot;</td><td>null</td><td>15:55:38</td><td>2022-07-21 18:33:18</td><td>null</td></tr><tr><td>3</td><td>&quot;Jeffrey Romero…</td><td>&quot;female&quot;</td><td>21</td><td>0</td><td>1.350654</td><td>null</td><td>&quot;S&quot;</td><td>1930-07-15</td><td>15:42:38</td><td>null</td><td>null</td></tr><tr><td>4</td><td>&quot;Kristin Silva&quot;</td><td>&quot;male&quot;</td><td>null</td><td>0</td><td>0.608075</td><td>&quot;EZOH\n",
       "a|Oo1&quot;</td><td>&quot;S&quot;</td><td>1920-07-01</td><td>14:51:13</td><td>2022-08-09 04:45:51</td><td>null</td></tr><tr><td>5</td><td>&quot;Jamie Adkins&quot;</td><td>&quot;female&quot;</td><td>null</td><td>0</td><td>0.170791</td><td>null</td><td>&quot;S&quot;</td><td>1919-01-17</td><td>15:17:18</td><td>2022-08-05 16:31:15</td><td>null</td></tr></tbody></table></div>"
      ],
      "text/plain": [
       "shape: (5, 12)\n",
       "┌─────────────┬──────────────┬────────┬──────┬───┬────────────┬────────────┬──────────────┬────────┐\n",
       "│ PassengerId ┆ Name         ┆ Sex    ┆ Age  ┆ … ┆ Birthday   ┆ Board time ┆ Married      ┆ all_NA │\n",
       "│ ---         ┆ ---          ┆ ---    ┆ ---  ┆   ┆ ---        ┆ ---        ┆ since        ┆ ---    │\n",
       "│ i64         ┆ str          ┆ cat    ┆ i64  ┆   ┆ date       ┆ time       ┆ ---          ┆ f32    │\n",
       "│             ┆              ┆        ┆      ┆   ┆            ┆            ┆ datetime[μs] ┆        │\n",
       "╞═════════════╪══════════════╪════════╪══════╪═══╪════════════╪════════════╪══════════════╪════════╡\n",
       "│ 1           ┆ John Snyder  ┆ female ┆ null ┆ … ┆ 1903-10-17 ┆ 12:25:53   ┆ 2022-07-24   ┆ null   │\n",
       "│             ┆              ┆        ┆      ┆   ┆            ┆            ┆ 05:03:27     ┆        │\n",
       "│ 2           ┆ Loretta      ┆ male   ┆ null ┆ … ┆ null       ┆ 15:55:38   ┆ 2022-07-21   ┆ null   │\n",
       "│             ┆ Sutton       ┆        ┆      ┆   ┆            ┆            ┆ 18:33:18     ┆        │\n",
       "│ 3           ┆ Jeffrey      ┆ female ┆ 21   ┆ … ┆ 1930-07-15 ┆ 15:42:38   ┆ null         ┆ null   │\n",
       "│             ┆ Romero       ┆        ┆      ┆   ┆            ┆            ┆              ┆        │\n",
       "│ 4           ┆ Kristin      ┆ male   ┆ null ┆ … ┆ 1920-07-01 ┆ 14:51:13   ┆ 2022-08-09   ┆ null   │\n",
       "│             ┆ Silva        ┆        ┆      ┆   ┆            ┆            ┆ 04:45:51     ┆        │\n",
       "│ 5           ┆ Jamie Adkins ┆ female ┆ null ┆ … ┆ 1919-01-17 ┆ 15:17:18   ┆ 2022-08-05   ┆ null   │\n",
       "│             ┆              ┆        ┆      ┆   ┆            ┆            ┆ 16:31:15     ┆        │\n",
       "└─────────────┴──────────────┴────────┴──────┴───┴────────────┴────────────┴──────────────┴────────┘"
      ]
     },
     "execution_count": 13,
     "metadata": {},
     "output_type": "execute_result"
    }
   ],
   "source": [
    "from metasynth.distribution import DiscreteUniformDistribution\n",
    "\n",
    "var_spec = {\n",
    "    \"PassengerId\": {\"unique\": True}, \n",
    "    \"Name\": {\"distribution\": FakerDistribution(\"name\")},\n",
    "    \"Fare\": {\"distribution\": \"LogNormalDistribution\"}, # estimate / fit an exponential distribution based on the data\n",
    "    \"Age\": {\"distribution\": DiscreteUniformDistribution(20, 40)} # fully specify a distribution for age (uniform between 20 and 40)\n",
    "}\n",
    "\n",
    "meta_dataset = MetaDataset.from_dataframe(df, spec=var_spec)\n",
    "meta_dataset.synthesize(5)"
   ]
  },
  {
   "cell_type": "markdown",
   "id": "2897133c",
   "metadata": {},
   "source": [
    "### Specifying the distribution of structured strings\n",
    "\n",
    "For more or less structured strings, we can manually set the structure of the strings based on regular expressions. For example, we see that most Cabins are structured like [A-F] and then 2 or 3 digit numbers. We can include this as follows:"
   ]
  },
  {
   "cell_type": "code",
   "execution_count": 36,
   "id": "7b2c4003",
   "metadata": {},
   "outputs": [
    {
     "data": {
      "text/html": [
       "<div><style>\n",
       ".dataframe > thead > tr > th,\n",
       ".dataframe > tbody > tr > td {\n",
       "  text-align: right;\n",
       "}\n",
       "</style>\n",
       "<small>shape: (10, 12)</small><table border=\"1\" class=\"dataframe\"><thead><tr><th>PassengerId</th><th>Name</th><th>Sex</th><th>Age</th><th>Parch</th><th>Fare</th><th>Cabin</th><th>Embarked</th><th>Birthday</th><th>Board time</th><th>Married since</th><th>all_NA</th></tr><tr><td>i64</td><td>str</td><td>cat</td><td>i64</td><td>i64</td><td>f64</td><td>str</td><td>cat</td><td>date</td><td>time</td><td>datetime[μs]</td><td>f32</td></tr></thead><tbody><tr><td>1</td><td>&quot;John Snyder&quot;</td><td>&quot;male&quot;</td><td>28</td><td>0</td><td>16.816117</td><td>&quot;E742&quot;</td><td>&quot;Q&quot;</td><td>1924-09-14</td><td>17:08:32</td><td>2022-08-09 22:38:21</td><td>null</td></tr><tr><td>2</td><td>&quot;Loretta Sutton…</td><td>&quot;female&quot;</td><td>31</td><td>0</td><td>5.628338</td><td>null</td><td>&quot;S&quot;</td><td>1939-06-19</td><td>14:58:47</td><td>2022-07-30 10:11:59</td><td>null</td></tr><tr><td>3</td><td>&quot;Jeffrey Romero…</td><td>&quot;female&quot;</td><td>27</td><td>0</td><td>72.696756</td><td>null</td><td>&quot;S&quot;</td><td>1927-08-03</td><td>null</td><td>2022-08-07 08:12:35</td><td>null</td></tr><tr><td>4</td><td>&quot;Kristin Silva&quot;</td><td>&quot;female&quot;</td><td>28</td><td>0</td><td>39.490222</td><td>null</td><td>&quot;S&quot;</td><td>1906-09-30</td><td>15:09:54</td><td>2022-07-20 07:48:03</td><td>null</td></tr><tr><td>5</td><td>&quot;Jamie Adkins&quot;</td><td>&quot;male&quot;</td><td>35</td><td>1</td><td>12.817315</td><td>null</td><td>&quot;S&quot;</td><td>1907-04-26</td><td>17:49:43</td><td>2022-08-02 18:23:52</td><td>null</td></tr><tr><td>6</td><td>&quot;Amanda Hawkins…</td><td>&quot;male&quot;</td><td>22</td><td>0</td><td>28.477249</td><td>null</td><td>&quot;S&quot;</td><td>1929-11-08</td><td>null</td><td>2022-08-13 05:19:31</td><td>null</td></tr><tr><td>7</td><td>&quot;Mark Lopez&quot;</td><td>&quot;female&quot;</td><td>22</td><td>1</td><td>8.303784</td><td>null</td><td>&quot;S&quot;</td><td>1924-05-29</td><td>15:19:10</td><td>2022-08-01 04:05:40</td><td>null</td></tr><tr><td>8</td><td>&quot;Pamela Wheeler…</td><td>&quot;male&quot;</td><td>29</td><td>1</td><td>26.624476</td><td>null</td><td>&quot;S&quot;</td><td>1910-05-16</td><td>14:00:12</td><td>2022-08-12 19:31:09</td><td>null</td></tr><tr><td>9</td><td>&quot;Sydney Bennett…</td><td>&quot;male&quot;</td><td>33</td><td>0</td><td>29.606436</td><td>&quot;C286&quot;</td><td>&quot;C&quot;</td><td>1931-06-22</td><td>12:22:27</td><td>2022-07-19 04:42:25</td><td>null</td></tr><tr><td>10</td><td>&quot;Jennifer Cohen…</td><td>&quot;male&quot;</td><td>null</td><td>1</td><td>42.645574</td><td>&quot;E53&quot;</td><td>&quot;Q&quot;</td><td>1906-09-25</td><td>17:24:27</td><td>2022-07-24 08:45:19</td><td>null</td></tr></tbody></table></div>"
      ],
      "text/plain": [
       "shape: (10, 12)\n",
       "┌─────────────┬──────────────┬────────┬──────┬───┬────────────┬────────────┬──────────────┬────────┐\n",
       "│ PassengerId ┆ Name         ┆ Sex    ┆ Age  ┆ … ┆ Birthday   ┆ Board time ┆ Married      ┆ all_NA │\n",
       "│ ---         ┆ ---          ┆ ---    ┆ ---  ┆   ┆ ---        ┆ ---        ┆ since        ┆ ---    │\n",
       "│ i64         ┆ str          ┆ cat    ┆ i64  ┆   ┆ date       ┆ time       ┆ ---          ┆ f32    │\n",
       "│             ┆              ┆        ┆      ┆   ┆            ┆            ┆ datetime[μs] ┆        │\n",
       "╞═════════════╪══════════════╪════════╪══════╪═══╪════════════╪════════════╪══════════════╪════════╡\n",
       "│ 1           ┆ John Snyder  ┆ male   ┆ 28   ┆ … ┆ 1924-09-14 ┆ 17:08:32   ┆ 2022-08-09   ┆ null   │\n",
       "│             ┆              ┆        ┆      ┆   ┆            ┆            ┆ 22:38:21     ┆        │\n",
       "│ 2           ┆ Loretta      ┆ female ┆ 31   ┆ … ┆ 1939-06-19 ┆ 14:58:47   ┆ 2022-07-30   ┆ null   │\n",
       "│             ┆ Sutton       ┆        ┆      ┆   ┆            ┆            ┆ 10:11:59     ┆        │\n",
       "│ 3           ┆ Jeffrey      ┆ female ┆ 27   ┆ … ┆ 1927-08-03 ┆ null       ┆ 2022-08-07   ┆ null   │\n",
       "│             ┆ Romero       ┆        ┆      ┆   ┆            ┆            ┆ 08:12:35     ┆        │\n",
       "│ 4           ┆ Kristin      ┆ female ┆ 28   ┆ … ┆ 1906-09-30 ┆ 15:09:54   ┆ 2022-07-20   ┆ null   │\n",
       "│             ┆ Silva        ┆        ┆      ┆   ┆            ┆            ┆ 07:48:03     ┆        │\n",
       "│ …           ┆ …            ┆ …      ┆ …    ┆ … ┆ …          ┆ …          ┆ …            ┆ …      │\n",
       "│ 7           ┆ Mark Lopez   ┆ female ┆ 22   ┆ … ┆ 1924-05-29 ┆ 15:19:10   ┆ 2022-08-01   ┆ null   │\n",
       "│             ┆              ┆        ┆      ┆   ┆            ┆            ┆ 04:05:40     ┆        │\n",
       "│ 8           ┆ Pamela       ┆ male   ┆ 29   ┆ … ┆ 1910-05-16 ┆ 14:00:12   ┆ 2022-08-12   ┆ null   │\n",
       "│             ┆ Wheeler      ┆        ┆      ┆   ┆            ┆            ┆ 19:31:09     ┆        │\n",
       "│ 9           ┆ Sydney       ┆ male   ┆ 33   ┆ … ┆ 1931-06-22 ┆ 12:22:27   ┆ 2022-07-19   ┆ null   │\n",
       "│             ┆ Bennett      ┆        ┆      ┆   ┆            ┆            ┆ 04:42:25     ┆        │\n",
       "│ 10          ┆ Jennifer     ┆ male   ┆ null ┆ … ┆ 1906-09-25 ┆ 17:24:27   ┆ 2022-07-24   ┆ null   │\n",
       "│             ┆ Cohen        ┆        ┆      ┆   ┆            ┆            ┆ 08:45:19     ┆        │\n",
       "└─────────────┴──────────────┴────────┴──────┴───┴────────────┴────────────┴──────────────┴────────┘"
      ]
     },
     "execution_count": 36,
     "metadata": {},
     "output_type": "execute_result"
    }
   ],
   "source": [
    "from metasynth.distribution import RegexDistribution\n",
    "\n",
    "# To create a regex distribution, you need a list of tuples, where each tuple is an element.\n",
    "# The first part of the tuple is a string representation of the regex, while the second is the proportion of the\n",
    "# time the regex element is used.\n",
    "cabin_distribution = RegexDistribution(r\"[ABCDEF]\\d{2,3}\")  # Add the r so that it becomes a literal string.\n",
    "# just for completeness: data generated from this distribution will always match the regex [ABCDEF]?(\\d{2,3})?\n",
    "\n",
    "var_spec = {\n",
    "    \"PassengerId\": {\"unique\": True}, \n",
    "    \"Name\": {\"distribution\": FakerDistribution(\"name\")},\n",
    "    \"Fare\": {\"distribution\": \"ExponentialDistribution\"}, # estimate / fit an exponential distribution based on the data\n",
    "    \"Age\": {\"distribution\": DiscreteUniformDistribution(20, 40)}, # fully specify a distribution for age (uniform between 20 and 40)\n",
    "    \"Cabin\": {\"distribution\": cabin_distribution}\n",
    "}\n",
    "\n",
    "meta_dataset = MetaDataset.from_dataframe(df, spec=var_spec)\n",
    "meta_dataset.synthesize(10)"
   ]
  },
  {
   "cell_type": "markdown",
   "id": "cec623ed",
   "metadata": {},
   "source": [
    "## Comparing the final synthetic dataset to the original"
   ]
  },
  {
   "cell_type": "markdown",
   "id": "0d0a32e7",
   "metadata": {},
   "source": [
    "Let's first compare the averages of the numerical columns:"
   ]
  },
  {
   "cell_type": "code",
   "execution_count": 41,
   "id": "ab6b1e52",
   "metadata": {},
   "outputs": [
    {
     "data": {
      "text/html": [
       "<div><style>\n",
       ".dataframe > thead > tr > th,\n",
       ".dataframe > tbody > tr > td {\n",
       "  text-align: right;\n",
       "}\n",
       "</style>\n",
       "<small>shape: (1, 12)</small><table border=\"1\" class=\"dataframe\"><thead><tr><th>PassengerId</th><th>Name</th><th>Sex</th><th>Age</th><th>Parch</th><th>Fare</th><th>Cabin</th><th>Embarked</th><th>Birthday</th><th>Board time</th><th>Married since</th><th>all_NA</th></tr><tr><td>f64</td><td>str</td><td>cat</td><td>f64</td><td>f64</td><td>f64</td><td>str</td><td>cat</td><td>date</td><td>time</td><td>datetime[μs]</td><td>str</td></tr></thead><tbody><tr><td>446.0</td><td>null</td><td>null</td><td>29.693277</td><td>0.381594</td><td>32.204208</td><td>null</td><td>null</td><td>null</td><td>null</td><td>null</td><td>null</td></tr></tbody></table></div>"
      ],
      "text/plain": [
       "shape: (1, 12)\n",
       "┌─────────────┬──────┬──────┬───────────┬───┬──────────┬────────────┬───────────────┬────────┐\n",
       "│ PassengerId ┆ Name ┆ Sex  ┆ Age       ┆ … ┆ Birthday ┆ Board time ┆ Married since ┆ all_NA │\n",
       "│ ---         ┆ ---  ┆ ---  ┆ ---       ┆   ┆ ---      ┆ ---        ┆ ---           ┆ ---    │\n",
       "│ f64         ┆ str  ┆ cat  ┆ f64       ┆   ┆ date     ┆ time       ┆ datetime[μs]  ┆ str    │\n",
       "╞═════════════╪══════╪══════╪═══════════╪═══╪══════════╪════════════╪═══════════════╪════════╡\n",
       "│ 446.0       ┆ null ┆ null ┆ 29.693277 ┆ … ┆ null     ┆ null       ┆ null          ┆ null   │\n",
       "└─────────────┴──────┴──────┴───────────┴───┴──────────┴────────────┴───────────────┴────────┘"
      ]
     },
     "execution_count": 41,
     "metadata": {},
     "output_type": "execute_result"
    }
   ],
   "source": [
    "df.mean()"
   ]
  },
  {
   "cell_type": "code",
   "execution_count": 42,
   "id": "581a04cb",
   "metadata": {},
   "outputs": [
    {
     "data": {
      "text/html": [
       "<div><style>\n",
       ".dataframe > thead > tr > th,\n",
       ".dataframe > tbody > tr > td {\n",
       "  text-align: right;\n",
       "}\n",
       "</style>\n",
       "<small>shape: (1, 12)</small><table border=\"1\" class=\"dataframe\"><thead><tr><th>PassengerId</th><th>Name</th><th>Sex</th><th>Age</th><th>Parch</th><th>Fare</th><th>Cabin</th><th>Embarked</th><th>Birthday</th><th>Board time</th><th>Married since</th><th>all_NA</th></tr><tr><td>f64</td><td>str</td><td>cat</td><td>f64</td><td>f64</td><td>f64</td><td>str</td><td>cat</td><td>date</td><td>time</td><td>datetime[μs]</td><td>f32</td></tr></thead><tbody><tr><td>446.0</td><td>null</td><td>null</td><td>29.417867</td><td>0.362514</td><td>33.143879</td><td>null</td><td>null</td><td>null</td><td>null</td><td>null</td><td>null</td></tr></tbody></table></div>"
      ],
      "text/plain": [
       "shape: (1, 12)\n",
       "┌─────────────┬──────┬──────┬───────────┬───┬──────────┬────────────┬───────────────┬────────┐\n",
       "│ PassengerId ┆ Name ┆ Sex  ┆ Age       ┆ … ┆ Birthday ┆ Board time ┆ Married since ┆ all_NA │\n",
       "│ ---         ┆ ---  ┆ ---  ┆ ---       ┆   ┆ ---      ┆ ---        ┆ ---           ┆ ---    │\n",
       "│ f64         ┆ str  ┆ cat  ┆ f64       ┆   ┆ date     ┆ time       ┆ datetime[μs]  ┆ f32    │\n",
       "╞═════════════╪══════╪══════╪═══════════╪═══╪══════════╪════════════╪═══════════════╪════════╡\n",
       "│ 446.0       ┆ null ┆ null ┆ 29.417867 ┆ … ┆ null     ┆ null       ┆ null          ┆ null   │\n",
       "└─────────────┴──────┴──────┴───────────┴───┴──────────┴────────────┴───────────────┴────────┘"
      ]
     },
     "execution_count": 42,
     "metadata": {},
     "output_type": "execute_result"
    }
   ],
   "source": [
    "meta_dataset.synthesize(len(df)).mean()"
   ]
  },
  {
   "cell_type": "markdown",
   "id": "f34a2b14",
   "metadata": {},
   "source": [
    "Then, we can also see how many missing values are in each column"
   ]
  },
  {
   "cell_type": "code",
   "execution_count": 44,
   "id": "a0f83d77",
   "metadata": {},
   "outputs": [
    {
     "data": {
      "text/html": [
       "<div><style>\n",
       ".dataframe > thead > tr > th,\n",
       ".dataframe > tbody > tr > td {\n",
       "  text-align: right;\n",
       "}\n",
       "</style>\n",
       "<small>shape: (1, 12)</small><table border=\"1\" class=\"dataframe\"><thead><tr><th>PassengerId</th><th>Name</th><th>Sex</th><th>Age</th><th>Parch</th><th>Fare</th><th>Cabin</th><th>Embarked</th><th>Birthday</th><th>Board time</th><th>Married since</th><th>all_NA</th></tr><tr><td>u32</td><td>u32</td><td>u32</td><td>u32</td><td>u32</td><td>u32</td><td>u32</td><td>u32</td><td>u32</td><td>u32</td><td>u32</td><td>u32</td></tr></thead><tbody><tr><td>0</td><td>0</td><td>0</td><td>177</td><td>0</td><td>0</td><td>687</td><td>2</td><td>78</td><td>79</td><td>92</td><td>891</td></tr></tbody></table></div>"
      ],
      "text/plain": [
       "shape: (1, 12)\n",
       "┌─────────────┬──────┬─────┬─────┬───┬──────────┬────────────┬───────────────┬────────┐\n",
       "│ PassengerId ┆ Name ┆ Sex ┆ Age ┆ … ┆ Birthday ┆ Board time ┆ Married since ┆ all_NA │\n",
       "│ ---         ┆ ---  ┆ --- ┆ --- ┆   ┆ ---      ┆ ---        ┆ ---           ┆ ---    │\n",
       "│ u32         ┆ u32  ┆ u32 ┆ u32 ┆   ┆ u32      ┆ u32        ┆ u32           ┆ u32    │\n",
       "╞═════════════╪══════╪═════╪═════╪═══╪══════════╪════════════╪═══════════════╪════════╡\n",
       "│ 0           ┆ 0    ┆ 0   ┆ 177 ┆ … ┆ 78       ┆ 79         ┆ 92            ┆ 891    │\n",
       "└─────────────┴──────┴─────┴─────┴───┴──────────┴────────────┴───────────────┴────────┘"
      ]
     },
     "execution_count": 44,
     "metadata": {},
     "output_type": "execute_result"
    }
   ],
   "source": [
    "df.null_count()"
   ]
  },
  {
   "cell_type": "code",
   "execution_count": 45,
   "id": "a8612831",
   "metadata": {},
   "outputs": [
    {
     "data": {
      "text/html": [
       "<div><style>\n",
       ".dataframe > thead > tr > th,\n",
       ".dataframe > tbody > tr > td {\n",
       "  text-align: right;\n",
       "}\n",
       "</style>\n",
       "<small>shape: (1, 12)</small><table border=\"1\" class=\"dataframe\"><thead><tr><th>PassengerId</th><th>Name</th><th>Sex</th><th>Age</th><th>Parch</th><th>Fare</th><th>Cabin</th><th>Embarked</th><th>Birthday</th><th>Board time</th><th>Married since</th><th>all_NA</th></tr><tr><td>u32</td><td>u32</td><td>u32</td><td>u32</td><td>u32</td><td>u32</td><td>u32</td><td>u32</td><td>u32</td><td>u32</td><td>u32</td><td>u32</td></tr></thead><tbody><tr><td>0</td><td>0</td><td>0</td><td>179</td><td>0</td><td>0</td><td>690</td><td>0</td><td>82</td><td>66</td><td>89</td><td>891</td></tr></tbody></table></div>"
      ],
      "text/plain": [
       "shape: (1, 12)\n",
       "┌─────────────┬──────┬─────┬─────┬───┬──────────┬────────────┬───────────────┬────────┐\n",
       "│ PassengerId ┆ Name ┆ Sex ┆ Age ┆ … ┆ Birthday ┆ Board time ┆ Married since ┆ all_NA │\n",
       "│ ---         ┆ ---  ┆ --- ┆ --- ┆   ┆ ---      ┆ ---        ┆ ---           ┆ ---    │\n",
       "│ u32         ┆ u32  ┆ u32 ┆ u32 ┆   ┆ u32      ┆ u32        ┆ u32           ┆ u32    │\n",
       "╞═════════════╪══════╪═════╪═════╪═══╪══════════╪════════════╪═══════════════╪════════╡\n",
       "│ 0           ┆ 0    ┆ 0   ┆ 179 ┆ … ┆ 82       ┆ 66         ┆ 89            ┆ 891    │\n",
       "└─────────────┴──────┴─────┴─────┴───┴──────────┴────────────┴───────────────┴────────┘"
      ]
     },
     "execution_count": 45,
     "metadata": {},
     "output_type": "execute_result"
    }
   ],
   "source": [
    "meta_dataset.synthesize(len(df)).null_count()"
   ]
  }
 ],
 "metadata": {
  "kernelspec": {
   "display_name": "Python 3 (ipykernel)",
   "language": "python",
   "name": "python3"
  },
  "language_info": {
   "codemirror_mode": {
    "name": "ipython",
    "version": 3
   },
   "file_extension": ".py",
   "mimetype": "text/x-python",
   "name": "python",
   "nbconvert_exporter": "python",
   "pygments_lexer": "ipython3",
   "version": "3.9.10"
  },
  "vscode": {
   "interpreter": {
    "hash": "fdb1107d616260949a63e5f4e2c5568939cf2f2c0d0d70930ae22d4d9fd1a8a0"
   }
  }
 },
 "nbformat": 4,
 "nbformat_minor": 5
}
