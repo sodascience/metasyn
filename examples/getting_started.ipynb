{
 "cells": [
  {
   "cell_type": "markdown",
   "id": "c553fbc581c3d9fe",
   "metadata": {},
   "source": [
    "# Getting started with metasyn\n",
    "\n",
    "In this tutorial, we will create a `MetaFrame` (a metadata representation of a given dataset) and then generate synthetic data from it. This example workflow starts from a `.csv` file as input, but it is easily adapted to other formats.  "
   ]
  },
  {
   "cell_type": "markdown",
   "id": "f5c6597b",
   "metadata": {
    "collapsed": false
   },
   "source": [
    "## Step 0: Install the metasyn package and import required packages\n",
    "First, install the metasyn package in your session:"
   ]
  },
  {
   "cell_type": "code",
   "execution_count": null,
   "id": "e4fae59f",
   "metadata": {},
   "outputs": [],
   "source": [
    "# uncomment the following line and run the cell to install metasyn\n",
    "# %pip install metasyn"
   ]
  },
  {
   "cell_type": "code",
   "execution_count": 1,
   "id": "2442cb34",
   "metadata": {},
   "outputs": [],
   "source": [
    "# import required packages\n",
    "import datetime as dt\n",
    "import polars as pl\n",
    "from metasyn import MetaFrame, demo_file"
   ]
  },
  {
   "cell_type": "markdown",
   "id": "04466c26",
   "metadata": {},
   "source": [
    "## Step 1: Load the data into a data frame\n",
    "\n",
    "The first step in creating the metadata is reading and converting your dataset to a DataFrame with the correct data types. We use the [Polars](https://pola.rs) dataframe library for this (but you could also use Pandas!)"
   ]
  },
  {
   "cell_type": "code",
   "execution_count": 2,
   "id": "3c2a44b7",
   "metadata": {},
   "outputs": [
    {
     "data": {
      "text/html": [
       "<div><style>\n",
       ".dataframe > thead > tr > th,\n",
       ".dataframe > tbody > tr > td {\n",
       "  text-align: right;\n",
       "}\n",
       "</style>\n",
       "<small>shape: (5, 13)</small><table border=\"1\" class=\"dataframe\"><thead><tr><th>PassengerId</th><th>Name</th><th>Sex</th><th>Age</th><th>Parch</th><th>Ticket</th><th>Fare</th><th>Cabin</th><th>Embarked</th><th>Birthday</th><th>Board time</th><th>Married since</th><th>all_NA</th></tr><tr><td>i64</td><td>str</td><td>cat</td><td>i64</td><td>i64</td><td>str</td><td>f64</td><td>str</td><td>cat</td><td>date</td><td>time</td><td>datetime[μs]</td><td>str</td></tr></thead><tbody><tr><td>1</td><td>&quot;Braund, Mr. Ow…</td><td>&quot;male&quot;</td><td>22</td><td>0</td><td>&quot;A/5 21171&quot;</td><td>7.25</td><td>null</td><td>&quot;S&quot;</td><td>1937-10-28</td><td>15:53:04</td><td>2022-08-05 04:43:34</td><td>null</td></tr><tr><td>2</td><td>&quot;Cumings, Mrs. …</td><td>&quot;female&quot;</td><td>38</td><td>0</td><td>&quot;PC 17599&quot;</td><td>71.2833</td><td>&quot;C85&quot;</td><td>&quot;C&quot;</td><td>null</td><td>12:26:00</td><td>2022-08-07 01:56:33</td><td>null</td></tr><tr><td>3</td><td>&quot;Heikkinen, Mis…</td><td>&quot;female&quot;</td><td>26</td><td>0</td><td>&quot;STON/O2. 31012…</td><td>7.925</td><td>null</td><td>&quot;S&quot;</td><td>1931-09-24</td><td>16:08:25</td><td>2022-08-04 20:27:37</td><td>null</td></tr><tr><td>4</td><td>&quot;Futrelle, Mrs.…</td><td>&quot;female&quot;</td><td>35</td><td>0</td><td>&quot;113803&quot;</td><td>53.1</td><td>&quot;C123&quot;</td><td>&quot;S&quot;</td><td>1936-11-30</td><td>null</td><td>2022-08-07 07:05:55</td><td>null</td></tr><tr><td>5</td><td>&quot;Allen, Mr. Wil…</td><td>&quot;male&quot;</td><td>35</td><td>0</td><td>&quot;373450&quot;</td><td>8.05</td><td>null</td><td>&quot;S&quot;</td><td>1918-11-07</td><td>10:59:08</td><td>2022-08-02 15:13:34</td><td>null</td></tr></tbody></table></div>"
      ],
      "text/plain": [
       "shape: (5, 13)\n",
       "┌─────────────┬───────────────┬────────┬─────┬───┬────────────┬────────────┬──────────────┬────────┐\n",
       "│ PassengerId ┆ Name          ┆ Sex    ┆ Age ┆ … ┆ Birthday   ┆ Board time ┆ Married      ┆ all_NA │\n",
       "│ ---         ┆ ---           ┆ ---    ┆ --- ┆   ┆ ---        ┆ ---        ┆ since        ┆ ---    │\n",
       "│ i64         ┆ str           ┆ cat    ┆ i64 ┆   ┆ date       ┆ time       ┆ ---          ┆ str    │\n",
       "│             ┆               ┆        ┆     ┆   ┆            ┆            ┆ datetime[μs] ┆        │\n",
       "╞═════════════╪═══════════════╪════════╪═════╪═══╪════════════╪════════════╪══════════════╪════════╡\n",
       "│ 1           ┆ Braund, Mr.   ┆ male   ┆ 22  ┆ … ┆ 1937-10-28 ┆ 15:53:04   ┆ 2022-08-05   ┆ null   │\n",
       "│             ┆ Owen Harris   ┆        ┆     ┆   ┆            ┆            ┆ 04:43:34     ┆        │\n",
       "│ 2           ┆ Cumings, Mrs. ┆ female ┆ 38  ┆ … ┆ null       ┆ 12:26:00   ┆ 2022-08-07   ┆ null   │\n",
       "│             ┆ John Bradley  ┆        ┆     ┆   ┆            ┆            ┆ 01:56:33     ┆        │\n",
       "│             ┆ (Flor…        ┆        ┆     ┆   ┆            ┆            ┆              ┆        │\n",
       "│ 3           ┆ Heikkinen,    ┆ female ┆ 26  ┆ … ┆ 1931-09-24 ┆ 16:08:25   ┆ 2022-08-04   ┆ null   │\n",
       "│             ┆ Miss. Laina   ┆        ┆     ┆   ┆            ┆            ┆ 20:27:37     ┆        │\n",
       "│ 4           ┆ Futrelle,     ┆ female ┆ 35  ┆ … ┆ 1936-11-30 ┆ null       ┆ 2022-08-07   ┆ null   │\n",
       "│             ┆ Mrs. Jacques  ┆        ┆     ┆   ┆            ┆            ┆ 07:05:55     ┆        │\n",
       "│             ┆ Heath (Li…    ┆        ┆     ┆   ┆            ┆            ┆              ┆        │\n",
       "│ 5           ┆ Allen, Mr.    ┆ male   ┆ 35  ┆ … ┆ 1918-11-07 ┆ 10:59:08   ┆ 2022-08-02   ┆ null   │\n",
       "│             ┆ William Henry ┆        ┆     ┆   ┆            ┆            ┆ 15:13:34     ┆        │\n",
       "└─────────────┴───────────────┴────────┴─────┴───┴────────────┴────────────┴──────────────┴────────┘"
      ]
     },
     "execution_count": 2,
     "metadata": {},
     "output_type": "execute_result"
    }
   ],
   "source": [
    "# get the path of the demo csv\n",
    "demo_file_path = demo_file()\n",
    "\n",
    "# read the data with the correct categorical variables\n",
    "data_types={\n",
    "    \"Sex\": pl.Categorical,\n",
    "    \"Embarked\": pl.Categorical\n",
    "}\n",
    "df = pl.read_csv(demo_file_path, try_parse_dates=True, dtypes=data_types)\n",
    "\n",
    "# check out the data\n",
    "df.head()"
   ]
  },
  {
   "cell_type": "markdown",
   "id": "1e2481d4",
   "metadata": {},
   "source": [
    "Now, let's check the data types of our DataFrame:"
   ]
  },
  {
   "cell_type": "code",
   "execution_count": 6,
   "id": "0a5a1aa2",
   "metadata": {},
   "outputs": [
    {
     "data": {
      "text/plain": [
       "{'PassengerId': Int64,\n",
       " 'Name': Utf8,\n",
       " 'Sex': Categorical,\n",
       " 'Age': Int64,\n",
       " 'Parch': Int64,\n",
       " 'Ticket': Utf8,\n",
       " 'Fare': Float64,\n",
       " 'Cabin': Utf8,\n",
       " 'Embarked': Categorical,\n",
       " 'Birthday': Date,\n",
       " 'Board time': Time,\n",
       " 'Married since': Datetime(time_unit='us', time_zone=None),\n",
       " 'all_NA': Utf8}"
      ]
     },
     "execution_count": 6,
     "metadata": {},
     "output_type": "execute_result"
    }
   ],
   "source": [
    "dict(zip(df.columns, df.dtypes))"
   ]
  },
  {
   "cell_type": "markdown",
   "id": "2ebde17e",
   "metadata": {},
   "source": [
    "We see that most variables are now nicely specified as strings, categories, dates and ints where necessary. We can also inspect the data a bit more with `glimpse()`."
   ]
  },
  {
   "cell_type": "code",
   "execution_count": 7,
   "id": "4d608127",
   "metadata": {},
   "outputs": [
    {
     "name": "stdout",
     "output_type": "stream",
     "text": [
      "Rows: 891\n",
      "Columns: 13\n",
      "$ PassengerId            <i64> 1, 2, 3, 4, 5, 6, 7, 8, 9, 10\n",
      "$ Name                   <str> Braund, Mr. Owen Harris, Cumings, Mrs. John Bradley (Florence Briggs Thayer), Heikkinen, Miss. Laina, Futrelle, Mrs. Jacques Heath (Lily May Peel), Allen, Mr. William Henry, Moran, Mr. James, McCarthy, Mr. Timothy J, Palsson, Master. Gosta Leonard, Johnson, Mrs. Oscar W (Elisabeth Vilhelmina Berg), Nasser, Mrs. Nicholas (Adele Achem)\n",
      "$ Sex                    <cat> male, female, female, female, male, male, male, male, female, female\n",
      "$ Age                    <i64> 22, 38, 26, 35, 35, None, 54, 2, 27, 14\n",
      "$ Parch                  <i64> 0, 0, 0, 0, 0, 0, 0, 1, 2, 0\n",
      "$ Ticket                 <str> A/5 21171, PC 17599, STON/O2. 3101282, 113803, 373450, 330877, 17463, 349909, 347742, 237736\n",
      "$ Fare                   <f64> 7.25, 71.2833, 7.925, 53.1, 8.05, 8.4583, 51.8625, 21.075, 11.1333, 30.0708\n",
      "$ Cabin                  <str> None, C85, None, C123, None, None, E46, None, None, None\n",
      "$ Embarked               <cat> S, C, S, S, S, Q, S, S, S, C\n",
      "$ Birthday              <date> 1937-10-28, None, 1931-09-24, 1936-11-30, 1918-11-07, 1923-06-02, 1928-07-02, 1918-03-12, 1909-11-16, None\n",
      "$ Board time            <time> 15:53:04, 12:26:00, 16:08:25, None, 10:59:08, 16:28:33, 17:20:04, 17:56:40, 16:33:50, 17:28:21\n",
      "$ Married since <datetime[μs]> 2022-08-05 04:43:34, 2022-08-07 01:56:33, 2022-08-04 20:27:37, 2022-08-07 07:05:55, 2022-08-02 15:13:34, 2022-07-28 14:37:30, 2022-07-18 20:20:09, 2022-08-02 03:42:58, 2022-08-07 04:06:24, 2022-07-17 22:55:10\n",
      "$ all_NA                 <str> None, None, None, None, None, None, None, None, None, None\n",
      "\n"
     ]
    }
   ],
   "source": [
    "df.glimpse()"
   ]
  },
  {
   "cell_type": "markdown",
   "id": "13f849ed",
   "metadata": {},
   "source": [
    "## Step 2: Generating a MetaFrame\n",
    "\n",
    "Now that we have properly formatted our DataFrame, we can easily generate a MetaFrame for it. \n",
    "\n",
    "> **MetaFrames:**\n",
    "> A **MetaFrame** is an object which captures the essential aspects of the dataset, including variable names, types, data types, the percentage of missing values, and distribution attributes. MetaFrame objects capture all the information needed to generate a synthetic dataset that aligns with the original dataset, without containing any *entries* of the original dataset.\n",
    "\n",
    "More information on generating MetaFrames can be found on the metasyn docs, [here](https://metasynth.readthedocs.io/en/latest/usage/generating_metaframes.html)."
   ]
  },
  {
   "cell_type": "code",
   "execution_count": 8,
   "id": "e0c58473",
   "metadata": {},
   "outputs": [
    {
     "name": "stderr",
     "output_type": "stream",
     "text": [
      "C:\\Users\\erikj\\surfdrive\\SoDa\\projects\\synthetic_data\\metasyn\\metasyn\\provider.py:226: UserWarning: \n",
      "Variable PassengerId seems unique, but not set to be unique.\n",
      "Set the variable to be either unique or not unique to remove this warning.\n",
      "\n",
      "  warnings.warn(f\"\\nVariable {series.name} seems unique, but not set to be unique.\\n\"\n"
     ]
    }
   ],
   "source": [
    "# Generate and fit a MetaFrame to the DataFrame \n",
    "mf = MetaFrame.fit_dataframe(df)"
   ]
  },
  {
   "cell_type": "markdown",
   "id": "1e8a772d",
   "metadata": {},
   "source": [
    "We can call the `print` function to display the (statistical metadata contained in the) MetaFrame in an easy-to-read format:"
   ]
  },
  {
   "cell_type": "code",
   "execution_count": 12,
   "id": "abab1b78",
   "metadata": {},
   "outputs": [
    {
     "name": "stdout",
     "output_type": "stream",
     "text": [
      "# Rows: 891\n",
      "# Columns: 13\n",
      "\n",
      "Column 1: \"PassengerId\"\n",
      "- Variable Type: discrete\n",
      "- Data Type: Int64\n",
      "- Proportion of Missing Values: 0.0000\n",
      "- Distribution:\n",
      "\t- Type: core.discrete_uniform\n",
      "\t- Provenance: builtin\n",
      "\t- Parameters:\n",
      "\t\t- low: 1\n",
      "\t\t- high: 892\n",
      "\t\n",
      "\n",
      "Column 2: \"Name\"\n",
      "- Variable Type: string\n",
      "- Data Type: Utf8\n",
      "- Proportion of Missing Values: 0.0000\n",
      "- Distribution:\n",
      "\t- Type: core.regex\n",
      "\t- Provenance: builtin\n",
      "\t- Parameters:\n",
      "\t\t- regex: [A-Z][a-z]{2,9}[,][ ][M]((|[a][s][t][e])[r][\\.][ ][A-Z][a-z]{3,7}(|[ ][A-Z][a-z]{3,7})|[i][s]{2,2}[\\.][ ][A-Z][a-z]{3,8}(|[ ][A-Z][a-z]{4,7}))\n",
      "\t\n",
      "\n",
      "Column 3: \"Sex\"\n",
      "- Variable Type: categorical\n",
      "- Data Type: Categorical\n",
      "- Proportion of Missing Values: 0.0000\n",
      "- Distribution:\n",
      "\t- Type: core.multinoulli\n",
      "\t- Provenance: builtin\n",
      "\t- Parameters:\n",
      "\t\t- labels: ['female' 'male']\n",
      "\t\t- probs: [0.35241302 0.64758698]\n",
      "\t\n",
      "\n",
      "Column 4: \"Age\"\n",
      "- Variable Type: discrete\n",
      "- Data Type: Int64\n",
      "- Proportion of Missing Values: 0.1987\n",
      "- Distribution:\n",
      "\t- Type: core.multinoulli\n",
      "\t- Provenance: builtin\n",
      "\t- Parameters:\n",
      "\t\t- labels: [ 0  1  2  3  4  5  6  7  8  9 10 11 12 13 14 15 16 17 18 19 20 21 22 23\n",
      "\t 24 25 26 27 28 29 30 31 32 33 34 35 36 37 38 39 40 41 42 43 44 45 46 47\n",
      "\t 48 49 50 51 52 53 54 55 56 57 58 59 60 61 62 63 64 65 66 70 71 74 80]\n",
      "\t\t- probs: [0.00140056 0.01820728 0.0140056  0.00840336 0.0140056  0.00560224\n",
      "\t 0.00420168 0.00420168 0.00560224 0.01120448 0.00280112 0.00560224\n",
      "\t 0.00140056 0.00280112 0.00980392 0.0070028  0.02380952 0.01820728\n",
      "\t 0.03641457 0.03501401 0.02240896 0.03361345 0.03781513 0.0210084\n",
      "\t 0.04481793 0.03221289 0.02521008 0.02521008 0.03781513 0.0280112\n",
      "\t 0.03781513 0.02380952 0.0280112  0.0210084  0.02240896 0.02521008\n",
      "\t 0.03221289 0.00840336 0.01540616 0.01960784 0.0210084  0.00840336\n",
      "\t 0.01820728 0.0070028  0.01260504 0.01680672 0.0070028  0.01260504\n",
      "\t 0.01260504 0.00840336 0.0140056  0.00980392 0.00840336 0.00140056\n",
      "\t 0.01120448 0.00280112 0.0070028  0.00280112 0.0070028  0.00280112\n",
      "\t 0.00560224 0.00420168 0.00560224 0.00280112 0.00280112 0.00420168\n",
      "\t 0.00140056 0.00420168 0.00280112 0.00140056 0.00140056]\n",
      "\t\n",
      "\n",
      "Column 5: \"Parch\"\n",
      "- Variable Type: discrete\n",
      "- Data Type: Int64\n",
      "- Proportion of Missing Values: 0.0000\n",
      "- Distribution:\n",
      "\t- Type: core.multinoulli\n",
      "\t- Provenance: builtin\n",
      "\t- Parameters:\n",
      "\t\t- labels: [0 1 2 3 4 5 6]\n",
      "\t\t- probs: [0.76094276 0.13243547 0.08978676 0.00561167 0.00448934 0.00561167\n",
      "\t 0.00112233]\n",
      "\t\n",
      "\n",
      "Column 6: \"Ticket\"\n",
      "- Variable Type: string\n",
      "- Data Type: Utf8\n",
      "- Proportion of Missing Values: 0.0000\n",
      "- Distribution:\n",
      "\t- Type: core.regex\n",
      "\t- Provenance: builtin\n",
      "\t- Parameters:\n",
      "\t\t- regex: (|([P][C][ ]|[CA-Z]{1,4}[\\.][A][\\.][ ]))[0-9]{4,6}\n",
      "\t\n",
      "\n",
      "Column 7: \"Fare\"\n",
      "- Variable Type: continuous\n",
      "- Data Type: Float64\n",
      "- Proportion of Missing Values: 0.0000\n",
      "- Distribution:\n",
      "\t- Type: core.exponential\n",
      "\t- Provenance: builtin\n",
      "\t- Parameters:\n",
      "\t\t- rate: 0.03052908440177665\n",
      "\t\n",
      "\n",
      "Column 8: \"Cabin\"\n",
      "- Variable Type: string\n",
      "- Data Type: Utf8\n",
      "- Proportion of Missing Values: 0.7710\n",
      "- Distribution:\n",
      "\t- Type: core.regex\n",
      "\t- Provenance: builtin\n",
      "\t- Parameters:\n",
      "\t\t- regex: [A-Z](|[0-9 ]{1,2}(|(|[ ](|[C][2][5][ ]))[0-9A-Z]{1,3}))\n",
      "\t\n",
      "\n",
      "Column 9: \"Embarked\"\n",
      "- Variable Type: categorical\n",
      "- Data Type: Categorical\n",
      "- Proportion of Missing Values: 0.0022\n",
      "- Distribution:\n",
      "\t- Type: core.multinoulli\n",
      "\t- Provenance: builtin\n",
      "\t- Parameters:\n",
      "\t\t- labels: ['C' 'Q' 'S']\n",
      "\t\t- probs: [0.18897638 0.08661417 0.72440945]\n",
      "\t\n",
      "\n",
      "Column 10: \"Birthday\"\n",
      "- Variable Type: date\n",
      "- Data Type: Date\n",
      "- Proportion of Missing Values: 0.0875\n",
      "- Distribution:\n",
      "\t- Type: core.uniform_date\n",
      "\t- Provenance: builtin\n",
      "\t- Parameters:\n",
      "\t\t- start: 1903-07-28\n",
      "\t\t- end: 1940-05-27\n",
      "\t\n",
      "\n",
      "Column 11: \"Board time\"\n",
      "- Variable Type: time\n",
      "- Data Type: Time\n",
      "- Proportion of Missing Values: 0.0887\n",
      "- Distribution:\n",
      "\t- Type: core.uniform_time\n",
      "\t- Provenance: builtin\n",
      "\t- Parameters:\n",
      "\t\t- start: 10:39:40\n",
      "\t\t- end: 18:39:28\n",
      "\t\t- precision: seconds\n",
      "\t\n",
      "\n",
      "Column 12: \"Married since\"\n",
      "- Variable Type: datetime\n",
      "- Data Type: Datetime(time_unit='us', time_zone=None)\n",
      "- Proportion of Missing Values: 0.1033\n",
      "- Distribution:\n",
      "\t- Type: core.uniform_datetime\n",
      "\t- Provenance: builtin\n",
      "\t- Parameters:\n",
      "\t\t- start: 2022-07-15T12:21:15\n",
      "\t\t- end: 2022-08-15T10:32:05\n",
      "\t\t- precision: seconds\n",
      "\t\n",
      "\n",
      "Column 13: \"all_NA\"\n",
      "- Variable Type: string\n",
      "- Data Type: Utf8\n",
      "- Proportion of Missing Values: 1.0000\n",
      "- Distribution:\n",
      "\t- Type: core.na\n",
      "\t- Provenance: builtin\n",
      "\t- Parameters:\n",
      "\t\n",
      "\t\n",
      "\n",
      "\n"
     ]
    }
   ],
   "source": [
    "print(mf)"
   ]
  },
  {
   "cell_type": "markdown",
   "id": "03b27a95",
   "metadata": {},
   "source": [
    "## Step 3: Exporting the MetaFrame\n",
    "\n",
    "After creating the MetaFrame, Metasyn can serialize and export it into a GMF file using `mf.export()`, passing in the filepath as a parameter.\n",
    "\n",
    "> **GMF files:**\n",
    "> GMF files are JSON files that follow the [Generative Metadata Format (GMF)](https://github.com/sodascience/generative_metadata_format), a format designed to contain statistical metadata for (tabular) datasets that has been designed to be easy to read and understand. This allows users to audit, understand, modify and share their data generation model with ease.\n",
    "\n",
    "More information on exporting and importing MetaFrames can be found on the metasyn docs, [here](https://metasynth.readthedocs.io/en/latest/usage/exporting_metaframes.html)."
   ]
  },
  {
   "cell_type": "code",
   "execution_count": 13,
   "id": "11e355f3",
   "metadata": {},
   "outputs": [],
   "source": [
    "file_path = \"demonstration_metadata.json\"\n",
    "\n",
    "# Serialize and export the MetaFrame to a GMF file\n",
    "mf.export(file_path)"
   ]
  },
  {
   "cell_type": "markdown",
   "id": "3668943ad8bae70c",
   "metadata": {
    "collapsed": false
   },
   "source": [
    "You can now open and read the GMF formatted .json file!"
   ]
  },
  {
   "cell_type": "markdown",
   "id": "fcd16a5a",
   "metadata": {},
   "source": [
    "A (previously exported) GMF file can be imported and loaded into a MetaFrame using the `MetaFrame.from_json()` class method, passing in the file path as a parameter. "
   ]
  },
  {
   "cell_type": "code",
   "execution_count": 14,
   "id": "e16224d388ee51",
   "metadata": {},
   "outputs": [],
   "source": [
    "# Create a MetaFrame based on a GMF (.json) file\n",
    "mf = MetaFrame.from_json(file_path)"
   ]
  },
  {
   "cell_type": "markdown",
   "id": "6571873d",
   "metadata": {
    "collapsed": false
   },
   "source": [
    "## Step 4: Generating synthetic data from a MetaFrame"
   ]
  },
  {
   "cell_type": "markdown",
   "id": "48bc803ba4e76a1c",
   "metadata": {
    "collapsed": false
   },
   "source": [
    "Once a MetaFrame is loaded, synthetic data can be generated from it. The `synthesize` method takes the number of rows to be generated as parameter and returns a DataFrame with the synthetic data.\n",
    "\n",
    "More information on generating synthetic data based on MetaFrames can be found on the metasyn docs, [here](https://metasynth.readthedocs.io/en/latest/usage/generating_synthetic_data.html).\n"
   ]
  },
  {
   "cell_type": "code",
   "execution_count": 15,
   "id": "4ccf451c",
   "metadata": {
    "collapsed": false
   },
   "outputs": [
    {
     "data": {
      "text/html": [
       "<div><style>\n",
       ".dataframe > thead > tr > th,\n",
       ".dataframe > tbody > tr > td {\n",
       "  text-align: right;\n",
       "}\n",
       "</style>\n",
       "<small>shape: (5, 13)</small><table border=\"1\" class=\"dataframe\"><thead><tr><th>PassengerId</th><th>Name</th><th>Sex</th><th>Age</th><th>Parch</th><th>Ticket</th><th>Fare</th><th>Cabin</th><th>Embarked</th><th>Birthday</th><th>Board time</th><th>Married since</th><th>all_NA</th></tr><tr><td>i64</td><td>str</td><td>cat</td><td>i64</td><td>i64</td><td>str</td><td>f64</td><td>str</td><td>cat</td><td>date</td><td>time</td><td>datetime[μs]</td><td>f32</td></tr></thead><tbody><tr><td>432</td><td>&quot;Uvy, Miss. Jop…</td><td>&quot;female&quot;</td><td>23</td><td>0</td><td>&quot;426628&quot;</td><td>0.50295</td><td>null</td><td>&quot;S&quot;</td><td>1921-10-08</td><td>16:34:41</td><td>2022-08-05 01:14:46</td><td>null</td></tr><tr><td>422</td><td>&quot;Hzqybuluy, Mr.…</td><td>&quot;female&quot;</td><td>19</td><td>0</td><td>&quot;4426&quot;</td><td>12.037848</td><td>&quot;C2&quot;</td><td>&quot;S&quot;</td><td>1909-05-11</td><td>18:15:32</td><td>null</td><td>null</td></tr><tr><td>645</td><td>&quot;Vdz, Miss. Ttn…</td><td>&quot;female&quot;</td><td>null</td><td>2</td><td>&quot;346080&quot;</td><td>67.768537</td><td>&quot;X8&quot;</td><td>&quot;S&quot;</td><td>1912-02-05</td><td>14:26:59</td><td>2022-07-24 20:05:30</td><td>null</td></tr><tr><td>417</td><td>&quot;Kurqbf, Mr. Tm…</td><td>&quot;female&quot;</td><td>50</td><td>0</td><td>&quot;28148&quot;</td><td>0.616262</td><td>null</td><td>&quot;S&quot;</td><td>1930-09-23</td><td>17:23:54</td><td>2022-07-25 18:27:00</td><td>null</td></tr><tr><td>786</td><td>&quot;Vome, Mr. Mekc…</td><td>&quot;male&quot;</td><td>45</td><td>2</td><td>&quot;38747&quot;</td><td>0.002768</td><td>null</td><td>&quot;S&quot;</td><td>1937-11-03</td><td>14:16:40</td><td>2022-07-18 15:40:32</td><td>null</td></tr></tbody></table></div>"
      ],
      "text/plain": [
       "shape: (5, 13)\n",
       "┌─────────────┬──────────────┬────────┬──────┬───┬────────────┬────────────┬──────────────┬────────┐\n",
       "│ PassengerId ┆ Name         ┆ Sex    ┆ Age  ┆ … ┆ Birthday   ┆ Board time ┆ Married      ┆ all_NA │\n",
       "│ ---         ┆ ---          ┆ ---    ┆ ---  ┆   ┆ ---        ┆ ---        ┆ since        ┆ ---    │\n",
       "│ i64         ┆ str          ┆ cat    ┆ i64  ┆   ┆ date       ┆ time       ┆ ---          ┆ f32    │\n",
       "│             ┆              ┆        ┆      ┆   ┆            ┆            ┆ datetime[μs] ┆        │\n",
       "╞═════════════╪══════════════╪════════╪══════╪═══╪════════════╪════════════╪══════════════╪════════╡\n",
       "│ 432         ┆ Uvy, Miss.   ┆ female ┆ 23   ┆ … ┆ 1921-10-08 ┆ 16:34:41   ┆ 2022-08-05   ┆ null   │\n",
       "│             ┆ Jopvw Yofqth ┆        ┆      ┆   ┆            ┆            ┆ 01:14:46     ┆        │\n",
       "│ 422         ┆ Hzqybuluy,   ┆ female ┆ 19   ┆ … ┆ 1909-05-11 ┆ 18:15:32   ┆ null         ┆ null   │\n",
       "│             ┆ Mr. Bqpzvg   ┆        ┆      ┆   ┆            ┆            ┆              ┆        │\n",
       "│ 645         ┆ Vdz, Miss.   ┆ female ┆ null ┆ … ┆ 1912-02-05 ┆ 14:26:59   ┆ 2022-07-24   ┆ null   │\n",
       "│             ┆ Ttnpy        ┆        ┆      ┆   ┆            ┆            ┆ 20:05:30     ┆        │\n",
       "│ 417         ┆ Kurqbf, Mr.  ┆ female ┆ 50   ┆ … ┆ 1930-09-23 ┆ 17:23:54   ┆ 2022-07-25   ┆ null   │\n",
       "│             ┆ Tmnz Ordw    ┆        ┆      ┆   ┆            ┆            ┆ 18:27:00     ┆        │\n",
       "│ 786         ┆ Vome, Mr.    ┆ male   ┆ 45   ┆ … ┆ 1937-11-03 ┆ 14:16:40   ┆ 2022-07-18   ┆ null   │\n",
       "│             ┆ Mekcehy      ┆        ┆      ┆   ┆            ┆            ┆ 15:40:32     ┆        │\n",
       "│             ┆ Kbyeqa       ┆        ┆      ┆   ┆            ┆            ┆              ┆        │\n",
       "└─────────────┴──────────────┴────────┴──────┴───┴────────────┴────────────┴──────────────┴────────┘"
      ]
     },
     "execution_count": 15,
     "metadata": {},
     "output_type": "execute_result"
    }
   ],
   "source": [
    "# generate synthetic data\n",
    "mf.synthesize(5)"
   ]
  },
  {
   "cell_type": "markdown",
   "id": "669b1e95",
   "metadata": {},
   "source": [
    "As you can see, the fake data looks a lot like the real data! However, it could still use some improvement. Below, a brief example is shown of such potential manual improvements. If you want to know more about these improvements, take a look at our [advanced tutorial](https://colab.research.google.com/github/sodascience/metasyn/blob/main/examples/advanced_tutorial.ipynb). "
   ]
  },
  {
   "cell_type": "code",
   "execution_count": 17,
   "id": "ac4ba506",
   "metadata": {},
   "outputs": [
    {
     "data": {
      "text/html": [
       "<div><style>\n",
       ".dataframe > thead > tr > th,\n",
       ".dataframe > tbody > tr > td {\n",
       "  text-align: right;\n",
       "}\n",
       "</style>\n",
       "<small>shape: (5, 13)</small><table border=\"1\" class=\"dataframe\"><thead><tr><th>PassengerId</th><th>Name</th><th>Sex</th><th>Age</th><th>Parch</th><th>Ticket</th><th>Fare</th><th>Cabin</th><th>Embarked</th><th>Birthday</th><th>Board time</th><th>Married since</th><th>all_NA</th></tr><tr><td>i64</td><td>str</td><td>cat</td><td>i64</td><td>i64</td><td>str</td><td>f64</td><td>str</td><td>cat</td><td>date</td><td>time</td><td>datetime[μs]</td><td>f32</td></tr></thead><tbody><tr><td>1</td><td>&quot;Christopher Ma…</td><td>&quot;male&quot;</td><td>33</td><td>0</td><td>&quot;7009&quot;</td><td>1.004962</td><td>&quot;A131&quot;</td><td>&quot;C&quot;</td><td>1916-12-03</td><td>12:22:37</td><td>2022-08-10 16:40:02</td><td>null</td></tr><tr><td>2</td><td>&quot;Nicole Crane&quot;</td><td>&quot;male&quot;</td><td>null</td><td>0</td><td>&quot;9323&quot;</td><td>1.071922</td><td>null</td><td>&quot;C&quot;</td><td>1935-01-13</td><td>17:59:27</td><td>null</td><td>null</td></tr><tr><td>3</td><td>&quot;Seth Rojas&quot;</td><td>&quot;male&quot;</td><td>28</td><td>1</td><td>&quot;4588&quot;</td><td>0.331356</td><td>null</td><td>&quot;S&quot;</td><td>1934-09-20</td><td>11:38:14</td><td>2022-08-01 23:53:23</td><td>null</td></tr><tr><td>4</td><td>&quot;Bethany Rosari…</td><td>&quot;female&quot;</td><td>24</td><td>0</td><td>&quot;5690&quot;</td><td>1.396114</td><td>null</td><td>&quot;S&quot;</td><td>1926-10-18</td><td>17:11:01</td><td>2022-07-15 18:10:49</td><td>null</td></tr><tr><td>5</td><td>&quot;Amber Peters&quot;</td><td>&quot;male&quot;</td><td>null</td><td>0</td><td>&quot;808590&quot;</td><td>0.851275</td><td>&quot;F932&quot;</td><td>&quot;S&quot;</td><td>null</td><td>17:39:35</td><td>2022-08-12 13:53:02</td><td>null</td></tr></tbody></table></div>"
      ],
      "text/plain": [
       "shape: (5, 13)\n",
       "┌─────────────┬──────────────┬────────┬──────┬───┬────────────┬────────────┬──────────────┬────────┐\n",
       "│ PassengerId ┆ Name         ┆ Sex    ┆ Age  ┆ … ┆ Birthday   ┆ Board time ┆ Married      ┆ all_NA │\n",
       "│ ---         ┆ ---          ┆ ---    ┆ ---  ┆   ┆ ---        ┆ ---        ┆ since        ┆ ---    │\n",
       "│ i64         ┆ str          ┆ cat    ┆ i64  ┆   ┆ date       ┆ time       ┆ ---          ┆ f32    │\n",
       "│             ┆              ┆        ┆      ┆   ┆            ┆            ┆ datetime[μs] ┆        │\n",
       "╞═════════════╪══════════════╪════════╪══════╪═══╪════════════╪════════════╪══════════════╪════════╡\n",
       "│ 1           ┆ Christopher  ┆ male   ┆ 33   ┆ … ┆ 1916-12-03 ┆ 12:22:37   ┆ 2022-08-10   ┆ null   │\n",
       "│             ┆ Martin       ┆        ┆      ┆   ┆            ┆            ┆ 16:40:02     ┆        │\n",
       "│ 2           ┆ Nicole Crane ┆ male   ┆ null ┆ … ┆ 1935-01-13 ┆ 17:59:27   ┆ null         ┆ null   │\n",
       "│ 3           ┆ Seth Rojas   ┆ male   ┆ 28   ┆ … ┆ 1934-09-20 ┆ 11:38:14   ┆ 2022-08-01   ┆ null   │\n",
       "│             ┆              ┆        ┆      ┆   ┆            ┆            ┆ 23:53:23     ┆        │\n",
       "│ 4           ┆ Bethany      ┆ female ┆ 24   ┆ … ┆ 1926-10-18 ┆ 17:11:01   ┆ 2022-07-15   ┆ null   │\n",
       "│             ┆ Rosario      ┆        ┆      ┆   ┆            ┆            ┆ 18:10:49     ┆        │\n",
       "│ 5           ┆ Amber Peters ┆ male   ┆ null ┆ … ┆ null       ┆ 17:39:35   ┆ 2022-08-12   ┆ null   │\n",
       "│             ┆              ┆        ┆      ┆   ┆            ┆            ┆ 13:53:02     ┆        │\n",
       "└─────────────┴──────────────┴────────┴──────┴───┴────────────┴────────────┴──────────────┴────────┘"
      ]
     },
     "execution_count": 17,
     "metadata": {},
     "output_type": "execute_result"
    }
   ],
   "source": [
    "from metasyn.distribution import LogNormalDistribution, DiscreteUniformDistribution, RegexDistribution, FakerDistribution\n",
    "\n",
    "# Using some advanced features of metasyn\n",
    "var_spec = {\n",
    "    # Ensure that the passengerId column is unique\n",
    "    \"PassengerId\": {\"unique\": True}, \n",
    "    # Use fake names for the name column\n",
    "    \"Name\": {\"distribution\": FakerDistribution(\"name\")}, \n",
    "     # Estimate / fit a lognormal distribution\n",
    "    \"Fare\": {\"distribution\": LogNormalDistribution},\n",
    "    # Manually set a distribution for age \n",
    "    \"Age\": {\"distribution\": DiscreteUniformDistribution(20, 40)},\n",
    "    # Manually set a regex distribution for cabin\n",
    "    \"Cabin\": {\"distribution\": RegexDistribution(r\"[ABCDEF][0-9]{2,3}\")}\n",
    "}\n",
    "\n",
    "# create the high-quality metadata\n",
    "mf = MetaFrame.fit_dataframe(df, spec=var_spec)\n",
    "\n",
    "# generate synthetic data\n",
    "syn_df = mf.synthesize(len(df))\n",
    "syn_df.head()"
   ]
  },
  {
   "cell_type": "markdown",
   "id": "b2068e1d",
   "metadata": {},
   "source": [
    "Now, let's compare the synthetic data to the real data:"
   ]
  },
  {
   "cell_type": "code",
   "execution_count": 18,
   "id": "a857ee6e",
   "metadata": {},
   "outputs": [
    {
     "data": {
      "text/html": [
       "<div><style>\n",
       ".dataframe > thead > tr > th,\n",
       ".dataframe > tbody > tr > td {\n",
       "  text-align: right;\n",
       "}\n",
       "</style>\n",
       "<small>shape: (9, 14)</small><table border=\"1\" class=\"dataframe\"><thead><tr><th>describe</th><th>PassengerId</th><th>Name</th><th>Sex</th><th>Age</th><th>Parch</th><th>Ticket</th><th>Fare</th><th>Cabin</th><th>Embarked</th><th>Birthday</th><th>Board time</th><th>Married since</th><th>all_NA</th></tr><tr><td>str</td><td>f64</td><td>str</td><td>str</td><td>f64</td><td>f64</td><td>str</td><td>f64</td><td>str</td><td>str</td><td>str</td><td>str</td><td>str</td><td>str</td></tr></thead><tbody><tr><td>&quot;count&quot;</td><td>891.0</td><td>&quot;891&quot;</td><td>&quot;891&quot;</td><td>891.0</td><td>891.0</td><td>&quot;891&quot;</td><td>891.0</td><td>&quot;891&quot;</td><td>&quot;891&quot;</td><td>&quot;891&quot;</td><td>&quot;891&quot;</td><td>&quot;891&quot;</td><td>&quot;891&quot;</td></tr><tr><td>&quot;null_count&quot;</td><td>0.0</td><td>&quot;0&quot;</td><td>&quot;0&quot;</td><td>177.0</td><td>0.0</td><td>&quot;0&quot;</td><td>0.0</td><td>&quot;687&quot;</td><td>&quot;2&quot;</td><td>&quot;78&quot;</td><td>&quot;79&quot;</td><td>&quot;92&quot;</td><td>&quot;891&quot;</td></tr><tr><td>&quot;mean&quot;</td><td>446.0</td><td>null</td><td>null</td><td>29.693277</td><td>0.381594</td><td>null</td><td>32.204208</td><td>null</td><td>null</td><td>null</td><td>null</td><td>null</td><td>null</td></tr><tr><td>&quot;std&quot;</td><td>257.353842</td><td>null</td><td>null</td><td>14.524527</td><td>0.806057</td><td>null</td><td>49.693429</td><td>null</td><td>null</td><td>null</td><td>null</td><td>null</td><td>null</td></tr><tr><td>&quot;min&quot;</td><td>1.0</td><td>&quot;Abbing, Mr. An…</td><td>null</td><td>0.0</td><td>0.0</td><td>&quot;110152&quot;</td><td>0.0</td><td>&quot;A10&quot;</td><td>null</td><td>&quot;1903-07-28&quot;</td><td>&quot;38380000000000…</td><td>&quot;2022-07-15 12:…</td><td>null</td></tr><tr><td>&quot;max&quot;</td><td>891.0</td><td>&quot;van Melkebeke,…</td><td>null</td><td>80.0</td><td>6.0</td><td>&quot;WE/P 5735&quot;</td><td>512.3292</td><td>&quot;T&quot;</td><td>null</td><td>&quot;1940-05-27&quot;</td><td>&quot;67168000000000…</td><td>&quot;2022-08-15 10:…</td><td>null</td></tr><tr><td>&quot;median&quot;</td><td>446.0</td><td>null</td><td>null</td><td>28.0</td><td>0.0</td><td>null</td><td>14.4542</td><td>null</td><td>null</td><td>null</td><td>null</td><td>null</td><td>null</td></tr><tr><td>&quot;25%&quot;</td><td>223.0</td><td>null</td><td>null</td><td>20.0</td><td>0.0</td><td>null</td><td>7.8958</td><td>null</td><td>null</td><td>null</td><td>null</td><td>null</td><td>null</td></tr><tr><td>&quot;75%&quot;</td><td>669.0</td><td>null</td><td>null</td><td>38.0</td><td>0.0</td><td>null</td><td>31.0</td><td>null</td><td>null</td><td>null</td><td>null</td><td>null</td><td>null</td></tr></tbody></table></div>"
      ],
      "text/plain": [
       "shape: (9, 14)\n",
       "┌────────────┬───────────┬─────────────┬──────┬───┬────────────┬─────────────┬────────────┬────────┐\n",
       "│ describe   ┆ Passenger ┆ Name        ┆ Sex  ┆ … ┆ Birthday   ┆ Board time  ┆ Married    ┆ all_NA │\n",
       "│ ---        ┆ Id        ┆ ---         ┆ ---  ┆   ┆ ---        ┆ ---         ┆ since      ┆ ---    │\n",
       "│ str        ┆ ---       ┆ str         ┆ str  ┆   ┆ str        ┆ str         ┆ ---        ┆ str    │\n",
       "│            ┆ f64       ┆             ┆      ┆   ┆            ┆             ┆ str        ┆        │\n",
       "╞════════════╪═══════════╪═════════════╪══════╪═══╪════════════╪═════════════╪════════════╪════════╡\n",
       "│ count      ┆ 891.0     ┆ 891         ┆ 891  ┆ … ┆ 891        ┆ 891         ┆ 891        ┆ 891    │\n",
       "│ null_count ┆ 0.0       ┆ 0           ┆ 0    ┆ … ┆ 78         ┆ 79          ┆ 92         ┆ 891    │\n",
       "│ mean       ┆ 446.0     ┆ null        ┆ null ┆ … ┆ null       ┆ null        ┆ null       ┆ null   │\n",
       "│ std        ┆ 257.35384 ┆ null        ┆ null ┆ … ┆ null       ┆ null        ┆ null       ┆ null   │\n",
       "│            ┆ 2         ┆             ┆      ┆   ┆            ┆             ┆            ┆        │\n",
       "│ min        ┆ 1.0       ┆ Abbing, Mr. ┆ null ┆ … ┆ 1903-07-28 ┆ 38380000000 ┆ 2022-07-15 ┆ null   │\n",
       "│            ┆           ┆ Anthony     ┆      ┆   ┆            ┆ 000         ┆ 12:21:15.0 ┆        │\n",
       "│            ┆           ┆             ┆      ┆   ┆            ┆             ┆ 00000      ┆        │\n",
       "│ max        ┆ 891.0     ┆ van         ┆ null ┆ … ┆ 1940-05-27 ┆ 67168000000 ┆ 2022-08-15 ┆ null   │\n",
       "│            ┆           ┆ Melkebeke,  ┆      ┆   ┆            ┆ 000         ┆ 10:32:05.0 ┆        │\n",
       "│            ┆           ┆ Mr.         ┆      ┆   ┆            ┆             ┆ 00000      ┆        │\n",
       "│            ┆           ┆ Philemon    ┆      ┆   ┆            ┆             ┆            ┆        │\n",
       "│ median     ┆ 446.0     ┆ null        ┆ null ┆ … ┆ null       ┆ null        ┆ null       ┆ null   │\n",
       "│ 25%        ┆ 223.0     ┆ null        ┆ null ┆ … ┆ null       ┆ null        ┆ null       ┆ null   │\n",
       "│ 75%        ┆ 669.0     ┆ null        ┆ null ┆ … ┆ null       ┆ null        ┆ null       ┆ null   │\n",
       "└────────────┴───────────┴─────────────┴──────┴───┴────────────┴─────────────┴────────────┴────────┘"
      ]
     },
     "execution_count": 18,
     "metadata": {},
     "output_type": "execute_result"
    }
   ],
   "source": [
    "df.describe()"
   ]
  },
  {
   "cell_type": "code",
   "execution_count": 19,
   "id": "0ba303f3",
   "metadata": {},
   "outputs": [
    {
     "data": {
      "text/html": [
       "<div><style>\n",
       ".dataframe > thead > tr > th,\n",
       ".dataframe > tbody > tr > td {\n",
       "  text-align: right;\n",
       "}\n",
       "</style>\n",
       "<small>shape: (9, 14)</small><table border=\"1\" class=\"dataframe\"><thead><tr><th>describe</th><th>PassengerId</th><th>Name</th><th>Sex</th><th>Age</th><th>Parch</th><th>Ticket</th><th>Fare</th><th>Cabin</th><th>Embarked</th><th>Birthday</th><th>Board time</th><th>Married since</th><th>all_NA</th></tr><tr><td>str</td><td>f64</td><td>str</td><td>str</td><td>f64</td><td>f64</td><td>str</td><td>f64</td><td>str</td><td>str</td><td>str</td><td>str</td><td>str</td><td>f64</td></tr></thead><tbody><tr><td>&quot;count&quot;</td><td>891.0</td><td>&quot;891&quot;</td><td>&quot;891&quot;</td><td>891.0</td><td>891.0</td><td>&quot;891&quot;</td><td>891.0</td><td>&quot;891&quot;</td><td>&quot;891&quot;</td><td>&quot;891&quot;</td><td>&quot;891&quot;</td><td>&quot;891&quot;</td><td>891.0</td></tr><tr><td>&quot;null_count&quot;</td><td>0.0</td><td>&quot;0&quot;</td><td>&quot;0&quot;</td><td>174.0</td><td>0.0</td><td>&quot;0&quot;</td><td>0.0</td><td>&quot;667&quot;</td><td>&quot;1&quot;</td><td>&quot;93&quot;</td><td>&quot;70&quot;</td><td>&quot;83&quot;</td><td>891.0</td></tr><tr><td>&quot;mean&quot;</td><td>446.0</td><td>null</td><td>null</td><td>29.44212</td><td>0.402918</td><td>null</td><td>1.657678</td><td>null</td><td>null</td><td>null</td><td>null</td><td>null</td><td>null</td></tr><tr><td>&quot;std&quot;</td><td>257.353842</td><td>null</td><td>null</td><td>5.587902</td><td>0.888347</td><td>null</td><td>2.0115</td><td>null</td><td>null</td><td>null</td><td>null</td><td>null</td><td>null</td></tr><tr><td>&quot;min&quot;</td><td>1.0</td><td>&quot;Aaron Avila&quot;</td><td>null</td><td>20.0</td><td>0.0</td><td>&quot;0003&quot;</td><td>0.042881</td><td>&quot;A002&quot;</td><td>null</td><td>&quot;1903-08-01&quot;</td><td>&quot;38380000000000…</td><td>&quot;2022-07-15 13:…</td><td>null</td></tr><tr><td>&quot;max&quot;</td><td>891.0</td><td>&quot;Zachary Skinne…</td><td>null</td><td>39.0</td><td>6.0</td><td>&quot;ZP.A. 9850&quot;</td><td>18.589588</td><td>&quot;F96&quot;</td><td>null</td><td>&quot;1940-05-22&quot;</td><td>&quot;67166000000000…</td><td>&quot;2022-08-15 09:…</td><td>null</td></tr><tr><td>&quot;median&quot;</td><td>446.0</td><td>null</td><td>null</td><td>29.0</td><td>0.0</td><td>null</td><td>1.057567</td><td>null</td><td>null</td><td>null</td><td>null</td><td>null</td><td>null</td></tr><tr><td>&quot;25%&quot;</td><td>223.0</td><td>null</td><td>null</td><td>25.0</td><td>0.0</td><td>null</td><td>0.519708</td><td>null</td><td>null</td><td>null</td><td>null</td><td>null</td><td>null</td></tr><tr><td>&quot;75%&quot;</td><td>669.0</td><td>null</td><td>null</td><td>34.0</td><td>0.0</td><td>null</td><td>1.968376</td><td>null</td><td>null</td><td>null</td><td>null</td><td>null</td><td>null</td></tr></tbody></table></div>"
      ],
      "text/plain": [
       "shape: (9, 14)\n",
       "┌────────────┬───────────┬─────────────┬──────┬───┬────────────┬─────────────┬────────────┬────────┐\n",
       "│ describe   ┆ Passenger ┆ Name        ┆ Sex  ┆ … ┆ Birthday   ┆ Board time  ┆ Married    ┆ all_NA │\n",
       "│ ---        ┆ Id        ┆ ---         ┆ ---  ┆   ┆ ---        ┆ ---         ┆ since      ┆ ---    │\n",
       "│ str        ┆ ---       ┆ str         ┆ str  ┆   ┆ str        ┆ str         ┆ ---        ┆ f64    │\n",
       "│            ┆ f64       ┆             ┆      ┆   ┆            ┆             ┆ str        ┆        │\n",
       "╞════════════╪═══════════╪═════════════╪══════╪═══╪════════════╪═════════════╪════════════╪════════╡\n",
       "│ count      ┆ 891.0     ┆ 891         ┆ 891  ┆ … ┆ 891        ┆ 891         ┆ 891        ┆ 891.0  │\n",
       "│ null_count ┆ 0.0       ┆ 0           ┆ 0    ┆ … ┆ 93         ┆ 70          ┆ 83         ┆ 891.0  │\n",
       "│ mean       ┆ 446.0     ┆ null        ┆ null ┆ … ┆ null       ┆ null        ┆ null       ┆ null   │\n",
       "│ std        ┆ 257.35384 ┆ null        ┆ null ┆ … ┆ null       ┆ null        ┆ null       ┆ null   │\n",
       "│            ┆ 2         ┆             ┆      ┆   ┆            ┆             ┆            ┆        │\n",
       "│ min        ┆ 1.0       ┆ Aaron Avila ┆ null ┆ … ┆ 1903-08-01 ┆ 38380000000 ┆ 2022-07-15 ┆ null   │\n",
       "│            ┆           ┆             ┆      ┆   ┆            ┆ 000         ┆ 13:09:35.0 ┆        │\n",
       "│            ┆           ┆             ┆      ┆   ┆            ┆             ┆ 00000      ┆        │\n",
       "│ max        ┆ 891.0     ┆ Zachary     ┆ null ┆ … ┆ 1940-05-22 ┆ 67166000000 ┆ 2022-08-15 ┆ null   │\n",
       "│            ┆           ┆ Skinner     ┆      ┆   ┆            ┆ 000         ┆ 09:01:12.0 ┆        │\n",
       "│            ┆           ┆             ┆      ┆   ┆            ┆             ┆ 00000      ┆        │\n",
       "│ median     ┆ 446.0     ┆ null        ┆ null ┆ … ┆ null       ┆ null        ┆ null       ┆ null   │\n",
       "│ 25%        ┆ 223.0     ┆ null        ┆ null ┆ … ┆ null       ┆ null        ┆ null       ┆ null   │\n",
       "│ 75%        ┆ 669.0     ┆ null        ┆ null ┆ … ┆ null       ┆ null        ┆ null       ┆ null   │\n",
       "└────────────┴───────────┴─────────────┴──────┴───┴────────────┴─────────────┴────────────┴────────┘"
      ]
     },
     "execution_count": 19,
     "metadata": {},
     "output_type": "execute_result"
    }
   ],
   "source": [
    "syn_df.describe()"
   ]
  }
 ],
 "metadata": {
  "kernelspec": {
   "display_name": "Python 3 (ipykernel)",
   "language": "python",
   "name": "python3"
  },
  "language_info": {
   "codemirror_mode": {
    "name": "ipython",
    "version": 3
   },
   "file_extension": ".py",
   "mimetype": "text/x-python",
   "name": "python",
   "nbconvert_exporter": "python",
   "pygments_lexer": "ipython3",
   "version": "3.11.3"
  },
  "vscode": {
   "interpreter": {
    "hash": "fdb1107d616260949a63e5f4e2c5568939cf2f2c0d0d70930ae22d4d9fd1a8a0"
   }
  }
 },
 "nbformat": 4,
 "nbformat_minor": 5
}
