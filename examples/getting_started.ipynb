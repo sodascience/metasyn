{
 "cells": [
  {
   "cell_type": "markdown",
   "id": "816e8dfe9a4ba016",
   "metadata": {},
   "source": [
    "# Advanced Tutorial on metasyn\n",
    "\n",
    "In this tutorial, we will be creating synthetic data using the `metasyn` package.\n",
    "\n",
    "Some advanced features of metasyn will be covered further along the tutorial, such as handling dates, setting distributions, ensuring uniqueness in columns and adding variable descriptions.\n",
    "\n",
    "For more information refer to the [user's guide](https://metasynth.readthedocs.io/en/latest/usage/usage.html) on the docs."
   ]
  },
  {
   "cell_type": "markdown",
   "id": "f5c6597b",
   "metadata": {
    "collapsed": false
   },
   "source": [
    "## Step 0: Install the metasyn package and import required packages"
   ]
  },
  {
   "cell_type": "markdown",
   "id": "ce44185723aaacd",
   "metadata": {
    "collapsed": false
   },
   "source": [
    "First, let's install the metasyn package."
   ]
  },
  {
   "cell_type": "code",
   "execution_count": 1,
   "id": "e4fae59f",
   "metadata": {},
   "outputs": [],
   "source": [
    "# Run the following line to install metasyn\n",
    "# %pip install metasyn"
   ]
  },
  {
   "cell_type": "markdown",
   "id": "58abb192e714247c",
   "metadata": {
    "collapsed": false
   },
   "source": [
    "Now, let's import the required packages."
   ]
  },
  {
   "cell_type": "code",
   "execution_count": 2,
   "id": "2442cb34",
   "metadata": {},
   "outputs": [],
   "source": [
    "# import required packages\n",
    "from pathlib import Path\n",
    "\n",
    "import polars as pl\n",
    "\n",
    "import metasyn as ms\n",
    "from metasyn import MetaFrame, VarSpec, demo_file"
   ]
  },
  {
   "cell_type": "markdown",
   "id": "04466c26",
   "metadata": {},
   "source": [
    "## Step 1: Loading the dataset\n",
    "\n",
    "The first step to create synthetic data is to load your dataset into a DataFrame. For this tutorial, we will be using the [Titanic dataset](https://www.kaggle.com/c/titanic/data), which can easily be accessed through the metasyn `demo_file()` function. \n",
    "\n",
    "It is important to set the data types of columns in the DataFrame correctly, as this will help metasyn to infer the correct distributions for each variable later.\n",
    "\n",
    "\n",
    "> **Note** \n",
    "> In this tutorial we use [Polars](https://pola.rs) to create the DataFrame, as that is what metasyn uses internally. Pandas is also supported, but will automatically be converted to Polars by metasyn. For best results it is recommended to use Polars."
   ]
  },
  {
   "cell_type": "code",
   "execution_count": 3,
   "id": "3c2a44b7",
   "metadata": {},
   "outputs": [
    {
     "data": {
      "text/html": [
       "<div><style>\n",
       ".dataframe > thead > tr,\n",
       ".dataframe > tbody > tr {\n",
       "  text-align: right;\n",
       "  white-space: pre-wrap;\n",
       "}\n",
       "</style>\n",
       "<small>shape: (5, 13)</small><table border=\"1\" class=\"dataframe\"><thead><tr><th>PassengerId</th><th>Name</th><th>Sex</th><th>Age</th><th>Parch</th><th>Ticket</th><th>Fare</th><th>Cabin</th><th>Embarked</th><th>Birthday</th><th>Board time</th><th>Married since</th><th>all_NA</th></tr><tr><td>i64</td><td>str</td><td>cat</td><td>i64</td><td>i64</td><td>str</td><td>f64</td><td>str</td><td>cat</td><td>date</td><td>time</td><td>datetime[μs]</td><td>str</td></tr></thead><tbody><tr><td>1</td><td>&quot;Braund, Mr. Owen Harris&quot;</td><td>&quot;male&quot;</td><td>22</td><td>0</td><td>&quot;A/5 21171&quot;</td><td>7.25</td><td>null</td><td>&quot;S&quot;</td><td>1937-10-28</td><td>15:53:04</td><td>2022-08-05 04:43:34</td><td>null</td></tr><tr><td>2</td><td>&quot;Cumings, Mrs. John Bradley (Fl…</td><td>&quot;female&quot;</td><td>38</td><td>0</td><td>&quot;PC 17599&quot;</td><td>71.2833</td><td>&quot;C85&quot;</td><td>&quot;C&quot;</td><td>null</td><td>12:26:00</td><td>2022-08-07 01:56:33</td><td>null</td></tr><tr><td>3</td><td>&quot;Heikkinen, Miss. Laina&quot;</td><td>&quot;female&quot;</td><td>26</td><td>0</td><td>&quot;STON/O2. 3101282&quot;</td><td>7.925</td><td>null</td><td>&quot;S&quot;</td><td>1931-09-24</td><td>16:08:25</td><td>2022-08-04 20:27:37</td><td>null</td></tr><tr><td>4</td><td>&quot;Futrelle, Mrs. Jacques Heath (…</td><td>&quot;female&quot;</td><td>35</td><td>0</td><td>&quot;113803&quot;</td><td>53.1</td><td>&quot;C123&quot;</td><td>&quot;S&quot;</td><td>1936-11-30</td><td>null</td><td>2022-08-07 07:05:55</td><td>null</td></tr><tr><td>5</td><td>&quot;Allen, Mr. William Henry&quot;</td><td>&quot;male&quot;</td><td>35</td><td>0</td><td>&quot;373450&quot;</td><td>8.05</td><td>null</td><td>&quot;S&quot;</td><td>1918-11-07</td><td>10:59:08</td><td>2022-08-02 15:13:34</td><td>null</td></tr></tbody></table></div>"
      ],
      "text/plain": [
       "shape: (5, 13)\n",
       "┌─────────────┬───────────────┬────────┬─────┬───┬────────────┬────────────┬──────────────┬────────┐\n",
       "│ PassengerId ┆ Name          ┆ Sex    ┆ Age ┆ … ┆ Birthday   ┆ Board time ┆ Married      ┆ all_NA │\n",
       "│ ---         ┆ ---           ┆ ---    ┆ --- ┆   ┆ ---        ┆ ---        ┆ since        ┆ ---    │\n",
       "│ i64         ┆ str           ┆ cat    ┆ i64 ┆   ┆ date       ┆ time       ┆ ---          ┆ str    │\n",
       "│             ┆               ┆        ┆     ┆   ┆            ┆            ┆ datetime[μs] ┆        │\n",
       "╞═════════════╪═══════════════╪════════╪═════╪═══╪════════════╪════════════╪══════════════╪════════╡\n",
       "│ 1           ┆ Braund, Mr.   ┆ male   ┆ 22  ┆ … ┆ 1937-10-28 ┆ 15:53:04   ┆ 2022-08-05   ┆ null   │\n",
       "│             ┆ Owen Harris   ┆        ┆     ┆   ┆            ┆            ┆ 04:43:34     ┆        │\n",
       "│ 2           ┆ Cumings, Mrs. ┆ female ┆ 38  ┆ … ┆ null       ┆ 12:26:00   ┆ 2022-08-07   ┆ null   │\n",
       "│             ┆ John Bradley  ┆        ┆     ┆   ┆            ┆            ┆ 01:56:33     ┆        │\n",
       "│             ┆ (Fl…          ┆        ┆     ┆   ┆            ┆            ┆              ┆        │\n",
       "│ 3           ┆ Heikkinen,    ┆ female ┆ 26  ┆ … ┆ 1931-09-24 ┆ 16:08:25   ┆ 2022-08-04   ┆ null   │\n",
       "│             ┆ Miss. Laina   ┆        ┆     ┆   ┆            ┆            ┆ 20:27:37     ┆        │\n",
       "│ 4           ┆ Futrelle,     ┆ female ┆ 35  ┆ … ┆ 1936-11-30 ┆ null       ┆ 2022-08-07   ┆ null   │\n",
       "│             ┆ Mrs. Jacques  ┆        ┆     ┆   ┆            ┆            ┆ 07:05:55     ┆        │\n",
       "│             ┆ Heath (…      ┆        ┆     ┆   ┆            ┆            ┆              ┆        │\n",
       "│ 5           ┆ Allen, Mr.    ┆ male   ┆ 35  ┆ … ┆ 1918-11-07 ┆ 10:59:08   ┆ 2022-08-02   ┆ null   │\n",
       "│             ┆ William Henry ┆        ┆     ┆   ┆            ┆            ┆ 15:13:34     ┆        │\n",
       "└─────────────┴───────────────┴────────┴─────┴───┴────────────┴────────────┴──────────────┴────────┘"
      ]
     },
     "execution_count": 3,
     "metadata": {},
     "output_type": "execute_result"
    }
   ],
   "source": [
    "# get the demonstration data file\n",
    "csv_path = demo_file(\"titanic\")\n",
    "\n",
    "# ensure columns are of the correct type\n",
    "data_types = {\"Sex\": pl.Categorical, \"Embarked\": pl.Categorical}\n",
    "\n",
    "# read the data from the csv path\n",
    "df, file_format = ms.read_csv(csv_path, schema_overrides=data_types)\n",
    "\n",
    "# check out the data\n",
    "df.head()"
   ]
  },
  {
   "cell_type": "markdown",
   "id": "1e2481d4",
   "metadata": {},
   "source": [
    "We can check the data types of our DataFrame as follows:"
   ]
  },
  {
   "cell_type": "code",
   "execution_count": 4,
   "id": "0a5a1aa2",
   "metadata": {},
   "outputs": [
    {
     "data": {
      "text/plain": [
       "Schema([('PassengerId', Int64),\n",
       "        ('Name', String),\n",
       "        ('Sex', Categorical(ordering='physical')),\n",
       "        ('Age', Int64),\n",
       "        ('Parch', Int64),\n",
       "        ('Ticket', String),\n",
       "        ('Fare', Float64),\n",
       "        ('Cabin', String),\n",
       "        ('Embarked', Categorical(ordering='physical')),\n",
       "        ('Birthday', Date),\n",
       "        ('Board time', Time),\n",
       "        ('Married since', Datetime(time_unit='us', time_zone=None)),\n",
       "        ('all_NA', String)])"
      ]
     },
     "execution_count": 4,
     "metadata": {},
     "output_type": "execute_result"
    }
   ],
   "source": [
    "df.schema"
   ]
  },
  {
   "cell_type": "markdown",
   "id": "2ebde17e",
   "metadata": {},
   "source": [
    "We see that most variables are now nicely specified as strings, categories, dates and ints where necessary. We can get some more information on the DataFrame by calling the `describe()` on it, this will give us some information on the distribution of the variables:  "
   ]
  },
  {
   "cell_type": "code",
   "execution_count": 5,
   "id": "c72c2acb55fca193",
   "metadata": {
    "collapsed": false
   },
   "outputs": [
    {
     "data": {
      "text/html": [
       "<div><style>\n",
       ".dataframe > thead > tr,\n",
       ".dataframe > tbody > tr {\n",
       "  text-align: right;\n",
       "  white-space: pre-wrap;\n",
       "}\n",
       "</style>\n",
       "<small>shape: (9, 14)</small><table border=\"1\" class=\"dataframe\"><thead><tr><th>statistic</th><th>PassengerId</th><th>Name</th><th>Sex</th><th>Age</th><th>Parch</th><th>Ticket</th><th>Fare</th><th>Cabin</th><th>Embarked</th><th>Birthday</th><th>Board time</th><th>Married since</th><th>all_NA</th></tr><tr><td>str</td><td>f64</td><td>str</td><td>str</td><td>f64</td><td>f64</td><td>str</td><td>f64</td><td>str</td><td>str</td><td>str</td><td>str</td><td>str</td><td>str</td></tr></thead><tbody><tr><td>&quot;count&quot;</td><td>891.0</td><td>&quot;891&quot;</td><td>&quot;891&quot;</td><td>714.0</td><td>891.0</td><td>&quot;891&quot;</td><td>891.0</td><td>&quot;204&quot;</td><td>&quot;889&quot;</td><td>&quot;813&quot;</td><td>&quot;812&quot;</td><td>&quot;799&quot;</td><td>&quot;0&quot;</td></tr><tr><td>&quot;null_count&quot;</td><td>0.0</td><td>&quot;0&quot;</td><td>&quot;0&quot;</td><td>177.0</td><td>0.0</td><td>&quot;0&quot;</td><td>0.0</td><td>&quot;687&quot;</td><td>&quot;2&quot;</td><td>&quot;78&quot;</td><td>&quot;79&quot;</td><td>&quot;92&quot;</td><td>&quot;891&quot;</td></tr><tr><td>&quot;mean&quot;</td><td>446.0</td><td>null</td><td>null</td><td>29.693277</td><td>0.381594</td><td>null</td><td>32.204208</td><td>null</td><td>null</td><td>&quot;1921-07-27 22:08:24.798000&quot;</td><td>&quot;14:38:10.014778&quot;</td><td>&quot;2022-07-31 03:43:48.767209&quot;</td><td>null</td></tr><tr><td>&quot;std&quot;</td><td>257.353842</td><td>null</td><td>null</td><td>14.524527</td><td>0.806057</td><td>null</td><td>49.693429</td><td>null</td><td>null</td><td>null</td><td>null</td><td>null</td><td>null</td></tr><tr><td>&quot;min&quot;</td><td>1.0</td><td>&quot;Abbing, Mr. Anthony&quot;</td><td>null</td><td>0.0</td><td>0.0</td><td>&quot;110152&quot;</td><td>0.0</td><td>&quot;A10&quot;</td><td>null</td><td>&quot;1903-07-28&quot;</td><td>&quot;10:39:40&quot;</td><td>&quot;2022-07-15 12:21:15&quot;</td><td>null</td></tr><tr><td>&quot;25%&quot;</td><td>224.0</td><td>null</td><td>null</td><td>20.0</td><td>0.0</td><td>null</td><td>7.925</td><td>null</td><td>null</td><td>&quot;1911-09-18&quot;</td><td>&quot;12:39:02&quot;</td><td>&quot;2022-07-23 11:16:56&quot;</td><td>null</td></tr><tr><td>&quot;50%&quot;</td><td>446.0</td><td>null</td><td>null</td><td>28.0</td><td>0.0</td><td>null</td><td>14.4542</td><td>null</td><td>null</td><td>&quot;1922-03-26&quot;</td><td>&quot;14:29:34&quot;</td><td>&quot;2022-07-31 00:36:56&quot;</td><td>null</td></tr><tr><td>&quot;75%&quot;</td><td>669.0</td><td>null</td><td>null</td><td>38.0</td><td>0.0</td><td>null</td><td>31.0</td><td>null</td><td>null</td><td>&quot;1930-08-29&quot;</td><td>&quot;16:40:12&quot;</td><td>&quot;2022-08-08 03:35:52&quot;</td><td>null</td></tr><tr><td>&quot;max&quot;</td><td>891.0</td><td>&quot;van Melkebeke, Mr. Philemon&quot;</td><td>null</td><td>80.0</td><td>6.0</td><td>&quot;WE/P 5735&quot;</td><td>512.3292</td><td>&quot;T&quot;</td><td>null</td><td>&quot;1940-05-27&quot;</td><td>&quot;18:39:28&quot;</td><td>&quot;2022-08-15 10:32:05&quot;</td><td>null</td></tr></tbody></table></div>"
      ],
      "text/plain": [
       "shape: (9, 14)\n",
       "┌────────────┬─────────────┬────────────┬──────┬───┬────────────┬────────────┬────────────┬────────┐\n",
       "│ statistic  ┆ PassengerId ┆ Name       ┆ Sex  ┆ … ┆ Birthday   ┆ Board time ┆ Married    ┆ all_NA │\n",
       "│ ---        ┆ ---         ┆ ---        ┆ ---  ┆   ┆ ---        ┆ ---        ┆ since      ┆ ---    │\n",
       "│ str        ┆ f64         ┆ str        ┆ str  ┆   ┆ str        ┆ str        ┆ ---        ┆ str    │\n",
       "│            ┆             ┆            ┆      ┆   ┆            ┆            ┆ str        ┆        │\n",
       "╞════════════╪═════════════╪════════════╪══════╪═══╪════════════╪════════════╪════════════╪════════╡\n",
       "│ count      ┆ 891.0       ┆ 891        ┆ 891  ┆ … ┆ 813        ┆ 812        ┆ 799        ┆ 0      │\n",
       "│ null_count ┆ 0.0         ┆ 0          ┆ 0    ┆ … ┆ 78         ┆ 79         ┆ 92         ┆ 891    │\n",
       "│ mean       ┆ 446.0       ┆ null       ┆ null ┆ … ┆ 1921-07-27 ┆ 14:38:10.0 ┆ 2022-07-31 ┆ null   │\n",
       "│            ┆             ┆            ┆      ┆   ┆ 22:08:24.7 ┆ 14778      ┆ 03:43:48.7 ┆        │\n",
       "│            ┆             ┆            ┆      ┆   ┆ 98000      ┆            ┆ 67209      ┆        │\n",
       "│ std        ┆ 257.353842  ┆ null       ┆ null ┆ … ┆ null       ┆ null       ┆ null       ┆ null   │\n",
       "│ min        ┆ 1.0         ┆ Abbing,    ┆ null ┆ … ┆ 1903-07-28 ┆ 10:39:40   ┆ 2022-07-15 ┆ null   │\n",
       "│            ┆             ┆ Mr.        ┆      ┆   ┆            ┆            ┆ 12:21:15   ┆        │\n",
       "│            ┆             ┆ Anthony    ┆      ┆   ┆            ┆            ┆            ┆        │\n",
       "│ 25%        ┆ 224.0       ┆ null       ┆ null ┆ … ┆ 1911-09-18 ┆ 12:39:02   ┆ 2022-07-23 ┆ null   │\n",
       "│            ┆             ┆            ┆      ┆   ┆            ┆            ┆ 11:16:56   ┆        │\n",
       "│ 50%        ┆ 446.0       ┆ null       ┆ null ┆ … ┆ 1922-03-26 ┆ 14:29:34   ┆ 2022-07-31 ┆ null   │\n",
       "│            ┆             ┆            ┆      ┆   ┆            ┆            ┆ 00:36:56   ┆        │\n",
       "│ 75%        ┆ 669.0       ┆ null       ┆ null ┆ … ┆ 1930-08-29 ┆ 16:40:12   ┆ 2022-08-08 ┆ null   │\n",
       "│            ┆             ┆            ┆      ┆   ┆            ┆            ┆ 03:35:52   ┆        │\n",
       "│ max        ┆ 891.0       ┆ van        ┆ null ┆ … ┆ 1940-05-27 ┆ 18:39:28   ┆ 2022-08-15 ┆ null   │\n",
       "│            ┆             ┆ Melkebeke, ┆      ┆   ┆            ┆            ┆ 10:32:05   ┆        │\n",
       "│            ┆             ┆ Mr.        ┆      ┆   ┆            ┆            ┆            ┆        │\n",
       "│            ┆             ┆ Philemon   ┆      ┆   ┆            ┆            ┆            ┆        │\n",
       "└────────────┴─────────────┴────────────┴──────┴───┴────────────┴────────────┴────────────┴────────┘"
      ]
     },
     "execution_count": 5,
     "metadata": {},
     "output_type": "execute_result"
    }
   ],
   "source": [
    "df.describe()"
   ]
  },
  {
   "cell_type": "markdown",
   "id": "13f849ed",
   "metadata": {},
   "source": [
    "## Step 2: Generating a MetaFrame\n",
    "\n",
    "Now that we have properly formatted our DataFrame, we can easily generate a MetaFrame for it. \n",
    "We'll do this without passing in any optional parameters, but later on in this tutorial we will cover how custom parameters can help provide control over the MetaFrame generation process. \n",
    "\n",
    "> **MetaFrames:**\n",
    "> A MetaFrame is an object which captures the essential aspects of the dataset, including variable names, types, data types, the percentage of missing values, and distribution parameters. MetaFrame objects capture all the information needed to generate a synthetic dataset that aligns with the original dataset, without containing any *entries* of the original dataset.\n",
    "\n",
    "More information on generating MetaFrames can be found on the metasyn docs ['generating metaframes'](https://metasynth.readthedocs.io/en/latest/usage/generating_metaframes.html) page."
   ]
  },
  {
   "cell_type": "markdown",
   "id": "98b5d2759a1381f1",
   "metadata": {
    "collapsed": false
   },
   "source": [
    "Generating a MetaFrame is simple, and can be done by simply calling the `MetaFrame.fit_dataframe()` class method, passing in the DataFrame as a parameter."
   ]
  },
  {
   "cell_type": "code",
   "execution_count": 6,
   "id": "e0c58473",
   "metadata": {},
   "outputs": [
    {
     "name": "stderr",
     "output_type": "stream",
     "text": [
      "      all_NA: 100%|██████████| 13/13 [00:03<00:00,  3.25variables/s]\n"
     ]
    }
   ],
   "source": [
    "# Generate and fit a MetaFrame to the DataFrame\n",
    "mf = MetaFrame.fit_dataframe(df, file_format=file_format)"
   ]
  },
  {
   "cell_type": "markdown",
   "id": "1e8a772d",
   "metadata": {},
   "source": [
    "We can use the built-in Python `print` function to display the (statistical) metadata contained in the MetaFrame in an easy-to-read format:"
   ]
  },
  {
   "cell_type": "code",
   "execution_count": 7,
   "id": "abab1b78",
   "metadata": {},
   "outputs": [
    {
     "name": "stdout",
     "output_type": "stream",
     "text": [
      "# Rows: 891\n",
      "# Columns: 13\n",
      "\n",
      "Column 1: \"PassengerId\"\n",
      "- Variable Type: discrete\n",
      "- Data Type: Int64\n",
      "- Proportion of Missing Values: 0.0000\n",
      "- Distribution:\n",
      "\t- Type: core.unique_key\n",
      "\t- Provenance: builtin\n",
      "\t- Parameters:\n",
      "\t\t- lower: 1\n",
      "\t\t- consecutive: True\n",
      "\t\n",
      "\n",
      "Column 2: \"Name\"\n",
      "- Variable Type: string\n",
      "- Data Type: String\n",
      "- Proportion of Missing Values: 0.0000\n",
      "- Distribution:\n",
      "\t- Type: core.freetext\n",
      "\t- Provenance: builtin\n",
      "\t- Parameters:\n",
      "\t\t- locale: EN\n",
      "\t\t- avg_sentences: 2.4691358024691357\n",
      "\t\t- avg_words: 4.093153759820426\n",
      "\t\n",
      "\n",
      "Column 3: \"Sex\"\n",
      "- Variable Type: categorical\n",
      "- Data Type: Categorical(ordering='physical')\n",
      "- Proportion of Missing Values: 0.0000\n",
      "- Distribution:\n",
      "\t- Type: core.multinoulli\n",
      "\t- Provenance: builtin\n",
      "\t- Parameters:\n",
      "\t\t- labels: ['female' 'male']\n",
      "\t\t- probs: [0.35241302 0.64758698]\n",
      "\t\n",
      "\n",
      "Column 4: \"Age\"\n",
      "- Variable Type: discrete\n",
      "- Data Type: Int64\n",
      "- Proportion of Missing Values: 0.1987\n",
      "- Distribution:\n",
      "\t- Type: core.truncated_normal\n",
      "\t- Provenance: builtin\n",
      "\t- Parameters:\n",
      "\t\t- lower: -1e-08\n",
      "\t\t- upper: 80.00000001\n",
      "\t\t- mean: 28.403638823278087\n",
      "\t\t- sd: 15.862325051407092\n",
      "\t\n",
      "\n",
      "Column 5: \"Parch\"\n",
      "- Variable Type: discrete\n",
      "- Data Type: Int64\n",
      "- Proportion of Missing Values: 0.0000\n",
      "- Distribution:\n",
      "\t- Type: core.truncated_normal\n",
      "\t- Provenance: builtin\n",
      "\t- Parameters:\n",
      "\t\t- lower: -1e-08\n",
      "\t\t- upper: 6.00000001\n",
      "\t\t- mean: -380.6440825743838\n",
      "\t\t- sd: 12.066012048277289\n",
      "\t\n",
      "\n",
      "Column 6: \"Ticket\"\n",
      "- Variable Type: string\n",
      "- Data Type: String\n",
      "- Proportion of Missing Values: 0.0000\n",
      "- Distribution:\n",
      "\t- Type: core.regex\n",
      "\t- Provenance: builtin\n",
      "\t- Parameters:\n",
      "\t\t- regex: (|[A-Z]{1,4}(|(\\.A\\.|/[0-9A-Z])) )[0-9]{4,6}\n",
      "\t\n",
      "\n",
      "Column 7: \"Fare\"\n",
      "- Variable Type: continuous\n",
      "- Data Type: Float64\n",
      "- Proportion of Missing Values: 0.0000\n",
      "- Distribution:\n",
      "\t- Type: core.exponential\n",
      "\t- Provenance: builtin\n",
      "\t- Parameters:\n",
      "\t\t- rate: 0.03052908440177665\n",
      "\t\n",
      "\n",
      "Column 8: \"Cabin\"\n",
      "- Variable Type: string\n",
      "- Data Type: String\n",
      "- Proportion of Missing Values: 0.7710\n",
      "- Distribution:\n",
      "\t- Type: core.regex\n",
      "\t- Provenance: builtin\n",
      "\t- Parameters:\n",
      "\t\t- regex: [A-G][0-9 ]{1,3}(|[B-C][0-9]{2}(| [B-C][0-9]{2})|[A-Z][0-9]{2})\n",
      "\t\n",
      "\n",
      "Column 9: \"Embarked\"\n",
      "- Variable Type: categorical\n",
      "- Data Type: Categorical(ordering='physical')\n",
      "- Proportion of Missing Values: 0.0022\n",
      "- Distribution:\n",
      "\t- Type: core.multinoulli\n",
      "\t- Provenance: builtin\n",
      "\t- Parameters:\n",
      "\t\t- labels: ['C' 'Q' 'S']\n",
      "\t\t- probs: [0.18897638 0.08661417 0.72440945]\n",
      "\t\n",
      "\n",
      "Column 10: \"Birthday\"\n",
      "- Variable Type: date\n",
      "- Data Type: Date\n",
      "- Proportion of Missing Values: 0.0875\n",
      "- Distribution:\n",
      "\t- Type: core.uniform\n",
      "\t- Provenance: builtin\n",
      "\t- Parameters:\n",
      "\t\t- lower: 1903-07-28\n",
      "\t\t- upper: 1940-05-27\n",
      "\t\n",
      "\n",
      "Column 11: \"Board time\"\n",
      "- Variable Type: time\n",
      "- Data Type: Time\n",
      "- Proportion of Missing Values: 0.0887\n",
      "- Distribution:\n",
      "\t- Type: core.uniform\n",
      "\t- Provenance: builtin\n",
      "\t- Parameters:\n",
      "\t\t- lower: 10:39:40\n",
      "\t\t- upper: 18:39:28\n",
      "\t\t- precision: seconds\n",
      "\t\n",
      "\n",
      "Column 12: \"Married since\"\n",
      "- Variable Type: datetime\n",
      "- Data Type: Datetime(time_unit='us', time_zone=None)\n",
      "- Proportion of Missing Values: 0.1033\n",
      "- Distribution:\n",
      "\t- Type: core.uniform\n",
      "\t- Provenance: builtin\n",
      "\t- Parameters:\n",
      "\t\t- lower: 2022-07-15T12:21:15\n",
      "\t\t- upper: 2022-08-15T10:32:05\n",
      "\t\t- precision: seconds\n",
      "\t\n",
      "\n",
      "Column 13: \"all_NA\"\n",
      "- Variable Type: string\n",
      "- Data Type: String\n",
      "- Proportion of Missing Values: 1.0000\n",
      "- Distribution:\n",
      "\t- Type: core.na\n",
      "\t- Provenance: builtin\n",
      "\t- Parameters:\n",
      "\t\n",
      "\t\n",
      "\n",
      "\n"
     ]
    }
   ],
   "source": [
    "print(mf)"
   ]
  },
  {
   "cell_type": "markdown",
   "id": "03b27a95",
   "metadata": {},
   "source": [
    "## Step 3: Exporting the MetaFrame\n",
    "\n",
    "After creating the MetaFrame, Metasyn can serialize and save it into a GMF file using `mf.save()`, passing in the filepath as a parameter. \n",
    "\n",
    "\n",
    "> **GMF files:**\n",
    "> GMF files are JSON files that follow the [Generative Metadata Format (GMF)](https://github.com/sodascience/generative_metadata_format), a format designed to contain statistical metadata for (tabular) datasets that has been designed to be easy to read and understand. This allows users to audit, understand, modify and share their data generation model with ease.\n",
    "\n",
    "More information on saving and importing MetaFrames can be found on the metasyn docs ['saving and importing metaframes'](https://metasynth.readthedocs.io/en/latest/usage/saving_metaframes.html) page."
   ]
  },
  {
   "cell_type": "code",
   "execution_count": 8,
   "id": "11e355f3",
   "metadata": {},
   "outputs": [],
   "source": [
    "file_path = Path(\"gmf_files\", \"example_gmf_titanic.json\")\n",
    "\n",
    "# Serialize and save the MetaFrame to a GMF file\n",
    "mf.save(file_path)"
   ]
  },
  {
   "cell_type": "markdown",
   "id": "a79120f6b907d352",
   "metadata": {
    "collapsed": false
   },
   "source": [
    "The GMF file should now be saved to the specified filepath, feel free to open and inspect it!"
   ]
  },
  {
   "cell_type": "markdown",
   "id": "fea40d1407e42ea",
   "metadata": {
    "collapsed": false
   },
   "source": [
    "It's also possible to preview how the saved file would look, without actually saving it to disk. This can be done as follows:"
   ]
  },
  {
   "cell_type": "code",
   "execution_count": 9,
   "id": "2b72d8907ec04999",
   "metadata": {
    "collapsed": false
   },
   "outputs": [
    {
     "name": "stdout",
     "output_type": "stream",
     "text": [
      "MetaFrame: size = (891 x 13) <MetaVar <PassengerId, core.unique_key>, MetaVar <Name, core.freetext>, ...>\n"
     ]
    }
   ],
   "source": [
    "# Get a preview of the GMF file (`repr()`) and print it (`print()`)\n",
    "print(repr(mf))"
   ]
  },
  {
   "cell_type": "markdown",
   "id": "fcd16a5a",
   "metadata": {},
   "source": [
    "A GMF file can be imported and loaded into a MetaFrame using the `MetaFrame.load()` class method, passing in the file path as a parameter. "
   ]
  },
  {
   "cell_type": "code",
   "execution_count": 10,
   "id": "c5eac7eeb3326f03",
   "metadata": {
    "collapsed": false
   },
   "outputs": [],
   "source": [
    "# Create a MetaFrame based on a GMF (.json or .toml) file\n",
    "mf = MetaFrame.load(file_path)"
   ]
  },
  {
   "cell_type": "markdown",
   "id": "6571873d",
   "metadata": {
    "collapsed": false
   },
   "source": [
    "## Step 4: Generating synthetic data"
   ]
  },
  {
   "cell_type": "markdown",
   "id": "85201666a67a73fd",
   "metadata": {
    "collapsed": false
   },
   "source": [
    "Once a MetaFrame is loaded, synthetic data can be generated from it. We can do so by using the the `synthesize` method of the MetaFrame, passing in how many rows the generated data should contain as a parameter. This returns a DataFrame with the synthetic data.\n",
    "\n",
    "More information on generating synthetic data based on MetaFrames can be found on the metasyn docs, [here](https://metasynth.readthedocs.io/en/latest/usage/generating_synthetic_data.html)."
   ]
  },
  {
   "cell_type": "code",
   "execution_count": 11,
   "id": "4ccf451c",
   "metadata": {},
   "outputs": [
    {
     "name": "stderr",
     "output_type": "stream",
     "text": [
      "      all_NA: 100%|██████████| 13/13 [00:00<00:00, 226.44variables/s]\n"
     ]
    }
   ],
   "source": [
    "# generate synthetic data\n",
    "syn_df = mf.synthesize(5)"
   ]
  },
  {
   "cell_type": "markdown",
   "id": "c565073e9dc5ebcc",
   "metadata": {
    "collapsed": false
   },
   "source": [
    "We can now view the synthetic data:"
   ]
  },
  {
   "cell_type": "code",
   "execution_count": 12,
   "id": "f39faa852ccdd5ac",
   "metadata": {
    "collapsed": false
   },
   "outputs": [
    {
     "data": {
      "text/html": [
       "<div><style>\n",
       ".dataframe > thead > tr,\n",
       ".dataframe > tbody > tr {\n",
       "  text-align: right;\n",
       "  white-space: pre-wrap;\n",
       "}\n",
       "</style>\n",
       "<small>shape: (5, 13)</small><table border=\"1\" class=\"dataframe\"><thead><tr><th>PassengerId</th><th>Name</th><th>Sex</th><th>Age</th><th>Parch</th><th>Ticket</th><th>Fare</th><th>Cabin</th><th>Embarked</th><th>Birthday</th><th>Board time</th><th>Married since</th><th>all_NA</th></tr><tr><td>i64</td><td>str</td><td>cat</td><td>i64</td><td>i64</td><td>str</td><td>f64</td><td>str</td><td>cat</td><td>date</td><td>time</td><td>datetime[μs]</td><td>str</td></tr></thead><tbody><tr><td>1</td><td>&quot;Suffer clear force. So improve…</td><td>&quot;male&quot;</td><td>14</td><td>0</td><td>&quot;81748&quot;</td><td>66.810238</td><td>&quot;E299&quot;</td><td>&quot;S&quot;</td><td>1936-08-07</td><td>18:14:11</td><td>2022-08-15 07:52:41</td><td>null</td></tr><tr><td>2</td><td>&quot;Possible. Rate. Water. Togethe…</td><td>&quot;female&quot;</td><td>52</td><td>0</td><td>&quot;MN 3545&quot;</td><td>38.148622</td><td>null</td><td>&quot;S&quot;</td><td>1937-10-18</td><td>14:22:45</td><td>2022-07-17 18:23:46</td><td>null</td></tr><tr><td>3</td><td>&quot;Speech for. Soldier.&quot;</td><td>&quot;male&quot;</td><td>null</td><td>0</td><td>&quot;1390&quot;</td><td>22.039535</td><td>null</td><td>&quot;Q&quot;</td><td>1906-02-03</td><td>14:20:13</td><td>2022-07-23 01:21:59</td><td>null</td></tr><tr><td>4</td><td>&quot;Production energy. Technology …</td><td>&quot;female&quot;</td><td>34</td><td>0</td><td>&quot;63700&quot;</td><td>23.454885</td><td>&quot;G68&quot;</td><td>&quot;S&quot;</td><td>1926-09-27</td><td>17:09:51</td><td>2022-07-25 00:05:09</td><td>null</td></tr><tr><td>5</td><td>&quot;Nature. Still.&quot;</td><td>&quot;male&quot;</td><td>42</td><td>0</td><td>&quot;1853&quot;</td><td>53.361541</td><td>null</td><td>&quot;S&quot;</td><td>1940-05-16</td><td>12:13:01</td><td>2022-08-14 19:17:17</td><td>null</td></tr></tbody></table></div>"
      ],
      "text/plain": [
       "shape: (5, 13)\n",
       "┌─────────────┬──────────────┬────────┬──────┬───┬────────────┬────────────┬──────────────┬────────┐\n",
       "│ PassengerId ┆ Name         ┆ Sex    ┆ Age  ┆ … ┆ Birthday   ┆ Board time ┆ Married      ┆ all_NA │\n",
       "│ ---         ┆ ---          ┆ ---    ┆ ---  ┆   ┆ ---        ┆ ---        ┆ since        ┆ ---    │\n",
       "│ i64         ┆ str          ┆ cat    ┆ i64  ┆   ┆ date       ┆ time       ┆ ---          ┆ str    │\n",
       "│             ┆              ┆        ┆      ┆   ┆            ┆            ┆ datetime[μs] ┆        │\n",
       "╞═════════════╪══════════════╪════════╪══════╪═══╪════════════╪════════════╪══════════════╪════════╡\n",
       "│ 1           ┆ Suffer clear ┆ male   ┆ 14   ┆ … ┆ 1936-08-07 ┆ 18:14:11   ┆ 2022-08-15   ┆ null   │\n",
       "│             ┆ force. So    ┆        ┆      ┆   ┆            ┆            ┆ 07:52:41     ┆        │\n",
       "│             ┆ improve…     ┆        ┆      ┆   ┆            ┆            ┆              ┆        │\n",
       "│ 2           ┆ Possible.    ┆ female ┆ 52   ┆ … ┆ 1937-10-18 ┆ 14:22:45   ┆ 2022-07-17   ┆ null   │\n",
       "│             ┆ Rate. Water. ┆        ┆      ┆   ┆            ┆            ┆ 18:23:46     ┆        │\n",
       "│             ┆ Togethe…     ┆        ┆      ┆   ┆            ┆            ┆              ┆        │\n",
       "│ 3           ┆ Speech for.  ┆ male   ┆ null ┆ … ┆ 1906-02-03 ┆ 14:20:13   ┆ 2022-07-23   ┆ null   │\n",
       "│             ┆ Soldier.     ┆        ┆      ┆   ┆            ┆            ┆ 01:21:59     ┆        │\n",
       "│ 4           ┆ Production   ┆ female ┆ 34   ┆ … ┆ 1926-09-27 ┆ 17:09:51   ┆ 2022-07-25   ┆ null   │\n",
       "│             ┆ energy.      ┆        ┆      ┆   ┆            ┆            ┆ 00:05:09     ┆        │\n",
       "│             ┆ Technology … ┆        ┆      ┆   ┆            ┆            ┆              ┆        │\n",
       "│ 5           ┆ Nature.      ┆ male   ┆ 42   ┆ … ┆ 1940-05-16 ┆ 12:13:01   ┆ 2022-08-14   ┆ null   │\n",
       "│             ┆ Still.       ┆        ┆      ┆   ┆            ┆            ┆ 19:17:17     ┆        │\n",
       "└─────────────┴──────────────┴────────┴──────┴───┴────────────┴────────────┴──────────────┴────────┘"
      ]
     },
     "execution_count": 12,
     "metadata": {},
     "output_type": "execute_result"
    }
   ],
   "source": [
    "syn_df"
   ]
  },
  {
   "cell_type": "markdown",
   "id": "669b1e95",
   "metadata": {},
   "source": [
    "As you can see, the synthetic data looks a lot like the real data! However, it could still use some improvement. In the next sections, we will explore manual changes we can make to improve the quality of the synthetic data."
   ]
  },
  {
   "cell_type": "markdown",
   "id": "e4cfe6cd",
   "metadata": {},
   "source": [
    "## Step 5: Improving the quality of the synthetic data"
   ]
  },
  {
   "cell_type": "markdown",
   "id": "7d77224c9e212c06",
   "metadata": {
    "collapsed": false
   },
   "source": [
    "The `MetaFrame.fit_dataframe()` method allows you to have more control over how your synthetic dataset is generated by passing in an optional `spec` (short for specification) parameter. `spec` is a dictionary that can be used to give metasyn instructions on a per-variable basis, these instructions can range from setting a variable to be unique, to directly setting its distribution. "
   ]
  },
  {
   "cell_type": "markdown",
   "id": "6f884eb7",
   "metadata": {},
   "source": [
    "### Spec: Fake names (and other Faker data types)\n",
    "\n",
    "Currently, the `Name` of the passengers is not quite so well synthesized. The reason is that the string type interpreter in metasyn is designed for `structured` strings (like room numbers such as `B1.09`, `B1.01` or `A1.08`) and not unstructured strings. However, metasyn supports the [faker](https://faker.readthedocs.io/en/master/index.html) package, which includes a lot of data types that it can fake. The columns using faker are not based on the real data at all so they do not disclose any info about the real data.\n",
    "\n",
    "We can specify metasyn to use Faker names for the `Name` column as follows:"
   ]
  },
  {
   "cell_type": "code",
   "execution_count": 13,
   "id": "d5615aa0",
   "metadata": {},
   "outputs": [
    {
     "name": "stderr",
     "output_type": "stream",
     "text": [
      "      all_NA: 100%|██████████| 13/13 [00:01<00:00,  7.50variables/s]\n",
      "      all_NA: 100%|██████████| 13/13 [00:00<00:00, 297.51variables/s]\n"
     ]
    },
    {
     "data": {
      "text/html": [
       "<div><style>\n",
       ".dataframe > thead > tr,\n",
       ".dataframe > tbody > tr {\n",
       "  text-align: right;\n",
       "  white-space: pre-wrap;\n",
       "}\n",
       "</style>\n",
       "<small>shape: (5, 13)</small><table border=\"1\" class=\"dataframe\"><thead><tr><th>PassengerId</th><th>Name</th><th>Sex</th><th>Age</th><th>Parch</th><th>Ticket</th><th>Fare</th><th>Cabin</th><th>Embarked</th><th>Birthday</th><th>Board time</th><th>Married since</th><th>all_NA</th></tr><tr><td>i64</td><td>str</td><td>cat</td><td>i64</td><td>i64</td><td>str</td><td>f64</td><td>str</td><td>cat</td><td>date</td><td>time</td><td>datetime[μs]</td><td>str</td></tr></thead><tbody><tr><td>1</td><td>&quot;Alex Rice&quot;</td><td>&quot;female&quot;</td><td>null</td><td>0</td><td>&quot;5490&quot;</td><td>50.001511</td><td>&quot;E9&quot;</td><td>&quot;C&quot;</td><td>1916-02-20</td><td>16:23:29</td><td>2022-07-30 04:15:57</td><td>null</td></tr><tr><td>2</td><td>&quot;Katherine Mcmillan&quot;</td><td>&quot;male&quot;</td><td>52</td><td>0</td><td>&quot;8516&quot;</td><td>31.539612</td><td>null</td><td>&quot;S&quot;</td><td>1910-05-29</td><td>13:07:09</td><td>2022-08-10 14:39:16</td><td>null</td></tr><tr><td>3</td><td>&quot;Lisa Nelson&quot;</td><td>&quot;male&quot;</td><td>23</td><td>1</td><td>&quot;513001&quot;</td><td>34.798471</td><td>null</td><td>&quot;S&quot;</td><td>1921-03-14</td><td>16:17:10</td><td>2022-07-21 11:35:54</td><td>null</td></tr><tr><td>4</td><td>&quot;Melissa Hill&quot;</td><td>&quot;female&quot;</td><td>null</td><td>0</td><td>&quot;2297&quot;</td><td>7.588679</td><td>null</td><td>&quot;S&quot;</td><td>1913-12-05</td><td>14:01:34</td><td>null</td><td>null</td></tr><tr><td>5</td><td>&quot;Mark Howard&quot;</td><td>&quot;male&quot;</td><td>16</td><td>1</td><td>&quot;76152&quot;</td><td>139.409175</td><td>null</td><td>&quot;C&quot;</td><td>1936-03-21</td><td>17:59:04</td><td>null</td><td>null</td></tr></tbody></table></div>"
      ],
      "text/plain": [
       "shape: (5, 13)\n",
       "┌─────────────┬──────────────┬────────┬──────┬───┬────────────┬────────────┬──────────────┬────────┐\n",
       "│ PassengerId ┆ Name         ┆ Sex    ┆ Age  ┆ … ┆ Birthday   ┆ Board time ┆ Married      ┆ all_NA │\n",
       "│ ---         ┆ ---          ┆ ---    ┆ ---  ┆   ┆ ---        ┆ ---        ┆ since        ┆ ---    │\n",
       "│ i64         ┆ str          ┆ cat    ┆ i64  ┆   ┆ date       ┆ time       ┆ ---          ┆ str    │\n",
       "│             ┆              ┆        ┆      ┆   ┆            ┆            ┆ datetime[μs] ┆        │\n",
       "╞═════════════╪══════════════╪════════╪══════╪═══╪════════════╪════════════╪══════════════╪════════╡\n",
       "│ 1           ┆ Alex Rice    ┆ female ┆ null ┆ … ┆ 1916-02-20 ┆ 16:23:29   ┆ 2022-07-30   ┆ null   │\n",
       "│             ┆              ┆        ┆      ┆   ┆            ┆            ┆ 04:15:57     ┆        │\n",
       "│ 2           ┆ Katherine    ┆ male   ┆ 52   ┆ … ┆ 1910-05-29 ┆ 13:07:09   ┆ 2022-08-10   ┆ null   │\n",
       "│             ┆ Mcmillan     ┆        ┆      ┆   ┆            ┆            ┆ 14:39:16     ┆        │\n",
       "│ 3           ┆ Lisa Nelson  ┆ male   ┆ 23   ┆ … ┆ 1921-03-14 ┆ 16:17:10   ┆ 2022-07-21   ┆ null   │\n",
       "│             ┆              ┆        ┆      ┆   ┆            ┆            ┆ 11:35:54     ┆        │\n",
       "│ 4           ┆ Melissa Hill ┆ female ┆ null ┆ … ┆ 1913-12-05 ┆ 14:01:34   ┆ null         ┆ null   │\n",
       "│ 5           ┆ Mark Howard  ┆ male   ┆ 16   ┆ … ┆ 1936-03-21 ┆ 17:59:04   ┆ null         ┆ null   │\n",
       "└─────────────┴──────────────┴────────┴──────┴───┴────────────┴────────────┴──────────────┴────────┘"
      ]
     },
     "execution_count": 13,
     "metadata": {},
     "output_type": "execute_result"
    }
   ],
   "source": [
    "# First, we create a specification dictionary for the variables\n",
    "from metasyn.distribution import FakerDistribution\n",
    "\n",
    "var_specs = [\n",
    "    VarSpec(\"Name\", distribution=FakerDistribution(\"name\")),\n",
    "]\n",
    "\n",
    "mf = MetaFrame.fit_dataframe(df, var_specs=var_specs)\n",
    "mf.synthesize(5)"
   ]
  },
  {
   "cell_type": "markdown",
   "id": "de1fa66b",
   "metadata": {},
   "source": [
    "That already looks a lot better for the `Name` column!"
   ]
  },
  {
   "cell_type": "markdown",
   "id": "f1b8b5b434fe1f52",
   "metadata": {
    "collapsed": false
   },
   "source": [
    "### Spec: Setting distributions manually\n",
    "\n",
    "Without user input, the distribution chosen for each variable is inferred by choosing the distribution with the best fit from all available distributions for the variable type. However, we can also manually specify which distribution to fit, or simply specify the distribution including the parameters for the variable."
   ]
  },
  {
   "cell_type": "code",
   "execution_count": 14,
   "id": "ac4ba506",
   "metadata": {},
   "outputs": [
    {
     "name": "stderr",
     "output_type": "stream",
     "text": [
      "      all_NA: 100%|██████████| 13/13 [00:01<00:00, 10.54variables/s]\n",
      "      all_NA: 100%|██████████| 13/13 [00:00<00:00, 277.73variables/s]\n"
     ]
    },
    {
     "data": {
      "text/html": [
       "<div><style>\n",
       ".dataframe > thead > tr,\n",
       ".dataframe > tbody > tr {\n",
       "  text-align: right;\n",
       "  white-space: pre-wrap;\n",
       "}\n",
       "</style>\n",
       "<small>shape: (5, 13)</small><table border=\"1\" class=\"dataframe\"><thead><tr><th>PassengerId</th><th>Name</th><th>Sex</th><th>Age</th><th>Parch</th><th>Ticket</th><th>Fare</th><th>Cabin</th><th>Embarked</th><th>Birthday</th><th>Board time</th><th>Married since</th><th>all_NA</th></tr><tr><td>i64</td><td>str</td><td>cat</td><td>i64</td><td>i64</td><td>str</td><td>f64</td><td>str</td><td>cat</td><td>date</td><td>time</td><td>datetime[μs]</td><td>str</td></tr></thead><tbody><tr><td>1</td><td>&quot;Michael Hensley&quot;</td><td>&quot;male&quot;</td><td>null</td><td>0</td><td>&quot;TIFW/Z 5286&quot;</td><td>2.308335</td><td>null</td><td>&quot;S&quot;</td><td>1931-01-08</td><td>13:44:17</td><td>null</td><td>null</td></tr><tr><td>2</td><td>&quot;Matthew Brown&quot;</td><td>&quot;male&quot;</td><td>24</td><td>0</td><td>&quot;84312&quot;</td><td>2.339551</td><td>null</td><td>&quot;S&quot;</td><td>1934-03-15</td><td>17:39:03</td><td>2022-07-23 23:02:44</td><td>null</td></tr><tr><td>3</td><td>&quot;Raymond Clark&quot;</td><td>&quot;male&quot;</td><td>null</td><td>0</td><td>&quot;4963&quot;</td><td>0.49937</td><td>null</td><td>&quot;S&quot;</td><td>1928-12-25</td><td>16:48:01</td><td>2022-07-29 22:23:54</td><td>null</td></tr><tr><td>4</td><td>&quot;Mark Johnson&quot;</td><td>&quot;male&quot;</td><td>23</td><td>0</td><td>&quot;4901&quot;</td><td>0.672487</td><td>null</td><td>&quot;S&quot;</td><td>1918-11-20</td><td>null</td><td>2022-08-15 09:58:48</td><td>null</td></tr><tr><td>5</td><td>&quot;Chris Woodard&quot;</td><td>&quot;female&quot;</td><td>33</td><td>1</td><td>&quot;9390&quot;</td><td>1.404575</td><td>null</td><td>&quot;Q&quot;</td><td>1939-11-07</td><td>17:31:52</td><td>2022-08-15 05:50:35</td><td>null</td></tr></tbody></table></div>"
      ],
      "text/plain": [
       "shape: (5, 13)\n",
       "┌─────────────┬──────────────┬────────┬──────┬───┬────────────┬────────────┬──────────────┬────────┐\n",
       "│ PassengerId ┆ Name         ┆ Sex    ┆ Age  ┆ … ┆ Birthday   ┆ Board time ┆ Married      ┆ all_NA │\n",
       "│ ---         ┆ ---          ┆ ---    ┆ ---  ┆   ┆ ---        ┆ ---        ┆ since        ┆ ---    │\n",
       "│ i64         ┆ str          ┆ cat    ┆ i64  ┆   ┆ date       ┆ time       ┆ ---          ┆ str    │\n",
       "│             ┆              ┆        ┆      ┆   ┆            ┆            ┆ datetime[μs] ┆        │\n",
       "╞═════════════╪══════════════╪════════╪══════╪═══╪════════════╪════════════╪══════════════╪════════╡\n",
       "│ 1           ┆ Michael      ┆ male   ┆ null ┆ … ┆ 1931-01-08 ┆ 13:44:17   ┆ null         ┆ null   │\n",
       "│             ┆ Hensley      ┆        ┆      ┆   ┆            ┆            ┆              ┆        │\n",
       "│ 2           ┆ Matthew      ┆ male   ┆ 24   ┆ … ┆ 1934-03-15 ┆ 17:39:03   ┆ 2022-07-23   ┆ null   │\n",
       "│             ┆ Brown        ┆        ┆      ┆   ┆            ┆            ┆ 23:02:44     ┆        │\n",
       "│ 3           ┆ Raymond      ┆ male   ┆ null ┆ … ┆ 1928-12-25 ┆ 16:48:01   ┆ 2022-07-29   ┆ null   │\n",
       "│             ┆ Clark        ┆        ┆      ┆   ┆            ┆            ┆ 22:23:54     ┆        │\n",
       "│ 4           ┆ Mark Johnson ┆ male   ┆ 23   ┆ … ┆ 1918-11-20 ┆ null       ┆ 2022-08-15   ┆ null   │\n",
       "│             ┆              ┆        ┆      ┆   ┆            ┆            ┆ 09:58:48     ┆        │\n",
       "│ 5           ┆ Chris        ┆ female ┆ 33   ┆ … ┆ 1939-11-07 ┆ 17:31:52   ┆ 2022-08-15   ┆ null   │\n",
       "│             ┆ Woodard      ┆        ┆      ┆   ┆            ┆            ┆ 05:50:35     ┆        │\n",
       "└─────────────┴──────────────┴────────┴──────┴───┴────────────┴────────────┴──────────────┴────────┘"
      ]
     },
     "execution_count": 14,
     "metadata": {},
     "output_type": "execute_result"
    }
   ],
   "source": [
    "from metasyn.distribution import DiscreteUniformDistribution\n",
    "\n",
    "var_specs = [\n",
    "    VarSpec(\"Name\", distribution=FakerDistribution(\"name\")),\n",
    "    VarSpec(\"Fare\", distribution=\"lognormal\"), # estimate / fit an exponential distribution based on the data\n",
    "    VarSpec(\"Age\", distribution=DiscreteUniformDistribution(20, 40)) # fully specify a distribution for age (uniform between 20 and 40)\n",
    "]\n",
    "\n",
    "mf = MetaFrame.fit_dataframe(df, var_specs=var_specs)\n",
    "mf.synthesize(5)"
   ]
  },
  {
   "cell_type": "markdown",
   "id": "2897133c",
   "metadata": {},
   "source": [
    "### Spec: Specifying the distribution of structured strings\n",
    "\n",
    "For more or less structured strings, we can manually set the structure of the strings based on regular expressions. For example, we see that most Cabins are structured like [A-F] and then 2 or 3 digit numbers. We can include this as follows:"
   ]
  },
  {
   "cell_type": "code",
   "execution_count": 15,
   "id": "7b2c4003",
   "metadata": {},
   "outputs": [
    {
     "name": "stderr",
     "output_type": "stream",
     "text": [
      "      all_NA: 100%|██████████| 13/13 [00:01<00:00, 12.89variables/s]\n",
      "      all_NA: 100%|██████████| 13/13 [00:00<00:00, 296.20variables/s]\n"
     ]
    },
    {
     "data": {
      "text/html": [
       "<div><style>\n",
       ".dataframe > thead > tr,\n",
       ".dataframe > tbody > tr {\n",
       "  text-align: right;\n",
       "  white-space: pre-wrap;\n",
       "}\n",
       "</style>\n",
       "<small>shape: (10, 13)</small><table border=\"1\" class=\"dataframe\"><thead><tr><th>PassengerId</th><th>Name</th><th>Sex</th><th>Age</th><th>Parch</th><th>Ticket</th><th>Fare</th><th>Cabin</th><th>Embarked</th><th>Birthday</th><th>Board time</th><th>Married since</th><th>all_NA</th></tr><tr><td>i64</td><td>str</td><td>cat</td><td>i64</td><td>i64</td><td>str</td><td>f64</td><td>str</td><td>cat</td><td>date</td><td>time</td><td>datetime[μs]</td><td>str</td></tr></thead><tbody><tr><td>1</td><td>&quot;Lauren Franklin&quot;</td><td>&quot;male&quot;</td><td>29</td><td>0</td><td>&quot;64616&quot;</td><td>0.631105</td><td>&quot;B78&quot;</td><td>&quot;S&quot;</td><td>1916-10-08</td><td>16:55:30</td><td>2022-07-18 14:55:39</td><td>null</td></tr><tr><td>2</td><td>&quot;Savannah Richardson&quot;</td><td>&quot;male&quot;</td><td>28</td><td>0</td><td>&quot;9687&quot;</td><td>1.681983</td><td>null</td><td>&quot;S&quot;</td><td>1905-04-20</td><td>16:57:50</td><td>2022-08-11 04:53:47</td><td>null</td></tr><tr><td>3</td><td>&quot;Erica Alvarez&quot;</td><td>&quot;female&quot;</td><td>33</td><td>0</td><td>&quot;321041&quot;</td><td>1.49118</td><td>null</td><td>&quot;S&quot;</td><td>1935-04-04</td><td>13:16:23</td><td>2022-07-23 08:10:04</td><td>null</td></tr><tr><td>4</td><td>&quot;John Burns&quot;</td><td>&quot;female&quot;</td><td>32</td><td>0</td><td>&quot;72347&quot;</td><td>0.929426</td><td>null</td><td>&quot;S&quot;</td><td>1910-02-26</td><td>14:44:05</td><td>2022-08-15 05:32:37</td><td>null</td></tr><tr><td>5</td><td>&quot;Brandy Soto&quot;</td><td>&quot;female&quot;</td><td>null</td><td>0</td><td>&quot;4829&quot;</td><td>1.347213</td><td>&quot;F869&quot;</td><td>&quot;S&quot;</td><td>1924-03-25</td><td>16:56:06</td><td>2022-08-02 13:23:26</td><td>null</td></tr><tr><td>6</td><td>&quot;Paula Horne&quot;</td><td>&quot;female&quot;</td><td>22</td><td>1</td><td>&quot;E.A. 1782&quot;</td><td>0.342326</td><td>null</td><td>&quot;Q&quot;</td><td>1903-10-06</td><td>17:05:15</td><td>2022-08-14 00:58:57</td><td>null</td></tr><tr><td>7</td><td>&quot;Steven Brock&quot;</td><td>&quot;female&quot;</td><td>28</td><td>0</td><td>&quot;QC 83251&quot;</td><td>4.180696</td><td>null</td><td>&quot;S&quot;</td><td>1920-03-14</td><td>13:19:20</td><td>2022-07-29 07:12:24</td><td>null</td></tr><tr><td>8</td><td>&quot;Matthew Moran&quot;</td><td>&quot;male&quot;</td><td>30</td><td>0</td><td>&quot;21145&quot;</td><td>1.498744</td><td>null</td><td>&quot;Q&quot;</td><td>1918-04-23</td><td>10:54:35</td><td>2022-08-13 23:06:45</td><td>null</td></tr><tr><td>9</td><td>&quot;Adam Smith&quot;</td><td>&quot;male&quot;</td><td>33</td><td>0</td><td>&quot;2073&quot;</td><td>0.391069</td><td>null</td><td>&quot;Q&quot;</td><td>1904-10-17</td><td>11:22:05</td><td>2022-08-13 06:41:20</td><td>null</td></tr><tr><td>10</td><td>&quot;Paul Adams&quot;</td><td>&quot;male&quot;</td><td>32</td><td>0</td><td>&quot;3575&quot;</td><td>1.775952</td><td>null</td><td>&quot;S&quot;</td><td>1908-05-27</td><td>12:56:05</td><td>2022-07-21 19:37:40</td><td>null</td></tr></tbody></table></div>"
      ],
      "text/plain": [
       "shape: (10, 13)\n",
       "┌─────────────┬──────────────┬────────┬──────┬───┬────────────┬────────────┬──────────────┬────────┐\n",
       "│ PassengerId ┆ Name         ┆ Sex    ┆ Age  ┆ … ┆ Birthday   ┆ Board time ┆ Married      ┆ all_NA │\n",
       "│ ---         ┆ ---          ┆ ---    ┆ ---  ┆   ┆ ---        ┆ ---        ┆ since        ┆ ---    │\n",
       "│ i64         ┆ str          ┆ cat    ┆ i64  ┆   ┆ date       ┆ time       ┆ ---          ┆ str    │\n",
       "│             ┆              ┆        ┆      ┆   ┆            ┆            ┆ datetime[μs] ┆        │\n",
       "╞═════════════╪══════════════╪════════╪══════╪═══╪════════════╪════════════╪══════════════╪════════╡\n",
       "│ 1           ┆ Lauren       ┆ male   ┆ 29   ┆ … ┆ 1916-10-08 ┆ 16:55:30   ┆ 2022-07-18   ┆ null   │\n",
       "│             ┆ Franklin     ┆        ┆      ┆   ┆            ┆            ┆ 14:55:39     ┆        │\n",
       "│ 2           ┆ Savannah     ┆ male   ┆ 28   ┆ … ┆ 1905-04-20 ┆ 16:57:50   ┆ 2022-08-11   ┆ null   │\n",
       "│             ┆ Richardson   ┆        ┆      ┆   ┆            ┆            ┆ 04:53:47     ┆        │\n",
       "│ 3           ┆ Erica        ┆ female ┆ 33   ┆ … ┆ 1935-04-04 ┆ 13:16:23   ┆ 2022-07-23   ┆ null   │\n",
       "│             ┆ Alvarez      ┆        ┆      ┆   ┆            ┆            ┆ 08:10:04     ┆        │\n",
       "│ 4           ┆ John Burns   ┆ female ┆ 32   ┆ … ┆ 1910-02-26 ┆ 14:44:05   ┆ 2022-08-15   ┆ null   │\n",
       "│             ┆              ┆        ┆      ┆   ┆            ┆            ┆ 05:32:37     ┆        │\n",
       "│ 5           ┆ Brandy Soto  ┆ female ┆ null ┆ … ┆ 1924-03-25 ┆ 16:56:06   ┆ 2022-08-02   ┆ null   │\n",
       "│             ┆              ┆        ┆      ┆   ┆            ┆            ┆ 13:23:26     ┆        │\n",
       "│ 6           ┆ Paula Horne  ┆ female ┆ 22   ┆ … ┆ 1903-10-06 ┆ 17:05:15   ┆ 2022-08-14   ┆ null   │\n",
       "│             ┆              ┆        ┆      ┆   ┆            ┆            ┆ 00:58:57     ┆        │\n",
       "│ 7           ┆ Steven Brock ┆ female ┆ 28   ┆ … ┆ 1920-03-14 ┆ 13:19:20   ┆ 2022-07-29   ┆ null   │\n",
       "│             ┆              ┆        ┆      ┆   ┆            ┆            ┆ 07:12:24     ┆        │\n",
       "│ 8           ┆ Matthew      ┆ male   ┆ 30   ┆ … ┆ 1918-04-23 ┆ 10:54:35   ┆ 2022-08-13   ┆ null   │\n",
       "│             ┆ Moran        ┆        ┆      ┆   ┆            ┆            ┆ 23:06:45     ┆        │\n",
       "│ 9           ┆ Adam Smith   ┆ male   ┆ 33   ┆ … ┆ 1904-10-17 ┆ 11:22:05   ┆ 2022-08-13   ┆ null   │\n",
       "│             ┆              ┆        ┆      ┆   ┆            ┆            ┆ 06:41:20     ┆        │\n",
       "│ 10          ┆ Paul Adams   ┆ male   ┆ 32   ┆ … ┆ 1908-05-27 ┆ 12:56:05   ┆ 2022-07-21   ┆ null   │\n",
       "│             ┆              ┆        ┆      ┆   ┆            ┆            ┆ 19:37:40     ┆        │\n",
       "└─────────────┴──────────────┴────────┴──────┴───┴────────────┴────────────┴──────────────┴────────┘"
      ]
     },
     "execution_count": 15,
     "metadata": {},
     "output_type": "execute_result"
    }
   ],
   "source": [
    "from metasyn.distribution import RegexDistribution\n",
    "\n",
    "# To create a regex distribution, you need a list of tuples, where each tuple is an element.\n",
    "# The first part of the tuple is a string representation of the regex, while the second is the proportion of the\n",
    "# time the regex element is used.\n",
    "cabin_distribution = RegexDistribution(r\"[A-F][0-9]{2,3}\")  # Add the r so that it becomes a literal string.\n",
    "# just for completeness: data generated from this distribution will always match the regex [A-F]?(\\d{2,3})?\n",
    "\n",
    "\n",
    "var_specs = [\n",
    "    VarSpec(\"Name\", distribution=FakerDistribution(\"name\")),\n",
    "    VarSpec(\"Fare\", distribution=\"lognormal\"), # estimate / fit an exponential distribution based on the data\n",
    "    VarSpec(\"Age\", distribution=DiscreteUniformDistribution(20, 40)), # fully specify a distribution for age (uniform between 20 and 40)\n",
    "    VarSpec(\"Cabin\", distribution=cabin_distribution),  # Use our previously defined distribution\n",
    "]\n",
    "\n",
    "mf = MetaFrame.fit_dataframe(df, var_specs=var_specs, file_format=file_format)\n",
    "mf.synthesize(10)"
   ]
  },
  {
   "cell_type": "markdown",
   "id": "93499251",
   "metadata": {},
   "source": [
    "## Step 6: Comparing the final synthetic dataset to the original"
   ]
  },
  {
   "cell_type": "markdown",
   "id": "b2068e1d",
   "metadata": {},
   "source": [
    "Let's first compare the averages of the numerical columns:"
   ]
  },
  {
   "cell_type": "code",
   "execution_count": 16,
   "id": "a857ee6e",
   "metadata": {},
   "outputs": [
    {
     "data": {
      "text/html": [
       "<div><style>\n",
       ".dataframe > thead > tr,\n",
       ".dataframe > tbody > tr {\n",
       "  text-align: right;\n",
       "  white-space: pre-wrap;\n",
       "}\n",
       "</style>\n",
       "<small>shape: (1, 13)</small><table border=\"1\" class=\"dataframe\"><thead><tr><th>PassengerId</th><th>Name</th><th>Sex</th><th>Age</th><th>Parch</th><th>Ticket</th><th>Fare</th><th>Cabin</th><th>Embarked</th><th>Birthday</th><th>Board time</th><th>Married since</th><th>all_NA</th></tr><tr><td>f64</td><td>str</td><td>cat</td><td>f64</td><td>f64</td><td>str</td><td>f64</td><td>str</td><td>cat</td><td>datetime[ms]</td><td>time</td><td>datetime[μs]</td><td>str</td></tr></thead><tbody><tr><td>446.0</td><td>null</td><td>null</td><td>29.693277</td><td>0.381594</td><td>null</td><td>32.204208</td><td>null</td><td>null</td><td>1921-07-27 22:08:24.798</td><td>14:38:10.014778325</td><td>2022-07-31 03:43:48.767209</td><td>null</td></tr></tbody></table></div>"
      ],
      "text/plain": [
       "shape: (1, 13)\n",
       "┌─────────────┬──────┬──────┬───────────┬───┬───────────────┬──────────────┬──────────────┬────────┐\n",
       "│ PassengerId ┆ Name ┆ Sex  ┆ Age       ┆ … ┆ Birthday      ┆ Board time   ┆ Married      ┆ all_NA │\n",
       "│ ---         ┆ ---  ┆ ---  ┆ ---       ┆   ┆ ---           ┆ ---          ┆ since        ┆ ---    │\n",
       "│ f64         ┆ str  ┆ cat  ┆ f64       ┆   ┆ datetime[ms]  ┆ time         ┆ ---          ┆ str    │\n",
       "│             ┆      ┆      ┆           ┆   ┆               ┆              ┆ datetime[μs] ┆        │\n",
       "╞═════════════╪══════╪══════╪═══════════╪═══╪═══════════════╪══════════════╪══════════════╪════════╡\n",
       "│ 446.0       ┆ null ┆ null ┆ 29.693277 ┆ … ┆ 1921-07-27    ┆ 14:38:10.014 ┆ 2022-07-31   ┆ null   │\n",
       "│             ┆      ┆      ┆           ┆   ┆ 22:08:24.798  ┆ 778325       ┆ 03:43:48.767 ┆        │\n",
       "│             ┆      ┆      ┆           ┆   ┆               ┆              ┆ 209          ┆        │\n",
       "└─────────────┴──────┴──────┴───────────┴───┴───────────────┴──────────────┴──────────────┴────────┘"
      ]
     },
     "execution_count": 16,
     "metadata": {},
     "output_type": "execute_result"
    }
   ],
   "source": [
    "df.mean()"
   ]
  },
  {
   "cell_type": "code",
   "execution_count": 17,
   "id": "0ba303f3",
   "metadata": {},
   "outputs": [
    {
     "name": "stderr",
     "output_type": "stream",
     "text": [
      "      all_NA: 100%|██████████| 13/13 [00:00<00:00, 23.21variables/s]\n"
     ]
    },
    {
     "data": {
      "text/html": [
       "<div><style>\n",
       ".dataframe > thead > tr,\n",
       ".dataframe > tbody > tr {\n",
       "  text-align: right;\n",
       "  white-space: pre-wrap;\n",
       "}\n",
       "</style>\n",
       "<small>shape: (1, 13)</small><table border=\"1\" class=\"dataframe\"><thead><tr><th>PassengerId</th><th>Name</th><th>Sex</th><th>Age</th><th>Parch</th><th>Ticket</th><th>Fare</th><th>Cabin</th><th>Embarked</th><th>Birthday</th><th>Board time</th><th>Married since</th><th>all_NA</th></tr><tr><td>f64</td><td>str</td><td>cat</td><td>f64</td><td>f64</td><td>str</td><td>f64</td><td>str</td><td>cat</td><td>datetime[ms]</td><td>time</td><td>datetime[μs]</td><td>str</td></tr></thead><tbody><tr><td>446.0</td><td>null</td><td>null</td><td>29.581818</td><td>0.076319</td><td>null</td><td>1.581827</td><td>null</td><td>null</td><td>1922-01-16 08:43:38.182</td><td>14:40:28.820987654</td><td>2022-07-30 16:39:34.238394</td><td>null</td></tr></tbody></table></div>"
      ],
      "text/plain": [
       "shape: (1, 13)\n",
       "┌─────────────┬──────┬──────┬───────────┬───┬───────────────┬──────────────┬──────────────┬────────┐\n",
       "│ PassengerId ┆ Name ┆ Sex  ┆ Age       ┆ … ┆ Birthday      ┆ Board time   ┆ Married      ┆ all_NA │\n",
       "│ ---         ┆ ---  ┆ ---  ┆ ---       ┆   ┆ ---           ┆ ---          ┆ since        ┆ ---    │\n",
       "│ f64         ┆ str  ┆ cat  ┆ f64       ┆   ┆ datetime[ms]  ┆ time         ┆ ---          ┆ str    │\n",
       "│             ┆      ┆      ┆           ┆   ┆               ┆              ┆ datetime[μs] ┆        │\n",
       "╞═════════════╪══════╪══════╪═══════════╪═══╪═══════════════╪══════════════╪══════════════╪════════╡\n",
       "│ 446.0       ┆ null ┆ null ┆ 29.581818 ┆ … ┆ 1922-01-16    ┆ 14:40:28.820 ┆ 2022-07-30   ┆ null   │\n",
       "│             ┆      ┆      ┆           ┆   ┆ 08:43:38.182  ┆ 987654       ┆ 16:39:34.238 ┆        │\n",
       "│             ┆      ┆      ┆           ┆   ┆               ┆              ┆ 394          ┆        │\n",
       "└─────────────┴──────┴──────┴───────────┴───┴───────────────┴──────────────┴──────────────┴────────┘"
      ]
     },
     "execution_count": 17,
     "metadata": {},
     "output_type": "execute_result"
    }
   ],
   "source": [
    "mf.synthesize().mean()"
   ]
  },
  {
   "cell_type": "markdown",
   "id": "89dfda1b",
   "metadata": {},
   "source": [
    "Then, we can also see how many missing values are in each column"
   ]
  },
  {
   "cell_type": "code",
   "execution_count": 18,
   "id": "c6ca2918",
   "metadata": {},
   "outputs": [
    {
     "data": {
      "text/html": [
       "<div><style>\n",
       ".dataframe > thead > tr,\n",
       ".dataframe > tbody > tr {\n",
       "  text-align: right;\n",
       "  white-space: pre-wrap;\n",
       "}\n",
       "</style>\n",
       "<small>shape: (1, 13)</small><table border=\"1\" class=\"dataframe\"><thead><tr><th>PassengerId</th><th>Name</th><th>Sex</th><th>Age</th><th>Parch</th><th>Ticket</th><th>Fare</th><th>Cabin</th><th>Embarked</th><th>Birthday</th><th>Board time</th><th>Married since</th><th>all_NA</th></tr><tr><td>u32</td><td>u32</td><td>u32</td><td>u32</td><td>u32</td><td>u32</td><td>u32</td><td>u32</td><td>u32</td><td>u32</td><td>u32</td><td>u32</td><td>u32</td></tr></thead><tbody><tr><td>0</td><td>0</td><td>0</td><td>177</td><td>0</td><td>0</td><td>0</td><td>687</td><td>2</td><td>78</td><td>79</td><td>92</td><td>891</td></tr></tbody></table></div>"
      ],
      "text/plain": [
       "shape: (1, 13)\n",
       "┌─────────────┬──────┬─────┬─────┬───┬──────────┬────────────┬───────────────┬────────┐\n",
       "│ PassengerId ┆ Name ┆ Sex ┆ Age ┆ … ┆ Birthday ┆ Board time ┆ Married since ┆ all_NA │\n",
       "│ ---         ┆ ---  ┆ --- ┆ --- ┆   ┆ ---      ┆ ---        ┆ ---           ┆ ---    │\n",
       "│ u32         ┆ u32  ┆ u32 ┆ u32 ┆   ┆ u32      ┆ u32        ┆ u32           ┆ u32    │\n",
       "╞═════════════╪══════╪═════╪═════╪═══╪══════════╪════════════╪═══════════════╪════════╡\n",
       "│ 0           ┆ 0    ┆ 0   ┆ 177 ┆ … ┆ 78       ┆ 79         ┆ 92            ┆ 891    │\n",
       "└─────────────┴──────┴─────┴─────┴───┴──────────┴────────────┴───────────────┴────────┘"
      ]
     },
     "execution_count": 18,
     "metadata": {},
     "output_type": "execute_result"
    }
   ],
   "source": [
    "df.null_count()"
   ]
  },
  {
   "cell_type": "code",
   "execution_count": 19,
   "id": "1dd596fb",
   "metadata": {},
   "outputs": [
    {
     "name": "stderr",
     "output_type": "stream",
     "text": [
      "      all_NA: 100%|██████████| 13/13 [00:00<00:00, 23.14variables/s]\n"
     ]
    },
    {
     "data": {
      "text/html": [
       "<div><style>\n",
       ".dataframe > thead > tr,\n",
       ".dataframe > tbody > tr {\n",
       "  text-align: right;\n",
       "  white-space: pre-wrap;\n",
       "}\n",
       "</style>\n",
       "<small>shape: (1, 13)</small><table border=\"1\" class=\"dataframe\"><thead><tr><th>PassengerId</th><th>Name</th><th>Sex</th><th>Age</th><th>Parch</th><th>Ticket</th><th>Fare</th><th>Cabin</th><th>Embarked</th><th>Birthday</th><th>Board time</th><th>Married since</th><th>all_NA</th></tr><tr><td>u32</td><td>u32</td><td>u32</td><td>u32</td><td>u32</td><td>u32</td><td>u32</td><td>u32</td><td>u32</td><td>u32</td><td>u32</td><td>u32</td><td>u32</td></tr></thead><tbody><tr><td>0</td><td>0</td><td>0</td><td>195</td><td>0</td><td>0</td><td>0</td><td>689</td><td>3</td><td>79</td><td>75</td><td>91</td><td>891</td></tr></tbody></table></div>"
      ],
      "text/plain": [
       "shape: (1, 13)\n",
       "┌─────────────┬──────┬─────┬─────┬───┬──────────┬────────────┬───────────────┬────────┐\n",
       "│ PassengerId ┆ Name ┆ Sex ┆ Age ┆ … ┆ Birthday ┆ Board time ┆ Married since ┆ all_NA │\n",
       "│ ---         ┆ ---  ┆ --- ┆ --- ┆   ┆ ---      ┆ ---        ┆ ---           ┆ ---    │\n",
       "│ u32         ┆ u32  ┆ u32 ┆ u32 ┆   ┆ u32      ┆ u32        ┆ u32           ┆ u32    │\n",
       "╞═════════════╪══════╪═════╪═════╪═══╪══════════╪════════════╪═══════════════╪════════╡\n",
       "│ 0           ┆ 0    ┆ 0   ┆ 195 ┆ … ┆ 79       ┆ 75         ┆ 91            ┆ 891    │\n",
       "└─────────────┴──────┴─────┴─────┴───┴──────────┴────────────┴───────────────┴────────┘"
      ]
     },
     "execution_count": 19,
     "metadata": {},
     "output_type": "execute_result"
    }
   ],
   "source": [
    "mf.synthesize().null_count()"
   ]
  },
  {
   "cell_type": "markdown",
   "id": "9ab5b2b2c56065b8",
   "metadata": {
    "collapsed": false
   },
   "source": [
    "## Step 7: Adding descriptions to variables"
   ]
  },
  {
   "cell_type": "markdown",
   "id": "27bc0135d1eebc38",
   "metadata": {
    "collapsed": false
   },
   "source": [
    "With the data being taken care of, we can still do one last thing. We can add descriptions to the variables, to clarify what they mean. This can be particularly useful when sharing the `MetaFrame` or generated data with others, as it gives them more context to what they're working with.\n",
    "\n",
    "One way of adding a description to a variable, is by setting it in the `spec` dictionary, this can be done by simply adding a `description` key with the description as a value. For example, adding a description to the `Cabin` column can be done as follows:"
   ]
  },
  {
   "cell_type": "code",
   "execution_count": 20,
   "id": "e37faad4df8ffde8",
   "metadata": {
    "collapsed": false
   },
   "outputs": [
    {
     "name": "stderr",
     "output_type": "stream",
     "text": [
      "      all_NA: 100%|██████████| 13/13 [00:00<00:00, 13.31variables/s]\n"
     ]
    }
   ],
   "source": [
    "var_specs = [\n",
    "    # Utilize the Faker library to synthesize realistic names for the `Name` column\n",
    "    VarSpec(\"Name\", distribution=FakerDistribution(\"name\")),\n",
    "\n",
    "    # Fit `Fare` to an log-normal distribution, but base the parameters on the data\n",
    "    VarSpec(\"Fare\", distribution=\"lognormal\"), # estimate / fit an exponential distribution based on the data\n",
    "\n",
    "    # Set the `Age` column to a discrete uniform distribution ranging from 20 to 40\n",
    "    VarSpec(\"Age\", distribution=DiscreteUniformDistribution(20, 40)), # fully specify a distribution for age (uniform between 20 and 40)\n",
    "\n",
    "    # Use a regex-based distribution to generate `Cabin` values following [A-F][0-9]{2,3}\n",
    "    VarSpec(\"Cabin\", distribution=cabin_distribution, description=\"The cabin number of the passenger.\"),  # Use our previously defined distribution\n",
    "]\n",
    "\n",
    "mf = MetaFrame.fit_dataframe(df, var_specs=var_specs)"
   ]
  },
  {
   "cell_type": "markdown",
   "id": "2b4bd251795308d5",
   "metadata": {
    "collapsed": false
   },
   "source": [
    "We can get a list of all the descriptions in the fitted `MetaFrame` by accessing its `descriptions` property, as follows:"
   ]
  },
  {
   "cell_type": "code",
   "execution_count": 21,
   "id": "694d4474707f7950",
   "metadata": {
    "collapsed": false
   },
   "outputs": [
    {
     "name": "stdout",
     "output_type": "stream",
     "text": [
      "{'Cabin': 'The cabin number of the passenger.'}\n"
     ]
    }
   ],
   "source": [
    "print(mf.descriptions)"
   ]
  },
  {
   "cell_type": "markdown",
   "id": "d8411571bf1e5bf7",
   "metadata": {
    "collapsed": false
   },
   "source": [
    "Instead of setting the description in the variable specification (which happens before fitting a `MetaFrame` to a `DataFrame`), we can assign a description to an already generated `MetaFrame` by directly setting a column's description attribute. For example, we can assign a description to the `PassengerId` column as follows:"
   ]
  },
  {
   "cell_type": "code",
   "execution_count": 22,
   "id": "34a8aafc95c0219f",
   "metadata": {
    "collapsed": false
   },
   "outputs": [
    {
     "name": "stdout",
     "output_type": "stream",
     "text": [
      "{'PassengerId': 'The ID of each passenger, as assigned by Pandas.', 'Cabin': 'The cabin number of the passenger.'}\n"
     ]
    }
   ],
   "source": [
    "mf[\"PassengerId\"].description = \"The ID of each passenger, as assigned by Pandas.\"\n",
    "\n",
    "print(mf.descriptions)"
   ]
  },
  {
   "cell_type": "markdown",
   "id": "5bf1c3ad724c9bfa",
   "metadata": {
    "collapsed": false
   },
   "source": [
    "We can also set multiple descriptions of an already generated `MetaFrame` at once by passing in a dictionary of descriptions to its `descriptions` property. For example, we can set descriptions for the `Age` and `Name` columns as follows:"
   ]
  },
  {
   "cell_type": "code",
   "execution_count": 23,
   "id": "3b2e873f7362160a",
   "metadata": {
    "collapsed": false
   },
   "outputs": [
    {
     "name": "stdout",
     "output_type": "stream",
     "text": [
      "{'PassengerId': 'The ID of each passenger, as assigned by Pandas.', 'Name': 'Name of the passenger', 'Age': 'Age of the passenger in years', 'Cabin': 'The cabin number of the passenger.'}\n"
     ]
    }
   ],
   "source": [
    "mf.descriptions = {\"Name\": \"Name of the passenger\", \"Age\": \"Age of the passenger in years\"}\n",
    "\n",
    "print(mf.descriptions)"
   ]
  },
  {
   "cell_type": "markdown",
   "id": "fcf3b9eb9bbf6b17",
   "metadata": {
    "collapsed": false
   },
   "source": [
    "Instead of a dictionary, it is also possible to pass in a list of descriptions to the `descriptions` property of a `MetaFrame`. \n",
    "\n",
    "This can only be done if the list has the same length as the number of variables. In other words, each description must be passed in. \n",
    "\n",
    "This can be useful for example when generating placeholder descriptions automatically through list comprehension, as is done in the following example:"
   ]
  },
  {
   "cell_type": "code",
   "execution_count": 24,
   "id": "ab2b34ed6b11578c",
   "metadata": {
    "collapsed": false
   },
   "outputs": [
    {
     "name": "stdout",
     "output_type": "stream",
     "text": [
      "{'PassengerId': 'Placeholder description for PassengerId', 'Name': 'Placeholder description for Name', 'Sex': 'Placeholder description for Sex', 'Age': 'Placeholder description for Age', 'Parch': 'Placeholder description for Parch', 'Ticket': 'Placeholder description for Ticket', 'Fare': 'Placeholder description for Fare', 'Cabin': 'Placeholder description for Cabin', 'Embarked': 'Placeholder description for Embarked', 'Birthday': 'Placeholder description for Birthday', 'Board time': 'Placeholder description for Board time', 'Married since': 'Placeholder description for Married since', 'all_NA': 'Placeholder description for all_NA'}\n"
     ]
    }
   ],
   "source": [
    "mf.descriptions = [f\"Placeholder description for {var.name}\" for var in mf.meta_vars]\n",
    "\n",
    "print(mf.descriptions)"
   ]
  },
  {
   "cell_type": "markdown",
   "id": "729f3ca5",
   "metadata": {},
   "source": [
    "## Step 8: Write your synthetic data to a file.\n",
    "\n",
    "Most likely you will save the synthetic file back to a file. You can in the case of a csv file use `polars.write_csv()`. Even better is to reuse the file format that has been created when reading in the file. This ensures that if for example the file was read in with a certain encoding, the output file will have the same encoding. To write the file using the file format created in Step 1, use `metasyn.write_csv`:"
   ]
  },
  {
   "cell_type": "code",
   "execution_count": 26,
   "id": "f8c55c4f",
   "metadata": {},
   "outputs": [
    {
     "name": "stderr",
     "output_type": "stream",
     "text": [
      "      all_NA: 100%|██████████| 13/13 [00:00<00:00, 92.56variables/s]\n"
     ]
    }
   ],
   "source": [
    "df_synthetic = mf.synthesize(100)\n",
    "ms.write_csv(df_synthetic, \"new_synthetic_file.csv\", file_format=file_format, overwrite=True)"
   ]
  },
  {
   "cell_type": "markdown",
   "id": "ad00ca6c1fb3f2b",
   "metadata": {
    "collapsed": false
   },
   "source": [
    "## The end\n",
    "\n",
    "That's it for this tutorial! You should now have a good understanding of how to use metasyn to generate synthetic data from a dataset. If you want to learn more, check out the [metasyn docs](https://metasynth.readthedocs.io/en/latest/).\n",
    "\n",
    "If you have any questions, feel free to [reach out](https://metasynth.readthedocs.io/en/latest/about/contact.html).\n",
    "\n"
   ]
  }
 ],
 "metadata": {
  "kernelspec": {
   "display_name": "Python 3",
   "language": "python",
   "name": "python3"
  },
  "language_info": {
   "codemirror_mode": {
    "name": "ipython",
    "version": 3
   },
   "file_extension": ".py",
   "mimetype": "text/x-python",
   "name": "python",
   "nbconvert_exporter": "python",
   "pygments_lexer": "ipython3",
   "version": "3.11.6"
  }
 },
 "nbformat": 4,
 "nbformat_minor": 5
}
