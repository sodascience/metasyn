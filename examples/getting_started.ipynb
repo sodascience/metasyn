{
 "cells": [
  {
   "cell_type": "markdown",
   "id": "816e8dfe9a4ba016",
   "metadata": {},
   "source": [
    "# Advanced Tutorial on metasyn\n",
    "\n",
    "In this tutorial, we will be creating synthetic data using the `metasyn` package.\n",
    "\n",
    "Some advanced features of metasyn will be covered further along the tutorial, such as handling dates, setting distributions, ensuring uniqueness in columns and adding variable descriptions.\n",
    "\n",
    "For more information refer to the [user's guide](https://metasynth.readthedocs.io/en/latest/usage/usage.html) on the docs."
   ]
  },
  {
   "cell_type": "markdown",
   "id": "f5c6597b",
   "metadata": {
    "collapsed": false
   },
   "source": [
    "## Step 0: Install the metasyn package and import required packages"
   ]
  },
  {
   "cell_type": "markdown",
   "id": "ce44185723aaacd",
   "metadata": {
    "collapsed": false
   },
   "source": [
    "First, let's install the metasyn package."
   ]
  },
  {
   "cell_type": "code",
   "execution_count": 1,
   "id": "e4fae59f",
   "metadata": {},
   "outputs": [],
   "source": [
    "# Run the following line to install metasyn\n",
    "# %pip install metasyn"
   ]
  },
  {
   "cell_type": "markdown",
   "id": "58abb192e714247c",
   "metadata": {
    "collapsed": false
   },
   "source": [
    "Now, let's import the required packages."
   ]
  },
  {
   "cell_type": "code",
   "execution_count": 2,
   "id": "2442cb34",
   "metadata": {},
   "outputs": [],
   "source": [
    "# import required packages\n",
    "import polars as pl\n",
    "from metasyn import MetaFrame, demo_file\n",
    "from metasyn.config import VarSpec\n",
    "from metasyn.util import DistributionSpec"
   ]
  },
  {
   "cell_type": "markdown",
   "id": "04466c26",
   "metadata": {},
   "source": [
    "## Step 1: Loading the dataset\n",
    "\n",
    "The first step to create synthetic data is to load your dataset into a DataFrame. For this tutorial, we will be using the [Titanic dataset](https://www.kaggle.com/c/titanic/data), which can easily be accessed through the metasyn `demo_file()` function. \n",
    "\n",
    "It is important to set the data types of columns in the DataFrame correctly, as this will help metasyn to infer the correct distributions for each variable later.\n",
    "\n",
    "\n",
    "> **Note** \n",
    "> In this tutorial we use [Polars](https://pola.rs) to create the DataFrame, as that is what metasyn uses internally. Pandas is also supported, but will automatically be converted to Polars by metasyn. For best results it is recommended to use Polars."
   ]
  },
  {
   "cell_type": "code",
   "execution_count": 3,
   "id": "3c2a44b7",
   "metadata": {},
   "outputs": [
    {
     "data": {
      "text/html": [
       "<div><style>\n",
       ".dataframe > thead > tr,\n",
       ".dataframe > tbody > tr {\n",
       "  text-align: right;\n",
       "  white-space: pre-wrap;\n",
       "}\n",
       "</style>\n",
       "<small>shape: (5, 13)</small><table border=\"1\" class=\"dataframe\"><thead><tr><th>PassengerId</th><th>Name</th><th>Sex</th><th>Age</th><th>Parch</th><th>Ticket</th><th>Fare</th><th>Cabin</th><th>Embarked</th><th>Birthday</th><th>Board time</th><th>Married since</th><th>all_NA</th></tr><tr><td>i64</td><td>str</td><td>cat</td><td>i64</td><td>i64</td><td>str</td><td>f64</td><td>str</td><td>cat</td><td>date</td><td>time</td><td>datetime[μs]</td><td>str</td></tr></thead><tbody><tr><td>1</td><td>&quot;Braund, Mr. Ow…</td><td>&quot;male&quot;</td><td>22</td><td>0</td><td>&quot;A/5 21171&quot;</td><td>7.25</td><td>null</td><td>&quot;S&quot;</td><td>1937-10-28</td><td>15:53:04</td><td>2022-08-05 04:43:34</td><td>null</td></tr><tr><td>2</td><td>&quot;Cumings, Mrs. …</td><td>&quot;female&quot;</td><td>38</td><td>0</td><td>&quot;PC 17599&quot;</td><td>71.2833</td><td>&quot;C85&quot;</td><td>&quot;C&quot;</td><td>null</td><td>12:26:00</td><td>2022-08-07 01:56:33</td><td>null</td></tr><tr><td>3</td><td>&quot;Heikkinen, Mis…</td><td>&quot;female&quot;</td><td>26</td><td>0</td><td>&quot;STON/O2. 31012…</td><td>7.925</td><td>null</td><td>&quot;S&quot;</td><td>1931-09-24</td><td>16:08:25</td><td>2022-08-04 20:27:37</td><td>null</td></tr><tr><td>4</td><td>&quot;Futrelle, Mrs.…</td><td>&quot;female&quot;</td><td>35</td><td>0</td><td>&quot;113803&quot;</td><td>53.1</td><td>&quot;C123&quot;</td><td>&quot;S&quot;</td><td>1936-11-30</td><td>null</td><td>2022-08-07 07:05:55</td><td>null</td></tr><tr><td>5</td><td>&quot;Allen, Mr. Wil…</td><td>&quot;male&quot;</td><td>35</td><td>0</td><td>&quot;373450&quot;</td><td>8.05</td><td>null</td><td>&quot;S&quot;</td><td>1918-11-07</td><td>10:59:08</td><td>2022-08-02 15:13:34</td><td>null</td></tr></tbody></table></div>"
      ],
      "text/plain": [
       "shape: (5, 13)\n",
       "┌─────────────┬───────────────┬────────┬─────┬───┬────────────┬────────────┬──────────────┬────────┐\n",
       "│ PassengerId ┆ Name          ┆ Sex    ┆ Age ┆ … ┆ Birthday   ┆ Board time ┆ Married      ┆ all_NA │\n",
       "│ ---         ┆ ---           ┆ ---    ┆ --- ┆   ┆ ---        ┆ ---        ┆ since        ┆ ---    │\n",
       "│ i64         ┆ str           ┆ cat    ┆ i64 ┆   ┆ date       ┆ time       ┆ ---          ┆ str    │\n",
       "│             ┆               ┆        ┆     ┆   ┆            ┆            ┆ datetime[μs] ┆        │\n",
       "╞═════════════╪═══════════════╪════════╪═════╪═══╪════════════╪════════════╪══════════════╪════════╡\n",
       "│ 1           ┆ Braund, Mr.   ┆ male   ┆ 22  ┆ … ┆ 1937-10-28 ┆ 15:53:04   ┆ 2022-08-05   ┆ null   │\n",
       "│             ┆ Owen Harris   ┆        ┆     ┆   ┆            ┆            ┆ 04:43:34     ┆        │\n",
       "│ 2           ┆ Cumings, Mrs. ┆ female ┆ 38  ┆ … ┆ null       ┆ 12:26:00   ┆ 2022-08-07   ┆ null   │\n",
       "│             ┆ John Bradley  ┆        ┆     ┆   ┆            ┆            ┆ 01:56:33     ┆        │\n",
       "│             ┆ (Flor…        ┆        ┆     ┆   ┆            ┆            ┆              ┆        │\n",
       "│ 3           ┆ Heikkinen,    ┆ female ┆ 26  ┆ … ┆ 1931-09-24 ┆ 16:08:25   ┆ 2022-08-04   ┆ null   │\n",
       "│             ┆ Miss. Laina   ┆        ┆     ┆   ┆            ┆            ┆ 20:27:37     ┆        │\n",
       "│ 4           ┆ Futrelle,     ┆ female ┆ 35  ┆ … ┆ 1936-11-30 ┆ null       ┆ 2022-08-07   ┆ null   │\n",
       "│             ┆ Mrs. Jacques  ┆        ┆     ┆   ┆            ┆            ┆ 07:05:55     ┆        │\n",
       "│             ┆ Heath (Li…    ┆        ┆     ┆   ┆            ┆            ┆              ┆        │\n",
       "│ 5           ┆ Allen, Mr.    ┆ male   ┆ 35  ┆ … ┆ 1918-11-07 ┆ 10:59:08   ┆ 2022-08-02   ┆ null   │\n",
       "│             ┆ William Henry ┆        ┆     ┆   ┆            ┆            ┆ 15:13:34     ┆        │\n",
       "└─────────────┴───────────────┴────────┴─────┴───┴────────────┴────────────┴──────────────┴────────┘"
      ]
     },
     "execution_count": 3,
     "metadata": {},
     "output_type": "execute_result"
    }
   ],
   "source": [
    "# get the demonstration data file\n",
    "csv_path = demo_file(\"titanic\")\n",
    "\n",
    "# ensure columns are of the correct type\n",
    "data_types = {\"Sex\": pl.Categorical, \"Embarked\": pl.Categorical}\n",
    "\n",
    "# read the data from the csv path\n",
    "df = pl.read_csv(csv_path, dtypes=data_types, try_parse_dates=True)\n",
    "\n",
    "# check out the data\n",
    "df.head()"
   ]
  },
  {
   "cell_type": "markdown",
   "id": "1e2481d4",
   "metadata": {},
   "source": [
    "We can check the data types of our DataFrame as follows:"
   ]
  },
  {
   "cell_type": "code",
   "execution_count": 4,
   "id": "0a5a1aa2",
   "metadata": {},
   "outputs": [
    {
     "data": {
      "text/plain": [
       "{'PassengerId': Int64,\n",
       " 'Name': String,\n",
       " 'Sex': Categorical(ordering='physical'),\n",
       " 'Age': Int64,\n",
       " 'Parch': Int64,\n",
       " 'Ticket': String,\n",
       " 'Fare': Float64,\n",
       " 'Cabin': String,\n",
       " 'Embarked': Categorical(ordering='physical'),\n",
       " 'Birthday': Date,\n",
       " 'Board time': Time,\n",
       " 'Married since': Datetime(time_unit='us', time_zone=None),\n",
       " 'all_NA': String}"
      ]
     },
     "execution_count": 4,
     "metadata": {},
     "output_type": "execute_result"
    }
   ],
   "source": [
    "dict(zip(df.columns, df.dtypes))"
   ]
  },
  {
   "cell_type": "markdown",
   "id": "2ebde17e",
   "metadata": {},
   "source": [
    "We see that most variables are now nicely specified as strings, categories, dates and ints where necessary. We can get some more information on the DataFrame by calling the `describe()` on it, this will give us some information on the distribution of the variables:  "
   ]
  },
  {
   "cell_type": "code",
   "execution_count": 5,
   "id": "c72c2acb55fca193",
   "metadata": {
    "collapsed": false
   },
   "outputs": [
    {
     "data": {
      "text/html": [
       "<div><style>\n",
       ".dataframe > thead > tr,\n",
       ".dataframe > tbody > tr {\n",
       "  text-align: right;\n",
       "  white-space: pre-wrap;\n",
       "}\n",
       "</style>\n",
       "<small>shape: (9, 14)</small><table border=\"1\" class=\"dataframe\"><thead><tr><th>statistic</th><th>PassengerId</th><th>Name</th><th>Sex</th><th>Age</th><th>Parch</th><th>Ticket</th><th>Fare</th><th>Cabin</th><th>Embarked</th><th>Birthday</th><th>Board time</th><th>Married since</th><th>all_NA</th></tr><tr><td>str</td><td>f64</td><td>str</td><td>str</td><td>f64</td><td>f64</td><td>str</td><td>f64</td><td>str</td><td>str</td><td>str</td><td>str</td><td>str</td><td>str</td></tr></thead><tbody><tr><td>&quot;count&quot;</td><td>891.0</td><td>&quot;891&quot;</td><td>&quot;891&quot;</td><td>714.0</td><td>891.0</td><td>&quot;891&quot;</td><td>891.0</td><td>&quot;204&quot;</td><td>&quot;889&quot;</td><td>&quot;813&quot;</td><td>&quot;812&quot;</td><td>&quot;799&quot;</td><td>&quot;0&quot;</td></tr><tr><td>&quot;null_count&quot;</td><td>0.0</td><td>&quot;0&quot;</td><td>&quot;0&quot;</td><td>177.0</td><td>0.0</td><td>&quot;0&quot;</td><td>0.0</td><td>&quot;687&quot;</td><td>&quot;2&quot;</td><td>&quot;78&quot;</td><td>&quot;79&quot;</td><td>&quot;92&quot;</td><td>&quot;891&quot;</td></tr><tr><td>&quot;mean&quot;</td><td>446.0</td><td>null</td><td>null</td><td>29.693277</td><td>0.381594</td><td>null</td><td>32.204208</td><td>null</td><td>null</td><td>&quot;1921-07-28&quot;</td><td>&quot;14:38:10.01477…</td><td>&quot;2022-07-31 03:…</td><td>null</td></tr><tr><td>&quot;std&quot;</td><td>257.353842</td><td>null</td><td>null</td><td>14.524527</td><td>0.806057</td><td>null</td><td>49.693429</td><td>null</td><td>null</td><td>null</td><td>null</td><td>null</td><td>null</td></tr><tr><td>&quot;min&quot;</td><td>1.0</td><td>&quot;Abbing, Mr. An…</td><td>null</td><td>0.0</td><td>0.0</td><td>&quot;110152&quot;</td><td>0.0</td><td>&quot;A10&quot;</td><td>null</td><td>&quot;1903-07-28&quot;</td><td>&quot;10:39:40&quot;</td><td>&quot;2022-07-15 12:…</td><td>null</td></tr><tr><td>&quot;25%&quot;</td><td>224.0</td><td>null</td><td>null</td><td>20.0</td><td>0.0</td><td>null</td><td>7.925</td><td>null</td><td>null</td><td>&quot;1911-09-18&quot;</td><td>&quot;12:39:02&quot;</td><td>&quot;2022-07-23 11:…</td><td>null</td></tr><tr><td>&quot;50%&quot;</td><td>446.0</td><td>null</td><td>null</td><td>28.0</td><td>0.0</td><td>null</td><td>14.4542</td><td>null</td><td>null</td><td>&quot;1922-03-26&quot;</td><td>&quot;14:29:34&quot;</td><td>&quot;2022-07-31 00:…</td><td>null</td></tr><tr><td>&quot;75%&quot;</td><td>669.0</td><td>null</td><td>null</td><td>38.0</td><td>0.0</td><td>null</td><td>31.0</td><td>null</td><td>null</td><td>&quot;1930-08-29&quot;</td><td>&quot;16:40:12&quot;</td><td>&quot;2022-08-08 03:…</td><td>null</td></tr><tr><td>&quot;max&quot;</td><td>891.0</td><td>&quot;van Melkebeke,…</td><td>null</td><td>80.0</td><td>6.0</td><td>&quot;WE/P 5735&quot;</td><td>512.3292</td><td>&quot;T&quot;</td><td>null</td><td>&quot;1940-05-27&quot;</td><td>&quot;18:39:28&quot;</td><td>&quot;2022-08-15 10:…</td><td>null</td></tr></tbody></table></div>"
      ],
      "text/plain": [
       "shape: (9, 14)\n",
       "┌────────────┬─────────────┬────────────┬──────┬───┬────────────┬────────────┬────────────┬────────┐\n",
       "│ statistic  ┆ PassengerId ┆ Name       ┆ Sex  ┆ … ┆ Birthday   ┆ Board time ┆ Married    ┆ all_NA │\n",
       "│ ---        ┆ ---         ┆ ---        ┆ ---  ┆   ┆ ---        ┆ ---        ┆ since      ┆ ---    │\n",
       "│ str        ┆ f64         ┆ str        ┆ str  ┆   ┆ str        ┆ str        ┆ ---        ┆ str    │\n",
       "│            ┆             ┆            ┆      ┆   ┆            ┆            ┆ str        ┆        │\n",
       "╞════════════╪═════════════╪════════════╪══════╪═══╪════════════╪════════════╪════════════╪════════╡\n",
       "│ count      ┆ 891.0       ┆ 891        ┆ 891  ┆ … ┆ 813        ┆ 812        ┆ 799        ┆ 0      │\n",
       "│ null_count ┆ 0.0         ┆ 0          ┆ 0    ┆ … ┆ 78         ┆ 79         ┆ 92         ┆ 891    │\n",
       "│ mean       ┆ 446.0       ┆ null       ┆ null ┆ … ┆ 1921-07-28 ┆ 14:38:10.0 ┆ 2022-07-31 ┆ null   │\n",
       "│            ┆             ┆            ┆      ┆   ┆            ┆ 14778      ┆ 03:43:48.7 ┆        │\n",
       "│            ┆             ┆            ┆      ┆   ┆            ┆            ┆ 67208      ┆        │\n",
       "│ std        ┆ 257.353842  ┆ null       ┆ null ┆ … ┆ null       ┆ null       ┆ null       ┆ null   │\n",
       "│ min        ┆ 1.0         ┆ Abbing,    ┆ null ┆ … ┆ 1903-07-28 ┆ 10:39:40   ┆ 2022-07-15 ┆ null   │\n",
       "│            ┆             ┆ Mr.        ┆      ┆   ┆            ┆            ┆ 12:21:15   ┆        │\n",
       "│            ┆             ┆ Anthony    ┆      ┆   ┆            ┆            ┆            ┆        │\n",
       "│ 25%        ┆ 224.0       ┆ null       ┆ null ┆ … ┆ 1911-09-18 ┆ 12:39:02   ┆ 2022-07-23 ┆ null   │\n",
       "│            ┆             ┆            ┆      ┆   ┆            ┆            ┆ 11:16:56   ┆        │\n",
       "│ 50%        ┆ 446.0       ┆ null       ┆ null ┆ … ┆ 1922-03-26 ┆ 14:29:34   ┆ 2022-07-31 ┆ null   │\n",
       "│            ┆             ┆            ┆      ┆   ┆            ┆            ┆ 00:36:56   ┆        │\n",
       "│ 75%        ┆ 669.0       ┆ null       ┆ null ┆ … ┆ 1930-08-29 ┆ 16:40:12   ┆ 2022-08-08 ┆ null   │\n",
       "│            ┆             ┆            ┆      ┆   ┆            ┆            ┆ 03:35:52   ┆        │\n",
       "│ max        ┆ 891.0       ┆ van        ┆ null ┆ … ┆ 1940-05-27 ┆ 18:39:28   ┆ 2022-08-15 ┆ null   │\n",
       "│            ┆             ┆ Melkebeke, ┆      ┆   ┆            ┆            ┆ 10:32:05   ┆        │\n",
       "│            ┆             ┆ Mr.        ┆      ┆   ┆            ┆            ┆            ┆        │\n",
       "│            ┆             ┆ Philemon   ┆      ┆   ┆            ┆            ┆            ┆        │\n",
       "└────────────┴─────────────┴────────────┴──────┴───┴────────────┴────────────┴────────────┴────────┘"
      ]
     },
     "execution_count": 5,
     "metadata": {},
     "output_type": "execute_result"
    }
   ],
   "source": [
    "df.describe()"
   ]
  },
  {
   "cell_type": "markdown",
   "id": "13f849ed",
   "metadata": {},
   "source": [
    "## Step 2: Generating a MetaFrame\n",
    "\n",
    "Now that we have properly formatted our DataFrame, we can easily generate a MetaFrame for it. \n",
    "We'll do this without passing in any optional parameters, but later on in this tutorial we will cover how custom parameters can help provide control over the MetaFrame generation process. \n",
    "\n",
    "> **MetaFrames:**\n",
    "> A MetaFrame is an object which captures the essential aspects of the dataset, including variable names, types, data types, the percentage of missing values, and distribution parameters. MetaFrame objects capture all the information needed to generate a synthetic dataset that aligns with the original dataset, without containing any *entries* of the original dataset.\n",
    "\n",
    "More information on generating MetaFrames can be found on the metasyn docs ['generating metaframes'](https://metasynth.readthedocs.io/en/latest/usage/generating_metaframes.html) page."
   ]
  },
  {
   "cell_type": "markdown",
   "id": "98b5d2759a1381f1",
   "metadata": {
    "collapsed": false
   },
   "source": [
    "Generating a MetaFrame is simple, and can be done by simply calling the `MetaFrame.fit_dataframe()` class method, passing in the DataFrame as a parameter."
   ]
  },
  {
   "cell_type": "code",
   "execution_count": 6,
   "id": "e0c58473",
   "metadata": {},
   "outputs": [
    {
     "name": "stderr",
     "output_type": "stream",
     "text": [
      "  0%|          | 0/13 [00:00<?, ?it/s]"
     ]
    },
    {
     "name": "stderr",
     "output_type": "stream",
     "text": [
      "100%|██████████| 13/13 [00:03<00:00,  3.60it/s]\n"
     ]
    }
   ],
   "source": [
    "# Generate and fit a MetaFrame to the DataFrame \n",
    "mf = MetaFrame.fit_dataframe(df)"
   ]
  },
  {
   "cell_type": "markdown",
   "id": "1e8a772d",
   "metadata": {},
   "source": [
    "We can use the built-in Python `print` function to display the (statistical) metadata contained in the MetaFrame in an easy-to-read format:"
   ]
  },
  {
   "cell_type": "code",
   "execution_count": 7,
   "id": "abab1b78",
   "metadata": {},
   "outputs": [
    {
     "name": "stdout",
     "output_type": "stream",
     "text": [
      "# Rows: 891\n",
      "# Columns: 13\n",
      "\n",
      "Column 1: \"PassengerId\"\n",
      "- Variable Type: discrete\n",
      "- Data Type: Int64\n",
      "- Proportion of Missing Values: 0.0000\n",
      "- Distribution:\n",
      "\t- Type: core.uniform\n",
      "\t- Provenance: builtin\n",
      "\t- Parameters:\n",
      "\t\t- lower: 1\n",
      "\t\t- upper: 892\n",
      "\t\n",
      "\n",
      "Column 2: \"Name\"\n",
      "- Variable Type: string\n",
      "- Data Type: String\n",
      "- Proportion of Missing Values: 0.0000\n",
      "- Distribution:\n",
      "\t- Type: core.freetext\n",
      "\t- Provenance: builtin\n",
      "\t- Parameters:\n",
      "\t\t- locale: EN\n",
      "\t\t- avg_sentences: 2.4691358024691357\n",
      "\t\t- avg_words: 4.093153759820426\n",
      "\t\n",
      "\n",
      "Column 3: \"Sex\"\n",
      "- Variable Type: categorical\n",
      "- Data Type: Categorical(ordering='physical')\n",
      "- Proportion of Missing Values: 0.0000\n",
      "- Distribution:\n",
      "\t- Type: core.multinoulli\n",
      "\t- Provenance: builtin\n",
      "\t- Parameters:\n",
      "\t\t- labels: ['female' 'male']\n",
      "\t\t- probs: [0.35241302 0.64758698]\n",
      "\t\n",
      "\n",
      "Column 4: \"Age\"\n",
      "- Variable Type: discrete\n",
      "- Data Type: Int64\n",
      "- Proportion of Missing Values: 0.1987\n",
      "- Distribution:\n",
      "\t- Type: core.truncated_normal\n",
      "\t- Provenance: builtin\n",
      "\t- Parameters:\n",
      "\t\t- lower: -1e-08\n",
      "\t\t- upper: 80.00000001\n",
      "\t\t- mean: 28.403638823278087\n",
      "\t\t- sd: 15.862325051407092\n",
      "\t\n",
      "\n",
      "Column 5: \"Parch\"\n",
      "- Variable Type: discrete\n",
      "- Data Type: Int64\n",
      "- Proportion of Missing Values: 0.0000\n",
      "- Distribution:\n",
      "\t- Type: core.truncated_normal\n",
      "\t- Provenance: builtin\n",
      "\t- Parameters:\n",
      "\t\t- lower: -1e-08\n",
      "\t\t- upper: 6.00000001\n",
      "\t\t- mean: -380.6440825743838\n",
      "\t\t- sd: 12.066012048277289\n",
      "\t\n",
      "\n",
      "Column 6: \"Ticket\"\n",
      "- Variable Type: string\n",
      "- Data Type: String\n",
      "- Proportion of Missing Values: 0.0000\n",
      "- Distribution:\n",
      "\t- Type: core.regex\n",
      "\t- Provenance: builtin\n",
      "\t- Parameters:\n",
      "\t\t- regex: (|[A-Z]{1,4}(|(\\.A\\.|/[0-9A-Z])) )[0-9]{4,6}\n",
      "\t\n",
      "\n",
      "Column 7: \"Fare\"\n",
      "- Variable Type: continuous\n",
      "- Data Type: Float64\n",
      "- Proportion of Missing Values: 0.0000\n",
      "- Distribution:\n",
      "\t- Type: core.exponential\n",
      "\t- Provenance: builtin\n",
      "\t- Parameters:\n",
      "\t\t- rate: 0.03052908440177665\n",
      "\t\n",
      "\n",
      "Column 8: \"Cabin\"\n",
      "- Variable Type: string\n",
      "- Data Type: String\n",
      "- Proportion of Missing Values: 0.7710\n",
      "- Distribution:\n",
      "\t- Type: core.regex\n",
      "\t- Provenance: builtin\n",
      "\t- Parameters:\n",
      "\t\t- regex: [A-G][0-9 ]{1,3}(|[B-C][0-9]{2}(| [B-C][0-9]{2})|[A-Z][0-9]{2})\n",
      "\t\n",
      "\n",
      "Column 9: \"Embarked\"\n",
      "- Variable Type: categorical\n",
      "- Data Type: Categorical(ordering='physical')\n",
      "- Proportion of Missing Values: 0.0022\n",
      "- Distribution:\n",
      "\t- Type: core.multinoulli\n",
      "\t- Provenance: builtin\n",
      "\t- Parameters:\n",
      "\t\t- labels: ['C' 'Q' 'S']\n",
      "\t\t- probs: [0.18897638 0.08661417 0.72440945]\n",
      "\t\n",
      "\n",
      "Column 10: \"Birthday\"\n",
      "- Variable Type: date\n",
      "- Data Type: Date\n",
      "- Proportion of Missing Values: 0.0875\n",
      "- Distribution:\n",
      "\t- Type: core.uniform\n",
      "\t- Provenance: builtin\n",
      "\t- Parameters:\n",
      "\t\t- lower: 1903-07-28\n",
      "\t\t- upper: 1940-05-27\n",
      "\t\n",
      "\n",
      "Column 11: \"Board time\"\n",
      "- Variable Type: time\n",
      "- Data Type: Time\n",
      "- Proportion of Missing Values: 0.0887\n",
      "- Distribution:\n",
      "\t- Type: core.uniform\n",
      "\t- Provenance: builtin\n",
      "\t- Parameters:\n",
      "\t\t- lower: 10:39:40\n",
      "\t\t- upper: 18:39:28\n",
      "\t\t- precision: seconds\n",
      "\t\n",
      "\n",
      "Column 12: \"Married since\"\n",
      "- Variable Type: datetime\n",
      "- Data Type: Datetime(time_unit='us', time_zone=None)\n",
      "- Proportion of Missing Values: 0.1033\n",
      "- Distribution:\n",
      "\t- Type: core.uniform\n",
      "\t- Provenance: builtin\n",
      "\t- Parameters:\n",
      "\t\t- lower: 2022-07-15T12:21:15\n",
      "\t\t- upper: 2022-08-15T10:32:05\n",
      "\t\t- precision: seconds\n",
      "\t\n",
      "\n",
      "Column 13: \"all_NA\"\n",
      "- Variable Type: string\n",
      "- Data Type: String\n",
      "- Proportion of Missing Values: 1.0000\n",
      "- Distribution:\n",
      "\t- Type: core.na\n",
      "\t- Provenance: builtin\n",
      "\t- Parameters:\n",
      "\t\n",
      "\t\n",
      "\n",
      "\n"
     ]
    }
   ],
   "source": [
    "print(mf)"
   ]
  },
  {
   "cell_type": "markdown",
   "id": "03b27a95",
   "metadata": {},
   "source": [
    "## Step 3: Exporting the MetaFrame\n",
    "\n",
    "After creating the MetaFrame, Metasyn can serialize and export it into a GMF file using `mf.export()`, passing in the filepath as a parameter. \n",
    "\n",
    "\n",
    "> **GMF files:**\n",
    "> GMF files are JSON files that follow the [Generative Metadata Format (GMF)](https://github.com/sodascience/generative_metadata_format), a format designed to contain statistical metadata for (tabular) datasets that has been designed to be easy to read and understand. This allows users to audit, understand, modify and share their data generation model with ease.\n",
    "\n",
    "More information on exporting and importing MetaFrames can be found on the metasyn docs ['exporting and importing metaframes'](https://metasynth.readthedocs.io/en/latest/usage/exporting_metaframes.html) page."
   ]
  },
  {
   "cell_type": "code",
   "execution_count": 8,
   "id": "11e355f3",
   "metadata": {},
   "outputs": [],
   "source": [
    "file_path = \"example_gmf_titanic.json\"\n",
    "\n",
    "# Serialize and export the MetaFrame to a GMF file\n",
    "mf.export(file_path)"
   ]
  },
  {
   "cell_type": "markdown",
   "id": "a79120f6b907d352",
   "metadata": {
    "collapsed": false
   },
   "source": [
    "The GMF file should now be saved to the specified filepath, feel free to open and inspect it!"
   ]
  },
  {
   "cell_type": "markdown",
   "id": "fea40d1407e42ea",
   "metadata": {
    "collapsed": false
   },
   "source": [
    "It's also possible to preview how the exported file would look, without actually saving it to disk. This can be done as follows:"
   ]
  },
  {
   "cell_type": "code",
   "execution_count": 9,
   "id": "2b72d8907ec04999",
   "metadata": {
    "collapsed": false
   },
   "outputs": [
    {
     "name": "stdout",
     "output_type": "stream",
     "text": [
      "{\n",
      "    \"n_rows\": 891,\n",
      "    \"n_columns\": 13,\n",
      "    \"provenance\": {\n",
      "        \"created by\": {\n",
      "            \"name\": \"metasyn\",\n",
      "            \"version\": \"0.7.1.dev16+g679d365.d20240306\"\n",
      "        },\n",
      "        \"creation time\": \"2024-03-06T17:08:01.427885\"\n",
      "    },\n",
      "    \"vars\": [\n",
      "        {\n",
      "            \"name\": \"PassengerId\",\n",
      "            \"type\": \"discrete\",\n",
      "            \"dtype\": \"Int64\",\n",
      "            \"prop_missing\": 0.0,\n",
      "            \"distribution\": {\n",
      "                \"implements\": \"core.uniform\",\n",
      "                \"version\": \"1.0\",\n",
      "                \"provenance\": \"builtin\",\n",
      "                \"class_name\": \"DiscreteUniformDistribution\",\n",
      "                \"unique\": false,\n",
      "                \"parameters\": {\n",
      "                    \"lower\": 1,\n",
      "                    \"upper\": 892\n",
      "                }\n",
      "            }\n",
      "        },\n",
      "        {\n",
      "            \"name\": \"Name\",\n",
      "            \"type\": \"string\",\n",
      "            \"dtype\": \"String\",\n",
      "            \"prop_missing\": 0.0,\n",
      "            \"distribution\": {\n",
      "                \"implements\": \"core.freetext\",\n",
      "                \"version\": \"1.0\",\n",
      "                \"provenance\": \"builtin\",\n",
      "                \"class_name\": \"FreeTextDistribution\",\n",
      "                \"unique\": false,\n",
      "                \"parameters\": {\n",
      "                    \"locale\": \"EN\",\n",
      "                    \"avg_sentences\": 2.4691358024691357,\n",
      "                    \"avg_words\": 4.093153759820426\n",
      "                }\n",
      "            }\n",
      "        },\n",
      "        {\n",
      "            \"name\": \"Sex\",\n",
      "            \"type\": \"categorical\",\n",
      "            \"dtype\": \"Categorical(ordering='physical')\",\n",
      "            \"prop_missing\": 0.0,\n",
      "            \"distribution\": {\n",
      "                \"implements\": \"core.multinoulli\",\n",
      "                \"version\": \"1.0\",\n",
      "                \"provenance\": \"builtin\",\n",
      "                \"class_name\": \"MultinoulliDistribution\",\n",
      "                \"unique\": false,\n",
      "                \"parameters\": {\n",
      "                    \"labels\": [\n",
      "                        \"female\",\n",
      "                        \"male\"\n",
      "                    ],\n",
      "                    \"probs\": [\n",
      "                        0.35241301907968575,\n",
      "                        0.6475869809203143\n",
      "                    ]\n",
      "                }\n",
      "            }\n",
      "        },\n",
      "        {\n",
      "            \"name\": \"Age\",\n",
      "            \"type\": \"discrete\",\n",
      "            \"dtype\": \"Int64\",\n",
      "            \"prop_missing\": 0.19865319865319866,\n",
      "            \"distribution\": {\n",
      "                \"implements\": \"core.truncated_normal\",\n",
      "                \"version\": \"1.0\",\n",
      "                \"provenance\": \"builtin\",\n",
      "                \"class_name\": \"DiscreteTruncatedNormalDistribution\",\n",
      "                \"unique\": false,\n",
      "                \"parameters\": {\n",
      "                    \"lower\": -1e-08,\n",
      "                    \"upper\": 80.00000001,\n",
      "                    \"mean\": 28.403638823278087,\n",
      "                    \"sd\": 15.862325051407092\n",
      "                }\n",
      "            }\n",
      "        },\n",
      "        {\n",
      "            \"name\": \"Parch\",\n",
      "            \"type\": \"discrete\",\n",
      "            \"dtype\": \"Int64\",\n",
      "            \"prop_missing\": 0.0,\n",
      "            \"distribution\": {\n",
      "                \"implements\": \"core.truncated_normal\",\n",
      "                \"version\": \"1.0\",\n",
      "                \"provenance\": \"builtin\",\n",
      "                \"class_name\": \"DiscreteTruncatedNormalDistribution\",\n",
      "                \"unique\": false,\n",
      "                \"parameters\": {\n",
      "                    \"lower\": -1e-08,\n",
      "                    \"upper\": 6.00000001,\n",
      "                    \"mean\": -380.6440825743838,\n",
      "                    \"sd\": 12.066012048277289\n",
      "                }\n",
      "            }\n",
      "        },\n",
      "        {\n",
      "            \"name\": \"Ticket\",\n",
      "            \"type\": \"string\",\n",
      "            \"dtype\": \"String\",\n",
      "            \"prop_missing\": 0.0,\n",
      "            \"distribution\": {\n",
      "                \"implements\": \"core.regex\",\n",
      "                \"version\": \"2.0\",\n",
      "                \"provenance\": \"builtin\",\n",
      "                \"class_name\": \"RegexDistribution\",\n",
      "                \"unique\": false,\n",
      "                \"parameters\": {\n",
      "                    \"regex_data\": {\n",
      "                        \"regex\": \"(|[A-Z]{1,4}(|(\\\\.A\\\\.|/[0-9A-Z])) )[0-9]{4,6}\",\n",
      "                        \"counts\": [\n",
      "                            [\n",
      "                                [\n",
      "                                    643\n",
      "                                ],\n",
      "                                [\n",
      "                                    46,\n",
      "                                    [\n",
      "                                        [\n",
      "                                            75\n",
      "                                        ],\n",
      "                                        [\n",
      "                                            [\n",
      "                                                [\n",
      "                                                    27,\n",
      "                                                    27,\n",
      "                                                    27,\n",
      "                                                    27\n",
      "                                                ],\n",
      "                                                [\n",
      "                                                    19,\n",
      "                                                    19,\n",
      "                                                    19\n",
      "                                                ]\n",
      "                                            ],\n",
      "                                            0\n",
      "                                        ]\n",
      "                                    ],\n",
      "                                    75,\n",
      "                                    75\n",
      "                                ]\n",
      "                            ],\n",
      "                            643,\n",
      "                            643\n",
      "                        ]\n",
      "                    }\n",
      "                }\n",
      "            }\n",
      "        },\n",
      "        {\n",
      "            \"name\": \"Fare\",\n",
      "            \"type\": \"continuous\",\n",
      "            \"dtype\": \"Float64\",\n",
      "            \"prop_missing\": 0.0,\n",
      "            \"distribution\": {\n",
      "                \"implements\": \"core.exponential\",\n",
      "                \"version\": \"1.0\",\n",
      "                \"provenance\": \"builtin\",\n",
      "                \"class_name\": \"ExponentialDistribution\",\n",
      "                \"unique\": false,\n",
      "                \"parameters\": {\n",
      "                    \"rate\": 0.03052908440177665\n",
      "                }\n",
      "            }\n",
      "        },\n",
      "        {\n",
      "            \"name\": \"Cabin\",\n",
      "            \"type\": \"string\",\n",
      "            \"dtype\": \"String\",\n",
      "            \"prop_missing\": 0.7710437710437711,\n",
      "            \"distribution\": {\n",
      "                \"implements\": \"core.regex\",\n",
      "                \"version\": \"2.0\",\n",
      "                \"provenance\": \"builtin\",\n",
      "                \"class_name\": \"RegexDistribution\",\n",
      "                \"unique\": false,\n",
      "                \"parameters\": {\n",
      "                    \"regex_data\": {\n",
      "                        \"regex\": \"[A-G][0-9 ]{1,3}(|[B-C][0-9]{2}(| [B-C][0-9]{2})|[A-Z][0-9]{2})\",\n",
      "                        \"counts\": [\n",
      "                            198,\n",
      "                            198,\n",
      "                            [\n",
      "                                [\n",
      "                                    176\n",
      "                                ],\n",
      "                                [\n",
      "                                    17,\n",
      "                                    17,\n",
      "                                    [\n",
      "                                        [\n",
      "                                            11\n",
      "                                        ],\n",
      "                                        [\n",
      "                                            6,\n",
      "                                            6,\n",
      "                                            6,\n",
      "                                            6\n",
      "                                        ]\n",
      "                                    ],\n",
      "                                    0\n",
      "                                ],\n",
      "                                [\n",
      "                                    5,\n",
      "                                    5,\n",
      "                                    5\n",
      "                                ]\n",
      "                            ],\n",
      "                            0\n",
      "                        ]\n",
      "                    }\n",
      "                }\n",
      "            }\n",
      "        },\n",
      "        {\n",
      "            \"name\": \"Embarked\",\n",
      "            \"type\": \"categorical\",\n",
      "            \"dtype\": \"Categorical(ordering='physical')\",\n",
      "            \"prop_missing\": 0.002244668911335578,\n",
      "            \"distribution\": {\n",
      "                \"implements\": \"core.multinoulli\",\n",
      "                \"version\": \"1.0\",\n",
      "                \"provenance\": \"builtin\",\n",
      "                \"class_name\": \"MultinoulliDistribution\",\n",
      "                \"unique\": false,\n",
      "                \"parameters\": {\n",
      "                    \"labels\": [\n",
      "                        \"C\",\n",
      "                        \"Q\",\n",
      "                        \"S\"\n",
      "                    ],\n",
      "                    \"probs\": [\n",
      "                        0.1889763779527559,\n",
      "                        0.08661417322834646,\n",
      "                        0.7244094488188977\n",
      "                    ]\n",
      "                }\n",
      "            }\n",
      "        },\n",
      "        {\n",
      "            \"name\": \"Birthday\",\n",
      "            \"type\": \"date\",\n",
      "            \"dtype\": \"Date\",\n",
      "            \"prop_missing\": 0.08754208754208755,\n",
      "            \"distribution\": {\n",
      "                \"implements\": \"core.uniform\",\n",
      "                \"version\": \"1.0\",\n",
      "                \"provenance\": \"builtin\",\n",
      "                \"class_name\": \"DateUniformDistribution\",\n",
      "                \"unique\": false,\n",
      "                \"parameters\": {\n",
      "                    \"lower\": \"1903-07-28\",\n",
      "                    \"upper\": \"1940-05-27\"\n",
      "                }\n",
      "            }\n",
      "        },\n",
      "        {\n",
      "            \"name\": \"Board time\",\n",
      "            \"type\": \"time\",\n",
      "            \"dtype\": \"Time\",\n",
      "            \"prop_missing\": 0.08866442199775533,\n",
      "            \"distribution\": {\n",
      "                \"implements\": \"core.uniform\",\n",
      "                \"version\": \"1.0\",\n",
      "                \"provenance\": \"builtin\",\n",
      "                \"class_name\": \"TimeUniformDistribution\",\n",
      "                \"unique\": false,\n",
      "                \"parameters\": {\n",
      "                    \"lower\": \"10:39:40\",\n",
      "                    \"upper\": \"18:39:28\",\n",
      "                    \"precision\": \"seconds\"\n",
      "                }\n",
      "            }\n",
      "        },\n",
      "        {\n",
      "            \"name\": \"Married since\",\n",
      "            \"type\": \"datetime\",\n",
      "            \"dtype\": \"Datetime(time_unit='us', time_zone=None)\",\n",
      "            \"prop_missing\": 0.10325476992143659,\n",
      "            \"distribution\": {\n",
      "                \"implements\": \"core.uniform\",\n",
      "                \"version\": \"1.0\",\n",
      "                \"provenance\": \"builtin\",\n",
      "                \"class_name\": \"DateTimeUniformDistribution\",\n",
      "                \"unique\": false,\n",
      "                \"parameters\": {\n",
      "                    \"lower\": \"2022-07-15T12:21:15\",\n",
      "                    \"upper\": \"2022-08-15T10:32:05\",\n",
      "                    \"precision\": \"seconds\"\n",
      "                }\n",
      "            }\n",
      "        },\n",
      "        {\n",
      "            \"name\": \"all_NA\",\n",
      "            \"type\": \"string\",\n",
      "            \"dtype\": \"String\",\n",
      "            \"prop_missing\": 1.0,\n",
      "            \"distribution\": {\n",
      "                \"implements\": \"core.na\",\n",
      "                \"version\": \"1.0\",\n",
      "                \"provenance\": \"builtin\",\n",
      "                \"class_name\": \"NADistribution\",\n",
      "                \"unique\": false,\n",
      "                \"parameters\": {}\n",
      "            }\n",
      "        }\n",
      "    ]\n",
      "}\n"
     ]
    }
   ],
   "source": [
    "# Get a preview of the GMF file (`repr()`) and print it (`print()`)\n",
    "print(repr(mf))"
   ]
  },
  {
   "cell_type": "markdown",
   "id": "fcd16a5a",
   "metadata": {},
   "source": [
    "A GMF file can be imported and loaded into a MetaFrame using the `MetaFrame.from_json()` class method, passing in the file path as a parameter. "
   ]
  },
  {
   "cell_type": "code",
   "execution_count": 10,
   "id": "c5eac7eeb3326f03",
   "metadata": {
    "collapsed": false
   },
   "outputs": [],
   "source": [
    "# Create a MetaFrame based on a GMF (.json) file\n",
    "mf = MetaFrame.from_json(file_path)"
   ]
  },
  {
   "cell_type": "markdown",
   "id": "6571873d",
   "metadata": {
    "collapsed": false
   },
   "source": [
    "## Step 4: Generating synthetic data"
   ]
  },
  {
   "cell_type": "markdown",
   "id": "85201666a67a73fd",
   "metadata": {
    "collapsed": false
   },
   "source": [
    "Once a MetaFrame is loaded, synthetic data can be generated from it. We can do so by using the the `synthesize` method of the MetaFrame, passing in how many rows the generated data should contain as a parameter. This returns a DataFrame with the synthetic data.\n",
    "\n",
    "More information on generating synthetic data based on MetaFrames can be found on the metasyn docs, [here](https://metasynth.readthedocs.io/en/latest/usage/generating_synthetic_data.html)."
   ]
  },
  {
   "cell_type": "code",
   "execution_count": 11,
   "id": "4ccf451c",
   "metadata": {},
   "outputs": [],
   "source": [
    "# generate synthetic data\n",
    "syn_df = mf.synthesize(5)"
   ]
  },
  {
   "cell_type": "markdown",
   "id": "c565073e9dc5ebcc",
   "metadata": {
    "collapsed": false
   },
   "source": [
    "We can now view the synthetic data:"
   ]
  },
  {
   "cell_type": "code",
   "execution_count": 12,
   "id": "f39faa852ccdd5ac",
   "metadata": {
    "collapsed": false
   },
   "outputs": [
    {
     "data": {
      "text/html": [
       "<div><style>\n",
       ".dataframe > thead > tr,\n",
       ".dataframe > tbody > tr {\n",
       "  text-align: right;\n",
       "  white-space: pre-wrap;\n",
       "}\n",
       "</style>\n",
       "<small>shape: (5, 13)</small><table border=\"1\" class=\"dataframe\"><thead><tr><th>PassengerId</th><th>Name</th><th>Sex</th><th>Age</th><th>Parch</th><th>Ticket</th><th>Fare</th><th>Cabin</th><th>Embarked</th><th>Birthday</th><th>Board time</th><th>Married since</th><th>all_NA</th></tr><tr><td>i64</td><td>str</td><td>cat</td><td>i64</td><td>i64</td><td>str</td><td>f64</td><td>str</td><td>cat</td><td>date</td><td>time</td><td>datetime[μs]</td><td>null</td></tr></thead><tbody><tr><td>198</td><td>&quot;Ago administra…</td><td>&quot;male&quot;</td><td>9</td><td>0</td><td>&quot;84648&quot;</td><td>53.194449</td><td>null</td><td>&quot;S&quot;</td><td>1932-01-11</td><td>17:45:28</td><td>2022-07-24 18:27:24</td><td>null</td></tr><tr><td>580</td><td>&quot;No long.&quot;</td><td>&quot;female&quot;</td><td>null</td><td>0</td><td>&quot;4834&quot;</td><td>8.945457</td><td>null</td><td>&quot;S&quot;</td><td>1936-02-14</td><td>15:20:11</td><td>2022-07-29 12:47:22</td><td>null</td></tr><tr><td>292</td><td>&quot;Your. Write. M…</td><td>&quot;female&quot;</td><td>41</td><td>0</td><td>&quot;80500&quot;</td><td>35.787622</td><td>null</td><td>&quot;S&quot;</td><td>1930-08-21</td><td>15:39:48</td><td>2022-08-15 06:47:15</td><td>null</td></tr><tr><td>790</td><td>&quot;Machine. Level…</td><td>&quot;male&quot;</td><td>45</td><td>0</td><td>&quot;4433&quot;</td><td>17.021365</td><td>&quot;G817&quot;</td><td>&quot;C&quot;</td><td>1917-04-17</td><td>16:15:00</td><td>2022-07-19 16:33:20</td><td>null</td></tr><tr><td>702</td><td>&quot;Drug. Characte…</td><td>&quot;male&quot;</td><td>39</td><td>0</td><td>&quot;83094&quot;</td><td>12.184801</td><td>null</td><td>&quot;S&quot;</td><td>1927-12-20</td><td>null</td><td>2022-07-15 16:35:26</td><td>null</td></tr></tbody></table></div>"
      ],
      "text/plain": [
       "shape: (5, 13)\n",
       "┌─────────────┬──────────────┬────────┬──────┬───┬────────────┬────────────┬──────────────┬────────┐\n",
       "│ PassengerId ┆ Name         ┆ Sex    ┆ Age  ┆ … ┆ Birthday   ┆ Board time ┆ Married      ┆ all_NA │\n",
       "│ ---         ┆ ---          ┆ ---    ┆ ---  ┆   ┆ ---        ┆ ---        ┆ since        ┆ ---    │\n",
       "│ i64         ┆ str          ┆ cat    ┆ i64  ┆   ┆ date       ┆ time       ┆ ---          ┆ null   │\n",
       "│             ┆              ┆        ┆      ┆   ┆            ┆            ┆ datetime[μs] ┆        │\n",
       "╞═════════════╪══════════════╪════════╪══════╪═══╪════════════╪════════════╪══════════════╪════════╡\n",
       "│ 198         ┆ Ago administ ┆ male   ┆ 9    ┆ … ┆ 1932-01-11 ┆ 17:45:28   ┆ 2022-07-24   ┆ null   │\n",
       "│             ┆ ration.      ┆        ┆      ┆   ┆            ┆            ┆ 18:27:24     ┆        │\n",
       "│             ┆ Second       ┆        ┆      ┆   ┆            ┆            ┆              ┆        │\n",
       "│             ┆ autho…       ┆        ┆      ┆   ┆            ┆            ┆              ┆        │\n",
       "│ 580         ┆ No long.     ┆ female ┆ null ┆ … ┆ 1936-02-14 ┆ 15:20:11   ┆ 2022-07-29   ┆ null   │\n",
       "│             ┆              ┆        ┆      ┆   ┆            ┆            ┆ 12:47:22     ┆        │\n",
       "│ 292         ┆ Your. Write. ┆ female ┆ 41   ┆ … ┆ 1930-08-21 ┆ 15:39:48   ┆ 2022-08-15   ┆ null   │\n",
       "│             ┆ Million.     ┆        ┆      ┆   ┆            ┆            ┆ 06:47:15     ┆        │\n",
       "│ 790         ┆ Machine.     ┆ male   ┆ 45   ┆ … ┆ 1917-04-17 ┆ 16:15:00   ┆ 2022-07-19   ┆ null   │\n",
       "│             ┆ Level. Way.  ┆        ┆      ┆   ┆            ┆            ┆ 16:33:20     ┆        │\n",
       "│ 702         ┆ Drug.        ┆ male   ┆ 39   ┆ … ┆ 1927-12-20 ┆ null       ┆ 2022-07-15   ┆ null   │\n",
       "│             ┆ Character    ┆        ┆      ┆   ┆            ┆            ┆ 16:35:26     ┆        │\n",
       "│             ┆ walk.        ┆        ┆      ┆   ┆            ┆            ┆              ┆        │\n",
       "└─────────────┴──────────────┴────────┴──────┴───┴────────────┴────────────┴──────────────┴────────┘"
      ]
     },
     "execution_count": 12,
     "metadata": {},
     "output_type": "execute_result"
    }
   ],
   "source": [
    "syn_df"
   ]
  },
  {
   "cell_type": "markdown",
   "id": "669b1e95",
   "metadata": {},
   "source": [
    "As you can see, the synthetic data looks a lot like the real data! However, it could still use some improvement. In the next sections, we will explore manual changes we can make to improve the quality of the synthetic data."
   ]
  },
  {
   "cell_type": "markdown",
   "id": "e4cfe6cd",
   "metadata": {},
   "source": [
    "## Step 5: Improving the quality of the synthetic data"
   ]
  },
  {
   "cell_type": "markdown",
   "id": "7d77224c9e212c06",
   "metadata": {
    "collapsed": false
   },
   "source": [
    "The `MetaFrame.fit_dataframe()` method allows you to have more control over how your synthetic dataset is generated by passing in an optional `spec` (short for specification) parameter. `spec` is a dictionary that can be used to give metasyn instructions on a per-variable basis, these instructions can range from setting a variable to be unique, to directly setting its distribution. "
   ]
  },
  {
   "cell_type": "markdown",
   "id": "df32cc3a",
   "metadata": {},
   "source": [
    "### Spec: Setting variables to have unique variables\n",
    "\n",
    "During the MetaFrame generation at the start (using `MetaFrame.fit_dataframe()`), metaframe detected a column (PassengerId) as possibly unique, as indicated by the following warning:\n",
    "\n",
    "> *\"Variable PassengerId seems unique, but not set to be unique.\"*\n",
    "\n",
    "This is because this column holds a unique identifier for each passenger, which is in fact unique to each passenger. As such, we want the synthetic data generated for this column to be unique as well. \n",
    "\n",
    "In order to set a variable to be unique, we can add a `unique` key to the specification dictionary of the variable, and set it to `True`. We can do it for the `PassengerId` column as follows:\n"
   ]
  },
  {
   "cell_type": "code",
   "execution_count": 13,
   "id": "e7b76751",
   "metadata": {},
   "outputs": [
    {
     "name": "stderr",
     "output_type": "stream",
     "text": [
      "  0%|          | 0/13 [00:00<?, ?it/s]"
     ]
    },
    {
     "name": "stderr",
     "output_type": "stream",
     "text": [
      "100%|██████████| 13/13 [00:01<00:00,  9.37it/s]\n"
     ]
    },
    {
     "data": {
      "text/plain": [
       "{'name': 'PassengerId',\n",
       " 'type': 'discrete',\n",
       " 'dtype': 'Int64',\n",
       " 'prop_missing': 0.0,\n",
       " 'distribution': {'implements': 'core.unique_key',\n",
       "  'version': '1.0',\n",
       "  'provenance': 'builtin',\n",
       "  'class_name': 'UniqueKeyDistribution',\n",
       "  'unique': True,\n",
       "  'parameters': {'lower': 1, 'consecutive': True}}}"
      ]
     },
     "execution_count": 13,
     "metadata": {},
     "output_type": "execute_result"
    }
   ],
   "source": [
    "# First, we create a specification dictionary for the variables\n",
    "var_specs = [\n",
    "    VarSpec(\"PassengerId\", unique=True)\n",
    "]\n",
    "\n",
    "# then, we add that dictionary as the `spec` argument\n",
    "mf = MetaFrame.fit_dataframe(df, var_specs=var_specs)\n",
    "\n",
    "# then, let's check what the metadata about PassengerId contains!\n",
    "mf[\"PassengerId\"].to_dict()"
   ]
  },
  {
   "cell_type": "markdown",
   "id": "a28f0970",
   "metadata": {},
   "source": [
    "So let's check what is generated from this new MetaFrame:"
   ]
  },
  {
   "cell_type": "code",
   "execution_count": 14,
   "id": "38c2f4b6",
   "metadata": {},
   "outputs": [
    {
     "data": {
      "text/html": [
       "<div><style>\n",
       ".dataframe > thead > tr,\n",
       ".dataframe > tbody > tr {\n",
       "  text-align: right;\n",
       "  white-space: pre-wrap;\n",
       "}\n",
       "</style>\n",
       "<small>shape: (5, 13)</small><table border=\"1\" class=\"dataframe\"><thead><tr><th>PassengerId</th><th>Name</th><th>Sex</th><th>Age</th><th>Parch</th><th>Ticket</th><th>Fare</th><th>Cabin</th><th>Embarked</th><th>Birthday</th><th>Board time</th><th>Married since</th><th>all_NA</th></tr><tr><td>i64</td><td>str</td><td>cat</td><td>i64</td><td>i64</td><td>str</td><td>f64</td><td>null</td><td>cat</td><td>date</td><td>time</td><td>datetime[μs]</td><td>null</td></tr></thead><tbody><tr><td>1</td><td>&quot;Laugh.&quot;</td><td>&quot;male&quot;</td><td>19</td><td>0</td><td>&quot;683250&quot;</td><td>65.801374</td><td>null</td><td>&quot;S&quot;</td><td>1923-10-06</td><td>14:28:12</td><td>2022-07-19 01:39:21</td><td>null</td></tr><tr><td>2</td><td>&quot;Reality. Energ…</td><td>&quot;male&quot;</td><td>22</td><td>0</td><td>&quot;3283&quot;</td><td>8.401928</td><td>null</td><td>&quot;C&quot;</td><td>1917-08-12</td><td>18:27:31</td><td>2022-08-02 21:00:08</td><td>null</td></tr><tr><td>3</td><td>&quot;Professional. …</td><td>&quot;female&quot;</td><td>15</td><td>0</td><td>&quot;0380&quot;</td><td>53.308861</td><td>null</td><td>&quot;S&quot;</td><td>1913-03-25</td><td>18:06:20</td><td>2022-08-04 03:30:22</td><td>null</td></tr><tr><td>4</td><td>&quot;Rock one know …</td><td>&quot;female&quot;</td><td>32</td><td>0</td><td>&quot;41499&quot;</td><td>52.881634</td><td>null</td><td>&quot;S&quot;</td><td>null</td><td>13:32:16</td><td>2022-07-24 10:34:28</td><td>null</td></tr><tr><td>5</td><td>&quot;Look debate so…</td><td>&quot;male&quot;</td><td>45</td><td>0</td><td>&quot;04552&quot;</td><td>35.618123</td><td>null</td><td>&quot;S&quot;</td><td>1933-06-08</td><td>14:19:33</td><td>2022-07-28 08:14:40</td><td>null</td></tr></tbody></table></div>"
      ],
      "text/plain": [
       "shape: (5, 13)\n",
       "┌─────────────┬───────────────┬────────┬─────┬───┬────────────┬────────────┬──────────────┬────────┐\n",
       "│ PassengerId ┆ Name          ┆ Sex    ┆ Age ┆ … ┆ Birthday   ┆ Board time ┆ Married      ┆ all_NA │\n",
       "│ ---         ┆ ---           ┆ ---    ┆ --- ┆   ┆ ---        ┆ ---        ┆ since        ┆ ---    │\n",
       "│ i64         ┆ str           ┆ cat    ┆ i64 ┆   ┆ date       ┆ time       ┆ ---          ┆ null   │\n",
       "│             ┆               ┆        ┆     ┆   ┆            ┆            ┆ datetime[μs] ┆        │\n",
       "╞═════════════╪═══════════════╪════════╪═════╪═══╪════════════╪════════════╪══════════════╪════════╡\n",
       "│ 1           ┆ Laugh.        ┆ male   ┆ 19  ┆ … ┆ 1923-10-06 ┆ 14:28:12   ┆ 2022-07-19   ┆ null   │\n",
       "│             ┆               ┆        ┆     ┆   ┆            ┆            ┆ 01:39:21     ┆        │\n",
       "│ 2           ┆ Reality.      ┆ male   ┆ 22  ┆ … ┆ 1917-08-12 ┆ 18:27:31   ┆ 2022-08-02   ┆ null   │\n",
       "│             ┆ Energy.       ┆        ┆     ┆   ┆            ┆            ┆ 21:00:08     ┆        │\n",
       "│             ┆ Right.        ┆        ┆     ┆   ┆            ┆            ┆              ┆        │\n",
       "│             ┆ Opportun…     ┆        ┆     ┆   ┆            ┆            ┆              ┆        │\n",
       "│ 3           ┆ Professional. ┆ female ┆ 15  ┆ … ┆ 1913-03-25 ┆ 18:06:20   ┆ 2022-08-04   ┆ null   │\n",
       "│             ┆ Join.         ┆        ┆     ┆   ┆            ┆            ┆ 03:30:22     ┆        │\n",
       "│             ┆ Management.   ┆        ┆     ┆   ┆            ┆            ┆              ┆        │\n",
       "│ 4           ┆ Rock one know ┆ female ┆ 32  ┆ … ┆ null       ┆ 13:32:16   ┆ 2022-07-24   ┆ null   │\n",
       "│             ┆ build tend.   ┆        ┆     ┆   ┆            ┆            ┆ 10:34:28     ┆        │\n",
       "│             ┆ Huge l…       ┆        ┆     ┆   ┆            ┆            ┆              ┆        │\n",
       "│ 5           ┆ Look debate   ┆ male   ┆ 45  ┆ … ┆ 1933-06-08 ┆ 14:19:33   ┆ 2022-07-28   ┆ null   │\n",
       "│             ┆ society.      ┆        ┆     ┆   ┆            ┆            ┆ 08:14:40     ┆        │\n",
       "└─────────────┴───────────────┴────────┴─────┴───┴────────────┴────────────┴──────────────┴────────┘"
      ]
     },
     "execution_count": 14,
     "metadata": {},
     "output_type": "execute_result"
    }
   ],
   "source": [
    "mf.synthesize(5)"
   ]
  },
  {
   "cell_type": "markdown",
   "id": "11c7f562",
   "metadata": {},
   "source": [
    "As you can see, the `PassengerId` column is now unique!"
   ]
  },
  {
   "cell_type": "markdown",
   "id": "6f884eb7",
   "metadata": {},
   "source": [
    "### Spec: Fake names (and other Faker data types)\n",
    "\n",
    "Currently, the `Name` of the passengers is not quite so well synthesized. The reason is that the string type interpreter in metasyn is designed for `structured` strings (like room numbers such as `B1.09`, `B1.01` or `A1.08`) and not unstructured strings. However, metasyn supports the [faker](https://faker.readthedocs.io/en/master/index.html) package, which includes a lot of data types that it can fake. The columns using faker are not based on the real data at all so they do not disclose any info about the real data.\n",
    "\n",
    "We can specify metasyn to use Faker names for the `Name` column as follows:"
   ]
  },
  {
   "cell_type": "code",
   "execution_count": 15,
   "id": "d5615aa0",
   "metadata": {},
   "outputs": [
    {
     "ename": "NameError",
     "evalue": "name 'VarConfig' is not defined",
     "output_type": "error",
     "traceback": [
      "\u001b[0;31m---------------------------------------------------------------------------\u001b[0m",
      "\u001b[0;31mNameError\u001b[0m                                 Traceback (most recent call last)",
      "\u001b[1;32m/home/qubix/Documents/repos/metasyn/metasyn/examples/getting_started.ipynb Cell 39\u001b[0m line \u001b[0;36m5\n\u001b[1;32m      <a href='vscode-notebook-cell:/home/qubix/Documents/repos/metasyn/metasyn/examples/getting_started.ipynb#X53sZmlsZQ%3D%3D?line=0'>1</a>\u001b[0m \u001b[39m# First, we create a specification dictionary for the variables\u001b[39;00m\n\u001b[1;32m      <a href='vscode-notebook-cell:/home/qubix/Documents/repos/metasyn/metasyn/examples/getting_started.ipynb#X53sZmlsZQ%3D%3D?line=1'>2</a>\u001b[0m \u001b[39mfrom\u001b[39;00m \u001b[39mmetasyn\u001b[39;00m\u001b[39m.\u001b[39;00m\u001b[39mdistribution\u001b[39;00m \u001b[39mimport\u001b[39;00m FakerDistribution\n\u001b[1;32m      <a href='vscode-notebook-cell:/home/qubix/Documents/repos/metasyn/metasyn/examples/getting_started.ipynb#X53sZmlsZQ%3D%3D?line=3'>4</a>\u001b[0m var_specs \u001b[39m=\u001b[39m [\n\u001b[0;32m----> <a href='vscode-notebook-cell:/home/qubix/Documents/repos/metasyn/metasyn/examples/getting_started.ipynb#X53sZmlsZQ%3D%3D?line=4'>5</a>\u001b[0m     VarConfig(name\u001b[39m=\u001b[39m\u001b[39m\"\u001b[39m\u001b[39mPassengerId\u001b[39m\u001b[39m\"\u001b[39m, dist_spec\u001b[39m=\u001b[39mDistributionSpec(unique\u001b[39m=\u001b[39m\u001b[39mTrue\u001b[39;00m)),\n\u001b[1;32m      <a href='vscode-notebook-cell:/home/qubix/Documents/repos/metasyn/metasyn/examples/getting_started.ipynb#X53sZmlsZQ%3D%3D?line=5'>6</a>\u001b[0m     VarConfig(name\u001b[39m=\u001b[39m\u001b[39m\"\u001b[39m\u001b[39mName\u001b[39m\u001b[39m\"\u001b[39m, dist_spec\u001b[39m=\u001b[39mFakerDistribution(\u001b[39m\"\u001b[39m\u001b[39mname\u001b[39m\u001b[39m\"\u001b[39m)),\n\u001b[1;32m      <a href='vscode-notebook-cell:/home/qubix/Documents/repos/metasyn/metasyn/examples/getting_started.ipynb#X53sZmlsZQ%3D%3D?line=6'>7</a>\u001b[0m ]\n\u001b[1;32m      <a href='vscode-notebook-cell:/home/qubix/Documents/repos/metasyn/metasyn/examples/getting_started.ipynb#X53sZmlsZQ%3D%3D?line=8'>9</a>\u001b[0m mf \u001b[39m=\u001b[39m MetaFrame\u001b[39m.\u001b[39mfit_dataframe(df, var_specs\u001b[39m=\u001b[39mvar_specs)\n\u001b[1;32m     <a href='vscode-notebook-cell:/home/qubix/Documents/repos/metasyn/metasyn/examples/getting_started.ipynb#X53sZmlsZQ%3D%3D?line=9'>10</a>\u001b[0m mf\u001b[39m.\u001b[39msynthesize(\u001b[39m5\u001b[39m)\n",
      "\u001b[0;31mNameError\u001b[0m: name 'VarConfig' is not defined"
     ]
    }
   ],
   "source": [
    "# First, we create a specification dictionary for the variables\n",
    "from metasyn.distribution import FakerDistribution\n",
    "\n",
    "var_specs = [\n",
    "    VarSpec(\"PassengerId\", unique=True),\n",
    "    VarSpec(\"Name\", distribution=FakerDistribution(\"name\")),\n",
    "]\n",
    "\n",
    "mf = MetaFrame.fit_dataframe(df, var_specs=var_specs)\n",
    "mf.synthesize(5)"
   ]
  },
  {
   "cell_type": "markdown",
   "id": "de1fa66b",
   "metadata": {},
   "source": [
    "That already looks a lot better for the `Name` column!"
   ]
  },
  {
   "cell_type": "markdown",
   "id": "f1b8b5b434fe1f52",
   "metadata": {
    "collapsed": false
   },
   "source": [
    "### Spec: Setting distributions manually\n",
    "\n",
    "Without user input, the distribution chosen for each variable is inferred by choosing the distribution with the best fit from all available distributions for the variable type. However, we can also manually specify which distribution to fit, or simply specify the distribution including the parameters for the variable."
   ]
  },
  {
   "cell_type": "code",
   "execution_count": null,
   "id": "ac4ba506",
   "metadata": {},
   "outputs": [
    {
     "name": "stderr",
     "output_type": "stream",
     "text": [
      "  0%|          | 0/13 [00:00<?, ?it/s]"
     ]
    },
    {
     "name": "stderr",
     "output_type": "stream",
     "text": [
      "100%|██████████| 13/13 [00:00<00:00, 23.21it/s]\n"
     ]
    },
    {
     "data": {
      "text/html": [
       "<div><style>\n",
       ".dataframe > thead > tr,\n",
       ".dataframe > tbody > tr {\n",
       "  text-align: right;\n",
       "  white-space: pre-wrap;\n",
       "}\n",
       "</style>\n",
       "<small>shape: (5, 13)</small><table border=\"1\" class=\"dataframe\"><thead><tr><th>PassengerId</th><th>Name</th><th>Sex</th><th>Age</th><th>Parch</th><th>Ticket</th><th>Fare</th><th>Cabin</th><th>Embarked</th><th>Birthday</th><th>Board time</th><th>Married since</th><th>all_NA</th></tr><tr><td>i64</td><td>str</td><td>cat</td><td>i64</td><td>i64</td><td>str</td><td>f64</td><td>null</td><td>cat</td><td>date</td><td>time</td><td>datetime[μs]</td><td>null</td></tr></thead><tbody><tr><td>1</td><td>&quot;Philip Russell…</td><td>&quot;male&quot;</td><td>null</td><td>0</td><td>&quot;842692&quot;</td><td>9.99039</td><td>null</td><td>&quot;S&quot;</td><td>1911-11-21</td><td>16:40:37</td><td>2022-07-20 18:10:23</td><td>null</td></tr><tr><td>2</td><td>&quot;Kimberly Dunca…</td><td>&quot;male&quot;</td><td>34</td><td>0</td><td>&quot;989068&quot;</td><td>43.339469</td><td>null</td><td>&quot;C&quot;</td><td>1933-05-25</td><td>18:21:27</td><td>2022-07-26 11:51:03</td><td>null</td></tr><tr><td>3</td><td>&quot;Karen Davis&quot;</td><td>&quot;male&quot;</td><td>25</td><td>0</td><td>&quot;18566&quot;</td><td>146.636182</td><td>null</td><td>&quot;Q&quot;</td><td>1923-01-17</td><td>18:05:28</td><td>2022-08-13 23:10:20</td><td>null</td></tr><tr><td>4</td><td>&quot;Julia Holder&quot;</td><td>&quot;male&quot;</td><td>38</td><td>0</td><td>&quot;677824&quot;</td><td>62.940657</td><td>null</td><td>&quot;S&quot;</td><td>1907-08-19</td><td>null</td><td>null</td><td>null</td></tr><tr><td>5</td><td>&quot;Amanda Domingu…</td><td>&quot;male&quot;</td><td>29</td><td>0</td><td>&quot;9031&quot;</td><td>18.90501</td><td>null</td><td>&quot;S&quot;</td><td>1926-12-30</td><td>13:24:36</td><td>2022-08-10 13:20:14</td><td>null</td></tr></tbody></table></div>"
      ],
      "text/plain": [
       "shape: (5, 13)\n",
       "┌─────────────┬───────────────┬──────┬──────┬───┬────────────┬────────────┬───────────────┬────────┐\n",
       "│ PassengerId ┆ Name          ┆ Sex  ┆ Age  ┆ … ┆ Birthday   ┆ Board time ┆ Married since ┆ all_NA │\n",
       "│ ---         ┆ ---           ┆ ---  ┆ ---  ┆   ┆ ---        ┆ ---        ┆ ---           ┆ ---    │\n",
       "│ i64         ┆ str           ┆ cat  ┆ i64  ┆   ┆ date       ┆ time       ┆ datetime[μs]  ┆ null   │\n",
       "╞═════════════╪═══════════════╪══════╪══════╪═══╪════════════╪════════════╪═══════════════╪════════╡\n",
       "│ 1           ┆ Philip        ┆ male ┆ null ┆ … ┆ 1911-11-21 ┆ 16:40:37   ┆ 2022-07-20    ┆ null   │\n",
       "│             ┆ Russell       ┆      ┆      ┆   ┆            ┆            ┆ 18:10:23      ┆        │\n",
       "│ 2           ┆ Kimberly      ┆ male ┆ 34   ┆ … ┆ 1933-05-25 ┆ 18:21:27   ┆ 2022-07-26    ┆ null   │\n",
       "│             ┆ Duncan        ┆      ┆      ┆   ┆            ┆            ┆ 11:51:03      ┆        │\n",
       "│ 3           ┆ Karen Davis   ┆ male ┆ 25   ┆ … ┆ 1923-01-17 ┆ 18:05:28   ┆ 2022-08-13    ┆ null   │\n",
       "│             ┆               ┆      ┆      ┆   ┆            ┆            ┆ 23:10:20      ┆        │\n",
       "│ 4           ┆ Julia Holder  ┆ male ┆ 38   ┆ … ┆ 1907-08-19 ┆ null       ┆ null          ┆ null   │\n",
       "│ 5           ┆ Amanda        ┆ male ┆ 29   ┆ … ┆ 1926-12-30 ┆ 13:24:36   ┆ 2022-08-10    ┆ null   │\n",
       "│             ┆ Dominguez     ┆      ┆      ┆   ┆            ┆            ┆ 13:20:14      ┆        │\n",
       "└─────────────┴───────────────┴──────┴──────┴───┴────────────┴────────────┴───────────────┴────────┘"
      ]
     },
     "execution_count": 16,
     "metadata": {},
     "output_type": "execute_result"
    }
   ],
   "source": [
    "from metasyn.distribution import DiscreteUniformDistribution\n",
    "\n",
    "var_specs = [\n",
    "    VarConfig(name=\"PassengerId\", dist_spec=DistributionSpec(unique=True)),\n",
    "    VarConfig(name=\"Name\", dist_spec=FakerDistribution(\"name\")),\n",
    "    VarConfig(name=\"Name\", dist_spec=\"LogNormalDistribution\"), # estimate / fit an exponential distribution based on the data\n",
    "    VarConfig(name=\"Age\", dist_spec=DiscreteUniformDistribution(20, 40)) # fully specify a distribution for age (uniform between 20 and 40)\n",
    "]\n",
    "\n",
    "mf = MetaFrame.fit_dataframe(df, var_specs=var_specs)\n",
    "mf.synthesize(5)"
   ]
  },
  {
   "cell_type": "markdown",
   "id": "2897133c",
   "metadata": {},
   "source": [
    "### Spec: Specifying the distribution of structured strings\n",
    "\n",
    "For more or less structured strings, we can manually set the structure of the strings based on regular expressions. For example, we see that most Cabins are structured like [A-F] and then 2 or 3 digit numbers. We can include this as follows:"
   ]
  },
  {
   "cell_type": "code",
   "execution_count": null,
   "id": "7b2c4003",
   "metadata": {},
   "outputs": [
    {
     "name": "stderr",
     "output_type": "stream",
     "text": [
      "  0%|          | 0/13 [00:00<?, ?it/s]"
     ]
    },
    {
     "name": "stderr",
     "output_type": "stream",
     "text": [
      "100%|██████████| 13/13 [00:00<00:00, 26.81it/s]\n"
     ]
    },
    {
     "data": {
      "text/html": [
       "<div><style>\n",
       ".dataframe > thead > tr,\n",
       ".dataframe > tbody > tr {\n",
       "  text-align: right;\n",
       "  white-space: pre-wrap;\n",
       "}\n",
       "</style>\n",
       "<small>shape: (10, 13)</small><table border=\"1\" class=\"dataframe\"><thead><tr><th>PassengerId</th><th>Name</th><th>Sex</th><th>Age</th><th>Parch</th><th>Ticket</th><th>Fare</th><th>Cabin</th><th>Embarked</th><th>Birthday</th><th>Board time</th><th>Married since</th><th>all_NA</th></tr><tr><td>i64</td><td>str</td><td>cat</td><td>i64</td><td>i64</td><td>str</td><td>f64</td><td>str</td><td>cat</td><td>date</td><td>time</td><td>datetime[μs]</td><td>null</td></tr></thead><tbody><tr><td>1</td><td>&quot;Paul Jacobs&quot;</td><td>&quot;male&quot;</td><td>25</td><td>0</td><td>&quot;1450&quot;</td><td>3.936651</td><td>null</td><td>&quot;S&quot;</td><td>1934-09-12</td><td>17:30:27</td><td>2022-08-05 17:46:02</td><td>null</td></tr><tr><td>2</td><td>&quot;Teresa Castane…</td><td>&quot;female&quot;</td><td>37</td><td>0</td><td>&quot;25178&quot;</td><td>0.599887</td><td>null</td><td>&quot;S&quot;</td><td>1928-07-30</td><td>13:17:29</td><td>2022-08-06 19:09:10</td><td>null</td></tr><tr><td>3</td><td>&quot;Robert Melton&quot;</td><td>&quot;male&quot;</td><td>37</td><td>0</td><td>&quot;772440&quot;</td><td>13.21905</td><td>null</td><td>&quot;S&quot;</td><td>1904-09-14</td><td>14:13:14</td><td>2022-08-06 13:35:11</td><td>null</td></tr><tr><td>4</td><td>&quot;Melinda Perry&quot;</td><td>&quot;male&quot;</td><td>33</td><td>0</td><td>&quot;06047&quot;</td><td>79.485664</td><td>&quot;C543&quot;</td><td>&quot;S&quot;</td><td>1931-07-27</td><td>16:56:16</td><td>2022-07-27 10:21:24</td><td>null</td></tr><tr><td>5</td><td>&quot;Andrew Gutierr…</td><td>&quot;female&quot;</td><td>null</td><td>0</td><td>&quot;67158&quot;</td><td>18.259821</td><td>null</td><td>&quot;S&quot;</td><td>1914-10-08</td><td>15:42:34</td><td>2022-07-31 07:42:42</td><td>null</td></tr><tr><td>6</td><td>&quot;David Peters&quot;</td><td>&quot;male&quot;</td><td>null</td><td>0</td><td>&quot;GR 0715&quot;</td><td>27.171512</td><td>null</td><td>&quot;S&quot;</td><td>1912-08-03</td><td>18:16:13</td><td>null</td><td>null</td></tr><tr><td>7</td><td>&quot;Joseph Rogers&quot;</td><td>&quot;female&quot;</td><td>36</td><td>0</td><td>&quot;98899&quot;</td><td>125.916582</td><td>null</td><td>&quot;C&quot;</td><td>1916-05-17</td><td>15:08:17</td><td>2022-08-08 02:12:04</td><td>null</td></tr><tr><td>8</td><td>&quot;Ashley Boone&quot;</td><td>&quot;female&quot;</td><td>30</td><td>0</td><td>&quot;646794&quot;</td><td>9.212186</td><td>null</td><td>&quot;S&quot;</td><td>1917-06-27</td><td>11:54:48</td><td>2022-07-28 05:18:26</td><td>null</td></tr><tr><td>9</td><td>&quot;Michelle Peter…</td><td>&quot;male&quot;</td><td>null</td><td>0</td><td>&quot;323928&quot;</td><td>64.637949</td><td>null</td><td>&quot;S&quot;</td><td>1912-01-26</td><td>18:10:06</td><td>2022-08-13 05:34:59</td><td>null</td></tr><tr><td>10</td><td>&quot;Amber Buckley&quot;</td><td>&quot;female&quot;</td><td>35</td><td>0</td><td>&quot;0321&quot;</td><td>18.861638</td><td>null</td><td>&quot;S&quot;</td><td>1929-05-31</td><td>16:31:53</td><td>2022-08-02 06:16:19</td><td>null</td></tr></tbody></table></div>"
      ],
      "text/plain": [
       "shape: (10, 13)\n",
       "┌─────────────┬──────────────┬────────┬──────┬───┬────────────┬────────────┬──────────────┬────────┐\n",
       "│ PassengerId ┆ Name         ┆ Sex    ┆ Age  ┆ … ┆ Birthday   ┆ Board time ┆ Married      ┆ all_NA │\n",
       "│ ---         ┆ ---          ┆ ---    ┆ ---  ┆   ┆ ---        ┆ ---        ┆ since        ┆ ---    │\n",
       "│ i64         ┆ str          ┆ cat    ┆ i64  ┆   ┆ date       ┆ time       ┆ ---          ┆ null   │\n",
       "│             ┆              ┆        ┆      ┆   ┆            ┆            ┆ datetime[μs] ┆        │\n",
       "╞═════════════╪══════════════╪════════╪══════╪═══╪════════════╪════════════╪══════════════╪════════╡\n",
       "│ 1           ┆ Paul Jacobs  ┆ male   ┆ 25   ┆ … ┆ 1934-09-12 ┆ 17:30:27   ┆ 2022-08-05   ┆ null   │\n",
       "│             ┆              ┆        ┆      ┆   ┆            ┆            ┆ 17:46:02     ┆        │\n",
       "│ 2           ┆ Teresa       ┆ female ┆ 37   ┆ … ┆ 1928-07-30 ┆ 13:17:29   ┆ 2022-08-06   ┆ null   │\n",
       "│             ┆ Castaneda    ┆        ┆      ┆   ┆            ┆            ┆ 19:09:10     ┆        │\n",
       "│ 3           ┆ Robert       ┆ male   ┆ 37   ┆ … ┆ 1904-09-14 ┆ 14:13:14   ┆ 2022-08-06   ┆ null   │\n",
       "│             ┆ Melton       ┆        ┆      ┆   ┆            ┆            ┆ 13:35:11     ┆        │\n",
       "│ 4           ┆ Melinda      ┆ male   ┆ 33   ┆ … ┆ 1931-07-27 ┆ 16:56:16   ┆ 2022-07-27   ┆ null   │\n",
       "│             ┆ Perry        ┆        ┆      ┆   ┆            ┆            ┆ 10:21:24     ┆        │\n",
       "│ 5           ┆ Andrew       ┆ female ┆ null ┆ … ┆ 1914-10-08 ┆ 15:42:34   ┆ 2022-07-31   ┆ null   │\n",
       "│             ┆ Gutierrez    ┆        ┆      ┆   ┆            ┆            ┆ 07:42:42     ┆        │\n",
       "│ 6           ┆ David Peters ┆ male   ┆ null ┆ … ┆ 1912-08-03 ┆ 18:16:13   ┆ null         ┆ null   │\n",
       "│ 7           ┆ Joseph       ┆ female ┆ 36   ┆ … ┆ 1916-05-17 ┆ 15:08:17   ┆ 2022-08-08   ┆ null   │\n",
       "│             ┆ Rogers       ┆        ┆      ┆   ┆            ┆            ┆ 02:12:04     ┆        │\n",
       "│ 8           ┆ Ashley Boone ┆ female ┆ 30   ┆ … ┆ 1917-06-27 ┆ 11:54:48   ┆ 2022-07-28   ┆ null   │\n",
       "│             ┆              ┆        ┆      ┆   ┆            ┆            ┆ 05:18:26     ┆        │\n",
       "│ 9           ┆ Michelle     ┆ male   ┆ null ┆ … ┆ 1912-01-26 ┆ 18:10:06   ┆ 2022-08-13   ┆ null   │\n",
       "│             ┆ Peterson     ┆        ┆      ┆   ┆            ┆            ┆ 05:34:59     ┆        │\n",
       "│ 10          ┆ Amber        ┆ female ┆ 35   ┆ … ┆ 1929-05-31 ┆ 16:31:53   ┆ 2022-08-02   ┆ null   │\n",
       "│             ┆ Buckley      ┆        ┆      ┆   ┆            ┆            ┆ 06:16:19     ┆        │\n",
       "└─────────────┴──────────────┴────────┴──────┴───┴────────────┴────────────┴──────────────┴────────┘"
      ]
     },
     "execution_count": 17,
     "metadata": {},
     "output_type": "execute_result"
    }
   ],
   "source": [
    "from metasyn.distribution import RegexDistribution\n",
    "\n",
    "# To create a regex distribution, you need a list of tuples, where each tuple is an element.\n",
    "# The first part of the tuple is a string representation of the regex, while the second is the proportion of the\n",
    "# time the regex element is used.\n",
    "cabin_distribution = RegexDistribution(r\"[A-F][0-9]{2,3}\")  # Add the r so that it becomes a literal string.\n",
    "# just for completeness: data generated from this distribution will always match the regex [A-F]?(\\d{2,3})?\n",
    "\n",
    "var_specs = [\n",
    "    VarConfig(name=\"PassengerId\", dist_spec=DistributionSpec(unique=True)),\n",
    "    VarConfig(name=\"Name\", dist_spec=FakerDistribution(\"name\")),\n",
    "    VarConfig(name=\"Name\", dist_spec=\"LogNormalDistribution\"), # estimate / fit an exponential distribution based on the data\n",
    "    VarConfig(name=\"Age\", dist_spec=DiscreteUniformDistribution(20, 40)), # fully specify a distribution for age (uniform between 20 and 40)\n",
    "    VarConfig(name=\"Cabin\", dist_spec=cabin_distribution), # Use the regex distribution for the cabin\n",
    "]\n",
    "\n",
    "mf = MetaFrame.fit_dataframe(df, var_specs=var_specs)\n",
    "mf.synthesize(10)"
   ]
  },
  {
   "cell_type": "markdown",
   "id": "93499251",
   "metadata": {},
   "source": [
    "## Step 6: Comparing the final synthetic dataset to the original"
   ]
  },
  {
   "cell_type": "markdown",
   "id": "b2068e1d",
   "metadata": {},
   "source": [
    "Let's first compare the averages of the numerical columns:"
   ]
  },
  {
   "cell_type": "code",
   "execution_count": null,
   "id": "a857ee6e",
   "metadata": {},
   "outputs": [
    {
     "data": {
      "text/html": [
       "<div><style>\n",
       ".dataframe > thead > tr,\n",
       ".dataframe > tbody > tr {\n",
       "  text-align: right;\n",
       "  white-space: pre-wrap;\n",
       "}\n",
       "</style>\n",
       "<small>shape: (1, 13)</small><table border=\"1\" class=\"dataframe\"><thead><tr><th>PassengerId</th><th>Name</th><th>Sex</th><th>Age</th><th>Parch</th><th>Ticket</th><th>Fare</th><th>Cabin</th><th>Embarked</th><th>Birthday</th><th>Board time</th><th>Married since</th><th>all_NA</th></tr><tr><td>f64</td><td>str</td><td>cat</td><td>f64</td><td>f64</td><td>str</td><td>f64</td><td>str</td><td>cat</td><td>date</td><td>time</td><td>datetime[μs]</td><td>str</td></tr></thead><tbody><tr><td>446.0</td><td>null</td><td>null</td><td>29.693277</td><td>0.381594</td><td>null</td><td>32.204208</td><td>null</td><td>null</td><td>null</td><td>null</td><td>2022-07-31 03:43:48.767209</td><td>null</td></tr></tbody></table></div>"
      ],
      "text/plain": [
       "shape: (1, 13)\n",
       "┌─────────────┬──────┬──────┬───────────┬───┬──────────┬────────────┬─────────────────┬────────┐\n",
       "│ PassengerId ┆ Name ┆ Sex  ┆ Age       ┆ … ┆ Birthday ┆ Board time ┆ Married since   ┆ all_NA │\n",
       "│ ---         ┆ ---  ┆ ---  ┆ ---       ┆   ┆ ---      ┆ ---        ┆ ---             ┆ ---    │\n",
       "│ f64         ┆ str  ┆ cat  ┆ f64       ┆   ┆ date     ┆ time       ┆ datetime[μs]    ┆ str    │\n",
       "╞═════════════╪══════╪══════╪═══════════╪═══╪══════════╪════════════╪═════════════════╪════════╡\n",
       "│ 446.0       ┆ null ┆ null ┆ 29.693277 ┆ … ┆ null     ┆ null       ┆ 2022-07-31      ┆ null   │\n",
       "│             ┆      ┆      ┆           ┆   ┆          ┆            ┆ 03:43:48.767209 ┆        │\n",
       "└─────────────┴──────┴──────┴───────────┴───┴──────────┴────────────┴─────────────────┴────────┘"
      ]
     },
     "execution_count": 18,
     "metadata": {},
     "output_type": "execute_result"
    }
   ],
   "source": [
    "df.mean()"
   ]
  },
  {
   "cell_type": "code",
   "execution_count": null,
   "id": "0ba303f3",
   "metadata": {},
   "outputs": [
    {
     "data": {
      "text/html": [
       "<div><style>\n",
       ".dataframe > thead > tr,\n",
       ".dataframe > tbody > tr {\n",
       "  text-align: right;\n",
       "  white-space: pre-wrap;\n",
       "}\n",
       "</style>\n",
       "<small>shape: (1, 13)</small><table border=\"1\" class=\"dataframe\"><thead><tr><th>PassengerId</th><th>Name</th><th>Sex</th><th>Age</th><th>Parch</th><th>Ticket</th><th>Fare</th><th>Cabin</th><th>Embarked</th><th>Birthday</th><th>Board time</th><th>Married since</th><th>all_NA</th></tr><tr><td>f64</td><td>str</td><td>cat</td><td>f64</td><td>f64</td><td>str</td><td>f64</td><td>str</td><td>cat</td><td>date</td><td>time</td><td>datetime[μs]</td><td>null</td></tr></thead><tbody><tr><td>446.0</td><td>null</td><td>null</td><td>29.518258</td><td>0.071829</td><td>null</td><td>34.145191</td><td>null</td><td>null</td><td>null</td><td>null</td><td>2022-07-30 04:34:45.390367</td><td>null</td></tr></tbody></table></div>"
      ],
      "text/plain": [
       "shape: (1, 13)\n",
       "┌─────────────┬──────┬──────┬───────────┬───┬──────────┬────────────┬─────────────────┬────────┐\n",
       "│ PassengerId ┆ Name ┆ Sex  ┆ Age       ┆ … ┆ Birthday ┆ Board time ┆ Married since   ┆ all_NA │\n",
       "│ ---         ┆ ---  ┆ ---  ┆ ---       ┆   ┆ ---      ┆ ---        ┆ ---             ┆ ---    │\n",
       "│ f64         ┆ str  ┆ cat  ┆ f64       ┆   ┆ date     ┆ time       ┆ datetime[μs]    ┆ null   │\n",
       "╞═════════════╪══════╪══════╪═══════════╪═══╪══════════╪════════════╪═════════════════╪════════╡\n",
       "│ 446.0       ┆ null ┆ null ┆ 29.518258 ┆ … ┆ null     ┆ null       ┆ 2022-07-30      ┆ null   │\n",
       "│             ┆      ┆      ┆           ┆   ┆          ┆            ┆ 04:34:45.390367 ┆        │\n",
       "└─────────────┴──────┴──────┴───────────┴───┴──────────┴────────────┴─────────────────┴────────┘"
      ]
     },
     "execution_count": 19,
     "metadata": {},
     "output_type": "execute_result"
    }
   ],
   "source": [
    "mf.synthesize(len(df)).mean()"
   ]
  },
  {
   "cell_type": "markdown",
   "id": "89dfda1b",
   "metadata": {},
   "source": [
    "Then, we can also see how many missing values are in each column"
   ]
  },
  {
   "cell_type": "code",
   "execution_count": null,
   "id": "c6ca2918",
   "metadata": {},
   "outputs": [
    {
     "data": {
      "text/html": [
       "<div><style>\n",
       ".dataframe > thead > tr,\n",
       ".dataframe > tbody > tr {\n",
       "  text-align: right;\n",
       "  white-space: pre-wrap;\n",
       "}\n",
       "</style>\n",
       "<small>shape: (1, 13)</small><table border=\"1\" class=\"dataframe\"><thead><tr><th>PassengerId</th><th>Name</th><th>Sex</th><th>Age</th><th>Parch</th><th>Ticket</th><th>Fare</th><th>Cabin</th><th>Embarked</th><th>Birthday</th><th>Board time</th><th>Married since</th><th>all_NA</th></tr><tr><td>u32</td><td>u32</td><td>u32</td><td>u32</td><td>u32</td><td>u32</td><td>u32</td><td>u32</td><td>u32</td><td>u32</td><td>u32</td><td>u32</td><td>u32</td></tr></thead><tbody><tr><td>0</td><td>0</td><td>0</td><td>177</td><td>0</td><td>0</td><td>0</td><td>687</td><td>2</td><td>78</td><td>79</td><td>92</td><td>891</td></tr></tbody></table></div>"
      ],
      "text/plain": [
       "shape: (1, 13)\n",
       "┌─────────────┬──────┬─────┬─────┬───┬──────────┬────────────┬───────────────┬────────┐\n",
       "│ PassengerId ┆ Name ┆ Sex ┆ Age ┆ … ┆ Birthday ┆ Board time ┆ Married since ┆ all_NA │\n",
       "│ ---         ┆ ---  ┆ --- ┆ --- ┆   ┆ ---      ┆ ---        ┆ ---           ┆ ---    │\n",
       "│ u32         ┆ u32  ┆ u32 ┆ u32 ┆   ┆ u32      ┆ u32        ┆ u32           ┆ u32    │\n",
       "╞═════════════╪══════╪═════╪═════╪═══╪══════════╪════════════╪═══════════════╪════════╡\n",
       "│ 0           ┆ 0    ┆ 0   ┆ 177 ┆ … ┆ 78       ┆ 79         ┆ 92            ┆ 891    │\n",
       "└─────────────┴──────┴─────┴─────┴───┴──────────┴────────────┴───────────────┴────────┘"
      ]
     },
     "execution_count": 20,
     "metadata": {},
     "output_type": "execute_result"
    }
   ],
   "source": [
    "df.null_count()"
   ]
  },
  {
   "cell_type": "code",
   "execution_count": null,
   "id": "1dd596fb",
   "metadata": {},
   "outputs": [
    {
     "data": {
      "text/html": [
       "<div><style>\n",
       ".dataframe > thead > tr,\n",
       ".dataframe > tbody > tr {\n",
       "  text-align: right;\n",
       "  white-space: pre-wrap;\n",
       "}\n",
       "</style>\n",
       "<small>shape: (1, 13)</small><table border=\"1\" class=\"dataframe\"><thead><tr><th>PassengerId</th><th>Name</th><th>Sex</th><th>Age</th><th>Parch</th><th>Ticket</th><th>Fare</th><th>Cabin</th><th>Embarked</th><th>Birthday</th><th>Board time</th><th>Married since</th><th>all_NA</th></tr><tr><td>u32</td><td>u32</td><td>u32</td><td>u32</td><td>u32</td><td>u32</td><td>u32</td><td>u32</td><td>u32</td><td>u32</td><td>u32</td><td>u32</td><td>u32</td></tr></thead><tbody><tr><td>0</td><td>0</td><td>0</td><td>198</td><td>0</td><td>0</td><td>0</td><td>683</td><td>0</td><td>71</td><td>77</td><td>84</td><td>891</td></tr></tbody></table></div>"
      ],
      "text/plain": [
       "shape: (1, 13)\n",
       "┌─────────────┬──────┬─────┬─────┬───┬──────────┬────────────┬───────────────┬────────┐\n",
       "│ PassengerId ┆ Name ┆ Sex ┆ Age ┆ … ┆ Birthday ┆ Board time ┆ Married since ┆ all_NA │\n",
       "│ ---         ┆ ---  ┆ --- ┆ --- ┆   ┆ ---      ┆ ---        ┆ ---           ┆ ---    │\n",
       "│ u32         ┆ u32  ┆ u32 ┆ u32 ┆   ┆ u32      ┆ u32        ┆ u32           ┆ u32    │\n",
       "╞═════════════╪══════╪═════╪═════╪═══╪══════════╪════════════╪═══════════════╪════════╡\n",
       "│ 0           ┆ 0    ┆ 0   ┆ 198 ┆ … ┆ 71       ┆ 77         ┆ 84            ┆ 891    │\n",
       "└─────────────┴──────┴─────┴─────┴───┴──────────┴────────────┴───────────────┴────────┘"
      ]
     },
     "execution_count": 21,
     "metadata": {},
     "output_type": "execute_result"
    }
   ],
   "source": [
    "mf.synthesize(len(df)).null_count()"
   ]
  },
  {
   "cell_type": "markdown",
   "id": "9ab5b2b2c56065b8",
   "metadata": {
    "collapsed": false
   },
   "source": [
    "## Step 7: Adding descriptions to variables"
   ]
  },
  {
   "cell_type": "markdown",
   "id": "27bc0135d1eebc38",
   "metadata": {
    "collapsed": false
   },
   "source": [
    "With the data being taken care of, we can still do one last thing. We can add descriptions to the variables, to clarify what they mean. This can be particularly useful when sharing the `MetaFrame` or generated data with others, as it gives them more context to what they're working with.\n",
    "\n",
    "One way of adding a description to a variable, is by setting it in the `spec` dictionary, this can be done by simply adding a `description` key with the description as a value. For example, adding a description to the `Cabin` column can be done as follows:"
   ]
  },
  {
   "cell_type": "code",
   "execution_count": null,
   "id": "e37faad4df8ffde8",
   "metadata": {
    "collapsed": false
   },
   "outputs": [
    {
     "name": "stderr",
     "output_type": "stream",
     "text": [
      "  0%|          | 0/13 [00:00<?, ?it/s]"
     ]
    },
    {
     "name": "stderr",
     "output_type": "stream",
     "text": [
      "100%|██████████| 13/13 [00:00<00:00, 23.11it/s]\n"
     ]
    }
   ],
   "source": [
    "var_specs = [\n",
    "    # Ensure unique values for the `PassengerId` column\n",
    "    VarConfig(name=\"PassengerId\", dist_spec=DistributionSpec(unique=True)),\n",
    "\n",
    "    # Utilize the Faker library to synthesize realistic names for the `Name` column\n",
    "    VarConfig(name=\"Name\", dist_spec=FakerDistribution(\"name\")),\n",
    "\n",
    "    # Fit `Fare` to an log-normal distribution, but base the parameters on the data\n",
    "    VarConfig(name=\"Name\", dist_spec=\"LogNormalDistribution\"),\n",
    "\n",
    "    # Set the `Age` column to a discrete uniform distribution ranging from 20 to 40\n",
    "    VarConfig(name=\"Age\", dist_spec=DiscreteUniformDistribution(20, 40)),\n",
    "\n",
    "    # Use a regex-based distribution to generate `Cabin` values following [A-F][0-9]{2,3}\n",
    "    VarConfig(name=\"Cabin\", dist_spec=cabin_distribution, description=\"The cabin number of the passenger.\"),\n",
    "]\n",
    "\n",
    "mf = MetaFrame.fit_dataframe(df, var_specs=var_specs) "
   ]
  },
  {
   "cell_type": "markdown",
   "id": "2b4bd251795308d5",
   "metadata": {
    "collapsed": false
   },
   "source": [
    "We can get a list of all the descriptions in the fitted `MetaFrame` by accessing its `descriptions` property, as follows:"
   ]
  },
  {
   "cell_type": "code",
   "execution_count": null,
   "id": "694d4474707f7950",
   "metadata": {
    "collapsed": false
   },
   "outputs": [
    {
     "name": "stdout",
     "output_type": "stream",
     "text": [
      "{'Cabin': 'The cabin number of the passenger.'}\n"
     ]
    }
   ],
   "source": [
    "print(mf.descriptions)"
   ]
  },
  {
   "cell_type": "markdown",
   "id": "d8411571bf1e5bf7",
   "metadata": {
    "collapsed": false
   },
   "source": [
    "Instead of setting the description in the variable specification (which happens before fitting a `MetaFrame` to a `DataFrame`), we can assign a description to an already generated `MetaFrame` by directly setting a column's description attribute. For example, we can assign a description to the `PassengerId` column as follows:"
   ]
  },
  {
   "cell_type": "code",
   "execution_count": null,
   "id": "34a8aafc95c0219f",
   "metadata": {
    "collapsed": false
   },
   "outputs": [
    {
     "name": "stdout",
     "output_type": "stream",
     "text": [
      "{'PassengerId': 'The ID of each passenger, as assigned by Pandas.', 'Cabin': 'The cabin number of the passenger.'}\n"
     ]
    }
   ],
   "source": [
    "mf[\"PassengerId\"].description = \"The ID of each passenger, as assigned by Pandas.\"\n",
    "\n",
    "print(mf.descriptions)"
   ]
  },
  {
   "cell_type": "markdown",
   "id": "5bf1c3ad724c9bfa",
   "metadata": {
    "collapsed": false
   },
   "source": [
    "We can also set multiple descriptions of an already generated `MetaFrame` at once by passing in a dictionary of descriptions to its `descriptions` property. For example, we can set descriptions for the `Age` and `Name` columns as follows:"
   ]
  },
  {
   "cell_type": "code",
   "execution_count": null,
   "id": "3b2e873f7362160a",
   "metadata": {
    "collapsed": false
   },
   "outputs": [
    {
     "name": "stdout",
     "output_type": "stream",
     "text": [
      "{'PassengerId': 'The ID of each passenger, as assigned by Pandas.', 'Name': 'Name of the passenger', 'Age': 'Age of the passenger in years', 'Cabin': 'The cabin number of the passenger.'}\n"
     ]
    }
   ],
   "source": [
    "mf.descriptions = {\"Name\": \"Name of the passenger\", \"Age\": \"Age of the passenger in years\"}\n",
    "\n",
    "print(mf.descriptions)"
   ]
  },
  {
   "cell_type": "markdown",
   "id": "fcf3b9eb9bbf6b17",
   "metadata": {
    "collapsed": false
   },
   "source": [
    "Instead of a dictionary, it is also possible to pass in a list of descriptions to the `descriptions` property of a `MetaFrame`. \n",
    "\n",
    "This can only be done if the list has the same length as the number of variables. In other words, each description must be passed in. \n",
    "\n",
    "This can be useful for example when generating placeholder descriptions automatically through list comprehension, as is done in the following example:"
   ]
  },
  {
   "cell_type": "code",
   "execution_count": null,
   "id": "ab2b34ed6b11578c",
   "metadata": {
    "collapsed": false
   },
   "outputs": [
    {
     "name": "stdout",
     "output_type": "stream",
     "text": [
      "{'PassengerId': 'Placeholder description for PassengerId', 'Name': 'Placeholder description for Name', 'Sex': 'Placeholder description for Sex', 'Age': 'Placeholder description for Age', 'Parch': 'Placeholder description for Parch', 'Ticket': 'Placeholder description for Ticket', 'Fare': 'Placeholder description for Fare', 'Cabin': 'Placeholder description for Cabin', 'Embarked': 'Placeholder description for Embarked', 'Birthday': 'Placeholder description for Birthday', 'Board time': 'Placeholder description for Board time', 'Married since': 'Placeholder description for Married since', 'all_NA': 'Placeholder description for all_NA'}\n"
     ]
    }
   ],
   "source": [
    "mf.descriptions = [f\"Placeholder description for {var.name}\" for var in mf.meta_vars]\n",
    "\n",
    "print(mf.descriptions)"
   ]
  },
  {
   "cell_type": "markdown",
   "id": "ad00ca6c1fb3f2b",
   "metadata": {
    "collapsed": false
   },
   "source": [
    "## The end\n",
    "\n",
    "That's it for this tutorial! You should now have a good understanding of how to use metasyn to generate synthetic data from a dataset. If you want to learn more, check out the [metasyn docs](https://metasynth.readthedocs.io/en/latest/).\n",
    "\n",
    "If you have any questions, feel free to [reach out](https://metasynth.readthedocs.io/en/latest/about/contact.html).\n",
    "\n"
   ]
  }
 ],
 "metadata": {
  "kernelspec": {
   "display_name": "Python 3 (ipykernel)",
   "language": "python",
   "name": "python3"
  },
  "language_info": {
   "codemirror_mode": {
    "name": "ipython",
    "version": 3
   },
   "file_extension": ".py",
   "mimetype": "text/x-python",
   "name": "python",
   "nbconvert_exporter": "python",
   "pygments_lexer": "ipython3",
   "version": "3.11.6"
  },
  "vscode": {
   "interpreter": {
    "hash": "fdb1107d616260949a63e5f4e2c5568939cf2f2c0d0d70930ae22d4d9fd1a8a0"
   }
  }
 },
 "nbformat": 4,
 "nbformat_minor": 5
}
