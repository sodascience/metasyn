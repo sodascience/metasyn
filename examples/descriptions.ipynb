{
 "cells": [
  {
   "cell_type": "markdown",
   "id": "f5c6597b",
   "metadata": {},
   "source": [
    "# Setting descriptions in MetaSynth\n",
    "\n",
    "This is an example workflow for if you have a CSV file (but easily adapted to xls/other formats) and want to use MetaSynth to create a synthetic metadata file / create synthetic data.\n",
    "\n",
    "You can run this notebook by checking out the MetaSynth repo and installing metasynth with `pip install .`.\n",
    "\n",
    "It shows some of the more advanced abilities of MetaSynth, such as handling dates, setting distributions and ensuring uniqueness in columns."
   ]
  },
  {
   "cell_type": "code",
   "execution_count": 1,
   "id": "2442cb34",
   "metadata": {},
   "outputs": [],
   "source": [
    "import datetime as dt\n",
    "import pandas as pd\n",
    "from metasynth import MetaDataset, MetaVar\n",
    "from metasynth.distribution import DiscreteUniformDistribution\n",
    "from pprint import pprint"
   ]
  },
  {
   "cell_type": "markdown",
   "id": "04466c26",
   "metadata": {},
   "source": [
    "### For reading the CSV file define the pandas types for each column\n",
    "\n",
    "This is the easiest way to do it, though of course this can also be remedied after reading in the CSV file"
   ]
  },
  {
   "cell_type": "code",
   "execution_count": 2,
   "id": "99762130",
   "metadata": {},
   "outputs": [],
   "source": [
    "dtypes = {\n",
    "    \"Survived\": \"category\",  # Categories should be assigned this type.\n",
    "    \"Name\": \"string\",  # Strings should be assigned like this\n",
    "    \"Age\": \"Int64\",  # Integer columns that have NA's in them should be explicitly nullable integers.\n",
    "    \"Sex\": \"category\",\n",
    "    \"SibSp\": \"category\",\n",
    "    \"Parch\": \"category\",\n",
    "    \"Ticket\": \"string\",\n",
    "    \"Cabin\": \"string\",\n",
    "    \"Embarked\": \"category\",\n",
    "}"
   ]
  },
  {
   "cell_type": "markdown",
   "id": "2a590ef0",
   "metadata": {},
   "source": [
    "### Read the CSV from a file"
   ]
  },
  {
   "cell_type": "code",
   "execution_count": 3,
   "id": "ca4126e8",
   "metadata": {},
   "outputs": [],
   "source": [
    "df = pd.read_csv(\"demonstration.csv\", dtype=dtypes)"
   ]
  },
  {
   "cell_type": "markdown",
   "id": "7e52fe23",
   "metadata": {},
   "source": [
    "### Compare the original DataFrame\n",
    "\n",
    "Let's first see what the original DataFrame looks like:"
   ]
  },
  {
   "cell_type": "code",
   "execution_count": 4,
   "id": "c688dec3",
   "metadata": {},
   "outputs": [
    {
     "data": {
      "text/html": [
       "<div>\n",
       "<style scoped>\n",
       "    .dataframe tbody tr th:only-of-type {\n",
       "        vertical-align: middle;\n",
       "    }\n",
       "\n",
       "    .dataframe tbody tr th {\n",
       "        vertical-align: top;\n",
       "    }\n",
       "\n",
       "    .dataframe thead th {\n",
       "        text-align: right;\n",
       "    }\n",
       "</style>\n",
       "<table border=\"1\" class=\"dataframe\">\n",
       "  <thead>\n",
       "    <tr style=\"text-align: right;\">\n",
       "      <th></th>\n",
       "      <th>PassengerId</th>\n",
       "      <th>Name</th>\n",
       "      <th>Sex</th>\n",
       "      <th>Age</th>\n",
       "      <th>Parch</th>\n",
       "      <th>Fare</th>\n",
       "      <th>Cabin</th>\n",
       "      <th>Embarked</th>\n",
       "      <th>Birthday</th>\n",
       "      <th>Board time</th>\n",
       "      <th>Married since</th>\n",
       "      <th>all_NA</th>\n",
       "    </tr>\n",
       "  </thead>\n",
       "  <tbody>\n",
       "    <tr>\n",
       "      <th>0</th>\n",
       "      <td>1</td>\n",
       "      <td>Braund, Mr. Owen Harris</td>\n",
       "      <td>male</td>\n",
       "      <td>22</td>\n",
       "      <td>0</td>\n",
       "      <td>7.2500</td>\n",
       "      <td>&lt;NA&gt;</td>\n",
       "      <td>S</td>\n",
       "      <td>1937-10-28</td>\n",
       "      <td>15:53:04</td>\n",
       "      <td>2022-08-05 04:43:34</td>\n",
       "      <td>NaN</td>\n",
       "    </tr>\n",
       "    <tr>\n",
       "      <th>1</th>\n",
       "      <td>2</td>\n",
       "      <td>Cumings, Mrs. John Bradley (Florence Briggs Th...</td>\n",
       "      <td>female</td>\n",
       "      <td>38</td>\n",
       "      <td>0</td>\n",
       "      <td>71.2833</td>\n",
       "      <td>C85</td>\n",
       "      <td>C</td>\n",
       "      <td>NaN</td>\n",
       "      <td>12:26:00</td>\n",
       "      <td>2022-08-07 01:56:33</td>\n",
       "      <td>NaN</td>\n",
       "    </tr>\n",
       "    <tr>\n",
       "      <th>...</th>\n",
       "      <td>...</td>\n",
       "      <td>...</td>\n",
       "      <td>...</td>\n",
       "      <td>...</td>\n",
       "      <td>...</td>\n",
       "      <td>...</td>\n",
       "      <td>...</td>\n",
       "      <td>...</td>\n",
       "      <td>...</td>\n",
       "      <td>...</td>\n",
       "      <td>...</td>\n",
       "      <td>...</td>\n",
       "    </tr>\n",
       "    <tr>\n",
       "      <th>889</th>\n",
       "      <td>890</td>\n",
       "      <td>Behr, Mr. Karl Howell</td>\n",
       "      <td>male</td>\n",
       "      <td>26</td>\n",
       "      <td>0</td>\n",
       "      <td>30.0000</td>\n",
       "      <td>C148</td>\n",
       "      <td>C</td>\n",
       "      <td>1905-04-16</td>\n",
       "      <td>13:37:08</td>\n",
       "      <td>2022-07-23 08:04:22</td>\n",
       "      <td>NaN</td>\n",
       "    </tr>\n",
       "    <tr>\n",
       "      <th>890</th>\n",
       "      <td>891</td>\n",
       "      <td>Dooley, Mr. Patrick</td>\n",
       "      <td>male</td>\n",
       "      <td>32</td>\n",
       "      <td>0</td>\n",
       "      <td>7.7500</td>\n",
       "      <td>&lt;NA&gt;</td>\n",
       "      <td>Q</td>\n",
       "      <td>NaN</td>\n",
       "      <td>17:21:32</td>\n",
       "      <td>2022-08-01 11:07:59</td>\n",
       "      <td>NaN</td>\n",
       "    </tr>\n",
       "  </tbody>\n",
       "</table>\n",
       "<p>891 rows × 12 columns</p>\n",
       "</div>"
      ],
      "text/plain": [
       "     PassengerId                                               Name     Sex  \\\n",
       "0              1                            Braund, Mr. Owen Harris    male   \n",
       "1              2  Cumings, Mrs. John Bradley (Florence Briggs Th...  female   \n",
       "..           ...                                                ...     ...   \n",
       "889          890                              Behr, Mr. Karl Howell    male   \n",
       "890          891                                Dooley, Mr. Patrick    male   \n",
       "\n",
       "     Age Parch     Fare Cabin Embarked    Birthday Board time  \\\n",
       "0     22     0   7.2500  <NA>        S  1937-10-28   15:53:04   \n",
       "1     38     0  71.2833   C85        C         NaN   12:26:00   \n",
       "..   ...   ...      ...   ...      ...         ...        ...   \n",
       "889   26     0  30.0000  C148        C  1905-04-16   13:37:08   \n",
       "890   32     0   7.7500  <NA>        Q         NaN   17:21:32   \n",
       "\n",
       "           Married since  all_NA  \n",
       "0    2022-08-05 04:43:34     NaN  \n",
       "1    2022-08-07 01:56:33     NaN  \n",
       "..                   ...     ...  \n",
       "889  2022-07-23 08:04:22     NaN  \n",
       "890  2022-08-01 11:07:59     NaN  \n",
       "\n",
       "[891 rows x 12 columns]"
      ]
     },
     "execution_count": 4,
     "metadata": {},
     "output_type": "execute_result"
    }
   ],
   "source": [
    "pd.set_option('display.max_rows', 5)\n",
    "df"
   ]
  },
  {
   "cell_type": "markdown",
   "id": "7f21b802",
   "metadata": {},
   "source": [
    "### Adjust columns with dates/date-times/times\n",
    "\n",
    "We have to manually cast the columns with date, time, and datetimes. Since the columns were written in ISO-format, they are read back with the `fromisoformat` method. If they are written in a different format, check out the datetime library documentation on how to convert the strings to datetime/time/date objects."
   ]
  },
  {
   "cell_type": "code",
   "execution_count": 5,
   "id": "b5b8dbec",
   "metadata": {},
   "outputs": [],
   "source": [
    "df[\"Birthday\"] = [dt.date.fromisoformat(x) if not pd.isna(x) else pd.NA for x in df[\"Birthday\"]]\n",
    "df[\"Board time\"] = [dt.time.fromisoformat(x) if not pd.isna(x) else pd.NA for x in df[\"Board time\"]]\n",
    "df[\"Married since\"] = [dt.datetime.fromisoformat(x) if not pd.isna(x) else pd.NA for x in df[\"Married since\"]]"
   ]
  },
  {
   "cell_type": "markdown",
   "id": "ffb4269e",
   "metadata": {},
   "source": [
    "### Set descriptions while processing the dataframe."
   ]
  },
  {
   "cell_type": "code",
   "execution_count": 6,
   "id": "f2ff60ad",
   "metadata": {},
   "outputs": [
    {
     "name": "stdout",
     "output_type": "stream",
     "text": [
      "{'Cabin': 'The cabin number of the passenger.'}\n"
     ]
    }
   ],
   "source": [
    "from metasynth.distribution import FakerDistribution\n",
    "meta_dataset = MetaDataset.from_dataframe(\n",
    "    df,\n",
    "    spec={\n",
    "        \"Name\": {\"distribution\": FakerDistribution(\"name\")},\n",
    "        \"Fare\": {\"distribution\": \"LogNormalDistribution\"},\n",
    "        \"Age\": {\"distribution\": DiscreteUniformDistribution(20, 40)},\n",
    "        \"PassengerId\": {\"unique\": True},\n",
    "        \"Cabin\": {\"distribution\": FakerDistribution(\"city\"), \"description\": \"The cabin number of the passenger.\"},\n",
    "    }\n",
    ")\n",
    "pprint(meta_dataset.descriptions)"
   ]
  },
  {
   "cell_type": "markdown",
   "id": "7db75fbb",
   "metadata": {},
   "source": [
    "### Set descriptions for specific variables."
   ]
  },
  {
   "cell_type": "code",
   "execution_count": 7,
   "id": "ebf7893d",
   "metadata": {},
   "outputs": [
    {
     "name": "stdout",
     "output_type": "stream",
     "text": [
      "{'Cabin': 'The cabin number of the passenger.',\n",
      " 'PassengerId': 'Passenger ID assigned by pandas.'}\n"
     ]
    }
   ],
   "source": [
    "meta_dataset[\"PassengerId\"].description = \"Passenger ID assigned by pandas.\"\n",
    "pprint(meta_dataset.descriptions)"
   ]
  },
  {
   "cell_type": "markdown",
   "id": "d2de9ac7",
   "metadata": {},
   "source": [
    "### Set multiple descriptions at the same time."
   ]
  },
  {
   "cell_type": "code",
   "execution_count": 8,
   "id": "bdde9cc6",
   "metadata": {},
   "outputs": [
    {
     "name": "stdout",
     "output_type": "stream",
     "text": [
      "{'Age': 'Age of the passenger in years',\n",
      " 'Cabin': 'The cabin number of the passenger.',\n",
      " 'Name': 'Name of the passenger',\n",
      " 'PassengerId': 'Passenger ID assigned by pandas.'}\n"
     ]
    }
   ],
   "source": [
    "meta_dataset.descriptions = {\"Name\": \"Name of the passenger\", \"Age\": \"Age of the passenger in years\"}\n",
    "pprint(meta_dataset.descriptions)"
   ]
  },
  {
   "cell_type": "markdown",
   "id": "46a2f8ec",
   "metadata": {},
   "source": [
    "### Set all descriptions at the same time."
   ]
  },
  {
   "cell_type": "code",
   "execution_count": 9,
   "id": "14e581d3",
   "metadata": {},
   "outputs": [
    {
     "name": "stdout",
     "output_type": "stream",
     "text": [
      "{'Age': 'Age',\n",
      " 'Birthday': 'Birthday',\n",
      " 'Board time': 'Board time',\n",
      " 'Cabin': 'Cabin',\n",
      " 'Embarked': 'Embarked',\n",
      " 'Fare': 'Fare',\n",
      " 'Married since': 'Married since',\n",
      " 'Name': 'Name',\n",
      " 'Parch': 'Parch',\n",
      " 'PassengerId': 'PassengerId',\n",
      " 'Sex': 'Sex',\n",
      " 'all_NA': 'all_NA'}\n"
     ]
    }
   ],
   "source": [
    "meta_dataset.descriptions = [var.name for var in meta_dataset.meta_vars]\n",
    "pprint(meta_dataset.descriptions)"
   ]
  },
  {
   "cell_type": "code",
   "execution_count": null,
   "id": "c17f41a7",
   "metadata": {},
   "outputs": [],
   "source": []
  }
 ],
 "metadata": {
  "kernelspec": {
   "display_name": "Python 3 (ipykernel)",
   "language": "python",
   "name": "python3"
  },
  "language_info": {
   "codemirror_mode": {
    "name": "ipython",
    "version": 3
   },
   "file_extension": ".py",
   "mimetype": "text/x-python",
   "name": "python",
   "nbconvert_exporter": "python",
   "pygments_lexer": "ipython3",
   "version": "3.9.10"
  }
 },
 "nbformat": 4,
 "nbformat_minor": 5
}
